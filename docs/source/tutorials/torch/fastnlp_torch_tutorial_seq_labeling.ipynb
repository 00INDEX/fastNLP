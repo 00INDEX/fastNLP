{
 "cells": [
  {
   "cell_type": "markdown",
   "metadata": {},
   "source": [
    "# 使用 fastNLP 进行序列标注\n",
    "\n",
    "本篇教程将为您详细展示如何使用 fastNLP 使用 `WeiboNER` 数据集进行序列标注（Sequence labeling）任务。您可以使用 fastNLP 的各个组件快捷/方便地完成序列标注任务，达到出色的效果。 在阅读这篇教程前，希望您已经熟悉了fastNLP 的基础使用，尤其是数据的载入以及模型的构建。通过这个小任务，能让您进一步熟悉 fastNLP 的使用。\n",
    "\n",
    "**本教程推荐使用 GPU 进行实验**"
   ]
  },
  {
   "cell_type": "markdown",
   "metadata": {},
   "source": [
    "### 1. 命名实体识别(name entity recognition, NER)\n",
    "命名实体识别任务是从文本中抽取出具有特殊意义或者指代性非常强的实体，通常包括人名、地名、机构名和时间等。 如下面的例子中：\n",
    "\n",
    "```\n",
    "我来自复旦大学。\n",
    "```\n",
    "\n",
    "其中 `复旦大学` 就是一个机构名，命名实体识别就是要从中识别出 `复旦大学` 这四个字是一个整体，且属于机构名这个类别。这个问题在实际做的时候会被转换为序列标注问题。\n",
    "\n",
    "针对 `我来自复旦大学` 这句话，我们的预测目标将是 `[O, O, O, B-ORG, I-ORG, I-ORG, I-ORG]` ，其中 `O` 表示`out` ，即不是一个实体，`B-ORG` 是 ORG( organization的缩写) 这个类别的开头 (Begin) ，`I-ORG` 是 ORG 类别的中间(Inside)。\n",
    "\n",
    "在本教程中我们将通过 fastNLP 尝试写出一个能够执行以上任务的模型。\n",
    "\n",
    "### 2. 载入数据\n",
    "\n",
    "在本篇教程中，我们选用微博实体命名任务。`WeiboNER` 数据集是基于微博的中文实体命名数据集，属于 [conll格式](https://universaldependencies.org/format.html) 的数据集。我们可以在[网络上](https://github.com/hltcoe/golden-horse/tree/master/data)找到该数据集的原始形式，其训练集的格式如下所示：\n",
    "\n",
    "```txt\n",
    "科\tO\n",
    "技\tO\n",
    "全\tO\n",
    "方\tO\n",
    "位\tO\n",
    "资\tO\n",
    "讯\tO\n",
    "智\tO\n",
    "能\tO\n",
    "，\tO\n",
    "快\tO\n",
    "捷\tO\n",
    "的\tO\n",
    "汽\tO\n",
    "车\tO\n",
    "生\tO\n",
    "活\tO\n",
    "需\tO\n",
    "要\tO\n",
    "有\tO\n",
    "三\tO\n",
    "屏\tO\n",
    "一\tO\n",
    "云\tO\n",
    "爱\tO\n",
    "你\tO\n",
    "\n",
    "对\tO\n",
    "，\tO\n",
    "输\tO\n",
    "给\tO\n",
    "一\tO\n",
    "个\tO\n",
    "女\tB-PER.NOM\n",
    "人\tI-PER.NOM\n",
    "，\tO\n",
    "的\tO\n",
    "成\tO\n",
    "绩\tO\n",
    "。\tO\n",
    "失\tO\n",
    "望\tO\n",
    "\n",
    "今\tO\n",
    "...\n",
    "```\n",
    "\n",
    "其实很简单，第一列代表文字，第二列代表这个词的标签，然后用一个空行来分割不同的句子，这就是 `conll` 格式的数据集。接下来我们会为您介绍不同的加载数据集的方式。\n",
    "\n",
    "#### 2.1 使用内置的 Loader 加载数据\n",
    "首先在 fastNLP 中，我们内置了加载该数据集的 `WeiboNERLoader` 来完成下载和格式转换。"
   ]
  },
  {
   "cell_type": "code",
   "execution_count": 1,
   "metadata": {},
   "outputs": [
    {
     "name": "stderr",
     "output_type": "stream",
     "text": [
      "/remote-home/shxing/anaconda3/envs/fastnlp/lib/python3.7/site-packages/tqdm/auto.py:22: TqdmWarning: IProgress not found. Please update jupyter and ipywidgets. See https://ipywidgets.readthedocs.io/en/stable/user_install.html\n",
      "  from .autonotebook import tqdm as notebook_tqdm\n"
     ]
    },
    {
     "data": {
      "text/html": [
       "<pre style=\"white-space:pre;overflow-x:auto;line-height:normal;font-family:Menlo,'DejaVu Sans Mono',consolas,'Courier New',monospace\">\n",
       "</pre>\n"
      ],
      "text/plain": [
       "\n"
      ]
     },
     "metadata": {},
     "output_type": "display_data"
    },
    {
     "name": "stdout",
     "output_type": "stream",
     "text": [
      "In total 3 datasets:\n",
      "\tdev has 270 instances.\n",
      "\ttest has 270 instances.\n",
      "\ttrain has 1350 instances.\n",
      "\n",
      "+------------------------------------------+------------------------------------------+\n",
      "| raw_chars                                | target                                   |\n",
      "+------------------------------------------+------------------------------------------+\n",
      "| ['科', '技', '全', '方', '位', '资', ... | ['O', 'O', 'O', 'O', 'O', 'O', 'O', '... |\n",
      "| ['对', '，', '输', '给', '一', '个', ... | ['O', 'O', 'O', 'O', 'O', 'O', 'B-PER... |\n",
      "| ['今', '天', '下', '午', '起', '来', ... | ['O', 'O', 'O', 'O', 'O', 'O', 'O', '... |\n",
      "| ['今', '年', '拜', '年', '不', '短', ... | ['O', 'O', 'O', 'O', 'O', 'O', 'O', '... |\n",
      "+------------------------------------------+------------------------------------------+\n"
     ]
    }
   ],
   "source": [
    "from fastNLP.io import WeiboNERLoader\n",
    "data_bundle = WeiboNERLoader().load()\n",
    "print(data_bundle)\n",
    "print(data_bundle.get_dataset('train')[:4])"
   ]
  },
  {
   "cell_type": "markdown",
   "metadata": {},
   "source": [
    "假如您要使用的数据集也是 `conll` 格式的，那么也可以调用 fastNLP 的 `ConllLoader` 来直接加载，效果是一样的。不过缺点是所有 `Loader` 的 `load` 函数在只传入一个路径的情况下要求训练集、验证集和测试集的文件名分别包含 `train`、`dev` 和 `test`，否则 fastNLP 将会跳过对应的数据，您需要检查您的文件命名格式是否符合要求。比如我们可以从[这里](https://github.com/hltcoe/golden-horse/tree/master/data)下载 `WeiboNER` 数据集的三个原始文件 `weiboNERconll.train`、`weiboNER_conll.dev` 和 `weiboNER_conll.test` 并放在 `weibo/` 文件夹下，然后使用下面的方式加载数据："
   ]
  },
  {
   "cell_type": "code",
   "execution_count": 2,
   "metadata": {},
   "outputs": [
    {
     "name": "stdout",
     "output_type": "stream",
     "text": [
      "In total 3 datasets:\n",
      "\tdev has 270 instances.\n",
      "\ttest has 270 instances.\n",
      "\ttrain has 1350 instances.\n",
      "\n",
      "+------------------------------------------+------------------------------------------+\n",
      "| raw_words                                | target                                   |\n",
      "+------------------------------------------+------------------------------------------+\n",
      "| ['科', '技', '全', '方', '位', '资', ... | ['O', 'O', 'O', 'O', 'O', 'O', 'O', '... |\n",
      "| ['对', '，', '输', '给', '一', '个', ... | ['O', 'O', 'O', 'O', 'O', 'O', 'B-PER... |\n",
      "| ['今', '天', '下', '午', '起', '来', ... | ['O', 'O', 'O', 'O', 'O', 'O', 'O', '... |\n",
      "| ['今', '年', '拜', '年', '不', '短', ... | ['O', 'O', 'O', 'O', 'O', 'O', 'O', '... |\n",
      "+------------------------------------------+------------------------------------------+\n"
     ]
    }
   ],
   "source": [
    "from fastNLP.io import ConllLoader\n",
    "\n",
    "data_bundle = ConllLoader(headers=[\"raw_words\", \"target\"]).load(\"weibo/\")\n",
    "print(data_bundle)\n",
    "print(data_bundle.get_dataset(\"train\")[:4])"
   ]
  },
  {
   "cell_type": "markdown",
   "metadata": {},
   "source": [
    "除此之外，`load` 函数还能够接受字典形式的输入，此时 `Loader` 对文件名的要求就没有那么严苛了，比如您想要用 `valid` 来命名验证集的话，就可以按如下方式加载："
   ]
  },
  {
   "cell_type": "code",
   "execution_count": 3,
   "metadata": {},
   "outputs": [
    {
     "name": "stdout",
     "output_type": "stream",
     "text": [
      "In total 3 datasets:\n",
      "\ttrain has 1350 instances.\n",
      "\ttest has 270 instances.\n",
      "\tvalid has 270 instances.\n",
      "\n",
      "+------------------------------------------+------------------------------------------+\n",
      "| raw_words                                | target                                   |\n",
      "+------------------------------------------+------------------------------------------+\n",
      "| ['科', '技', '全', '方', '位', '资', ... | ['O', 'O', 'O', 'O', 'O', 'O', 'O', '... |\n",
      "| ['对', '，', '输', '给', '一', '个', ... | ['O', 'O', 'O', 'O', 'O', 'O', 'B-PER... |\n",
      "| ['今', '天', '下', '午', '起', '来', ... | ['O', 'O', 'O', 'O', 'O', 'O', 'O', '... |\n",
      "| ['今', '年', '拜', '年', '不', '短', ... | ['O', 'O', 'O', 'O', 'O', 'O', 'O', '... |\n",
      "+------------------------------------------+------------------------------------------+\n"
     ]
    }
   ],
   "source": [
    "from fastNLP.io import ConllLoader\n",
    "\n",
    "data_bundle = ConllLoader(headers=[\"raw_words\", \"target\"]).load({\n",
    "    'train': 'weibo/weiboNER.conll.train',\n",
    "    'test': 'weibo/weiboNER.conll.test',\n",
    "    'valid': 'weibo/weiboNER.conll.dev'\n",
    "})\n",
    "print(data_bundle)\n",
    "print(data_bundle.get_dataset(\"train\")[:4])"
   ]
  },
  {
   "cell_type": "markdown",
   "metadata": {},
   "source": [
    "#### 2.2 通过自定义 Loader 来加载数据\n",
    "\n",
    "如果您想自己处理数据，您也可以通过继承 `Loader` 来自定义加载的方式。对于 `conll` 格式的数据，我们处理数据的目标就是：\n",
    "\n",
    "1. 打开文件并顺序读入每一行，以空格分割，第一个是文字，第二个是标签\n",
    "2. 遇到空行则记录一个新的句子\n",
    "\n",
    "继续查看可以发现，三个文件中的数据格式都是一样的，那么我们可以继承一个 `Loader` 并重写 `_load` 方法来加载。不用担心，`Loader` 会遍历我们传入的几个路径将这些数据全都处理好的。"
   ]
  },
  {
   "cell_type": "code",
   "execution_count": 4,
   "metadata": {},
   "outputs": [
    {
     "name": "stdout",
     "output_type": "stream",
     "text": [
      "In total 3 datasets:\n",
      "\ttrain has 1350 instances.\n",
      "\ttest has 270 instances.\n",
      "\tvalid has 270 instances.\n",
      "\n",
      "+------------------------------------------+------------------------------------------+\n",
      "| raw_words                                | raw_target                               |\n",
      "+------------------------------------------+------------------------------------------+\n",
      "| ['科', '技', '全', '方', '位', '资', ... | ['O', 'O', 'O', 'O', 'O', 'O', 'O', '... |\n",
      "| ['对', '，', '输', '给', '一', '个', ... | ['O', 'O', 'O', 'O', 'O', 'O', 'B-PER... |\n",
      "| ['今', '天', '下', '午', '起', '来', ... | ['O', 'O', 'O', 'O', 'O', 'O', 'O', '... |\n",
      "| ['今', '年', '拜', '年', '不', '短', ... | ['O', 'O', 'O', 'O', 'O', 'O', 'O', '... |\n",
      "+------------------------------------------+------------------------------------------+\n"
     ]
    }
   ],
   "source": [
    "from fastNLP import DataSet, Instance\n",
    "from fastNLP.io import Loader\n",
    "\n",
    "# 继承Loader之后，我们只需要实现其中_load()方法，_load()方法传入一个文件路径，返回一个fastNLP DataSet对象，其目的是读取一个文件。\n",
    "class MyWeiboNERLoader(Loader):\n",
    "    def _load(self, path):\n",
    "        ds = DataSet()\n",
    "        # 打开文件\n",
    "        with open(path, 'r') as f:\n",
    "            segments = []\n",
    "            for line in f:\n",
    "                # 遍历每一行\n",
    "                line = line.strip()\n",
    "                if line == '':  # 如果为空行，说明需要切换到下一句了。\n",
    "                    if segments:\n",
    "                        # 如果句子部位空，则放入 raw_words 和 raw_target 中\n",
    "                        raw_words = [s[0] for s in segments]\n",
    "                        raw_target = [s[1] for s in segments]\n",
    "                        # 将一个 sample 插入到 DataSet中\n",
    "                        ds.append(Instance(raw_words=raw_words, raw_target=raw_target))  \n",
    "                    segments = []\n",
    "                else:\n",
    "                    # 不是空行，则按空格分割放入 segments 中\n",
    "                    parts = line.split()\n",
    "                    assert len(parts) == 2\n",
    "                    segments.append([parts[0], parts[-1]])\n",
    "        return ds\n",
    "\n",
    "# load 函数的参数也可以为一个字典，\n",
    "data_bundle = MyWeiboNERLoader().load({\n",
    "    'train': 'weibo/weiboNER.conll.train',\n",
    "    'test': 'weibo/weiboNER.conll.test',\n",
    "    'valid': 'weibo/weiboNER.conll.dev'\n",
    "})\n",
    "print(data_bundle)\n",
    "print(data_bundle.get_dataset(\"train\")[:4])"
   ]
  },
  {
   "cell_type": "markdown",
   "metadata": {},
   "source": [
    "#### 2.3 其它的数据加载方式\n",
    "\n",
    "数据处理的方法不是唯一的，只要能够得到一个 `DataBundle`，那就是可用的处理方法。您不必纠结于一定要用 `Loader` 来进行处理，它们只是帮助集成了一些常见的功能，如果您不习惯这样的方式或是对数据集格式有特殊要求，强行继承 `Loader` 反而会增加工作量和学习成本。"
   ]
  },
  {
   "cell_type": "code",
   "execution_count": 5,
   "metadata": {},
   "outputs": [
    {
     "name": "stdout",
     "output_type": "stream",
     "text": [
      "In total 3 datasets:\n",
      "\ttrain has 1350 instances.\n",
      "\tdev has 270 instances.\n",
      "\ttest has 270 instances.\n",
      "\n",
      "+------------------------------------------+------------------------------------------+\n",
      "| raw_words                                | raw_target                               |\n",
      "+------------------------------------------+------------------------------------------+\n",
      "| ['科', '技', '全', '方', '位', '资', ... | ['O', 'O', 'O', 'O', 'O', 'O', 'O', '... |\n",
      "| ['对', '，', '输', '给', '一', '个', ... | ['O', 'O', 'O', 'O', 'O', 'O', 'B-PER... |\n",
      "| ['今', '天', '下', '午', '起', '来', ... | ['O', 'O', 'O', 'O', 'O', 'O', 'O', '... |\n",
      "| ['今', '年', '拜', '年', '不', '短', ... | ['O', 'O', 'O', 'O', 'O', 'O', 'O', '... |\n",
      "+------------------------------------------+------------------------------------------+\n"
     ]
    }
   ],
   "source": [
    "# 通过函数处理数据\n",
    "from fastNLP.io import DataBundle\n",
    "\n",
    "def load_data(path):\n",
    "    ds = DataSet()\n",
    "    # 打开文件\n",
    "    with open(path, 'r') as f:\n",
    "        segments = []\n",
    "        for line in f:\n",
    "            # 遍历每一行\n",
    "            line = line.strip()\n",
    "            if line == '':  # 如果为空行，说明需要切换到下一句了。\n",
    "                if segments:\n",
    "                    # 如果句子部位空，则放入 raw_words 和 raw_target 中\n",
    "                    raw_words = [s[0] for s in segments]\n",
    "                    raw_target = [s[1] for s in segments]\n",
    "                    # 将一个 sample 插入到 DataSet中\n",
    "                    ds.append(Instance(raw_words=raw_words, raw_target=raw_target))  \n",
    "                segments = []\n",
    "            else:\n",
    "                # 不是空行，则按空格分割放入 segments 中\n",
    "                parts = line.split()\n",
    "                assert len(parts) == 2\n",
    "                segments.append([parts[0], parts[-1]])\n",
    "    return ds\n",
    "\n",
    "data_bundle = DataBundle(datasets={\n",
    "    \"train\": load_data(\"weibo/weiboNER.conll.train\"),\n",
    "    \"dev\": load_data(\"weibo/weiboNER.conll.dev\"),\n",
    "    \"test\": load_data(\"weibo/weiboNER.conll.test\"),\n",
    "})\n",
    "print(data_bundle)\n",
    "print(data_bundle.get_dataset(\"train\")[:4])"
   ]
  },
  {
   "cell_type": "markdown",
   "metadata": {},
   "source": [
    "### 3. 处理数据\n",
    "\n",
    "接下来，我们需要对数据进行 **分词**。`fastNLP.transformers.torch` 下提供了一些常见的 Transformer 模型和 Tokenizer 来加载预训练的模型和分词器。"
   ]
  },
  {
   "cell_type": "code",
   "execution_count": 6,
   "metadata": {},
   "outputs": [
    {
     "data": {
      "text/html": [
       "<pre style=\"white-space:pre;overflow-x:auto;line-height:normal;font-family:Menlo,'DejaVu Sans Mono',consolas,'Courier New',monospace\"><span style=\"color: #7fbfbf; text-decoration-color: #7fbfbf\">[08:55:38] </span><span style=\"color: #000080; text-decoration-color: #000080\">INFO    </span> Read cache from <span style=\"color: #800080; text-decoration-color: #800080\">/remote-home/shxing/fnlp-doc/fastNLP</span> <a href=\"file:///remote-home/shxing/anaconda3/envs/fastnlp/lib/python3.7/site-packages/fastNLP/core/utils/cache_results.py\"><span style=\"color: #7f7f7f; text-decoration-color: #7f7f7f\">cache_results.py</span></a><span style=\"color: #7f7f7f; text-decoration-color: #7f7f7f\">:</span><a href=\"file:///remote-home/shxing/anaconda3/envs/fastnlp/lib/python3.7/site-packages/fastNLP/core/utils/cache_results.py#320\"><span style=\"color: #7f7f7f; text-decoration-color: #7f7f7f\">320</span></a>\n",
       "<span style=\"color: #7fbfbf; text-decoration-color: #7fbfbf\">           </span>         <span style=\"color: #800080; text-decoration-color: #800080\">/docs/source/tutorials/torch/weibo/</span><span style=\"color: #ff00ff; text-decoration-color: #ff00ff\">33ac7cae_weiboNER</span> <span style=\"color: #7f7f7f; text-decoration-color: #7f7f7f\">                    </span>\n",
       "<span style=\"color: #7fbfbf; text-decoration-color: #7fbfbf\">           </span>          <span style=\"font-weight: bold\">(</span>Saved on <span style=\"color: #008080; text-decoration-color: #008080; font-weight: bold\">2022</span>-<span style=\"color: #008080; text-decoration-color: #008080; font-weight: bold\">07</span>-<span style=\"color: #008080; text-decoration-color: #008080; font-weight: bold\">24</span> <span style=\"color: #00ff00; text-decoration-color: #00ff00; font-weight: bold\">22:59:52</span>.<span style=\"color: #008080; text-decoration-color: #008080; font-weight: bold\">436694</span><span style=\"font-weight: bold\">)</span>.              <span style=\"color: #7f7f7f; text-decoration-color: #7f7f7f\">                    </span>\n",
       "</pre>\n"
      ],
      "text/plain": [
       "\u001b[2;36m[08:55:38]\u001b[0m\u001b[2;36m \u001b[0m\u001b[34mINFO    \u001b[0m Read cache from \u001b[35m/remote-home/shxing/fnlp-doc/fastNLP\u001b[0m \u001b]8;id=598668;file:///remote-home/shxing/anaconda3/envs/fastnlp/lib/python3.7/site-packages/fastNLP/core/utils/cache_results.py\u001b\\\u001b[2mcache_results.py\u001b[0m\u001b]8;;\u001b\\\u001b[2m:\u001b[0m\u001b]8;id=51913;file:///remote-home/shxing/anaconda3/envs/fastnlp/lib/python3.7/site-packages/fastNLP/core/utils/cache_results.py#320\u001b\\\u001b[2m320\u001b[0m\u001b]8;;\u001b\\\n",
       "\u001b[2;36m           \u001b[0m         \u001b[35m/docs/source/tutorials/torch/weibo/\u001b[0m\u001b[95m33ac7cae_weiboNER\u001b[0m \u001b[2m                    \u001b[0m\n",
       "\u001b[2;36m           \u001b[0m          \u001b[1m(\u001b[0mSaved on \u001b[1;36m2022\u001b[0m-\u001b[1;36m07\u001b[0m-\u001b[1;36m24\u001b[0m \u001b[1;92m22:59:52\u001b[0m.\u001b[1;36m436694\u001b[0m\u001b[1m)\u001b[0m.              \u001b[2m                    \u001b[0m\n"
      ]
     },
     "metadata": {},
     "output_type": "display_data"
    },
    {
     "name": "stdout",
     "output_type": "stream",
     "text": [
      "In total 3 datasets:\n",
      "\ttrain has 1350 instances.\n",
      "\tdev has 270 instances.\n",
      "\ttest has 270 instances.\n",
      "In total 1 vocabs:\n",
      "\ttarget has 15 entries.\n",
      "\n",
      "+----------------+----------------+----------------+-----------+----------------+---------+----------------+\n",
      "| raw_words      | raw_target     | input_ids      | input_len | first          | seq_len | target         |\n",
      "+----------------+----------------+----------------+-----------+----------------+---------+----------------+\n",
      "| ['科', '技'... | ['O', 'O', ... | [101, 4906,... | 28        | [0, 1, 2, 3... | 26      | [0, 0, 0, 0... |\n",
      "| ['对', '，'... | ['O', 'O', ... | [101, 2190,... | 17        | [0, 1, 2, 3... | 15      | [0, 0, 0, 0... |\n",
      "| ['今', '天'... | ['O', 'O', ... | [101, 791, ... | 81        | [0, 1, 2, 3... | 79      | [0, 0, 0, 0... |\n",
      "| ['今', '年'... | ['O', 'O', ... | [101, 791, ... | 20        | [0, 1, 2, 3... | 18      | [0, 0, 0, 0... |\n",
      "+----------------+----------------+----------------+-----------+----------------+---------+----------------+\n"
     ]
    }
   ],
   "source": [
    "from fastNLP.transformers.torch import BertTokenizer\n",
    "from fastNLP import cache_results, Vocabulary\n",
    "\n",
    "@cache_results(\"weibo/weiboNER\")\n",
    "def process_data(data_bundle, model_name):\n",
    "\n",
    "    tokenizer = BertTokenizer.from_pretrained(model_name)\n",
    "    def bpe(raw_words):\n",
    "        bpes = [tokenizer.cls_token_id]\n",
    "        first = [0]\n",
    "        first_index = 1  # 记录第一个bpe的位置\n",
    "        for word in raw_words:\n",
    "            bpe = tokenizer.encode(word, add_special_tokens=False)\n",
    "            bpes.extend(bpe)\n",
    "            first.append(first_index)\n",
    "            first_index += len(bpe)\n",
    "        bpes.append(tokenizer.sep_token_id)\n",
    "        first.append(first_index)\n",
    "        return {'input_ids': bpes, 'input_len': len(bpes), 'first': first, 'seq_len': len(raw_words)}\n",
    "    # 对data_bundle中每个dataset的每一条数据中的raw_words使用bpe函数，并且将返回的结果加入到每条数据中。\n",
    "    data_bundle.apply_field_more(bpe, field_name='raw_words', num_proc=4)\n",
    "\n",
    "    # tag的词表，由于这是词表，所以不需要有padding和unk\n",
    "    tag_vocab = Vocabulary(padding=None, unknown=None)\n",
    "    # 从 train 数据的 raw_target 中获取建立词表\n",
    "    tag_vocab.from_dataset(data_bundle.get_dataset('train'), field_name='raw_target')\n",
    "    # 使用词表将每个 dataset 中的raw_target转为数字，并且将写入到target这个field中\n",
    "    tag_vocab.index_dataset(data_bundle.datasets.values(), field_name='raw_target', new_field_name='target')\n",
    "\n",
    "    # 可以将 vocabulary 绑定到 data_bundle 上，方便之后使用。\n",
    "    data_bundle.set_vocab(tag_vocab, field_name='target')\n",
    "\n",
    "    return data_bundle, tokenizer\n",
    "\n",
    "data_bundle, tokenizer = process_data(data_bundle, 'bert-base-chinese')\n",
    "print(data_bundle)\n",
    "print(data_bundle.get_dataset(\"train\")[:4])"
   ]
  },
  {
   "cell_type": "markdown",
   "metadata": {},
   "source": [
    "最后将数据放入 DataLoder 即可。"
   ]
  },
  {
   "cell_type": "code",
   "execution_count": 7,
   "metadata": {},
   "outputs": [],
   "source": [
    "from fastNLP import prepare_torch_dataloader\n",
    "\n",
    "dataloaders = prepare_torch_dataloader(data_bundle, batch_size=12)\n",
    "\n",
    "for dl in dataloaders.values():\n",
    "    # 可以通过 set_pad 修改 padding 的行为。\n",
    "    dl.set_pad('input_ids', pad_val=tokenizer.pad_token_id)\n",
    "    dl.set_pad('target', pad_val=-100)"
   ]
  },
  {
   "cell_type": "markdown",
   "metadata": {},
   "source": [
    "`prepare_dataloader` 函数会为 `data_bundle` 中的所有数据集分配一个 DataLoader。这是一种简便的方法，但是如果您想对三种数据集使用不同的 batch_size 和 shuffle 等设置，也可以分开构建，如下所示："
   ]
  },
  {
   "cell_type": "code",
   "execution_count": 8,
   "metadata": {},
   "outputs": [],
   "source": [
    "from torch.utils.data import DataLoader\n",
    "\n",
    "# 直接使用 torch 的 DataLoader\n",
    "train_dataloader = DataLoader(data_bundle.get_dataset(\"train\"), batch_size=12, shuffle=True)\n",
    "dev_dataloader = DataLoader(data_bundle.get_dataset(\"dev\"), batch_size=12, shuffle=False)\n",
    "test_dataloader = DataLoader(data_bundle.get_dataset(\"test\"), batch_size=1, shuffle=False)\n",
    "\n",
    "from fastNLP import prepare_torch_dataloader\n",
    "\n",
    "# 调用 prepare_torch_dataloader\n",
    "train_dataloader = prepare_torch_dataloader(data_bundle.get_dataset(\"train\"), batch_size=12, shuffle=True)\n",
    "dev_dataloader = prepare_torch_dataloader(data_bundle.get_dataset(\"dev\"), batch_size=12, shuffle=False)\n",
    "test_dataloader = prepare_torch_dataloader(data_bundle.get_dataset(\"test\"), batch_size=1, shuffle=False)"
   ]
  },
  {
   "cell_type": "markdown",
   "metadata": {},
   "source": [
    "### 4. 模型准备\n",
    "\n",
    "我们选用最基础的 Bert 模型来进行训练，并使用预训练模型 `bert-base-chinese` 。模型的 `forward` 函数将输入首先经过 Bert 模型，接着经过两个线性层得到每个字在每种标签上的权重。"
   ]
  },
  {
   "cell_type": "code",
   "execution_count": 9,
   "metadata": {},
   "outputs": [
    {
     "data": {
      "text/html": [
       "<pre style=\"white-space:pre;overflow-x:auto;line-height:normal;font-family:Menlo,'DejaVu Sans Mono',consolas,'Courier New',monospace\"><span style=\"color: #7fbfbf; text-decoration-color: #7fbfbf\">[08:55:42] </span><span style=\"color: #800000; text-decoration-color: #800000\">WARNING </span> Some weights of the model checkpoint at            <a href=\"file:///remote-home/shxing/anaconda3/envs/fastnlp/lib/python3.7/site-packages/fastNLP/transformers/torch/modeling_utils.py\"><span style=\"color: #7f7f7f; text-decoration-color: #7f7f7f\">modeling_utils.py</span></a><span style=\"color: #7f7f7f; text-decoration-color: #7f7f7f\">:</span><a href=\"file:///remote-home/shxing/anaconda3/envs/fastnlp/lib/python3.7/site-packages/fastNLP/transformers/torch/modeling_utils.py#1490\"><span style=\"color: #7f7f7f; text-decoration-color: #7f7f7f\">1490</span></a>\n",
       "<span style=\"color: #7fbfbf; text-decoration-color: #7fbfbf\">           </span>         bert-base-chinese were not used when initializing  <span style=\"color: #7f7f7f; text-decoration-color: #7f7f7f\">                      </span>\n",
       "<span style=\"color: #7fbfbf; text-decoration-color: #7fbfbf\">           </span>         BertModel: <span style=\"font-weight: bold\">[</span><span style=\"color: #008000; text-decoration-color: #008000\">'cls.predictions.bias'</span>,                <span style=\"color: #7f7f7f; text-decoration-color: #7f7f7f\">                      </span>\n",
       "<span style=\"color: #7fbfbf; text-decoration-color: #7fbfbf\">           </span>         <span style=\"color: #008000; text-decoration-color: #008000\">'cls.predictions.transform.LayerNorm.bias'</span>,        <span style=\"color: #7f7f7f; text-decoration-color: #7f7f7f\">                      </span>\n",
       "<span style=\"color: #7fbfbf; text-decoration-color: #7fbfbf\">           </span>         <span style=\"color: #008000; text-decoration-color: #008000\">'cls.predictions.transform.LayerNorm.weight'</span>,      <span style=\"color: #7f7f7f; text-decoration-color: #7f7f7f\">                      </span>\n",
       "<span style=\"color: #7fbfbf; text-decoration-color: #7fbfbf\">           </span>         <span style=\"color: #008000; text-decoration-color: #008000\">'cls.seq_relationship.weight'</span>,                     <span style=\"color: #7f7f7f; text-decoration-color: #7f7f7f\">                      </span>\n",
       "<span style=\"color: #7fbfbf; text-decoration-color: #7fbfbf\">           </span>         <span style=\"color: #008000; text-decoration-color: #008000\">'cls.predictions.transform.dense.weight'</span>,          <span style=\"color: #7f7f7f; text-decoration-color: #7f7f7f\">                      </span>\n",
       "<span style=\"color: #7fbfbf; text-decoration-color: #7fbfbf\">           </span>         <span style=\"color: #008000; text-decoration-color: #008000\">'cls.predictions.transform.dense.bias'</span>,            <span style=\"color: #7f7f7f; text-decoration-color: #7f7f7f\">                      </span>\n",
       "<span style=\"color: #7fbfbf; text-decoration-color: #7fbfbf\">           </span>         <span style=\"color: #008000; text-decoration-color: #008000\">'cls.seq_relationship.bias'</span>,                       <span style=\"color: #7f7f7f; text-decoration-color: #7f7f7f\">                      </span>\n",
       "<span style=\"color: #7fbfbf; text-decoration-color: #7fbfbf\">           </span>         <span style=\"color: #008000; text-decoration-color: #008000\">'cls.predictions.decoder.weight'</span><span style=\"font-weight: bold\">]</span>                  <span style=\"color: #7f7f7f; text-decoration-color: #7f7f7f\">                      </span>\n",
       "<span style=\"color: #7fbfbf; text-decoration-color: #7fbfbf\">           </span>         - This IS expected if you are initializing         <span style=\"color: #7f7f7f; text-decoration-color: #7f7f7f\">                      </span>\n",
       "<span style=\"color: #7fbfbf; text-decoration-color: #7fbfbf\">           </span>         BertModel from the checkpoint of a model trained   <span style=\"color: #7f7f7f; text-decoration-color: #7f7f7f\">                      </span>\n",
       "<span style=\"color: #7fbfbf; text-decoration-color: #7fbfbf\">           </span>         on another task or with another architecture <span style=\"font-weight: bold\">(</span>e.g. <span style=\"color: #7f7f7f; text-decoration-color: #7f7f7f\">                      </span>\n",
       "<span style=\"color: #7fbfbf; text-decoration-color: #7fbfbf\">           </span>         initializing a BertForSequenceClassification model <span style=\"color: #7f7f7f; text-decoration-color: #7f7f7f\">                      </span>\n",
       "<span style=\"color: #7fbfbf; text-decoration-color: #7fbfbf\">           </span>         from a BertForPreTraining model<span style=\"font-weight: bold\">)</span>.                  <span style=\"color: #7f7f7f; text-decoration-color: #7f7f7f\">                      </span>\n",
       "<span style=\"color: #7fbfbf; text-decoration-color: #7fbfbf\">           </span>         - This IS NOT expected if you are initializing     <span style=\"color: #7f7f7f; text-decoration-color: #7f7f7f\">                      </span>\n",
       "<span style=\"color: #7fbfbf; text-decoration-color: #7fbfbf\">           </span>         BertModel from the checkpoint of a model that you  <span style=\"color: #7f7f7f; text-decoration-color: #7f7f7f\">                      </span>\n",
       "<span style=\"color: #7fbfbf; text-decoration-color: #7fbfbf\">           </span>         expect to be exactly identical <span style=\"font-weight: bold\">(</span>initializing a     <span style=\"color: #7f7f7f; text-decoration-color: #7f7f7f\">                      </span>\n",
       "<span style=\"color: #7fbfbf; text-decoration-color: #7fbfbf\">           </span>         BertForSequenceClassification model from a         <span style=\"color: #7f7f7f; text-decoration-color: #7f7f7f\">                      </span>\n",
       "<span style=\"color: #7fbfbf; text-decoration-color: #7fbfbf\">           </span>         BertForSequenceClassification model<span style=\"font-weight: bold\">)</span>.              <span style=\"color: #7f7f7f; text-decoration-color: #7f7f7f\">                      </span>\n",
       "</pre>\n"
      ],
      "text/plain": [
       "\u001b[2;36m[08:55:42]\u001b[0m\u001b[2;36m \u001b[0m\u001b[31mWARNING \u001b[0m Some weights of the model checkpoint at            \u001b]8;id=879502;file:///remote-home/shxing/anaconda3/envs/fastnlp/lib/python3.7/site-packages/fastNLP/transformers/torch/modeling_utils.py\u001b\\\u001b[2mmodeling_utils.py\u001b[0m\u001b]8;;\u001b\\\u001b[2m:\u001b[0m\u001b]8;id=496206;file:///remote-home/shxing/anaconda3/envs/fastnlp/lib/python3.7/site-packages/fastNLP/transformers/torch/modeling_utils.py#1490\u001b\\\u001b[2m1490\u001b[0m\u001b]8;;\u001b\\\n",
       "\u001b[2;36m           \u001b[0m         bert-base-chinese were not used when initializing  \u001b[2m                      \u001b[0m\n",
       "\u001b[2;36m           \u001b[0m         BertModel: \u001b[1m[\u001b[0m\u001b[32m'cls.predictions.bias'\u001b[0m,                \u001b[2m                      \u001b[0m\n",
       "\u001b[2;36m           \u001b[0m         \u001b[32m'cls.predictions.transform.LayerNorm.bias'\u001b[0m,        \u001b[2m                      \u001b[0m\n",
       "\u001b[2;36m           \u001b[0m         \u001b[32m'cls.predictions.transform.LayerNorm.weight'\u001b[0m,      \u001b[2m                      \u001b[0m\n",
       "\u001b[2;36m           \u001b[0m         \u001b[32m'cls.seq_relationship.weight'\u001b[0m,                     \u001b[2m                      \u001b[0m\n",
       "\u001b[2;36m           \u001b[0m         \u001b[32m'cls.predictions.transform.dense.weight'\u001b[0m,          \u001b[2m                      \u001b[0m\n",
       "\u001b[2;36m           \u001b[0m         \u001b[32m'cls.predictions.transform.dense.bias'\u001b[0m,            \u001b[2m                      \u001b[0m\n",
       "\u001b[2;36m           \u001b[0m         \u001b[32m'cls.seq_relationship.bias'\u001b[0m,                       \u001b[2m                      \u001b[0m\n",
       "\u001b[2;36m           \u001b[0m         \u001b[32m'cls.predictions.decoder.weight'\u001b[0m\u001b[1m]\u001b[0m                  \u001b[2m                      \u001b[0m\n",
       "\u001b[2;36m           \u001b[0m         - This IS expected if you are initializing         \u001b[2m                      \u001b[0m\n",
       "\u001b[2;36m           \u001b[0m         BertModel from the checkpoint of a model trained   \u001b[2m                      \u001b[0m\n",
       "\u001b[2;36m           \u001b[0m         on another task or with another architecture \u001b[1m(\u001b[0me.g. \u001b[2m                      \u001b[0m\n",
       "\u001b[2;36m           \u001b[0m         initializing a BertForSequenceClassification model \u001b[2m                      \u001b[0m\n",
       "\u001b[2;36m           \u001b[0m         from a BertForPreTraining model\u001b[1m)\u001b[0m.                  \u001b[2m                      \u001b[0m\n",
       "\u001b[2;36m           \u001b[0m         - This IS NOT expected if you are initializing     \u001b[2m                      \u001b[0m\n",
       "\u001b[2;36m           \u001b[0m         BertModel from the checkpoint of a model that you  \u001b[2m                      \u001b[0m\n",
       "\u001b[2;36m           \u001b[0m         expect to be exactly identical \u001b[1m(\u001b[0minitializing a     \u001b[2m                      \u001b[0m\n",
       "\u001b[2;36m           \u001b[0m         BertForSequenceClassification model from a         \u001b[2m                      \u001b[0m\n",
       "\u001b[2;36m           \u001b[0m         BertForSequenceClassification model\u001b[1m)\u001b[0m.              \u001b[2m                      \u001b[0m\n"
      ]
     },
     "metadata": {},
     "output_type": "display_data"
    },
    {
     "data": {
      "text/html": [
       "<pre style=\"white-space:pre;overflow-x:auto;line-height:normal;font-family:Menlo,'DejaVu Sans Mono',consolas,'Courier New',monospace\"><span style=\"color: #7fbfbf; text-decoration-color: #7fbfbf\">           </span><span style=\"color: #000080; text-decoration-color: #000080\">INFO    </span> All the weights of BertModel were initialized from <a href=\"file:///remote-home/shxing/anaconda3/envs/fastnlp/lib/python3.7/site-packages/fastNLP/transformers/torch/modeling_utils.py\"><span style=\"color: #7f7f7f; text-decoration-color: #7f7f7f\">modeling_utils.py</span></a><span style=\"color: #7f7f7f; text-decoration-color: #7f7f7f\">:</span><a href=\"file:///remote-home/shxing/anaconda3/envs/fastnlp/lib/python3.7/site-packages/fastNLP/transformers/torch/modeling_utils.py#1507\"><span style=\"color: #7f7f7f; text-decoration-color: #7f7f7f\">1507</span></a>\n",
       "<span style=\"color: #7fbfbf; text-decoration-color: #7fbfbf\">           </span>         the model checkpoint at bert-base-chinese.         <span style=\"color: #7f7f7f; text-decoration-color: #7f7f7f\">                      </span>\n",
       "<span style=\"color: #7fbfbf; text-decoration-color: #7fbfbf\">           </span>         If your task is similar to the task the model of   <span style=\"color: #7f7f7f; text-decoration-color: #7f7f7f\">                      </span>\n",
       "<span style=\"color: #7fbfbf; text-decoration-color: #7fbfbf\">           </span>         the checkpoint was trained on, you can already use <span style=\"color: #7f7f7f; text-decoration-color: #7f7f7f\">                      </span>\n",
       "<span style=\"color: #7fbfbf; text-decoration-color: #7fbfbf\">           </span>         BertModel for predictions without further          <span style=\"color: #7f7f7f; text-decoration-color: #7f7f7f\">                      </span>\n",
       "<span style=\"color: #7fbfbf; text-decoration-color: #7fbfbf\">           </span>         training.                                          <span style=\"color: #7f7f7f; text-decoration-color: #7f7f7f\">                      </span>\n",
       "</pre>\n"
      ],
      "text/plain": [
       "\u001b[2;36m          \u001b[0m\u001b[2;36m \u001b[0m\u001b[34mINFO    \u001b[0m All the weights of BertModel were initialized from \u001b]8;id=897263;file:///remote-home/shxing/anaconda3/envs/fastnlp/lib/python3.7/site-packages/fastNLP/transformers/torch/modeling_utils.py\u001b\\\u001b[2mmodeling_utils.py\u001b[0m\u001b]8;;\u001b\\\u001b[2m:\u001b[0m\u001b]8;id=62912;file:///remote-home/shxing/anaconda3/envs/fastnlp/lib/python3.7/site-packages/fastNLP/transformers/torch/modeling_utils.py#1507\u001b\\\u001b[2m1507\u001b[0m\u001b]8;;\u001b\\\n",
       "\u001b[2;36m           \u001b[0m         the model checkpoint at bert-base-chinese.         \u001b[2m                      \u001b[0m\n",
       "\u001b[2;36m           \u001b[0m         If your task is similar to the task the model of   \u001b[2m                      \u001b[0m\n",
       "\u001b[2;36m           \u001b[0m         the checkpoint was trained on, you can already use \u001b[2m                      \u001b[0m\n",
       "\u001b[2;36m           \u001b[0m         BertModel for predictions without further          \u001b[2m                      \u001b[0m\n",
       "\u001b[2;36m           \u001b[0m         training.                                          \u001b[2m                      \u001b[0m\n"
      ]
     },
     "metadata": {},
     "output_type": "display_data"
    }
   ],
   "source": [
    "import torch\n",
    "from torch import nn\n",
    "from fastNLP.transformers.torch import BertModel\n",
    "from fastNLP import seq_len_to_mask\n",
    "import torch.nn.functional as F\n",
    "\n",
    "\n",
    "class BertNER(nn.Module):\n",
    "    def __init__(self, model_name, num_class):\n",
    "        super().__init__()\n",
    "        self.bert = BertModel.from_pretrained(model_name)\n",
    "        self.mlp = nn.Sequential(nn.Linear(self.bert.config.hidden_size, self.bert.config.hidden_size),\n",
    "                                nn.Dropout(0.3),\n",
    "                                nn.Linear(self.bert.config.hidden_size, num_class))\n",
    "    \n",
    "    def forward(self, input_ids, input_len, first):\n",
    "        attention_mask = seq_len_to_mask(input_len)\n",
    "        outputs = self.bert(input_ids=input_ids, attention_mask=attention_mask)\n",
    "        last_hidden_state = outputs.last_hidden_state\n",
    "        first = first.unsqueeze(-1).repeat(1, 1, last_hidden_state.size(-1))\n",
    "        first_bpe_state = last_hidden_state.gather(dim=1, index=first)\n",
    "        first_bpe_state = first_bpe_state[:, 1:-1]  # 删除 cls 和 sep\n",
    "        \n",
    "        pred = self.mlp(first_bpe_state)\n",
    "        return {'pred': pred}\n",
    "    \n",
    "    def train_step(self, input_ids, input_len, first, target):\n",
    "        pred = self(input_ids, input_len, first)['pred']\n",
    "        loss = F.cross_entropy(pred.transpose(1, 2), target)\n",
    "        return {'loss': loss}\n",
    "    \n",
    "    def evaluate_step(self, input_ids, input_len, first):\n",
    "        pred = self(input_ids, input_len, first)['pred'].argmax(dim=-1)\n",
    "        return {'pred': pred}\n",
    "\n",
    "model = BertNER('bert-base-chinese', len(data_bundle.get_vocab('target')))"
   ]
  },
  {
   "cell_type": "markdown",
   "metadata": {},
   "source": [
    "### 5. 开始训练\n",
    "\n",
    "#### 5.1 使用 Trainer 进行训练\n",
    "\n",
    "在 Callback 上我们选用 `LoadBestModelCallback` 和 `TorchWarmupCallback` 。前者可以在训练中找到结果最好的权重并在结束后加载回来，其监控的结果值可以在初始化 `LoadBestModelCallback` 时指定，也可以在 `Trainer` 中设置，即 `monitor='f#f'` 参数；后者能够对学习率进行预热，对于 Bert 这样的复杂模型很有效。"
   ]
  },
  {
   "cell_type": "code",
   "execution_count": 10,
   "metadata": {},
   "outputs": [
    {
     "data": {
      "text/html": [
       "<pre style=\"white-space:pre;overflow-x:auto;line-height:normal;font-family:Menlo,'DejaVu Sans Mono',consolas,'Courier New',monospace\"><span style=\"color: #7fbfbf; text-decoration-color: #7fbfbf\">[08:55:49] </span><span style=\"color: #000080; text-decoration-color: #000080\">INFO    </span> Running evaluator sanity check for <span style=\"color: #008080; text-decoration-color: #008080; font-weight: bold\">2</span> batches.              <a href=\"file:///remote-home/shxing/anaconda3/envs/fastnlp/lib/python3.7/site-packages/fastNLP/core/controllers/trainer.py\"><span style=\"color: #7f7f7f; text-decoration-color: #7f7f7f\">trainer.py</span></a><span style=\"color: #7f7f7f; text-decoration-color: #7f7f7f\">:</span><a href=\"file:///remote-home/shxing/anaconda3/envs/fastnlp/lib/python3.7/site-packages/fastNLP/core/controllers/trainer.py#661\"><span style=\"color: #7f7f7f; text-decoration-color: #7f7f7f\">661</span></a>\n",
       "</pre>\n"
      ],
      "text/plain": [
       "\u001b[2;36m[08:55:49]\u001b[0m\u001b[2;36m \u001b[0m\u001b[34mINFO    \u001b[0m Running evaluator sanity check for \u001b[1;36m2\u001b[0m batches.              \u001b]8;id=135149;file:///remote-home/shxing/anaconda3/envs/fastnlp/lib/python3.7/site-packages/fastNLP/core/controllers/trainer.py\u001b\\\u001b[2mtrainer.py\u001b[0m\u001b]8;;\u001b\\\u001b[2m:\u001b[0m\u001b]8;id=278048;file:///remote-home/shxing/anaconda3/envs/fastnlp/lib/python3.7/site-packages/fastNLP/core/controllers/trainer.py#661\u001b\\\u001b[2m661\u001b[0m\u001b]8;;\u001b\\\n"
      ]
     },
     "metadata": {},
     "output_type": "display_data"
    },
    {
     "data": {
      "text/html": [
       "<pre style=\"white-space:pre;overflow-x:auto;line-height:normal;font-family:Menlo,'DejaVu Sans Mono',consolas,'Courier New',monospace\">/remote-home/shxing/anaconda3/envs/fastnlp/lib/python3.7/site-packages/rich/live.py:221: \n",
       "UserWarning: install \"ipywidgets\" for Jupyter support\n",
       "  warnings.warn('install \"ipywidgets\" for Jupyter support')\n",
       "</pre>\n"
      ],
      "text/plain": [
       "/remote-home/shxing/anaconda3/envs/fastnlp/lib/python3.7/site-packages/rich/live.py:221: \n",
       "UserWarning: install \"ipywidgets\" for Jupyter support\n",
       "  warnings.warn('install \"ipywidgets\" for Jupyter support')\n"
      ]
     },
     "metadata": {},
     "output_type": "display_data"
    },
    {
     "data": {
      "text/html": [
       "<pre style=\"white-space:pre;overflow-x:auto;line-height:normal;font-family:Menlo,'DejaVu Sans Mono',consolas,'Courier New',monospace\"></pre>\n"
      ],
      "text/plain": []
     },
     "metadata": {},
     "output_type": "display_data"
    },
    {
     "data": {
      "text/html": [
       "<pre style=\"white-space:pre;overflow-x:auto;line-height:normal;font-family:Menlo,'DejaVu Sans Mono',consolas,'Courier New',monospace\">\n",
       "</pre>\n"
      ],
      "text/plain": [
       "\n"
      ]
     },
     "metadata": {},
     "output_type": "display_data"
    },
    {
     "data": {
      "text/html": [
       "<pre style=\"white-space:pre;overflow-x:auto;line-height:normal;font-family:Menlo,'DejaVu Sans Mono',consolas,'Courier New',monospace\"><span style=\"color: #00d75f; text-decoration-color: #00d75f\">+++++++++++++++++++++++++++++ </span><span style=\"font-weight: bold\">Eval. results on Epoch:</span><span style=\"color: #008080; text-decoration-color: #008080; font-weight: bold\">1</span><span style=\"font-weight: bold\">, Batch:</span><span style=\"color: #008080; text-decoration-color: #008080; font-weight: bold\">0</span><span style=\"color: #00d75f; text-decoration-color: #00d75f\"> +++++++++++++++++++++++++++++</span>\n",
       "</pre>\n"
      ],
      "text/plain": [
       "\u001b[38;5;41m+++++++++++++++++++++++++++++ \u001b[0m\u001b[1mEval. results on Epoch:\u001b[0m\u001b[1;36m1\u001b[0m\u001b[1m, Batch:\u001b[0m\u001b[1;36m0\u001b[0m\u001b[38;5;41m +++++++++++++++++++++++++++++\u001b[0m\n"
      ]
     },
     "metadata": {},
     "output_type": "display_data"
    },
    {
     "data": {
      "text/html": [
       "<pre style=\"white-space:pre;overflow-x:auto;line-height:normal;font-family:Menlo,'DejaVu Sans Mono',consolas,'Courier New',monospace\"><span style=\"font-weight: bold\">{</span>\n",
       "  <span style=\"color: #000080; text-decoration-color: #000080; font-weight: bold\">\"f#f\"</span>: <span style=\"color: #008080; text-decoration-color: #008080; font-weight: bold\">0.0</span>,\n",
       "  <span style=\"color: #000080; text-decoration-color: #000080; font-weight: bold\">\"pre#f\"</span>: <span style=\"color: #008080; text-decoration-color: #008080; font-weight: bold\">0.0</span>,\n",
       "  <span style=\"color: #000080; text-decoration-color: #000080; font-weight: bold\">\"rec#f\"</span>: <span style=\"color: #008080; text-decoration-color: #008080; font-weight: bold\">0.0</span>\n",
       "<span style=\"font-weight: bold\">}</span>\n",
       "</pre>\n"
      ],
      "text/plain": [
       "\u001b[1m{\u001b[0m\n",
       "  \u001b[1;34m\"f#f\"\u001b[0m: \u001b[1;36m0.0\u001b[0m,\n",
       "  \u001b[1;34m\"pre#f\"\u001b[0m: \u001b[1;36m0.0\u001b[0m,\n",
       "  \u001b[1;34m\"rec#f\"\u001b[0m: \u001b[1;36m0.0\u001b[0m\n",
       "\u001b[1m}\u001b[0m\n"
      ]
     },
     "metadata": {},
     "output_type": "display_data"
    },
    {
     "data": {
      "text/html": [
       "<pre style=\"white-space:pre;overflow-x:auto;line-height:normal;font-family:Menlo,'DejaVu Sans Mono',consolas,'Courier New',monospace\">\n",
       "</pre>\n"
      ],
      "text/plain": [
       "\n"
      ]
     },
     "metadata": {},
     "output_type": "display_data"
    },
    {
     "data": {
      "text/html": [
       "<pre style=\"white-space:pre;overflow-x:auto;line-height:normal;font-family:Menlo,'DejaVu Sans Mono',consolas,'Courier New',monospace\"><span style=\"color: #00d75f; text-decoration-color: #00d75f\">+++++++++++++++++++++++++++++ </span><span style=\"font-weight: bold\">Eval. results on Epoch:</span><span style=\"color: #008080; text-decoration-color: #008080; font-weight: bold\">2</span><span style=\"font-weight: bold\">, Batch:</span><span style=\"color: #008080; text-decoration-color: #008080; font-weight: bold\">0</span><span style=\"color: #00d75f; text-decoration-color: #00d75f\"> +++++++++++++++++++++++++++++</span>\n",
       "</pre>\n"
      ],
      "text/plain": [
       "\u001b[38;5;41m+++++++++++++++++++++++++++++ \u001b[0m\u001b[1mEval. results on Epoch:\u001b[0m\u001b[1;36m2\u001b[0m\u001b[1m, Batch:\u001b[0m\u001b[1;36m0\u001b[0m\u001b[38;5;41m +++++++++++++++++++++++++++++\u001b[0m\n"
      ]
     },
     "metadata": {},
     "output_type": "display_data"
    },
    {
     "data": {
      "text/html": [
       "<pre style=\"white-space:pre;overflow-x:auto;line-height:normal;font-family:Menlo,'DejaVu Sans Mono',consolas,'Courier New',monospace\"><span style=\"font-weight: bold\">{</span>\n",
       "  <span style=\"color: #000080; text-decoration-color: #000080; font-weight: bold\">\"f#f\"</span>: <span style=\"color: #008080; text-decoration-color: #008080; font-weight: bold\">0.442804</span>,\n",
       "  <span style=\"color: #000080; text-decoration-color: #000080; font-weight: bold\">\"pre#f\"</span>: <span style=\"color: #008080; text-decoration-color: #008080; font-weight: bold\">0.506329</span>,\n",
       "  <span style=\"color: #000080; text-decoration-color: #000080; font-weight: bold\">\"rec#f\"</span>: <span style=\"color: #008080; text-decoration-color: #008080; font-weight: bold\">0.393443</span>\n",
       "<span style=\"font-weight: bold\">}</span>\n",
       "</pre>\n"
      ],
      "text/plain": [
       "\u001b[1m{\u001b[0m\n",
       "  \u001b[1;34m\"f#f\"\u001b[0m: \u001b[1;36m0.442804\u001b[0m,\n",
       "  \u001b[1;34m\"pre#f\"\u001b[0m: \u001b[1;36m0.506329\u001b[0m,\n",
       "  \u001b[1;34m\"rec#f\"\u001b[0m: \u001b[1;36m0.393443\u001b[0m\n",
       "\u001b[1m}\u001b[0m\n"
      ]
     },
     "metadata": {},
     "output_type": "display_data"
    },
    {
     "data": {
      "text/html": [
       "<pre style=\"white-space:pre;overflow-x:auto;line-height:normal;font-family:Menlo,'DejaVu Sans Mono',consolas,'Courier New',monospace\">\n",
       "</pre>\n"
      ],
      "text/plain": [
       "\n"
      ]
     },
     "metadata": {},
     "output_type": "display_data"
    },
    {
     "data": {
      "text/html": [
       "<pre style=\"white-space:pre;overflow-x:auto;line-height:normal;font-family:Menlo,'DejaVu Sans Mono',consolas,'Courier New',monospace\"><span style=\"color: #00d75f; text-decoration-color: #00d75f\">+++++++++++++++++++++++++++++ </span><span style=\"font-weight: bold\">Eval. results on Epoch:</span><span style=\"color: #008080; text-decoration-color: #008080; font-weight: bold\">3</span><span style=\"font-weight: bold\">, Batch:</span><span style=\"color: #008080; text-decoration-color: #008080; font-weight: bold\">0</span><span style=\"color: #00d75f; text-decoration-color: #00d75f\"> +++++++++++++++++++++++++++++</span>\n",
       "</pre>\n"
      ],
      "text/plain": [
       "\u001b[38;5;41m+++++++++++++++++++++++++++++ \u001b[0m\u001b[1mEval. results on Epoch:\u001b[0m\u001b[1;36m3\u001b[0m\u001b[1m, Batch:\u001b[0m\u001b[1;36m0\u001b[0m\u001b[38;5;41m +++++++++++++++++++++++++++++\u001b[0m\n"
      ]
     },
     "metadata": {},
     "output_type": "display_data"
    },
    {
     "data": {
      "text/html": [
       "<pre style=\"white-space:pre;overflow-x:auto;line-height:normal;font-family:Menlo,'DejaVu Sans Mono',consolas,'Courier New',monospace\"><span style=\"font-weight: bold\">{</span>\n",
       "  <span style=\"color: #000080; text-decoration-color: #000080; font-weight: bold\">\"f#f\"</span>: <span style=\"color: #008080; text-decoration-color: #008080; font-weight: bold\">0.507042</span>,\n",
       "  <span style=\"color: #000080; text-decoration-color: #000080; font-weight: bold\">\"pre#f\"</span>: <span style=\"color: #008080; text-decoration-color: #008080; font-weight: bold\">0.48503</span>,\n",
       "  <span style=\"color: #000080; text-decoration-color: #000080; font-weight: bold\">\"rec#f\"</span>: <span style=\"color: #008080; text-decoration-color: #008080; font-weight: bold\">0.531148</span>\n",
       "<span style=\"font-weight: bold\">}</span>\n",
       "</pre>\n"
      ],
      "text/plain": [
       "\u001b[1m{\u001b[0m\n",
       "  \u001b[1;34m\"f#f\"\u001b[0m: \u001b[1;36m0.507042\u001b[0m,\n",
       "  \u001b[1;34m\"pre#f\"\u001b[0m: \u001b[1;36m0.48503\u001b[0m,\n",
       "  \u001b[1;34m\"rec#f\"\u001b[0m: \u001b[1;36m0.531148\u001b[0m\n",
       "\u001b[1m}\u001b[0m\n"
      ]
     },
     "metadata": {},
     "output_type": "display_data"
    },
    {
     "data": {
      "application/vnd.jupyter.widget-view+json": {
       "model_id": "3faed243b7884731a9c82a9680ef5415",
       "version_major": 2,
       "version_minor": 0
      },
      "text/plain": [
       "Output()"
      ]
     },
     "metadata": {},
     "output_type": "display_data"
    },
    {
     "data": {
      "text/html": [
       "<pre style=\"white-space:pre;overflow-x:auto;line-height:normal;font-family:Menlo,'DejaVu Sans Mono',consolas,'Courier New',monospace\">\n",
       "</pre>\n"
      ],
      "text/plain": [
       "\n"
      ]
     },
     "metadata": {},
     "output_type": "display_data"
    },
    {
     "data": {
      "text/html": [
       "<pre style=\"white-space:pre;overflow-x:auto;line-height:normal;font-family:Menlo,'DejaVu Sans Mono',consolas,'Courier New',monospace\"><span style=\"color: #00d75f; text-decoration-color: #00d75f\">+++++++++++++++++++++++++++++ </span><span style=\"font-weight: bold\">Eval. results on Epoch:</span><span style=\"color: #008080; text-decoration-color: #008080; font-weight: bold\">4</span><span style=\"font-weight: bold\">, Batch:</span><span style=\"color: #008080; text-decoration-color: #008080; font-weight: bold\">0</span><span style=\"color: #00d75f; text-decoration-color: #00d75f\"> +++++++++++++++++++++++++++++</span>\n",
       "</pre>\n"
      ],
      "text/plain": [
       "\u001b[38;5;41m+++++++++++++++++++++++++++++ \u001b[0m\u001b[1mEval. results on Epoch:\u001b[0m\u001b[1;36m4\u001b[0m\u001b[1m, Batch:\u001b[0m\u001b[1;36m0\u001b[0m\u001b[38;5;41m +++++++++++++++++++++++++++++\u001b[0m\n"
      ]
     },
     "metadata": {},
     "output_type": "display_data"
    },
    {
     "data": {
      "text/html": [
       "<pre style=\"white-space:pre;overflow-x:auto;line-height:normal;font-family:Menlo,'DejaVu Sans Mono',consolas,'Courier New',monospace\"><span style=\"font-weight: bold\">{</span>\n",
       "  <span style=\"color: #000080; text-decoration-color: #000080; font-weight: bold\">\"f#f\"</span>: <span style=\"color: #008080; text-decoration-color: #008080; font-weight: bold\">0.52454</span>,\n",
       "  <span style=\"color: #000080; text-decoration-color: #000080; font-weight: bold\">\"pre#f\"</span>: <span style=\"color: #008080; text-decoration-color: #008080; font-weight: bold\">0.492795</span>,\n",
       "  <span style=\"color: #000080; text-decoration-color: #000080; font-weight: bold\">\"rec#f\"</span>: <span style=\"color: #008080; text-decoration-color: #008080; font-weight: bold\">0.560656</span>\n",
       "<span style=\"font-weight: bold\">}</span>\n",
       "</pre>\n"
      ],
      "text/plain": [
       "\u001b[1m{\u001b[0m\n",
       "  \u001b[1;34m\"f#f\"\u001b[0m: \u001b[1;36m0.52454\u001b[0m,\n",
       "  \u001b[1;34m\"pre#f\"\u001b[0m: \u001b[1;36m0.492795\u001b[0m,\n",
       "  \u001b[1;34m\"rec#f\"\u001b[0m: \u001b[1;36m0.560656\u001b[0m\n",
       "\u001b[1m}\u001b[0m\n"
      ]
     },
     "metadata": {},
     "output_type": "display_data"
    },
    {
     "data": {
      "text/html": [
       "<pre style=\"white-space:pre;overflow-x:auto;line-height:normal;font-family:Menlo,'DejaVu Sans Mono',consolas,'Courier New',monospace\">\n",
       "</pre>\n"
      ],
      "text/plain": [
       "\n"
      ]
     },
     "metadata": {},
     "output_type": "display_data"
    },
    {
     "data": {
      "text/html": [
       "<pre style=\"white-space:pre;overflow-x:auto;line-height:normal;font-family:Menlo,'DejaVu Sans Mono',consolas,'Courier New',monospace\">----------------------------- Eval. results on Epoch:<span style=\"color: #008080; text-decoration-color: #008080; font-weight: bold\">5</span>, Batch:<span style=\"color: #008080; text-decoration-color: #008080; font-weight: bold\">0</span> -----------------------------\n",
       "</pre>\n"
      ],
      "text/plain": [
       "----------------------------- Eval. results on Epoch:\u001b[1;36m5\u001b[0m, Batch:\u001b[1;36m0\u001b[0m -----------------------------\n"
      ]
     },
     "metadata": {},
     "output_type": "display_data"
    },
    {
     "data": {
      "text/html": [
       "<pre style=\"white-space:pre;overflow-x:auto;line-height:normal;font-family:Menlo,'DejaVu Sans Mono',consolas,'Courier New',monospace\"><span style=\"font-weight: bold\">{</span>\n",
       "  <span style=\"color: #000080; text-decoration-color: #000080; font-weight: bold\">\"f#f\"</span>: <span style=\"color: #008080; text-decoration-color: #008080; font-weight: bold\">0.504918</span>,\n",
       "  <span style=\"color: #000080; text-decoration-color: #000080; font-weight: bold\">\"pre#f\"</span>: <span style=\"color: #008080; text-decoration-color: #008080; font-weight: bold\">0.504918</span>,\n",
       "  <span style=\"color: #000080; text-decoration-color: #000080; font-weight: bold\">\"rec#f\"</span>: <span style=\"color: #008080; text-decoration-color: #008080; font-weight: bold\">0.504918</span>\n",
       "<span style=\"font-weight: bold\">}</span>\n",
       "</pre>\n"
      ],
      "text/plain": [
       "\u001b[1m{\u001b[0m\n",
       "  \u001b[1;34m\"f#f\"\u001b[0m: \u001b[1;36m0.504918\u001b[0m,\n",
       "  \u001b[1;34m\"pre#f\"\u001b[0m: \u001b[1;36m0.504918\u001b[0m,\n",
       "  \u001b[1;34m\"rec#f\"\u001b[0m: \u001b[1;36m0.504918\u001b[0m\n",
       "\u001b[1m}\u001b[0m\n"
      ]
     },
     "metadata": {},
     "output_type": "display_data"
    },
    {
     "data": {
      "text/html": [
       "<pre style=\"white-space:pre;overflow-x:auto;line-height:normal;font-family:Menlo,'DejaVu Sans Mono',consolas,'Courier New',monospace\">\n",
       "</pre>\n"
      ],
      "text/plain": [
       "\n"
      ]
     },
     "metadata": {},
     "output_type": "display_data"
    },
    {
     "data": {
      "text/html": [
       "<pre style=\"white-space:pre;overflow-x:auto;line-height:normal;font-family:Menlo,'DejaVu Sans Mono',consolas,'Courier New',monospace\">----------------------------- Eval. results on Epoch:<span style=\"color: #008080; text-decoration-color: #008080; font-weight: bold\">6</span>, Batch:<span style=\"color: #008080; text-decoration-color: #008080; font-weight: bold\">0</span> -----------------------------\n",
       "</pre>\n"
      ],
      "text/plain": [
       "----------------------------- Eval. results on Epoch:\u001b[1;36m6\u001b[0m, Batch:\u001b[1;36m0\u001b[0m -----------------------------\n"
      ]
     },
     "metadata": {},
     "output_type": "display_data"
    },
    {
     "data": {
      "text/html": [
       "<pre style=\"white-space:pre;overflow-x:auto;line-height:normal;font-family:Menlo,'DejaVu Sans Mono',consolas,'Courier New',monospace\"><span style=\"font-weight: bold\">{</span>\n",
       "  <span style=\"color: #000080; text-decoration-color: #000080; font-weight: bold\">\"f#f\"</span>: <span style=\"color: #008080; text-decoration-color: #008080; font-weight: bold\">0.514658</span>,\n",
       "  <span style=\"color: #000080; text-decoration-color: #000080; font-weight: bold\">\"pre#f\"</span>: <span style=\"color: #008080; text-decoration-color: #008080; font-weight: bold\">0.511327</span>,\n",
       "  <span style=\"color: #000080; text-decoration-color: #000080; font-weight: bold\">\"rec#f\"</span>: <span style=\"color: #008080; text-decoration-color: #008080; font-weight: bold\">0.518033</span>\n",
       "<span style=\"font-weight: bold\">}</span>\n",
       "</pre>\n"
      ],
      "text/plain": [
       "\u001b[1m{\u001b[0m\n",
       "  \u001b[1;34m\"f#f\"\u001b[0m: \u001b[1;36m0.514658\u001b[0m,\n",
       "  \u001b[1;34m\"pre#f\"\u001b[0m: \u001b[1;36m0.511327\u001b[0m,\n",
       "  \u001b[1;34m\"rec#f\"\u001b[0m: \u001b[1;36m0.518033\u001b[0m\n",
       "\u001b[1m}\u001b[0m\n"
      ]
     },
     "metadata": {},
     "output_type": "display_data"
    },
    {
     "data": {
      "text/html": [
       "<pre style=\"white-space:pre;overflow-x:auto;line-height:normal;font-family:Menlo,'DejaVu Sans Mono',consolas,'Courier New',monospace\">\n",
       "</pre>\n"
      ],
      "text/plain": [
       "\n"
      ]
     },
     "metadata": {},
     "output_type": "display_data"
    },
    {
     "data": {
      "text/html": [
       "<pre style=\"white-space:pre;overflow-x:auto;line-height:normal;font-family:Menlo,'DejaVu Sans Mono',consolas,'Courier New',monospace\">----------------------------- Eval. results on Epoch:<span style=\"color: #008080; text-decoration-color: #008080; font-weight: bold\">7</span>, Batch:<span style=\"color: #008080; text-decoration-color: #008080; font-weight: bold\">0</span> -----------------------------\n",
       "</pre>\n"
      ],
      "text/plain": [
       "----------------------------- Eval. results on Epoch:\u001b[1;36m7\u001b[0m, Batch:\u001b[1;36m0\u001b[0m -----------------------------\n"
      ]
     },
     "metadata": {},
     "output_type": "display_data"
    },
    {
     "data": {
      "text/html": [
       "<pre style=\"white-space:pre;overflow-x:auto;line-height:normal;font-family:Menlo,'DejaVu Sans Mono',consolas,'Courier New',monospace\"><span style=\"font-weight: bold\">{</span>\n",
       "  <span style=\"color: #000080; text-decoration-color: #000080; font-weight: bold\">\"f#f\"</span>: <span style=\"color: #008080; text-decoration-color: #008080; font-weight: bold\">0.51875</span>,\n",
       "  <span style=\"color: #000080; text-decoration-color: #000080; font-weight: bold\">\"pre#f\"</span>: <span style=\"color: #008080; text-decoration-color: #008080; font-weight: bold\">0.495522</span>,\n",
       "  <span style=\"color: #000080; text-decoration-color: #000080; font-weight: bold\">\"rec#f\"</span>: <span style=\"color: #008080; text-decoration-color: #008080; font-weight: bold\">0.544262</span>\n",
       "<span style=\"font-weight: bold\">}</span>\n",
       "</pre>\n"
      ],
      "text/plain": [
       "\u001b[1m{\u001b[0m\n",
       "  \u001b[1;34m\"f#f\"\u001b[0m: \u001b[1;36m0.51875\u001b[0m,\n",
       "  \u001b[1;34m\"pre#f\"\u001b[0m: \u001b[1;36m0.495522\u001b[0m,\n",
       "  \u001b[1;34m\"rec#f\"\u001b[0m: \u001b[1;36m0.544262\u001b[0m\n",
       "\u001b[1m}\u001b[0m\n"
      ]
     },
     "metadata": {},
     "output_type": "display_data"
    },
    {
     "data": {
      "text/html": [
       "<pre style=\"white-space:pre;overflow-x:auto;line-height:normal;font-family:Menlo,'DejaVu Sans Mono',consolas,'Courier New',monospace\">\n",
       "</pre>\n"
      ],
      "text/plain": [
       "\n"
      ]
     },
     "metadata": {},
     "output_type": "display_data"
    },
    {
     "data": {
      "text/html": [
       "<pre style=\"white-space:pre;overflow-x:auto;line-height:normal;font-family:Menlo,'DejaVu Sans Mono',consolas,'Courier New',monospace\"><span style=\"color: #00d75f; text-decoration-color: #00d75f\">+++++++++++++++++++++++++++++ </span><span style=\"font-weight: bold\">Eval. results on Epoch:</span><span style=\"color: #008080; text-decoration-color: #008080; font-weight: bold\">8</span><span style=\"font-weight: bold\">, Batch:</span><span style=\"color: #008080; text-decoration-color: #008080; font-weight: bold\">0</span><span style=\"color: #00d75f; text-decoration-color: #00d75f\"> +++++++++++++++++++++++++++++</span>\n",
       "</pre>\n"
      ],
      "text/plain": [
       "\u001b[38;5;41m+++++++++++++++++++++++++++++ \u001b[0m\u001b[1mEval. results on Epoch:\u001b[0m\u001b[1;36m8\u001b[0m\u001b[1m, Batch:\u001b[0m\u001b[1;36m0\u001b[0m\u001b[38;5;41m +++++++++++++++++++++++++++++\u001b[0m\n"
      ]
     },
     "metadata": {},
     "output_type": "display_data"
    },
    {
     "data": {
      "text/html": [
       "<pre style=\"white-space:pre;overflow-x:auto;line-height:normal;font-family:Menlo,'DejaVu Sans Mono',consolas,'Courier New',monospace\"><span style=\"font-weight: bold\">{</span>\n",
       "  <span style=\"color: #000080; text-decoration-color: #000080; font-weight: bold\">\"f#f\"</span>: <span style=\"color: #008080; text-decoration-color: #008080; font-weight: bold\">0.527546</span>,\n",
       "  <span style=\"color: #000080; text-decoration-color: #000080; font-weight: bold\">\"pre#f\"</span>: <span style=\"color: #008080; text-decoration-color: #008080; font-weight: bold\">0.537415</span>,\n",
       "  <span style=\"color: #000080; text-decoration-color: #000080; font-weight: bold\">\"rec#f\"</span>: <span style=\"color: #008080; text-decoration-color: #008080; font-weight: bold\">0.518033</span>\n",
       "<span style=\"font-weight: bold\">}</span>\n",
       "</pre>\n"
      ],
      "text/plain": [
       "\u001b[1m{\u001b[0m\n",
       "  \u001b[1;34m\"f#f\"\u001b[0m: \u001b[1;36m0.527546\u001b[0m,\n",
       "  \u001b[1;34m\"pre#f\"\u001b[0m: \u001b[1;36m0.537415\u001b[0m,\n",
       "  \u001b[1;34m\"rec#f\"\u001b[0m: \u001b[1;36m0.518033\u001b[0m\n",
       "\u001b[1m}\u001b[0m\n"
      ]
     },
     "metadata": {},
     "output_type": "display_data"
    },
    {
     "data": {
      "text/html": [
       "<pre style=\"white-space:pre;overflow-x:auto;line-height:normal;font-family:Menlo,'DejaVu Sans Mono',consolas,'Courier New',monospace\">\n",
       "</pre>\n"
      ],
      "text/plain": [
       "\n"
      ]
     },
     "metadata": {},
     "output_type": "display_data"
    },
    {
     "data": {
      "text/html": [
       "<pre style=\"white-space:pre;overflow-x:auto;line-height:normal;font-family:Menlo,'DejaVu Sans Mono',consolas,'Courier New',monospace\">----------------------------- Eval. results on Epoch:<span style=\"color: #008080; text-decoration-color: #008080; font-weight: bold\">9</span>, Batch:<span style=\"color: #008080; text-decoration-color: #008080; font-weight: bold\">0</span> -----------------------------\n",
       "</pre>\n"
      ],
      "text/plain": [
       "----------------------------- Eval. results on Epoch:\u001b[1;36m9\u001b[0m, Batch:\u001b[1;36m0\u001b[0m -----------------------------\n"
      ]
     },
     "metadata": {},
     "output_type": "display_data"
    },
    {
     "data": {
      "text/html": [
       "<pre style=\"white-space:pre;overflow-x:auto;line-height:normal;font-family:Menlo,'DejaVu Sans Mono',consolas,'Courier New',monospace\"><span style=\"font-weight: bold\">{</span>\n",
       "  <span style=\"color: #000080; text-decoration-color: #000080; font-weight: bold\">\"f#f\"</span>: <span style=\"color: #008080; text-decoration-color: #008080; font-weight: bold\">0.513471</span>,\n",
       "  <span style=\"color: #000080; text-decoration-color: #000080; font-weight: bold\">\"pre#f\"</span>: <span style=\"color: #008080; text-decoration-color: #008080; font-weight: bold\">0.496933</span>,\n",
       "  <span style=\"color: #000080; text-decoration-color: #000080; font-weight: bold\">\"rec#f\"</span>: <span style=\"color: #008080; text-decoration-color: #008080; font-weight: bold\">0.531148</span>\n",
       "<span style=\"font-weight: bold\">}</span>\n",
       "</pre>\n"
      ],
      "text/plain": [
       "\u001b[1m{\u001b[0m\n",
       "  \u001b[1;34m\"f#f\"\u001b[0m: \u001b[1;36m0.513471\u001b[0m,\n",
       "  \u001b[1;34m\"pre#f\"\u001b[0m: \u001b[1;36m0.496933\u001b[0m,\n",
       "  \u001b[1;34m\"rec#f\"\u001b[0m: \u001b[1;36m0.531148\u001b[0m\n",
       "\u001b[1m}\u001b[0m\n"
      ]
     },
     "metadata": {},
     "output_type": "display_data"
    },
    {
     "data": {
      "text/html": [
       "<pre style=\"white-space:pre;overflow-x:auto;line-height:normal;font-family:Menlo,'DejaVu Sans Mono',consolas,'Courier New',monospace\">\n",
       "</pre>\n"
      ],
      "text/plain": [
       "\n"
      ]
     },
     "metadata": {},
     "output_type": "display_data"
    },
    {
     "data": {
      "text/html": [
       "<pre style=\"white-space:pre;overflow-x:auto;line-height:normal;font-family:Menlo,'DejaVu Sans Mono',consolas,'Courier New',monospace\">---------------------------- Eval. results on Epoch:<span style=\"color: #008080; text-decoration-color: #008080; font-weight: bold\">10</span>, Batch:<span style=\"color: #008080; text-decoration-color: #008080; font-weight: bold\">0</span> -----------------------------\n",
       "</pre>\n"
      ],
      "text/plain": [
       "---------------------------- Eval. results on Epoch:\u001b[1;36m10\u001b[0m, Batch:\u001b[1;36m0\u001b[0m -----------------------------\n"
      ]
     },
     "metadata": {},
     "output_type": "display_data"
    },
    {
     "data": {
      "text/html": [
       "<pre style=\"white-space:pre;overflow-x:auto;line-height:normal;font-family:Menlo,'DejaVu Sans Mono',consolas,'Courier New',monospace\"><span style=\"font-weight: bold\">{</span>\n",
       "  <span style=\"color: #000080; text-decoration-color: #000080; font-weight: bold\">\"f#f\"</span>: <span style=\"color: #008080; text-decoration-color: #008080; font-weight: bold\">0.511041</span>,\n",
       "  <span style=\"color: #000080; text-decoration-color: #000080; font-weight: bold\">\"pre#f\"</span>: <span style=\"color: #008080; text-decoration-color: #008080; font-weight: bold\">0.492401</span>,\n",
       "  <span style=\"color: #000080; text-decoration-color: #000080; font-weight: bold\">\"rec#f\"</span>: <span style=\"color: #008080; text-decoration-color: #008080; font-weight: bold\">0.531148</span>\n",
       "<span style=\"font-weight: bold\">}</span>\n",
       "</pre>\n"
      ],
      "text/plain": [
       "\u001b[1m{\u001b[0m\n",
       "  \u001b[1;34m\"f#f\"\u001b[0m: \u001b[1;36m0.511041\u001b[0m,\n",
       "  \u001b[1;34m\"pre#f\"\u001b[0m: \u001b[1;36m0.492401\u001b[0m,\n",
       "  \u001b[1;34m\"rec#f\"\u001b[0m: \u001b[1;36m0.531148\u001b[0m\n",
       "\u001b[1m}\u001b[0m\n"
      ]
     },
     "metadata": {},
     "output_type": "display_data"
    },
    {
     "data": {
      "text/html": [
       "<pre style=\"white-space:pre;overflow-x:auto;line-height:normal;font-family:Menlo,'DejaVu Sans Mono',consolas,'Courier New',monospace\"><span style=\"color: #7fbfbf; text-decoration-color: #7fbfbf\">[08:57:39] </span><span style=\"color: #000080; text-decoration-color: #000080\">INFO    </span> The best performance for monitor f#<span style=\"color: #00ff00; text-decoration-color: #00ff00; font-weight: bold\">f:0</span>.<span style=\"color: #008080; text-decoration-color: #008080; font-weight: bold\">527546</span> was <a href=\"file:///remote-home/shxing/anaconda3/envs/fastnlp/lib/python3.7/site-packages/fastNLP/core/callbacks/progress_callback.py\"><span style=\"color: #7f7f7f; text-decoration-color: #7f7f7f\">progress_callback.py</span></a><span style=\"color: #7f7f7f; text-decoration-color: #7f7f7f\">:</span><a href=\"file:///remote-home/shxing/anaconda3/envs/fastnlp/lib/python3.7/site-packages/fastNLP/core/callbacks/progress_callback.py#37\"><span style=\"color: #7f7f7f; text-decoration-color: #7f7f7f\">37</span></a>\n",
       "<span style=\"color: #7fbfbf; text-decoration-color: #7fbfbf\">           </span>         achieved in Epoch:<span style=\"color: #008080; text-decoration-color: #008080; font-weight: bold\">8</span>, Global Batch:<span style=\"color: #008080; text-decoration-color: #008080; font-weight: bold\">904</span>. The        <span style=\"color: #7f7f7f; text-decoration-color: #7f7f7f\">                       </span>\n",
       "<span style=\"color: #7fbfbf; text-decoration-color: #7fbfbf\">           </span>         evaluation result:                                <span style=\"color: #7f7f7f; text-decoration-color: #7f7f7f\">                       </span>\n",
       "<span style=\"color: #7fbfbf; text-decoration-color: #7fbfbf\">           </span>         <span style=\"font-weight: bold\">{</span><span style=\"color: #008000; text-decoration-color: #008000\">'f#f'</span>: <span style=\"color: #008080; text-decoration-color: #008080; font-weight: bold\">0.527546</span>, <span style=\"color: #008000; text-decoration-color: #008000\">'pre#f'</span>: <span style=\"color: #008080; text-decoration-color: #008080; font-weight: bold\">0.537415</span>, <span style=\"color: #008000; text-decoration-color: #008000\">'rec#f'</span>:     <span style=\"color: #7f7f7f; text-decoration-color: #7f7f7f\">                       </span>\n",
       "<span style=\"color: #7fbfbf; text-decoration-color: #7fbfbf\">           </span>         <span style=\"color: #008080; text-decoration-color: #008080; font-weight: bold\">0.518033</span><span style=\"font-weight: bold\">}</span>                                         <span style=\"color: #7f7f7f; text-decoration-color: #7f7f7f\">                       </span>\n",
       "</pre>\n"
      ],
      "text/plain": [
       "\u001b[2;36m[08:57:39]\u001b[0m\u001b[2;36m \u001b[0m\u001b[34mINFO    \u001b[0m The best performance for monitor f#\u001b[1;92mf:0\u001b[0m.\u001b[1;36m527546\u001b[0m was \u001b]8;id=432902;file:///remote-home/shxing/anaconda3/envs/fastnlp/lib/python3.7/site-packages/fastNLP/core/callbacks/progress_callback.py\u001b\\\u001b[2mprogress_callback.py\u001b[0m\u001b]8;;\u001b\\\u001b[2m:\u001b[0m\u001b]8;id=453694;file:///remote-home/shxing/anaconda3/envs/fastnlp/lib/python3.7/site-packages/fastNLP/core/callbacks/progress_callback.py#37\u001b\\\u001b[2m37\u001b[0m\u001b]8;;\u001b\\\n",
       "\u001b[2;36m           \u001b[0m         achieved in Epoch:\u001b[1;36m8\u001b[0m, Global Batch:\u001b[1;36m904\u001b[0m. The        \u001b[2m                       \u001b[0m\n",
       "\u001b[2;36m           \u001b[0m         evaluation result:                                \u001b[2m                       \u001b[0m\n",
       "\u001b[2;36m           \u001b[0m         \u001b[1m{\u001b[0m\u001b[32m'f#f'\u001b[0m: \u001b[1;36m0.527546\u001b[0m, \u001b[32m'pre#f'\u001b[0m: \u001b[1;36m0.537415\u001b[0m, \u001b[32m'rec#f'\u001b[0m:     \u001b[2m                       \u001b[0m\n",
       "\u001b[2;36m           \u001b[0m         \u001b[1;36m0.518033\u001b[0m\u001b[1m}\u001b[0m                                         \u001b[2m                       \u001b[0m\n"
      ]
     },
     "metadata": {},
     "output_type": "display_data"
    },
    {
     "data": {
      "text/html": [
       "<pre style=\"white-space:pre;overflow-x:auto;line-height:normal;font-family:Menlo,'DejaVu Sans Mono',consolas,'Courier New',monospace\"></pre>\n"
      ],
      "text/plain": []
     },
     "metadata": {},
     "output_type": "display_data"
    },
    {
     "data": {
      "text/html": [
       "<pre style=\"white-space:pre;overflow-x:auto;line-height:normal;font-family:Menlo,'DejaVu Sans Mono',consolas,'Courier New',monospace\">\n",
       "</pre>\n"
      ],
      "text/plain": [
       "\n"
      ]
     },
     "metadata": {},
     "output_type": "display_data"
    },
    {
     "data": {
      "text/html": [
       "<pre style=\"white-space:pre;overflow-x:auto;line-height:normal;font-family:Menlo,'DejaVu Sans Mono',consolas,'Courier New',monospace\"><span style=\"color: #7fbfbf; text-decoration-color: #7fbfbf\">           </span><span style=\"color: #000080; text-decoration-color: #000080\">INFO    </span> Loading best model from buffer with f#f:  <a href=\"file:///remote-home/shxing/anaconda3/envs/fastnlp/lib/python3.7/site-packages/fastNLP/core/callbacks/load_best_model_callback.py\"><span style=\"color: #7f7f7f; text-decoration-color: #7f7f7f\">load_best_model_callback.py</span></a><span style=\"color: #7f7f7f; text-decoration-color: #7f7f7f\">:</span><a href=\"file:///remote-home/shxing/anaconda3/envs/fastnlp/lib/python3.7/site-packages/fastNLP/core/callbacks/load_best_model_callback.py#115\"><span style=\"color: #7f7f7f; text-decoration-color: #7f7f7f\">115</span></a>\n",
       "<span style=\"color: #7fbfbf; text-decoration-color: #7fbfbf\">           </span>         <span style=\"color: #008080; text-decoration-color: #008080; font-weight: bold\">0.527546</span><span style=\"color: #808000; text-decoration-color: #808000\">...</span>                               <span style=\"color: #7f7f7f; text-decoration-color: #7f7f7f\">                               </span>\n",
       "</pre>\n"
      ],
      "text/plain": [
       "\u001b[2;36m          \u001b[0m\u001b[2;36m \u001b[0m\u001b[34mINFO    \u001b[0m Loading best model from buffer with f#f:  \u001b]8;id=513700;file:///remote-home/shxing/anaconda3/envs/fastnlp/lib/python3.7/site-packages/fastNLP/core/callbacks/load_best_model_callback.py\u001b\\\u001b[2mload_best_model_callback.py\u001b[0m\u001b]8;;\u001b\\\u001b[2m:\u001b[0m\u001b]8;id=947866;file:///remote-home/shxing/anaconda3/envs/fastnlp/lib/python3.7/site-packages/fastNLP/core/callbacks/load_best_model_callback.py#115\u001b\\\u001b[2m115\u001b[0m\u001b]8;;\u001b\\\n",
       "\u001b[2;36m           \u001b[0m         \u001b[1;36m0.527546\u001b[0m\u001b[33m...\u001b[0m                               \u001b[2m                               \u001b[0m\n"
      ]
     },
     "metadata": {},
     "output_type": "display_data"
    }
   ],
   "source": [
    "from torch import optim\n",
    "from fastNLP import Trainer, LoadBestModelCallback, TorchWarmupCallback\n",
    "from fastNLP import SpanFPreRecMetric\n",
    "\n",
    "optimizer = optim.Adam(model.parameters(), lr=2e-5)\n",
    "callbacks = [\n",
    "    LoadBestModelCallback(),\n",
    "    TorchWarmupCallback(),\n",
    "]\n",
    "metrics = {\n",
    "    \"f\": SpanFPreRecMetric(tag_vocab=data_bundle.get_vocab('target')),\n",
    "}\n",
    "\n",
    "trainer = Trainer(model=model, train_dataloader=dataloaders['train'], optimizers=optimizer, \n",
    "                  evaluate_dataloaders=dataloaders['dev'], \n",
    "                  metrics=metrics, n_epochs=10, callbacks=callbacks, \n",
    "                  device=0, monitor='f#f')\n",
    "trainer.run()"
   ]
  },
  {
   "cell_type": "markdown",
   "metadata": {},
   "source": [
    "#### 5.2 输出标注的结果\n",
    "\n",
    "在训练完成后，我们可以使用 `Evaluator` 来输出标注的结果，在这里我们选择使用 `evaluate_batch_step_fn` 参数来实现这一功能，`evaluate_batch_step_fn` 函数必须接受两个参数 `evaluator` 和 `batch` 。在 `output_labeling` 函数中，我们将 `evaluate_step` 后的结果在词表中进行转换得到字符串形式的标签，并且将原标签和预测的标签一起输出来展示模型的效果。由于我们之前为 dataloader 设置的 batch_size 是 12，因此这里仅运行一个 batch 来展示，防止输出过长。在 `output_labeling` 函数中，您可以进行更加灵活的设置，比如将结果保存起来。"
   ]
  },
  {
   "cell_type": "code",
   "execution_count": 11,
   "metadata": {},
   "outputs": [
    {
     "data": {
      "application/vnd.jupyter.widget-view+json": {
       "model_id": "9cc78f2749484e06912d970dd5715220",
       "version_major": 2,
       "version_minor": 0
      },
      "text/plain": [
       "Output()"
      ]
     },
     "metadata": {},
     "output_type": "display_data"
    },
    {
     "data": {
      "text/html": [
       "<pre style=\"white-space:pre;overflow-x:auto;line-height:normal;font-family:Menlo,'DejaVu Sans Mono',consolas,'Courier New',monospace\"><span style=\"color: #7fbfbf; text-decoration-color: #7fbfbf\">[08:58:06] </span><span style=\"color: #000080; text-decoration-color: #000080\">INFO    </span> sentence: <span style=\"font-weight: bold\">[</span><span style=\"color: #008000; text-decoration-color: #008000\">'一'</span>, <span style=\"color: #008000; text-decoration-color: #008000\">'节'</span>, <span style=\"color: #008000; text-decoration-color: #008000\">'课'</span>, <span style=\"color: #008000; text-decoration-color: #008000\">'的'</span>, <span style=\"color: #008000; text-decoration-color: #008000\">'时'</span>, <span style=\"color: #008000; text-decoration-color: #008000\">'间'</span>, <span style=\"color: #008000; text-decoration-color: #008000\">'真'</span>, <span style=\"color: #008000; text-decoration-color: #008000\">'心'</span>, <a href=\"file:///tmp/ipykernel_2969/236964521.py\"><span style=\"color: #7f7f7f; text-decoration-color: #7f7f7f\">236964521.py</span></a><span style=\"color: #7f7f7f; text-decoration-color: #7f7f7f\">:</span><a href=\"file:///tmp/ipykernel_2969/236964521.py#8\"><span style=\"color: #7f7f7f; text-decoration-color: #7f7f7f\">8</span></a>\n",
       "<span style=\"color: #7fbfbf; text-decoration-color: #7fbfbf\">           </span>         <span style=\"color: #008000; text-decoration-color: #008000\">'感'</span>, <span style=\"color: #008000; text-decoration-color: #008000\">'动'</span>, <span style=\"color: #008000; text-decoration-color: #008000\">'了'</span>, <span style=\"color: #008000; text-decoration-color: #008000\">'李'</span>, <span style=\"color: #008000; text-decoration-color: #008000\">'开'</span>, <span style=\"color: #008000; text-decoration-color: #008000\">'复'</span>, <span style=\"color: #008000; text-decoration-color: #008000\">'感'</span>, <span style=\"color: #008000; text-decoration-color: #008000\">'动'</span><span style=\"font-weight: bold\">]</span>            <span style=\"color: #7f7f7f; text-decoration-color: #7f7f7f\">              </span>\n",
       "</pre>\n"
      ],
      "text/plain": [
       "\u001b[2;36m[08:58:06]\u001b[0m\u001b[2;36m \u001b[0m\u001b[34mINFO    \u001b[0m sentence: \u001b[1m[\u001b[0m\u001b[32m'一'\u001b[0m, \u001b[32m'节'\u001b[0m, \u001b[32m'课'\u001b[0m, \u001b[32m'的'\u001b[0m, \u001b[32m'时'\u001b[0m, \u001b[32m'间'\u001b[0m, \u001b[32m'真'\u001b[0m, \u001b[32m'心'\u001b[0m, \u001b]8;id=735907;file:///tmp/ipykernel_2969/236964521.py\u001b\\\u001b[2m236964521.py\u001b[0m\u001b]8;;\u001b\\\u001b[2m:\u001b[0m\u001b]8;id=640687;file:///tmp/ipykernel_2969/236964521.py#8\u001b\\\u001b[2m8\u001b[0m\u001b]8;;\u001b\\\n",
       "\u001b[2;36m           \u001b[0m         \u001b[32m'感'\u001b[0m, \u001b[32m'动'\u001b[0m, \u001b[32m'了'\u001b[0m, \u001b[32m'李'\u001b[0m, \u001b[32m'开'\u001b[0m, \u001b[32m'复'\u001b[0m, \u001b[32m'感'\u001b[0m, \u001b[32m'动'\u001b[0m\u001b[1m]\u001b[0m            \u001b[2m              \u001b[0m\n"
      ]
     },
     "metadata": {},
     "output_type": "display_data"
    },
    {
     "data": {
      "text/html": [
       "<pre style=\"white-space:pre;overflow-x:auto;line-height:normal;font-family:Menlo,'DejaVu Sans Mono',consolas,'Courier New',monospace\"><span style=\"color: #7fbfbf; text-decoration-color: #7fbfbf\">           </span><span style=\"color: #000080; text-decoration-color: #000080\">INFO    </span> labels: <span style=\"font-weight: bold\">[</span><span style=\"color: #008000; text-decoration-color: #008000\">'O'</span>, <span style=\"color: #008000; text-decoration-color: #008000\">'O'</span>, <span style=\"color: #008000; text-decoration-color: #008000\">'O'</span>, <span style=\"color: #008000; text-decoration-color: #008000\">'O'</span>, <span style=\"color: #008000; text-decoration-color: #008000\">'O'</span>, <span style=\"color: #008000; text-decoration-color: #008000\">'O'</span>, <span style=\"color: #008000; text-decoration-color: #008000\">'O'</span>, <span style=\"color: #008000; text-decoration-color: #008000\">'O'</span>, <span style=\"color: #008000; text-decoration-color: #008000\">'O'</span>,     <a href=\"file:///tmp/ipykernel_2969/236964521.py\"><span style=\"color: #7f7f7f; text-decoration-color: #7f7f7f\">236964521.py</span></a><span style=\"color: #7f7f7f; text-decoration-color: #7f7f7f\">:</span><a href=\"file:///tmp/ipykernel_2969/236964521.py#10\"><span style=\"color: #7f7f7f; text-decoration-color: #7f7f7f\">10</span></a>\n",
       "<span style=\"color: #7fbfbf; text-decoration-color: #7fbfbf\">           </span>         <span style=\"color: #008000; text-decoration-color: #008000\">'O'</span>, <span style=\"color: #008000; text-decoration-color: #008000\">'O'</span>, <span style=\"color: #008000; text-decoration-color: #008000\">'B-PER.NAM'</span>, <span style=\"color: #008000; text-decoration-color: #008000\">'I-PER.NAM'</span>, <span style=\"color: #008000; text-decoration-color: #008000\">'I-PER.NAM'</span>, <span style=\"color: #008000; text-decoration-color: #008000\">'O'</span>,     <span style=\"color: #7f7f7f; text-decoration-color: #7f7f7f\">               </span>\n",
       "<span style=\"color: #7fbfbf; text-decoration-color: #7fbfbf\">           </span>         <span style=\"color: #008000; text-decoration-color: #008000\">'O'</span><span style=\"font-weight: bold\">]</span>                                                      <span style=\"color: #7f7f7f; text-decoration-color: #7f7f7f\">               </span>\n",
       "</pre>\n"
      ],
      "text/plain": [
       "\u001b[2;36m          \u001b[0m\u001b[2;36m \u001b[0m\u001b[34mINFO    \u001b[0m labels: \u001b[1m[\u001b[0m\u001b[32m'O'\u001b[0m, \u001b[32m'O'\u001b[0m, \u001b[32m'O'\u001b[0m, \u001b[32m'O'\u001b[0m, \u001b[32m'O'\u001b[0m, \u001b[32m'O'\u001b[0m, \u001b[32m'O'\u001b[0m, \u001b[32m'O'\u001b[0m, \u001b[32m'O'\u001b[0m,     \u001b]8;id=763056;file:///tmp/ipykernel_2969/236964521.py\u001b\\\u001b[2m236964521.py\u001b[0m\u001b]8;;\u001b\\\u001b[2m:\u001b[0m\u001b]8;id=724218;file:///tmp/ipykernel_2969/236964521.py#10\u001b\\\u001b[2m10\u001b[0m\u001b]8;;\u001b\\\n",
       "\u001b[2;36m           \u001b[0m         \u001b[32m'O'\u001b[0m, \u001b[32m'O'\u001b[0m, \u001b[32m'B-PER.NAM'\u001b[0m, \u001b[32m'I-PER.NAM'\u001b[0m, \u001b[32m'I-PER.NAM'\u001b[0m, \u001b[32m'O'\u001b[0m,     \u001b[2m               \u001b[0m\n",
       "\u001b[2;36m           \u001b[0m         \u001b[32m'O'\u001b[0m\u001b[1m]\u001b[0m                                                      \u001b[2m               \u001b[0m\n"
      ]
     },
     "metadata": {},
     "output_type": "display_data"
    },
    {
     "data": {
      "text/html": [
       "<pre style=\"white-space:pre;overflow-x:auto;line-height:normal;font-family:Menlo,'DejaVu Sans Mono',consolas,'Courier New',monospace\"><span style=\"color: #7fbfbf; text-decoration-color: #7fbfbf\">           </span><span style=\"color: #000080; text-decoration-color: #000080\">INFO    </span> target: <span style=\"font-weight: bold\">[</span><span style=\"color: #008000; text-decoration-color: #008000\">'O'</span>, <span style=\"color: #008000; text-decoration-color: #008000\">'O'</span>, <span style=\"color: #008000; text-decoration-color: #008000\">'O'</span>, <span style=\"color: #008000; text-decoration-color: #008000\">'O'</span>, <span style=\"color: #008000; text-decoration-color: #008000\">'O'</span>, <span style=\"color: #008000; text-decoration-color: #008000\">'O'</span>, <span style=\"color: #008000; text-decoration-color: #008000\">'O'</span>, <span style=\"color: #008000; text-decoration-color: #008000\">'O'</span>, <span style=\"color: #008000; text-decoration-color: #008000\">'O'</span>,     <a href=\"file:///tmp/ipykernel_2969/236964521.py\"><span style=\"color: #7f7f7f; text-decoration-color: #7f7f7f\">236964521.py</span></a><span style=\"color: #7f7f7f; text-decoration-color: #7f7f7f\">:</span><a href=\"file:///tmp/ipykernel_2969/236964521.py#11\"><span style=\"color: #7f7f7f; text-decoration-color: #7f7f7f\">11</span></a>\n",
       "<span style=\"color: #7fbfbf; text-decoration-color: #7fbfbf\">           </span>         <span style=\"color: #008000; text-decoration-color: #008000\">'O'</span>, <span style=\"color: #008000; text-decoration-color: #008000\">'O'</span>, <span style=\"color: #008000; text-decoration-color: #008000\">'B-PER.NAM'</span>, <span style=\"color: #008000; text-decoration-color: #008000\">'I-PER.NAM'</span>, <span style=\"color: #008000; text-decoration-color: #008000\">'I-PER.NAM'</span>, <span style=\"color: #008000; text-decoration-color: #008000\">'O'</span>,     <span style=\"color: #7f7f7f; text-decoration-color: #7f7f7f\">               </span>\n",
       "<span style=\"color: #7fbfbf; text-decoration-color: #7fbfbf\">           </span>         <span style=\"color: #008000; text-decoration-color: #008000\">'O'</span><span style=\"font-weight: bold\">]</span>                                                      <span style=\"color: #7f7f7f; text-decoration-color: #7f7f7f\">               </span>\n",
       "</pre>\n"
      ],
      "text/plain": [
       "\u001b[2;36m          \u001b[0m\u001b[2;36m \u001b[0m\u001b[34mINFO    \u001b[0m target: \u001b[1m[\u001b[0m\u001b[32m'O'\u001b[0m, \u001b[32m'O'\u001b[0m, \u001b[32m'O'\u001b[0m, \u001b[32m'O'\u001b[0m, \u001b[32m'O'\u001b[0m, \u001b[32m'O'\u001b[0m, \u001b[32m'O'\u001b[0m, \u001b[32m'O'\u001b[0m, \u001b[32m'O'\u001b[0m,     \u001b]8;id=557590;file:///tmp/ipykernel_2969/236964521.py\u001b\\\u001b[2m236964521.py\u001b[0m\u001b]8;;\u001b\\\u001b[2m:\u001b[0m\u001b]8;id=884499;file:///tmp/ipykernel_2969/236964521.py#11\u001b\\\u001b[2m11\u001b[0m\u001b]8;;\u001b\\\n",
       "\u001b[2;36m           \u001b[0m         \u001b[32m'O'\u001b[0m, \u001b[32m'O'\u001b[0m, \u001b[32m'B-PER.NAM'\u001b[0m, \u001b[32m'I-PER.NAM'\u001b[0m, \u001b[32m'I-PER.NAM'\u001b[0m, \u001b[32m'O'\u001b[0m,     \u001b[2m               \u001b[0m\n",
       "\u001b[2;36m           \u001b[0m         \u001b[32m'O'\u001b[0m\u001b[1m]\u001b[0m                                                      \u001b[2m               \u001b[0m\n"
      ]
     },
     "metadata": {},
     "output_type": "display_data"
    },
    {
     "data": {
      "text/html": [
       "<pre style=\"white-space:pre;overflow-x:auto;line-height:normal;font-family:Menlo,'DejaVu Sans Mono',consolas,'Courier New',monospace\"><span style=\"color: #7fbfbf; text-decoration-color: #7fbfbf\">           </span><span style=\"color: #000080; text-decoration-color: #000080\">INFO    </span> sentence: <span style=\"font-weight: bold\">[</span><span style=\"color: #008000; text-decoration-color: #008000\">'回'</span>, <span style=\"color: #008000; text-decoration-color: #008000\">'复'</span>, <span style=\"color: #008000; text-decoration-color: #008000\">'支'</span>, <span style=\"color: #008000; text-decoration-color: #008000\">'持'</span>, <span style=\"color: #008000; text-decoration-color: #008000\">'，'</span>, <span style=\"color: #008000; text-decoration-color: #008000\">'赞'</span>, <span style=\"color: #008000; text-decoration-color: #008000\">'成'</span>, <span style=\"color: #008000; text-decoration-color: #008000\">'，'</span>, <a href=\"file:///tmp/ipykernel_2969/236964521.py\"><span style=\"color: #7f7f7f; text-decoration-color: #7f7f7f\">236964521.py</span></a><span style=\"color: #7f7f7f; text-decoration-color: #7f7f7f\">:</span><a href=\"file:///tmp/ipykernel_2969/236964521.py#8\"><span style=\"color: #7f7f7f; text-decoration-color: #7f7f7f\">8</span></a>\n",
       "<span style=\"color: #7fbfbf; text-decoration-color: #7fbfbf\">           </span>         <span style=\"color: #008000; text-decoration-color: #008000\">'哈'</span>, <span style=\"color: #008000; text-decoration-color: #008000\">'哈'</span>, <span style=\"color: #008000; text-decoration-color: #008000\">'米'</span>, <span style=\"color: #008000; text-decoration-color: #008000\">'八'</span>, <span style=\"color: #008000; text-decoration-color: #008000\">'吴'</span>, <span style=\"color: #008000; text-decoration-color: #008000\">'够'</span>, <span style=\"color: #008000; text-decoration-color: #008000\">'历'</span>, <span style=\"color: #008000; text-decoration-color: #008000\">'史'</span>, <span style=\"color: #008000; text-decoration-color: #008000\">'要'</span>,      <span style=\"color: #7f7f7f; text-decoration-color: #7f7f7f\">              </span>\n",
       "<span style=\"color: #7fbfbf; text-decoration-color: #7fbfbf\">           </span>         <span style=\"color: #008000; text-decoration-color: #008000\">'的'</span>, <span style=\"color: #008000; text-decoration-color: #008000\">'陈'</span>, <span style=\"color: #008000; text-decoration-color: #008000\">'小'</span>, <span style=\"color: #008000; text-decoration-color: #008000\">'奥'</span>, <span style=\"color: #008000; text-decoration-color: #008000\">'丁'</span>, <span style=\"color: #008000; text-decoration-color: #008000\">'丁'</span>, <span style=\"color: #008000; text-decoration-color: #008000\">'我'</span>, <span style=\"color: #008000; text-decoration-color: #008000\">'爱'</span>, <span style=\"color: #008000; text-decoration-color: #008000\">'小'</span>,      <span style=\"color: #7f7f7f; text-decoration-color: #7f7f7f\">              </span>\n",
       "<span style=\"color: #7fbfbf; text-decoration-color: #7fbfbf\">           </span>         <span style=\"color: #008000; text-decoration-color: #008000\">'肥'</span>, <span style=\"color: #008000; text-decoration-color: #008000\">'肥'</span>, <span style=\"color: #008000; text-decoration-color: #008000\">'一'</span>, <span style=\"color: #008000; text-decoration-color: #008000\">'族'</span>, <span style=\"color: #008000; text-decoration-color: #008000\">'大'</span>, <span style=\"color: #008000; text-decoration-color: #008000\">'头'</span>, <span style=\"color: #008000; text-decoration-color: #008000\">'仔'</span>, <span style=\"color: #008000; text-decoration-color: #008000\">'大'</span>, <span style=\"color: #008000; text-decoration-color: #008000\">'家'</span>,      <span style=\"color: #7f7f7f; text-decoration-color: #7f7f7f\">              </span>\n",
       "<span style=\"color: #7fbfbf; text-decoration-color: #7fbfbf\">           </span>         <span style=\"color: #008000; text-decoration-color: #008000\">'团'</span>, <span style=\"color: #008000; text-decoration-color: #008000\">'结'</span>, <span style=\"color: #008000; text-decoration-color: #008000\">'一'</span>, <span style=\"color: #008000; text-decoration-color: #008000\">'致'</span>, <span style=\"color: #008000; text-decoration-color: #008000\">'，'</span>, <span style=\"color: #008000; text-decoration-color: #008000\">'誓'</span>, <span style=\"color: #008000; text-decoration-color: #008000\">'要'</span>, <span style=\"color: #008000; text-decoration-color: #008000\">'去'</span>, <span style=\"color: #008000; text-decoration-color: #008000\">'台'</span>,      <span style=\"color: #7f7f7f; text-decoration-color: #7f7f7f\">              </span>\n",
       "<span style=\"color: #7fbfbf; text-decoration-color: #7fbfbf\">           </span>         <span style=\"color: #008000; text-decoration-color: #008000\">'湾'</span>, <span style=\"color: #008000; text-decoration-color: #008000\">'饮'</span>, <span style=\"color: #008000; text-decoration-color: #008000\">'喜'</span>, <span style=\"color: #008000; text-decoration-color: #008000\">'酒'</span>, <span style=\"color: #008000; text-decoration-color: #008000\">'，'</span>, <span style=\"color: #008000; text-decoration-color: #008000\">'由'</span>, <span style=\"color: #008000; text-decoration-color: #008000\">'包'</span>, <span style=\"color: #008000; text-decoration-color: #008000\">'机'</span>, <span style=\"color: #008000; text-decoration-color: #008000\">'，'</span>,      <span style=\"color: #7f7f7f; text-decoration-color: #7f7f7f\">              </span>\n",
       "<span style=\"color: #7fbfbf; text-decoration-color: #7fbfbf\">           </span>         <span style=\"color: #008000; text-decoration-color: #008000\">'团'</span>, <span style=\"color: #008000; text-decoration-color: #008000\">'结'</span>, <span style=\"color: #008000; text-decoration-color: #008000\">'的'</span>, <span style=\"color: #008000; text-decoration-color: #008000\">'力'</span>, <span style=\"color: #008000; text-decoration-color: #008000\">'量'</span>, <span style=\"color: #008000; text-decoration-color: #008000\">'大'</span><span style=\"font-weight: bold\">]</span>                        <span style=\"color: #7f7f7f; text-decoration-color: #7f7f7f\">              </span>\n",
       "</pre>\n"
      ],
      "text/plain": [
       "\u001b[2;36m          \u001b[0m\u001b[2;36m \u001b[0m\u001b[34mINFO    \u001b[0m sentence: \u001b[1m[\u001b[0m\u001b[32m'回'\u001b[0m, \u001b[32m'复'\u001b[0m, \u001b[32m'支'\u001b[0m, \u001b[32m'持'\u001b[0m, \u001b[32m'，'\u001b[0m, \u001b[32m'赞'\u001b[0m, \u001b[32m'成'\u001b[0m, \u001b[32m'，'\u001b[0m, \u001b]8;id=25597;file:///tmp/ipykernel_2969/236964521.py\u001b\\\u001b[2m236964521.py\u001b[0m\u001b]8;;\u001b\\\u001b[2m:\u001b[0m\u001b]8;id=681057;file:///tmp/ipykernel_2969/236964521.py#8\u001b\\\u001b[2m8\u001b[0m\u001b]8;;\u001b\\\n",
       "\u001b[2;36m           \u001b[0m         \u001b[32m'哈'\u001b[0m, \u001b[32m'哈'\u001b[0m, \u001b[32m'米'\u001b[0m, \u001b[32m'八'\u001b[0m, \u001b[32m'吴'\u001b[0m, \u001b[32m'够'\u001b[0m, \u001b[32m'历'\u001b[0m, \u001b[32m'史'\u001b[0m, \u001b[32m'要'\u001b[0m,      \u001b[2m              \u001b[0m\n",
       "\u001b[2;36m           \u001b[0m         \u001b[32m'的'\u001b[0m, \u001b[32m'陈'\u001b[0m, \u001b[32m'小'\u001b[0m, \u001b[32m'奥'\u001b[0m, \u001b[32m'丁'\u001b[0m, \u001b[32m'丁'\u001b[0m, \u001b[32m'我'\u001b[0m, \u001b[32m'爱'\u001b[0m, \u001b[32m'小'\u001b[0m,      \u001b[2m              \u001b[0m\n",
       "\u001b[2;36m           \u001b[0m         \u001b[32m'肥'\u001b[0m, \u001b[32m'肥'\u001b[0m, \u001b[32m'一'\u001b[0m, \u001b[32m'族'\u001b[0m, \u001b[32m'大'\u001b[0m, \u001b[32m'头'\u001b[0m, \u001b[32m'仔'\u001b[0m, \u001b[32m'大'\u001b[0m, \u001b[32m'家'\u001b[0m,      \u001b[2m              \u001b[0m\n",
       "\u001b[2;36m           \u001b[0m         \u001b[32m'团'\u001b[0m, \u001b[32m'结'\u001b[0m, \u001b[32m'一'\u001b[0m, \u001b[32m'致'\u001b[0m, \u001b[32m'，'\u001b[0m, \u001b[32m'誓'\u001b[0m, \u001b[32m'要'\u001b[0m, \u001b[32m'去'\u001b[0m, \u001b[32m'台'\u001b[0m,      \u001b[2m              \u001b[0m\n",
       "\u001b[2;36m           \u001b[0m         \u001b[32m'湾'\u001b[0m, \u001b[32m'饮'\u001b[0m, \u001b[32m'喜'\u001b[0m, \u001b[32m'酒'\u001b[0m, \u001b[32m'，'\u001b[0m, \u001b[32m'由'\u001b[0m, \u001b[32m'包'\u001b[0m, \u001b[32m'机'\u001b[0m, \u001b[32m'，'\u001b[0m,      \u001b[2m              \u001b[0m\n",
       "\u001b[2;36m           \u001b[0m         \u001b[32m'团'\u001b[0m, \u001b[32m'结'\u001b[0m, \u001b[32m'的'\u001b[0m, \u001b[32m'力'\u001b[0m, \u001b[32m'量'\u001b[0m, \u001b[32m'大'\u001b[0m\u001b[1m]\u001b[0m                        \u001b[2m              \u001b[0m\n"
      ]
     },
     "metadata": {},
     "output_type": "display_data"
    },
    {
     "data": {
      "text/html": [
       "<pre style=\"white-space:pre;overflow-x:auto;line-height:normal;font-family:Menlo,'DejaVu Sans Mono',consolas,'Courier New',monospace\"><span style=\"color: #7fbfbf; text-decoration-color: #7fbfbf\">           </span><span style=\"color: #000080; text-decoration-color: #000080\">INFO    </span> labels: <span style=\"font-weight: bold\">[</span><span style=\"color: #008000; text-decoration-color: #008000\">'O'</span>, <span style=\"color: #008000; text-decoration-color: #008000\">'O'</span>, <span style=\"color: #008000; text-decoration-color: #008000\">'O'</span>, <span style=\"color: #008000; text-decoration-color: #008000\">'O'</span>, <span style=\"color: #008000; text-decoration-color: #008000\">'O'</span>, <span style=\"color: #008000; text-decoration-color: #008000\">'O'</span>, <span style=\"color: #008000; text-decoration-color: #008000\">'O'</span>, <span style=\"color: #008000; text-decoration-color: #008000\">'O'</span>, <span style=\"color: #008000; text-decoration-color: #008000\">'O'</span>,     <a href=\"file:///tmp/ipykernel_2969/236964521.py\"><span style=\"color: #7f7f7f; text-decoration-color: #7f7f7f\">236964521.py</span></a><span style=\"color: #7f7f7f; text-decoration-color: #7f7f7f\">:</span><a href=\"file:///tmp/ipykernel_2969/236964521.py#10\"><span style=\"color: #7f7f7f; text-decoration-color: #7f7f7f\">10</span></a>\n",
       "<span style=\"color: #7fbfbf; text-decoration-color: #7fbfbf\">           </span>         <span style=\"color: #008000; text-decoration-color: #008000\">'O'</span>, <span style=\"color: #008000; text-decoration-color: #008000\">'O'</span>, <span style=\"color: #008000; text-decoration-color: #008000\">'O'</span>, <span style=\"color: #008000; text-decoration-color: #008000\">'O'</span>, <span style=\"color: #008000; text-decoration-color: #008000\">'O'</span>, <span style=\"color: #008000; text-decoration-color: #008000\">'O'</span>, <span style=\"color: #008000; text-decoration-color: #008000\">'O'</span>, <span style=\"color: #008000; text-decoration-color: #008000\">'O'</span>, <span style=\"color: #008000; text-decoration-color: #008000\">'O'</span>, <span style=\"color: #008000; text-decoration-color: #008000\">'B-PER.NAM'</span>, <span style=\"color: #7f7f7f; text-decoration-color: #7f7f7f\">               </span>\n",
       "<span style=\"color: #7fbfbf; text-decoration-color: #7fbfbf\">           </span>         <span style=\"color: #008000; text-decoration-color: #008000\">'I-PER.NAM'</span>, <span style=\"color: #008000; text-decoration-color: #008000\">'I-PER.NAM'</span>, <span style=\"color: #008000; text-decoration-color: #008000\">'O'</span>, <span style=\"color: #008000; text-decoration-color: #008000\">'O'</span>, <span style=\"color: #008000; text-decoration-color: #008000\">'O'</span>, <span style=\"color: #008000; text-decoration-color: #008000\">'O'</span>, <span style=\"color: #008000; text-decoration-color: #008000\">'O'</span>, <span style=\"color: #008000; text-decoration-color: #008000\">'O'</span>,   <span style=\"color: #7f7f7f; text-decoration-color: #7f7f7f\">               </span>\n",
       "<span style=\"color: #7fbfbf; text-decoration-color: #7fbfbf\">           </span>         <span style=\"color: #008000; text-decoration-color: #008000\">'O'</span>, <span style=\"color: #008000; text-decoration-color: #008000\">'O'</span>, <span style=\"color: #008000; text-decoration-color: #008000\">'O'</span>, <span style=\"color: #008000; text-decoration-color: #008000\">'O'</span>, <span style=\"color: #008000; text-decoration-color: #008000\">'O'</span>, <span style=\"color: #008000; text-decoration-color: #008000\">'O'</span>, <span style=\"color: #008000; text-decoration-color: #008000\">'O'</span>, <span style=\"color: #008000; text-decoration-color: #008000\">'O'</span>, <span style=\"color: #008000; text-decoration-color: #008000\">'O'</span>, <span style=\"color: #008000; text-decoration-color: #008000\">'O'</span>, <span style=\"color: #008000; text-decoration-color: #008000\">'O'</span>,    <span style=\"color: #7f7f7f; text-decoration-color: #7f7f7f\">               </span>\n",
       "<span style=\"color: #7fbfbf; text-decoration-color: #7fbfbf\">           </span>         <span style=\"color: #008000; text-decoration-color: #008000\">'O'</span>, <span style=\"color: #008000; text-decoration-color: #008000\">'O'</span>, <span style=\"color: #008000; text-decoration-color: #008000\">'O'</span>, <span style=\"color: #008000; text-decoration-color: #008000\">'O'</span>, <span style=\"color: #008000; text-decoration-color: #008000\">'O'</span>, <span style=\"color: #008000; text-decoration-color: #008000\">'B-GPE.NAM'</span>, <span style=\"color: #008000; text-decoration-color: #008000\">'I-GPE.NAM'</span>, <span style=\"color: #008000; text-decoration-color: #008000\">'O'</span>,   <span style=\"color: #7f7f7f; text-decoration-color: #7f7f7f\">               </span>\n",
       "<span style=\"color: #7fbfbf; text-decoration-color: #7fbfbf\">           </span>         <span style=\"color: #008000; text-decoration-color: #008000\">'O'</span>, <span style=\"color: #008000; text-decoration-color: #008000\">'O'</span>, <span style=\"color: #008000; text-decoration-color: #008000\">'O'</span>, <span style=\"color: #008000; text-decoration-color: #008000\">'O'</span>, <span style=\"color: #008000; text-decoration-color: #008000\">'O'</span>, <span style=\"color: #008000; text-decoration-color: #008000\">'O'</span>, <span style=\"color: #008000; text-decoration-color: #008000\">'O'</span>, <span style=\"color: #008000; text-decoration-color: #008000\">'O'</span>, <span style=\"color: #008000; text-decoration-color: #008000\">'O'</span>, <span style=\"color: #008000; text-decoration-color: #008000\">'O'</span>, <span style=\"color: #008000; text-decoration-color: #008000\">'O'</span>,    <span style=\"color: #7f7f7f; text-decoration-color: #7f7f7f\">               </span>\n",
       "<span style=\"color: #7fbfbf; text-decoration-color: #7fbfbf\">           </span>         <span style=\"color: #008000; text-decoration-color: #008000\">'O'</span>, <span style=\"color: #008000; text-decoration-color: #008000\">'O'</span><span style=\"font-weight: bold\">]</span>                                                 <span style=\"color: #7f7f7f; text-decoration-color: #7f7f7f\">               </span>\n",
       "</pre>\n"
      ],
      "text/plain": [
       "\u001b[2;36m          \u001b[0m\u001b[2;36m \u001b[0m\u001b[34mINFO    \u001b[0m labels: \u001b[1m[\u001b[0m\u001b[32m'O'\u001b[0m, \u001b[32m'O'\u001b[0m, \u001b[32m'O'\u001b[0m, \u001b[32m'O'\u001b[0m, \u001b[32m'O'\u001b[0m, \u001b[32m'O'\u001b[0m, \u001b[32m'O'\u001b[0m, \u001b[32m'O'\u001b[0m, \u001b[32m'O'\u001b[0m,     \u001b]8;id=239443;file:///tmp/ipykernel_2969/236964521.py\u001b\\\u001b[2m236964521.py\u001b[0m\u001b]8;;\u001b\\\u001b[2m:\u001b[0m\u001b]8;id=593678;file:///tmp/ipykernel_2969/236964521.py#10\u001b\\\u001b[2m10\u001b[0m\u001b]8;;\u001b\\\n",
       "\u001b[2;36m           \u001b[0m         \u001b[32m'O'\u001b[0m, \u001b[32m'O'\u001b[0m, \u001b[32m'O'\u001b[0m, \u001b[32m'O'\u001b[0m, \u001b[32m'O'\u001b[0m, \u001b[32m'O'\u001b[0m, \u001b[32m'O'\u001b[0m, \u001b[32m'O'\u001b[0m, \u001b[32m'O'\u001b[0m, \u001b[32m'B-PER.NAM'\u001b[0m, \u001b[2m               \u001b[0m\n",
       "\u001b[2;36m           \u001b[0m         \u001b[32m'I-PER.NAM'\u001b[0m, \u001b[32m'I-PER.NAM'\u001b[0m, \u001b[32m'O'\u001b[0m, \u001b[32m'O'\u001b[0m, \u001b[32m'O'\u001b[0m, \u001b[32m'O'\u001b[0m, \u001b[32m'O'\u001b[0m, \u001b[32m'O'\u001b[0m,   \u001b[2m               \u001b[0m\n",
       "\u001b[2;36m           \u001b[0m         \u001b[32m'O'\u001b[0m, \u001b[32m'O'\u001b[0m, \u001b[32m'O'\u001b[0m, \u001b[32m'O'\u001b[0m, \u001b[32m'O'\u001b[0m, \u001b[32m'O'\u001b[0m, \u001b[32m'O'\u001b[0m, \u001b[32m'O'\u001b[0m, \u001b[32m'O'\u001b[0m, \u001b[32m'O'\u001b[0m, \u001b[32m'O'\u001b[0m,    \u001b[2m               \u001b[0m\n",
       "\u001b[2;36m           \u001b[0m         \u001b[32m'O'\u001b[0m, \u001b[32m'O'\u001b[0m, \u001b[32m'O'\u001b[0m, \u001b[32m'O'\u001b[0m, \u001b[32m'O'\u001b[0m, \u001b[32m'B-GPE.NAM'\u001b[0m, \u001b[32m'I-GPE.NAM'\u001b[0m, \u001b[32m'O'\u001b[0m,   \u001b[2m               \u001b[0m\n",
       "\u001b[2;36m           \u001b[0m         \u001b[32m'O'\u001b[0m, \u001b[32m'O'\u001b[0m, \u001b[32m'O'\u001b[0m, \u001b[32m'O'\u001b[0m, \u001b[32m'O'\u001b[0m, \u001b[32m'O'\u001b[0m, \u001b[32m'O'\u001b[0m, \u001b[32m'O'\u001b[0m, \u001b[32m'O'\u001b[0m, \u001b[32m'O'\u001b[0m, \u001b[32m'O'\u001b[0m,    \u001b[2m               \u001b[0m\n",
       "\u001b[2;36m           \u001b[0m         \u001b[32m'O'\u001b[0m, \u001b[32m'O'\u001b[0m\u001b[1m]\u001b[0m                                                 \u001b[2m               \u001b[0m\n"
      ]
     },
     "metadata": {},
     "output_type": "display_data"
    },
    {
     "data": {
      "text/html": [
       "<pre style=\"white-space:pre;overflow-x:auto;line-height:normal;font-family:Menlo,'DejaVu Sans Mono',consolas,'Courier New',monospace\"><span style=\"color: #7fbfbf; text-decoration-color: #7fbfbf\">           </span><span style=\"color: #000080; text-decoration-color: #000080\">INFO    </span> target: <span style=\"font-weight: bold\">[</span><span style=\"color: #008000; text-decoration-color: #008000\">'O'</span>, <span style=\"color: #008000; text-decoration-color: #008000\">'O'</span>, <span style=\"color: #008000; text-decoration-color: #008000\">'O'</span>, <span style=\"color: #008000; text-decoration-color: #008000\">'O'</span>, <span style=\"color: #008000; text-decoration-color: #008000\">'O'</span>, <span style=\"color: #008000; text-decoration-color: #008000\">'O'</span>, <span style=\"color: #008000; text-decoration-color: #008000\">'O'</span>, <span style=\"color: #008000; text-decoration-color: #008000\">'O'</span>, <span style=\"color: #008000; text-decoration-color: #008000\">'O'</span>,     <a href=\"file:///tmp/ipykernel_2969/236964521.py\"><span style=\"color: #7f7f7f; text-decoration-color: #7f7f7f\">236964521.py</span></a><span style=\"color: #7f7f7f; text-decoration-color: #7f7f7f\">:</span><a href=\"file:///tmp/ipykernel_2969/236964521.py#11\"><span style=\"color: #7f7f7f; text-decoration-color: #7f7f7f\">11</span></a>\n",
       "<span style=\"color: #7fbfbf; text-decoration-color: #7fbfbf\">           </span>         <span style=\"color: #008000; text-decoration-color: #008000\">'O'</span>, <span style=\"color: #008000; text-decoration-color: #008000\">'O'</span>, <span style=\"color: #008000; text-decoration-color: #008000\">'O'</span>, <span style=\"color: #008000; text-decoration-color: #008000\">'O'</span>, <span style=\"color: #008000; text-decoration-color: #008000\">'O'</span>, <span style=\"color: #008000; text-decoration-color: #008000\">'O'</span>, <span style=\"color: #008000; text-decoration-color: #008000\">'O'</span>, <span style=\"color: #008000; text-decoration-color: #008000\">'O'</span>, <span style=\"color: #008000; text-decoration-color: #008000\">'O'</span>, <span style=\"color: #008000; text-decoration-color: #008000\">'B-PER.NAM'</span>, <span style=\"color: #7f7f7f; text-decoration-color: #7f7f7f\">               </span>\n",
       "<span style=\"color: #7fbfbf; text-decoration-color: #7fbfbf\">           </span>         <span style=\"color: #008000; text-decoration-color: #008000\">'I-PER.NAM'</span>, <span style=\"color: #008000; text-decoration-color: #008000\">'I-PER.NAM'</span>, <span style=\"color: #008000; text-decoration-color: #008000\">'O'</span>, <span style=\"color: #008000; text-decoration-color: #008000\">'O'</span>, <span style=\"color: #008000; text-decoration-color: #008000\">'O'</span>, <span style=\"color: #008000; text-decoration-color: #008000\">'O'</span>, <span style=\"color: #008000; text-decoration-color: #008000\">'O'</span>, <span style=\"color: #008000; text-decoration-color: #008000\">'O'</span>,   <span style=\"color: #7f7f7f; text-decoration-color: #7f7f7f\">               </span>\n",
       "<span style=\"color: #7fbfbf; text-decoration-color: #7fbfbf\">           </span>         <span style=\"color: #008000; text-decoration-color: #008000\">'O'</span>, <span style=\"color: #008000; text-decoration-color: #008000\">'O'</span>, <span style=\"color: #008000; text-decoration-color: #008000\">'O'</span>, <span style=\"color: #008000; text-decoration-color: #008000\">'O'</span>, <span style=\"color: #008000; text-decoration-color: #008000\">'O'</span>, <span style=\"color: #008000; text-decoration-color: #008000\">'O'</span>, <span style=\"color: #008000; text-decoration-color: #008000\">'O'</span>, <span style=\"color: #008000; text-decoration-color: #008000\">'O'</span>, <span style=\"color: #008000; text-decoration-color: #008000\">'O'</span>, <span style=\"color: #008000; text-decoration-color: #008000\">'O'</span>, <span style=\"color: #008000; text-decoration-color: #008000\">'O'</span>,    <span style=\"color: #7f7f7f; text-decoration-color: #7f7f7f\">               </span>\n",
       "<span style=\"color: #7fbfbf; text-decoration-color: #7fbfbf\">           </span>         <span style=\"color: #008000; text-decoration-color: #008000\">'O'</span>, <span style=\"color: #008000; text-decoration-color: #008000\">'O'</span>, <span style=\"color: #008000; text-decoration-color: #008000\">'O'</span>, <span style=\"color: #008000; text-decoration-color: #008000\">'O'</span>, <span style=\"color: #008000; text-decoration-color: #008000\">'O'</span>, <span style=\"color: #008000; text-decoration-color: #008000\">'B-GPE.NAM'</span>, <span style=\"color: #008000; text-decoration-color: #008000\">'I-GPE.NAM'</span>, <span style=\"color: #008000; text-decoration-color: #008000\">'O'</span>,   <span style=\"color: #7f7f7f; text-decoration-color: #7f7f7f\">               </span>\n",
       "<span style=\"color: #7fbfbf; text-decoration-color: #7fbfbf\">           </span>         <span style=\"color: #008000; text-decoration-color: #008000\">'O'</span>, <span style=\"color: #008000; text-decoration-color: #008000\">'O'</span>, <span style=\"color: #008000; text-decoration-color: #008000\">'O'</span>, <span style=\"color: #008000; text-decoration-color: #008000\">'O'</span>, <span style=\"color: #008000; text-decoration-color: #008000\">'O'</span>, <span style=\"color: #008000; text-decoration-color: #008000\">'O'</span>, <span style=\"color: #008000; text-decoration-color: #008000\">'O'</span>, <span style=\"color: #008000; text-decoration-color: #008000\">'O'</span>, <span style=\"color: #008000; text-decoration-color: #008000\">'O'</span>, <span style=\"color: #008000; text-decoration-color: #008000\">'O'</span>, <span style=\"color: #008000; text-decoration-color: #008000\">'O'</span>,    <span style=\"color: #7f7f7f; text-decoration-color: #7f7f7f\">               </span>\n",
       "<span style=\"color: #7fbfbf; text-decoration-color: #7fbfbf\">           </span>         <span style=\"color: #008000; text-decoration-color: #008000\">'O'</span>, <span style=\"color: #008000; text-decoration-color: #008000\">'O'</span><span style=\"font-weight: bold\">]</span>                                                 <span style=\"color: #7f7f7f; text-decoration-color: #7f7f7f\">               </span>\n",
       "</pre>\n"
      ],
      "text/plain": [
       "\u001b[2;36m          \u001b[0m\u001b[2;36m \u001b[0m\u001b[34mINFO    \u001b[0m target: \u001b[1m[\u001b[0m\u001b[32m'O'\u001b[0m, \u001b[32m'O'\u001b[0m, \u001b[32m'O'\u001b[0m, \u001b[32m'O'\u001b[0m, \u001b[32m'O'\u001b[0m, \u001b[32m'O'\u001b[0m, \u001b[32m'O'\u001b[0m, \u001b[32m'O'\u001b[0m, \u001b[32m'O'\u001b[0m,     \u001b]8;id=614970;file:///tmp/ipykernel_2969/236964521.py\u001b\\\u001b[2m236964521.py\u001b[0m\u001b]8;;\u001b\\\u001b[2m:\u001b[0m\u001b]8;id=691728;file:///tmp/ipykernel_2969/236964521.py#11\u001b\\\u001b[2m11\u001b[0m\u001b]8;;\u001b\\\n",
       "\u001b[2;36m           \u001b[0m         \u001b[32m'O'\u001b[0m, \u001b[32m'O'\u001b[0m, \u001b[32m'O'\u001b[0m, \u001b[32m'O'\u001b[0m, \u001b[32m'O'\u001b[0m, \u001b[32m'O'\u001b[0m, \u001b[32m'O'\u001b[0m, \u001b[32m'O'\u001b[0m, \u001b[32m'O'\u001b[0m, \u001b[32m'B-PER.NAM'\u001b[0m, \u001b[2m               \u001b[0m\n",
       "\u001b[2;36m           \u001b[0m         \u001b[32m'I-PER.NAM'\u001b[0m, \u001b[32m'I-PER.NAM'\u001b[0m, \u001b[32m'O'\u001b[0m, \u001b[32m'O'\u001b[0m, \u001b[32m'O'\u001b[0m, \u001b[32m'O'\u001b[0m, \u001b[32m'O'\u001b[0m, \u001b[32m'O'\u001b[0m,   \u001b[2m               \u001b[0m\n",
       "\u001b[2;36m           \u001b[0m         \u001b[32m'O'\u001b[0m, \u001b[32m'O'\u001b[0m, \u001b[32m'O'\u001b[0m, \u001b[32m'O'\u001b[0m, \u001b[32m'O'\u001b[0m, \u001b[32m'O'\u001b[0m, \u001b[32m'O'\u001b[0m, \u001b[32m'O'\u001b[0m, \u001b[32m'O'\u001b[0m, \u001b[32m'O'\u001b[0m, \u001b[32m'O'\u001b[0m,    \u001b[2m               \u001b[0m\n",
       "\u001b[2;36m           \u001b[0m         \u001b[32m'O'\u001b[0m, \u001b[32m'O'\u001b[0m, \u001b[32m'O'\u001b[0m, \u001b[32m'O'\u001b[0m, \u001b[32m'O'\u001b[0m, \u001b[32m'B-GPE.NAM'\u001b[0m, \u001b[32m'I-GPE.NAM'\u001b[0m, \u001b[32m'O'\u001b[0m,   \u001b[2m               \u001b[0m\n",
       "\u001b[2;36m           \u001b[0m         \u001b[32m'O'\u001b[0m, \u001b[32m'O'\u001b[0m, \u001b[32m'O'\u001b[0m, \u001b[32m'O'\u001b[0m, \u001b[32m'O'\u001b[0m, \u001b[32m'O'\u001b[0m, \u001b[32m'O'\u001b[0m, \u001b[32m'O'\u001b[0m, \u001b[32m'O'\u001b[0m, \u001b[32m'O'\u001b[0m, \u001b[32m'O'\u001b[0m,    \u001b[2m               \u001b[0m\n",
       "\u001b[2;36m           \u001b[0m         \u001b[32m'O'\u001b[0m, \u001b[32m'O'\u001b[0m\u001b[1m]\u001b[0m                                                 \u001b[2m               \u001b[0m\n"
      ]
     },
     "metadata": {},
     "output_type": "display_data"
    },
    {
     "data": {
      "text/html": [
       "<pre style=\"white-space:pre;overflow-x:auto;line-height:normal;font-family:Menlo,'DejaVu Sans Mono',consolas,'Courier New',monospace\"><span style=\"color: #7fbfbf; text-decoration-color: #7fbfbf\">           </span><span style=\"color: #000080; text-decoration-color: #000080\">INFO    </span> sentence: <span style=\"font-weight: bold\">[</span><span style=\"color: #008000; text-decoration-color: #008000\">'剑'</span>, <span style=\"color: #008000; text-decoration-color: #008000\">'网'</span>, <span style=\"color: #008000; text-decoration-color: #008000\">'乱'</span>, <span style=\"color: #008000; text-decoration-color: #008000\">'世'</span>, <span style=\"color: #008000; text-decoration-color: #008000\">'长'</span>, <span style=\"color: #008000; text-decoration-color: #008000\">'安'</span>, <span style=\"color: #008000; text-decoration-color: #008000\">'公'</span>, <span style=\"color: #008000; text-decoration-color: #008000\">'测'</span>, <a href=\"file:///tmp/ipykernel_2969/236964521.py\"><span style=\"color: #7f7f7f; text-decoration-color: #7f7f7f\">236964521.py</span></a><span style=\"color: #7f7f7f; text-decoration-color: #7f7f7f\">:</span><a href=\"file:///tmp/ipykernel_2969/236964521.py#8\"><span style=\"color: #7f7f7f; text-decoration-color: #7f7f7f\">8</span></a>\n",
       "<span style=\"color: #7fbfbf; text-decoration-color: #7fbfbf\">           </span>         <span style=\"color: #008000; text-decoration-color: #008000\">'盛'</span>, <span style=\"color: #008000; text-decoration-color: #008000\">'典'</span>, <span style=\"color: #008000; text-decoration-color: #008000\">'今'</span>, <span style=\"color: #008000; text-decoration-color: #008000\">'日'</span>, <span style=\"color: #008000; text-decoration-color: #008000\">'开'</span>, <span style=\"color: #008000; text-decoration-color: #008000\">'启'</span>, <span style=\"color: #008000; text-decoration-color: #008000\">'，'</span>, <span style=\"color: #008000; text-decoration-color: #008000\">'海'</span>, <span style=\"color: #008000; text-decoration-color: #008000\">'量'</span>,      <span style=\"color: #7f7f7f; text-decoration-color: #7f7f7f\">              </span>\n",
       "<span style=\"color: #7fbfbf; text-decoration-color: #7fbfbf\">           </span>         <span style=\"color: #008000; text-decoration-color: #008000\">'豪'</span>, <span style=\"color: #008000; text-decoration-color: #008000\">'礼'</span>, <span style=\"color: #008000; text-decoration-color: #008000\">'火'</span>, <span style=\"color: #008000; text-decoration-color: #008000\">'爆'</span>, <span style=\"color: #008000; text-decoration-color: #008000\">'开'</span>, <span style=\"color: #008000; text-decoration-color: #008000\">'送'</span>, <span style=\"color: #008000; text-decoration-color: #008000\">'精'</span>, <span style=\"color: #008000; text-decoration-color: #008000\">'美'</span>, <span style=\"color: #008000; text-decoration-color: #008000\">'挂'</span>,      <span style=\"color: #7f7f7f; text-decoration-color: #7f7f7f\">              </span>\n",
       "<span style=\"color: #7fbfbf; text-decoration-color: #7fbfbf\">           </span>         <span style=\"color: #008000; text-decoration-color: #008000\">'件'</span>, <span style=\"color: #008000; text-decoration-color: #008000\">'、'</span>, <span style=\"color: #008000; text-decoration-color: #008000\">'听'</span>, <span style=\"color: #008000; text-decoration-color: #008000\">'雨'</span>, <span style=\"color: #008000; text-decoration-color: #008000\">'·'</span>, <span style=\"color: #008000; text-decoration-color: #008000\">'汉'</span>, <span style=\"color: #008000; text-decoration-color: #008000\">'服'</span>, <span style=\"color: #008000; text-decoration-color: #008000\">'娃'</span>, <span style=\"color: #008000; text-decoration-color: #008000\">'娃'</span>, <span style=\"color: #008000; text-decoration-color: #008000\">'、'</span>, <span style=\"color: #7f7f7f; text-decoration-color: #7f7f7f\">              </span>\n",
       "<span style=\"color: #7fbfbf; text-decoration-color: #7fbfbf\">           </span>         <span style=\"color: #008000; text-decoration-color: #008000\">'诙'</span>, <span style=\"color: #008000; text-decoration-color: #008000\">'谐'</span>, <span style=\"color: #008000; text-decoration-color: #008000\">'双'</span>, <span style=\"color: #008000; text-decoration-color: #008000\">'骑'</span>, <span style=\"color: #008000; text-decoration-color: #008000\">'独'</span>, <span style=\"color: #008000; text-decoration-color: #008000\">'轮'</span>, <span style=\"color: #008000; text-decoration-color: #008000\">'车'</span>, <span style=\"color: #008000; text-decoration-color: #008000\">'等'</span>, <span style=\"color: #008000; text-decoration-color: #008000\">'你'</span>,      <span style=\"color: #7f7f7f; text-decoration-color: #7f7f7f\">              </span>\n",
       "<span style=\"color: #7fbfbf; text-decoration-color: #7fbfbf\">           </span>         <span style=\"color: #008000; text-decoration-color: #008000\">'来'</span>, <span style=\"color: #008000; text-decoration-color: #008000\">'拿'</span>, <span style=\"color: #008000; text-decoration-color: #008000\">'，'</span>, <span style=\"color: #008000; text-decoration-color: #008000\">'更'</span>, <span style=\"color: #008000; text-decoration-color: #008000\">'有'</span>, <span style=\"color: #008000; text-decoration-color: #008000\">'千'</span>, <span style=\"color: #008000; text-decoration-color: #008000\">'台'</span>, <span style=\"color: #008000; text-decoration-color: #008000\">'红'</span>, <span style=\"color: #008000; text-decoration-color: #008000\">'米'</span>,      <span style=\"color: #7f7f7f; text-decoration-color: #7f7f7f\">              </span>\n",
       "<span style=\"color: #7fbfbf; text-decoration-color: #7fbfbf\">           </span>         <span style=\"color: #008000; text-decoration-color: #008000\">'手'</span>, <span style=\"color: #008000; text-decoration-color: #008000\">'机'</span>, <span style=\"color: #008000; text-decoration-color: #008000\">'、'</span>, <span style=\"color: #008000; text-decoration-color: #008000\">'等'</span>, <span style=\"color: #008000; text-decoration-color: #008000\">'十'</span>, <span style=\"color: #008000; text-decoration-color: #008000\">'四'</span>, <span style=\"color: #008000; text-decoration-color: #008000\">'重'</span>, <span style=\"color: #008000; text-decoration-color: #008000\">'惊'</span>, <span style=\"color: #008000; text-decoration-color: #008000\">'喜'</span>,      <span style=\"color: #7f7f7f; text-decoration-color: #7f7f7f\">              </span>\n",
       "<span style=\"color: #7fbfbf; text-decoration-color: #7fbfbf\">           </span>         <span style=\"color: #008000; text-decoration-color: #008000\">'转'</span>, <span style=\"color: #008000; text-decoration-color: #008000\">'发'</span>, <span style=\"color: #008000; text-decoration-color: #008000\">'即'</span>, <span style=\"color: #008000; text-decoration-color: #008000\">'抽'</span>, <span style=\"color: #008000; text-decoration-color: #008000\">'活'</span>, <span style=\"color: #008000; text-decoration-color: #008000\">'动'</span>, <span style=\"color: #008000; text-decoration-color: #008000\">'地'</span>, <span style=\"color: #008000; text-decoration-color: #008000\">'址'</span>, <span style=\"color: #008000; text-decoration-color: #008000\">'：'</span>,      <span style=\"color: #7f7f7f; text-decoration-color: #7f7f7f\">              </span>\n",
       "<span style=\"color: #7fbfbf; text-decoration-color: #7fbfbf\">           </span>         <span style=\"color: #008000; text-decoration-color: #008000\">'已'</span>, <span style=\"color: #008000; text-decoration-color: #008000\">'有'</span>, <span style=\"color: #008000; text-decoration-color: #008000\">'人'</span>, <span style=\"color: #008000; text-decoration-color: #008000\">'参'</span>, <span style=\"color: #008000; text-decoration-color: #008000\">'与'</span>, <span style=\"color: #008000; text-decoration-color: #008000\">'剑'</span>, <span style=\"color: #008000; text-decoration-color: #008000\">'网'</span>, <span style=\"color: #008000; text-decoration-color: #008000\">'官'</span>, <span style=\"color: #008000; text-decoration-color: #008000\">'方'</span>,      <span style=\"color: #7f7f7f; text-decoration-color: #7f7f7f\">              </span>\n",
       "<span style=\"color: #7fbfbf; text-decoration-color: #7fbfbf\">           </span>         <span style=\"color: #008000; text-decoration-color: #008000\">'微'</span>, <span style=\"color: #008000; text-decoration-color: #008000\">'博'</span>, <span style=\"color: #008000; text-decoration-color: #008000\">'剑'</span>, <span style=\"color: #008000; text-decoration-color: #008000\">'网'</span>, <span style=\"color: #008000; text-decoration-color: #008000\">'客'</span>, <span style=\"color: #008000; text-decoration-color: #008000\">'户'</span>, <span style=\"color: #008000; text-decoration-color: #008000\">'服'</span>, <span style=\"color: #008000; text-decoration-color: #008000\">'务'</span><span style=\"font-weight: bold\">]</span>            <span style=\"color: #7f7f7f; text-decoration-color: #7f7f7f\">              </span>\n",
       "</pre>\n"
      ],
      "text/plain": [
       "\u001b[2;36m          \u001b[0m\u001b[2;36m \u001b[0m\u001b[34mINFO    \u001b[0m sentence: \u001b[1m[\u001b[0m\u001b[32m'剑'\u001b[0m, \u001b[32m'网'\u001b[0m, \u001b[32m'乱'\u001b[0m, \u001b[32m'世'\u001b[0m, \u001b[32m'长'\u001b[0m, \u001b[32m'安'\u001b[0m, \u001b[32m'公'\u001b[0m, \u001b[32m'测'\u001b[0m, \u001b]8;id=142337;file:///tmp/ipykernel_2969/236964521.py\u001b\\\u001b[2m236964521.py\u001b[0m\u001b]8;;\u001b\\\u001b[2m:\u001b[0m\u001b]8;id=701557;file:///tmp/ipykernel_2969/236964521.py#8\u001b\\\u001b[2m8\u001b[0m\u001b]8;;\u001b\\\n",
       "\u001b[2;36m           \u001b[0m         \u001b[32m'盛'\u001b[0m, \u001b[32m'典'\u001b[0m, \u001b[32m'今'\u001b[0m, \u001b[32m'日'\u001b[0m, \u001b[32m'开'\u001b[0m, \u001b[32m'启'\u001b[0m, \u001b[32m'，'\u001b[0m, \u001b[32m'海'\u001b[0m, \u001b[32m'量'\u001b[0m,      \u001b[2m              \u001b[0m\n",
       "\u001b[2;36m           \u001b[0m         \u001b[32m'豪'\u001b[0m, \u001b[32m'礼'\u001b[0m, \u001b[32m'火'\u001b[0m, \u001b[32m'爆'\u001b[0m, \u001b[32m'开'\u001b[0m, \u001b[32m'送'\u001b[0m, \u001b[32m'精'\u001b[0m, \u001b[32m'美'\u001b[0m, \u001b[32m'挂'\u001b[0m,      \u001b[2m              \u001b[0m\n",
       "\u001b[2;36m           \u001b[0m         \u001b[32m'件'\u001b[0m, \u001b[32m'、'\u001b[0m, \u001b[32m'听'\u001b[0m, \u001b[32m'雨'\u001b[0m, \u001b[32m'·'\u001b[0m, \u001b[32m'汉'\u001b[0m, \u001b[32m'服'\u001b[0m, \u001b[32m'娃'\u001b[0m, \u001b[32m'娃'\u001b[0m, \u001b[32m'、'\u001b[0m, \u001b[2m              \u001b[0m\n",
       "\u001b[2;36m           \u001b[0m         \u001b[32m'诙'\u001b[0m, \u001b[32m'谐'\u001b[0m, \u001b[32m'双'\u001b[0m, \u001b[32m'骑'\u001b[0m, \u001b[32m'独'\u001b[0m, \u001b[32m'轮'\u001b[0m, \u001b[32m'车'\u001b[0m, \u001b[32m'等'\u001b[0m, \u001b[32m'你'\u001b[0m,      \u001b[2m              \u001b[0m\n",
       "\u001b[2;36m           \u001b[0m         \u001b[32m'来'\u001b[0m, \u001b[32m'拿'\u001b[0m, \u001b[32m'，'\u001b[0m, \u001b[32m'更'\u001b[0m, \u001b[32m'有'\u001b[0m, \u001b[32m'千'\u001b[0m, \u001b[32m'台'\u001b[0m, \u001b[32m'红'\u001b[0m, \u001b[32m'米'\u001b[0m,      \u001b[2m              \u001b[0m\n",
       "\u001b[2;36m           \u001b[0m         \u001b[32m'手'\u001b[0m, \u001b[32m'机'\u001b[0m, \u001b[32m'、'\u001b[0m, \u001b[32m'等'\u001b[0m, \u001b[32m'十'\u001b[0m, \u001b[32m'四'\u001b[0m, \u001b[32m'重'\u001b[0m, \u001b[32m'惊'\u001b[0m, \u001b[32m'喜'\u001b[0m,      \u001b[2m              \u001b[0m\n",
       "\u001b[2;36m           \u001b[0m         \u001b[32m'转'\u001b[0m, \u001b[32m'发'\u001b[0m, \u001b[32m'即'\u001b[0m, \u001b[32m'抽'\u001b[0m, \u001b[32m'活'\u001b[0m, \u001b[32m'动'\u001b[0m, \u001b[32m'地'\u001b[0m, \u001b[32m'址'\u001b[0m, \u001b[32m'：'\u001b[0m,      \u001b[2m              \u001b[0m\n",
       "\u001b[2;36m           \u001b[0m         \u001b[32m'已'\u001b[0m, \u001b[32m'有'\u001b[0m, \u001b[32m'人'\u001b[0m, \u001b[32m'参'\u001b[0m, \u001b[32m'与'\u001b[0m, \u001b[32m'剑'\u001b[0m, \u001b[32m'网'\u001b[0m, \u001b[32m'官'\u001b[0m, \u001b[32m'方'\u001b[0m,      \u001b[2m              \u001b[0m\n",
       "\u001b[2;36m           \u001b[0m         \u001b[32m'微'\u001b[0m, \u001b[32m'博'\u001b[0m, \u001b[32m'剑'\u001b[0m, \u001b[32m'网'\u001b[0m, \u001b[32m'客'\u001b[0m, \u001b[32m'户'\u001b[0m, \u001b[32m'服'\u001b[0m, \u001b[32m'务'\u001b[0m\u001b[1m]\u001b[0m            \u001b[2m              \u001b[0m\n"
      ]
     },
     "metadata": {},
     "output_type": "display_data"
    },
    {
     "data": {
      "text/html": [
       "<pre style=\"white-space:pre;overflow-x:auto;line-height:normal;font-family:Menlo,'DejaVu Sans Mono',consolas,'Courier New',monospace\"><span style=\"color: #7fbfbf; text-decoration-color: #7fbfbf\">           </span><span style=\"color: #000080; text-decoration-color: #000080\">INFO    </span> labels: <span style=\"font-weight: bold\">[</span><span style=\"color: #008000; text-decoration-color: #008000\">'O'</span>, <span style=\"color: #008000; text-decoration-color: #008000\">'O'</span>, <span style=\"color: #008000; text-decoration-color: #008000\">'O'</span>, <span style=\"color: #008000; text-decoration-color: #008000\">'O'</span>, <span style=\"color: #008000; text-decoration-color: #008000\">'O'</span>, <span style=\"color: #008000; text-decoration-color: #008000\">'O'</span>, <span style=\"color: #008000; text-decoration-color: #008000\">'O'</span>, <span style=\"color: #008000; text-decoration-color: #008000\">'O'</span>, <span style=\"color: #008000; text-decoration-color: #008000\">'O'</span>,     <a href=\"file:///tmp/ipykernel_2969/236964521.py\"><span style=\"color: #7f7f7f; text-decoration-color: #7f7f7f\">236964521.py</span></a><span style=\"color: #7f7f7f; text-decoration-color: #7f7f7f\">:</span><a href=\"file:///tmp/ipykernel_2969/236964521.py#10\"><span style=\"color: #7f7f7f; text-decoration-color: #7f7f7f\">10</span></a>\n",
       "<span style=\"color: #7fbfbf; text-decoration-color: #7fbfbf\">           </span>         <span style=\"color: #008000; text-decoration-color: #008000\">'O'</span>, <span style=\"color: #008000; text-decoration-color: #008000\">'O'</span>, <span style=\"color: #008000; text-decoration-color: #008000\">'O'</span>, <span style=\"color: #008000; text-decoration-color: #008000\">'O'</span>, <span style=\"color: #008000; text-decoration-color: #008000\">'O'</span>, <span style=\"color: #008000; text-decoration-color: #008000\">'O'</span>, <span style=\"color: #008000; text-decoration-color: #008000\">'O'</span>, <span style=\"color: #008000; text-decoration-color: #008000\">'O'</span>, <span style=\"color: #008000; text-decoration-color: #008000\">'O'</span>, <span style=\"color: #008000; text-decoration-color: #008000\">'O'</span>, <span style=\"color: #008000; text-decoration-color: #008000\">'O'</span>,    <span style=\"color: #7f7f7f; text-decoration-color: #7f7f7f\">               </span>\n",
       "<span style=\"color: #7fbfbf; text-decoration-color: #7fbfbf\">           </span>         <span style=\"color: #008000; text-decoration-color: #008000\">'O'</span>, <span style=\"color: #008000; text-decoration-color: #008000\">'O'</span>, <span style=\"color: #008000; text-decoration-color: #008000\">'O'</span>, <span style=\"color: #008000; text-decoration-color: #008000\">'O'</span>, <span style=\"color: #008000; text-decoration-color: #008000\">'O'</span>, <span style=\"color: #008000; text-decoration-color: #008000\">'O'</span>, <span style=\"color: #008000; text-decoration-color: #008000\">'O'</span>, <span style=\"color: #008000; text-decoration-color: #008000\">'O'</span>, <span style=\"color: #008000; text-decoration-color: #008000\">'O'</span>, <span style=\"color: #008000; text-decoration-color: #008000\">'O'</span>, <span style=\"color: #008000; text-decoration-color: #008000\">'O'</span>,    <span style=\"color: #7f7f7f; text-decoration-color: #7f7f7f\">               </span>\n",
       "<span style=\"color: #7fbfbf; text-decoration-color: #7fbfbf\">           </span>         <span style=\"color: #008000; text-decoration-color: #008000\">'O'</span>, <span style=\"color: #008000; text-decoration-color: #008000\">'O'</span>, <span style=\"color: #008000; text-decoration-color: #008000\">'O'</span>, <span style=\"color: #008000; text-decoration-color: #008000\">'O'</span>, <span style=\"color: #008000; text-decoration-color: #008000\">'O'</span>, <span style=\"color: #008000; text-decoration-color: #008000\">'O'</span>, <span style=\"color: #008000; text-decoration-color: #008000\">'O'</span>, <span style=\"color: #008000; text-decoration-color: #008000\">'O'</span>, <span style=\"color: #008000; text-decoration-color: #008000\">'O'</span>, <span style=\"color: #008000; text-decoration-color: #008000\">'O'</span>, <span style=\"color: #008000; text-decoration-color: #008000\">'O'</span>,    <span style=\"color: #7f7f7f; text-decoration-color: #7f7f7f\">               </span>\n",
       "<span style=\"color: #7fbfbf; text-decoration-color: #7fbfbf\">           </span>         <span style=\"color: #008000; text-decoration-color: #008000\">'O'</span>, <span style=\"color: #008000; text-decoration-color: #008000\">'O'</span>, <span style=\"color: #008000; text-decoration-color: #008000\">'O'</span>, <span style=\"color: #008000; text-decoration-color: #008000\">'O'</span>, <span style=\"color: #008000; text-decoration-color: #008000\">'O'</span>, <span style=\"color: #008000; text-decoration-color: #008000\">'O'</span>, <span style=\"color: #008000; text-decoration-color: #008000\">'O'</span>, <span style=\"color: #008000; text-decoration-color: #008000\">'O'</span>, <span style=\"color: #008000; text-decoration-color: #008000\">'O'</span>, <span style=\"color: #008000; text-decoration-color: #008000\">'O'</span>, <span style=\"color: #008000; text-decoration-color: #008000\">'O'</span>,    <span style=\"color: #7f7f7f; text-decoration-color: #7f7f7f\">               </span>\n",
       "<span style=\"color: #7fbfbf; text-decoration-color: #7fbfbf\">           </span>         <span style=\"color: #008000; text-decoration-color: #008000\">'O'</span>, <span style=\"color: #008000; text-decoration-color: #008000\">'O'</span>, <span style=\"color: #008000; text-decoration-color: #008000\">'O'</span>, <span style=\"color: #008000; text-decoration-color: #008000\">'O'</span>, <span style=\"color: #008000; text-decoration-color: #008000\">'O'</span>, <span style=\"color: #008000; text-decoration-color: #008000\">'O'</span>, <span style=\"color: #008000; text-decoration-color: #008000\">'O'</span>, <span style=\"color: #008000; text-decoration-color: #008000\">'O'</span>, <span style=\"color: #008000; text-decoration-color: #008000\">'O'</span>, <span style=\"color: #008000; text-decoration-color: #008000\">'O'</span>, <span style=\"color: #008000; text-decoration-color: #008000\">'O'</span>,    <span style=\"color: #7f7f7f; text-decoration-color: #7f7f7f\">               </span>\n",
       "<span style=\"color: #7fbfbf; text-decoration-color: #7fbfbf\">           </span>         <span style=\"color: #008000; text-decoration-color: #008000\">'O'</span>, <span style=\"color: #008000; text-decoration-color: #008000\">'O'</span>, <span style=\"color: #008000; text-decoration-color: #008000\">'O'</span>, <span style=\"color: #008000; text-decoration-color: #008000\">'O'</span>, <span style=\"color: #008000; text-decoration-color: #008000\">'O'</span>, <span style=\"color: #008000; text-decoration-color: #008000\">'O'</span>, <span style=\"color: #008000; text-decoration-color: #008000\">'O'</span>, <span style=\"color: #008000; text-decoration-color: #008000\">'O'</span>, <span style=\"color: #008000; text-decoration-color: #008000\">'O'</span>, <span style=\"color: #008000; text-decoration-color: #008000\">'O'</span>, <span style=\"color: #008000; text-decoration-color: #008000\">'O'</span>,    <span style=\"color: #7f7f7f; text-decoration-color: #7f7f7f\">               </span>\n",
       "<span style=\"color: #7fbfbf; text-decoration-color: #7fbfbf\">           </span>         <span style=\"color: #008000; text-decoration-color: #008000\">'O'</span>, <span style=\"color: #008000; text-decoration-color: #008000\">'O'</span>, <span style=\"color: #008000; text-decoration-color: #008000\">'O'</span>, <span style=\"color: #008000; text-decoration-color: #008000\">'O'</span>, <span style=\"color: #008000; text-decoration-color: #008000\">'O'</span>, <span style=\"color: #008000; text-decoration-color: #008000\">'O'</span>, <span style=\"color: #008000; text-decoration-color: #008000\">'O'</span>, <span style=\"color: #008000; text-decoration-color: #008000\">'O'</span>, <span style=\"color: #008000; text-decoration-color: #008000\">'O'</span>, <span style=\"color: #008000; text-decoration-color: #008000\">'O'</span>, <span style=\"color: #008000; text-decoration-color: #008000\">'O'</span>,    <span style=\"color: #7f7f7f; text-decoration-color: #7f7f7f\">               </span>\n",
       "<span style=\"color: #7fbfbf; text-decoration-color: #7fbfbf\">           </span>         <span style=\"color: #008000; text-decoration-color: #008000\">'O'</span>, <span style=\"color: #008000; text-decoration-color: #008000\">'O'</span>, <span style=\"color: #008000; text-decoration-color: #008000\">'O'</span><span style=\"font-weight: bold\">]</span>                                            <span style=\"color: #7f7f7f; text-decoration-color: #7f7f7f\">               </span>\n",
       "</pre>\n"
      ],
      "text/plain": [
       "\u001b[2;36m          \u001b[0m\u001b[2;36m \u001b[0m\u001b[34mINFO    \u001b[0m labels: \u001b[1m[\u001b[0m\u001b[32m'O'\u001b[0m, \u001b[32m'O'\u001b[0m, \u001b[32m'O'\u001b[0m, \u001b[32m'O'\u001b[0m, \u001b[32m'O'\u001b[0m, \u001b[32m'O'\u001b[0m, \u001b[32m'O'\u001b[0m, \u001b[32m'O'\u001b[0m, \u001b[32m'O'\u001b[0m,     \u001b]8;id=193085;file:///tmp/ipykernel_2969/236964521.py\u001b\\\u001b[2m236964521.py\u001b[0m\u001b]8;;\u001b\\\u001b[2m:\u001b[0m\u001b]8;id=621534;file:///tmp/ipykernel_2969/236964521.py#10\u001b\\\u001b[2m10\u001b[0m\u001b]8;;\u001b\\\n",
       "\u001b[2;36m           \u001b[0m         \u001b[32m'O'\u001b[0m, \u001b[32m'O'\u001b[0m, \u001b[32m'O'\u001b[0m, \u001b[32m'O'\u001b[0m, \u001b[32m'O'\u001b[0m, \u001b[32m'O'\u001b[0m, \u001b[32m'O'\u001b[0m, \u001b[32m'O'\u001b[0m, \u001b[32m'O'\u001b[0m, \u001b[32m'O'\u001b[0m, \u001b[32m'O'\u001b[0m,    \u001b[2m               \u001b[0m\n",
       "\u001b[2;36m           \u001b[0m         \u001b[32m'O'\u001b[0m, \u001b[32m'O'\u001b[0m, \u001b[32m'O'\u001b[0m, \u001b[32m'O'\u001b[0m, \u001b[32m'O'\u001b[0m, \u001b[32m'O'\u001b[0m, \u001b[32m'O'\u001b[0m, \u001b[32m'O'\u001b[0m, \u001b[32m'O'\u001b[0m, \u001b[32m'O'\u001b[0m, \u001b[32m'O'\u001b[0m,    \u001b[2m               \u001b[0m\n",
       "\u001b[2;36m           \u001b[0m         \u001b[32m'O'\u001b[0m, \u001b[32m'O'\u001b[0m, \u001b[32m'O'\u001b[0m, \u001b[32m'O'\u001b[0m, \u001b[32m'O'\u001b[0m, \u001b[32m'O'\u001b[0m, \u001b[32m'O'\u001b[0m, \u001b[32m'O'\u001b[0m, \u001b[32m'O'\u001b[0m, \u001b[32m'O'\u001b[0m, \u001b[32m'O'\u001b[0m,    \u001b[2m               \u001b[0m\n",
       "\u001b[2;36m           \u001b[0m         \u001b[32m'O'\u001b[0m, \u001b[32m'O'\u001b[0m, \u001b[32m'O'\u001b[0m, \u001b[32m'O'\u001b[0m, \u001b[32m'O'\u001b[0m, \u001b[32m'O'\u001b[0m, \u001b[32m'O'\u001b[0m, \u001b[32m'O'\u001b[0m, \u001b[32m'O'\u001b[0m, \u001b[32m'O'\u001b[0m, \u001b[32m'O'\u001b[0m,    \u001b[2m               \u001b[0m\n",
       "\u001b[2;36m           \u001b[0m         \u001b[32m'O'\u001b[0m, \u001b[32m'O'\u001b[0m, \u001b[32m'O'\u001b[0m, \u001b[32m'O'\u001b[0m, \u001b[32m'O'\u001b[0m, \u001b[32m'O'\u001b[0m, \u001b[32m'O'\u001b[0m, \u001b[32m'O'\u001b[0m, \u001b[32m'O'\u001b[0m, \u001b[32m'O'\u001b[0m, \u001b[32m'O'\u001b[0m,    \u001b[2m               \u001b[0m\n",
       "\u001b[2;36m           \u001b[0m         \u001b[32m'O'\u001b[0m, \u001b[32m'O'\u001b[0m, \u001b[32m'O'\u001b[0m, \u001b[32m'O'\u001b[0m, \u001b[32m'O'\u001b[0m, \u001b[32m'O'\u001b[0m, \u001b[32m'O'\u001b[0m, \u001b[32m'O'\u001b[0m, \u001b[32m'O'\u001b[0m, \u001b[32m'O'\u001b[0m, \u001b[32m'O'\u001b[0m,    \u001b[2m               \u001b[0m\n",
       "\u001b[2;36m           \u001b[0m         \u001b[32m'O'\u001b[0m, \u001b[32m'O'\u001b[0m, \u001b[32m'O'\u001b[0m, \u001b[32m'O'\u001b[0m, \u001b[32m'O'\u001b[0m, \u001b[32m'O'\u001b[0m, \u001b[32m'O'\u001b[0m, \u001b[32m'O'\u001b[0m, \u001b[32m'O'\u001b[0m, \u001b[32m'O'\u001b[0m, \u001b[32m'O'\u001b[0m,    \u001b[2m               \u001b[0m\n",
       "\u001b[2;36m           \u001b[0m         \u001b[32m'O'\u001b[0m, \u001b[32m'O'\u001b[0m, \u001b[32m'O'\u001b[0m\u001b[1m]\u001b[0m                                            \u001b[2m               \u001b[0m\n"
      ]
     },
     "metadata": {},
     "output_type": "display_data"
    },
    {
     "data": {
      "text/html": [
       "<pre style=\"white-space:pre;overflow-x:auto;line-height:normal;font-family:Menlo,'DejaVu Sans Mono',consolas,'Courier New',monospace\"><span style=\"color: #7fbfbf; text-decoration-color: #7fbfbf\">           </span><span style=\"color: #000080; text-decoration-color: #000080\">INFO    </span> target: <span style=\"font-weight: bold\">[</span><span style=\"color: #008000; text-decoration-color: #008000\">'O'</span>, <span style=\"color: #008000; text-decoration-color: #008000\">'O'</span>, <span style=\"color: #008000; text-decoration-color: #008000\">'O'</span>, <span style=\"color: #008000; text-decoration-color: #008000\">'O'</span>, <span style=\"color: #008000; text-decoration-color: #008000\">'O'</span>, <span style=\"color: #008000; text-decoration-color: #008000\">'O'</span>, <span style=\"color: #008000; text-decoration-color: #008000\">'O'</span>, <span style=\"color: #008000; text-decoration-color: #008000\">'O'</span>, <span style=\"color: #008000; text-decoration-color: #008000\">'O'</span>,     <a href=\"file:///tmp/ipykernel_2969/236964521.py\"><span style=\"color: #7f7f7f; text-decoration-color: #7f7f7f\">236964521.py</span></a><span style=\"color: #7f7f7f; text-decoration-color: #7f7f7f\">:</span><a href=\"file:///tmp/ipykernel_2969/236964521.py#11\"><span style=\"color: #7f7f7f; text-decoration-color: #7f7f7f\">11</span></a>\n",
       "<span style=\"color: #7fbfbf; text-decoration-color: #7fbfbf\">           </span>         <span style=\"color: #008000; text-decoration-color: #008000\">'O'</span>, <span style=\"color: #008000; text-decoration-color: #008000\">'O'</span>, <span style=\"color: #008000; text-decoration-color: #008000\">'O'</span>, <span style=\"color: #008000; text-decoration-color: #008000\">'O'</span>, <span style=\"color: #008000; text-decoration-color: #008000\">'O'</span>, <span style=\"color: #008000; text-decoration-color: #008000\">'O'</span>, <span style=\"color: #008000; text-decoration-color: #008000\">'O'</span>, <span style=\"color: #008000; text-decoration-color: #008000\">'O'</span>, <span style=\"color: #008000; text-decoration-color: #008000\">'O'</span>, <span style=\"color: #008000; text-decoration-color: #008000\">'O'</span>, <span style=\"color: #008000; text-decoration-color: #008000\">'O'</span>,    <span style=\"color: #7f7f7f; text-decoration-color: #7f7f7f\">               </span>\n",
       "<span style=\"color: #7fbfbf; text-decoration-color: #7fbfbf\">           </span>         <span style=\"color: #008000; text-decoration-color: #008000\">'O'</span>, <span style=\"color: #008000; text-decoration-color: #008000\">'O'</span>, <span style=\"color: #008000; text-decoration-color: #008000\">'O'</span>, <span style=\"color: #008000; text-decoration-color: #008000\">'O'</span>, <span style=\"color: #008000; text-decoration-color: #008000\">'O'</span>, <span style=\"color: #008000; text-decoration-color: #008000\">'O'</span>, <span style=\"color: #008000; text-decoration-color: #008000\">'O'</span>, <span style=\"color: #008000; text-decoration-color: #008000\">'O'</span>, <span style=\"color: #008000; text-decoration-color: #008000\">'O'</span>, <span style=\"color: #008000; text-decoration-color: #008000\">'O'</span>, <span style=\"color: #008000; text-decoration-color: #008000\">'O'</span>,    <span style=\"color: #7f7f7f; text-decoration-color: #7f7f7f\">               </span>\n",
       "<span style=\"color: #7fbfbf; text-decoration-color: #7fbfbf\">           </span>         <span style=\"color: #008000; text-decoration-color: #008000\">'O'</span>, <span style=\"color: #008000; text-decoration-color: #008000\">'O'</span>, <span style=\"color: #008000; text-decoration-color: #008000\">'O'</span>, <span style=\"color: #008000; text-decoration-color: #008000\">'O'</span>, <span style=\"color: #008000; text-decoration-color: #008000\">'O'</span>, <span style=\"color: #008000; text-decoration-color: #008000\">'O'</span>, <span style=\"color: #008000; text-decoration-color: #008000\">'O'</span>, <span style=\"color: #008000; text-decoration-color: #008000\">'O'</span>, <span style=\"color: #008000; text-decoration-color: #008000\">'O'</span>, <span style=\"color: #008000; text-decoration-color: #008000\">'O'</span>, <span style=\"color: #008000; text-decoration-color: #008000\">'O'</span>,    <span style=\"color: #7f7f7f; text-decoration-color: #7f7f7f\">               </span>\n",
       "<span style=\"color: #7fbfbf; text-decoration-color: #7fbfbf\">           </span>         <span style=\"color: #008000; text-decoration-color: #008000\">'O'</span>, <span style=\"color: #008000; text-decoration-color: #008000\">'O'</span>, <span style=\"color: #008000; text-decoration-color: #008000\">'O'</span>, <span style=\"color: #008000; text-decoration-color: #008000\">'O'</span>, <span style=\"color: #008000; text-decoration-color: #008000\">'O'</span>, <span style=\"color: #008000; text-decoration-color: #008000\">'O'</span>, <span style=\"color: #008000; text-decoration-color: #008000\">'O'</span>, <span style=\"color: #008000; text-decoration-color: #008000\">'O'</span>, <span style=\"color: #008000; text-decoration-color: #008000\">'O'</span>, <span style=\"color: #008000; text-decoration-color: #008000\">'O'</span>, <span style=\"color: #008000; text-decoration-color: #008000\">'O'</span>,    <span style=\"color: #7f7f7f; text-decoration-color: #7f7f7f\">               </span>\n",
       "<span style=\"color: #7fbfbf; text-decoration-color: #7fbfbf\">           </span>         <span style=\"color: #008000; text-decoration-color: #008000\">'O'</span>, <span style=\"color: #008000; text-decoration-color: #008000\">'O'</span>, <span style=\"color: #008000; text-decoration-color: #008000\">'O'</span>, <span style=\"color: #008000; text-decoration-color: #008000\">'O'</span>, <span style=\"color: #008000; text-decoration-color: #008000\">'O'</span>, <span style=\"color: #008000; text-decoration-color: #008000\">'O'</span>, <span style=\"color: #008000; text-decoration-color: #008000\">'O'</span>, <span style=\"color: #008000; text-decoration-color: #008000\">'O'</span>, <span style=\"color: #008000; text-decoration-color: #008000\">'O'</span>, <span style=\"color: #008000; text-decoration-color: #008000\">'O'</span>, <span style=\"color: #008000; text-decoration-color: #008000\">'O'</span>,    <span style=\"color: #7f7f7f; text-decoration-color: #7f7f7f\">               </span>\n",
       "<span style=\"color: #7fbfbf; text-decoration-color: #7fbfbf\">           </span>         <span style=\"color: #008000; text-decoration-color: #008000\">'O'</span>, <span style=\"color: #008000; text-decoration-color: #008000\">'O'</span>, <span style=\"color: #008000; text-decoration-color: #008000\">'O'</span>, <span style=\"color: #008000; text-decoration-color: #008000\">'O'</span>, <span style=\"color: #008000; text-decoration-color: #008000\">'O'</span>, <span style=\"color: #008000; text-decoration-color: #008000\">'O'</span>, <span style=\"color: #008000; text-decoration-color: #008000\">'O'</span>, <span style=\"color: #008000; text-decoration-color: #008000\">'O'</span>, <span style=\"color: #008000; text-decoration-color: #008000\">'O'</span>, <span style=\"color: #008000; text-decoration-color: #008000\">'O'</span>, <span style=\"color: #008000; text-decoration-color: #008000\">'O'</span>,    <span style=\"color: #7f7f7f; text-decoration-color: #7f7f7f\">               </span>\n",
       "<span style=\"color: #7fbfbf; text-decoration-color: #7fbfbf\">           </span>         <span style=\"color: #008000; text-decoration-color: #008000\">'O'</span>, <span style=\"color: #008000; text-decoration-color: #008000\">'O'</span>, <span style=\"color: #008000; text-decoration-color: #008000\">'O'</span>, <span style=\"color: #008000; text-decoration-color: #008000\">'O'</span>, <span style=\"color: #008000; text-decoration-color: #008000\">'O'</span>, <span style=\"color: #008000; text-decoration-color: #008000\">'O'</span>, <span style=\"color: #008000; text-decoration-color: #008000\">'O'</span>, <span style=\"color: #008000; text-decoration-color: #008000\">'O'</span>, <span style=\"color: #008000; text-decoration-color: #008000\">'O'</span>, <span style=\"color: #008000; text-decoration-color: #008000\">'O'</span>, <span style=\"color: #008000; text-decoration-color: #008000\">'O'</span>,    <span style=\"color: #7f7f7f; text-decoration-color: #7f7f7f\">               </span>\n",
       "<span style=\"color: #7fbfbf; text-decoration-color: #7fbfbf\">           </span>         <span style=\"color: #008000; text-decoration-color: #008000\">'O'</span>, <span style=\"color: #008000; text-decoration-color: #008000\">'O'</span>, <span style=\"color: #008000; text-decoration-color: #008000\">'O'</span><span style=\"font-weight: bold\">]</span>                                            <span style=\"color: #7f7f7f; text-decoration-color: #7f7f7f\">               </span>\n",
       "</pre>\n"
      ],
      "text/plain": [
       "\u001b[2;36m          \u001b[0m\u001b[2;36m \u001b[0m\u001b[34mINFO    \u001b[0m target: \u001b[1m[\u001b[0m\u001b[32m'O'\u001b[0m, \u001b[32m'O'\u001b[0m, \u001b[32m'O'\u001b[0m, \u001b[32m'O'\u001b[0m, \u001b[32m'O'\u001b[0m, \u001b[32m'O'\u001b[0m, \u001b[32m'O'\u001b[0m, \u001b[32m'O'\u001b[0m, \u001b[32m'O'\u001b[0m,     \u001b]8;id=935530;file:///tmp/ipykernel_2969/236964521.py\u001b\\\u001b[2m236964521.py\u001b[0m\u001b]8;;\u001b\\\u001b[2m:\u001b[0m\u001b]8;id=612834;file:///tmp/ipykernel_2969/236964521.py#11\u001b\\\u001b[2m11\u001b[0m\u001b]8;;\u001b\\\n",
       "\u001b[2;36m           \u001b[0m         \u001b[32m'O'\u001b[0m, \u001b[32m'O'\u001b[0m, \u001b[32m'O'\u001b[0m, \u001b[32m'O'\u001b[0m, \u001b[32m'O'\u001b[0m, \u001b[32m'O'\u001b[0m, \u001b[32m'O'\u001b[0m, \u001b[32m'O'\u001b[0m, \u001b[32m'O'\u001b[0m, \u001b[32m'O'\u001b[0m, \u001b[32m'O'\u001b[0m,    \u001b[2m               \u001b[0m\n",
       "\u001b[2;36m           \u001b[0m         \u001b[32m'O'\u001b[0m, \u001b[32m'O'\u001b[0m, \u001b[32m'O'\u001b[0m, \u001b[32m'O'\u001b[0m, \u001b[32m'O'\u001b[0m, \u001b[32m'O'\u001b[0m, \u001b[32m'O'\u001b[0m, \u001b[32m'O'\u001b[0m, \u001b[32m'O'\u001b[0m, \u001b[32m'O'\u001b[0m, \u001b[32m'O'\u001b[0m,    \u001b[2m               \u001b[0m\n",
       "\u001b[2;36m           \u001b[0m         \u001b[32m'O'\u001b[0m, \u001b[32m'O'\u001b[0m, \u001b[32m'O'\u001b[0m, \u001b[32m'O'\u001b[0m, \u001b[32m'O'\u001b[0m, \u001b[32m'O'\u001b[0m, \u001b[32m'O'\u001b[0m, \u001b[32m'O'\u001b[0m, \u001b[32m'O'\u001b[0m, \u001b[32m'O'\u001b[0m, \u001b[32m'O'\u001b[0m,    \u001b[2m               \u001b[0m\n",
       "\u001b[2;36m           \u001b[0m         \u001b[32m'O'\u001b[0m, \u001b[32m'O'\u001b[0m, \u001b[32m'O'\u001b[0m, \u001b[32m'O'\u001b[0m, \u001b[32m'O'\u001b[0m, \u001b[32m'O'\u001b[0m, \u001b[32m'O'\u001b[0m, \u001b[32m'O'\u001b[0m, \u001b[32m'O'\u001b[0m, \u001b[32m'O'\u001b[0m, \u001b[32m'O'\u001b[0m,    \u001b[2m               \u001b[0m\n",
       "\u001b[2;36m           \u001b[0m         \u001b[32m'O'\u001b[0m, \u001b[32m'O'\u001b[0m, \u001b[32m'O'\u001b[0m, \u001b[32m'O'\u001b[0m, \u001b[32m'O'\u001b[0m, \u001b[32m'O'\u001b[0m, \u001b[32m'O'\u001b[0m, \u001b[32m'O'\u001b[0m, \u001b[32m'O'\u001b[0m, \u001b[32m'O'\u001b[0m, \u001b[32m'O'\u001b[0m,    \u001b[2m               \u001b[0m\n",
       "\u001b[2;36m           \u001b[0m         \u001b[32m'O'\u001b[0m, \u001b[32m'O'\u001b[0m, \u001b[32m'O'\u001b[0m, \u001b[32m'O'\u001b[0m, \u001b[32m'O'\u001b[0m, \u001b[32m'O'\u001b[0m, \u001b[32m'O'\u001b[0m, \u001b[32m'O'\u001b[0m, \u001b[32m'O'\u001b[0m, \u001b[32m'O'\u001b[0m, \u001b[32m'O'\u001b[0m,    \u001b[2m               \u001b[0m\n",
       "\u001b[2;36m           \u001b[0m         \u001b[32m'O'\u001b[0m, \u001b[32m'O'\u001b[0m, \u001b[32m'O'\u001b[0m, \u001b[32m'O'\u001b[0m, \u001b[32m'O'\u001b[0m, \u001b[32m'O'\u001b[0m, \u001b[32m'O'\u001b[0m, \u001b[32m'O'\u001b[0m, \u001b[32m'O'\u001b[0m, \u001b[32m'O'\u001b[0m, \u001b[32m'O'\u001b[0m,    \u001b[2m               \u001b[0m\n",
       "\u001b[2;36m           \u001b[0m         \u001b[32m'O'\u001b[0m, \u001b[32m'O'\u001b[0m, \u001b[32m'O'\u001b[0m\u001b[1m]\u001b[0m                                            \u001b[2m               \u001b[0m\n"
      ]
     },
     "metadata": {},
     "output_type": "display_data"
    },
    {
     "data": {
      "text/html": [
       "<pre style=\"white-space:pre;overflow-x:auto;line-height:normal;font-family:Menlo,'DejaVu Sans Mono',consolas,'Courier New',monospace\"><span style=\"color: #7fbfbf; text-decoration-color: #7fbfbf\">           </span><span style=\"color: #000080; text-decoration-color: #000080\">INFO    </span> sentence: <span style=\"font-weight: bold\">[</span><span style=\"color: #008000; text-decoration-color: #008000\">'在'</span>, <span style=\"color: #008000; text-decoration-color: #008000\">'街'</span>, <span style=\"color: #008000; text-decoration-color: #008000\">'上'</span>, <span style=\"color: #008000; text-decoration-color: #008000\">'听'</span>, <span style=\"color: #008000; text-decoration-color: #008000\">'见'</span>, <span style=\"color: #008000; text-decoration-color: #008000\">'音'</span>, <span style=\"color: #008000; text-decoration-color: #008000\">'乐'</span>, <span style=\"color: #008000; text-decoration-color: #008000\">'我'</span>, <a href=\"file:///tmp/ipykernel_2969/236964521.py\"><span style=\"color: #7f7f7f; text-decoration-color: #7f7f7f\">236964521.py</span></a><span style=\"color: #7f7f7f; text-decoration-color: #7f7f7f\">:</span><a href=\"file:///tmp/ipykernel_2969/236964521.py#8\"><span style=\"color: #7f7f7f; text-decoration-color: #7f7f7f\">8</span></a>\n",
       "<span style=\"color: #7fbfbf; text-decoration-color: #7fbfbf\">           </span>         <span style=\"color: #008000; text-decoration-color: #008000\">'舞'</span>, <span style=\"color: #008000; text-decoration-color: #008000\">'动'</span>, <span style=\"color: #008000; text-decoration-color: #008000\">'起'</span>, <span style=\"color: #008000; text-decoration-color: #008000\">'来'</span>, <span style=\"color: #008000; text-decoration-color: #008000\">'很'</span>, <span style=\"color: #008000; text-decoration-color: #008000\">'丢'</span>, <span style=\"color: #008000; text-decoration-color: #008000\">'人'</span>, <span style=\"color: #008000; text-decoration-color: #008000\">'？'</span>, <span style=\"color: #008000; text-decoration-color: #008000\">'真'</span>,      <span style=\"color: #7f7f7f; text-decoration-color: #7f7f7f\">              </span>\n",
       "<span style=\"color: #7fbfbf; text-decoration-color: #7fbfbf\">           </span>         <span style=\"color: #008000; text-decoration-color: #008000\">'的'</span>, <span style=\"color: #008000; text-decoration-color: #008000\">'很'</span>, <span style=\"color: #008000; text-decoration-color: #008000\">'丢'</span>, <span style=\"color: #008000; text-decoration-color: #008000\">'人'</span>, <span style=\"color: #008000; text-decoration-color: #008000\">'吗'</span>, <span style=\"color: #008000; text-decoration-color: #008000\">'？'</span><span style=\"font-weight: bold\">]</span>                        <span style=\"color: #7f7f7f; text-decoration-color: #7f7f7f\">              </span>\n",
       "</pre>\n"
      ],
      "text/plain": [
       "\u001b[2;36m          \u001b[0m\u001b[2;36m \u001b[0m\u001b[34mINFO    \u001b[0m sentence: \u001b[1m[\u001b[0m\u001b[32m'在'\u001b[0m, \u001b[32m'街'\u001b[0m, \u001b[32m'上'\u001b[0m, \u001b[32m'听'\u001b[0m, \u001b[32m'见'\u001b[0m, \u001b[32m'音'\u001b[0m, \u001b[32m'乐'\u001b[0m, \u001b[32m'我'\u001b[0m, \u001b]8;id=41808;file:///tmp/ipykernel_2969/236964521.py\u001b\\\u001b[2m236964521.py\u001b[0m\u001b]8;;\u001b\\\u001b[2m:\u001b[0m\u001b]8;id=983770;file:///tmp/ipykernel_2969/236964521.py#8\u001b\\\u001b[2m8\u001b[0m\u001b]8;;\u001b\\\n",
       "\u001b[2;36m           \u001b[0m         \u001b[32m'舞'\u001b[0m, \u001b[32m'动'\u001b[0m, \u001b[32m'起'\u001b[0m, \u001b[32m'来'\u001b[0m, \u001b[32m'很'\u001b[0m, \u001b[32m'丢'\u001b[0m, \u001b[32m'人'\u001b[0m, \u001b[32m'？'\u001b[0m, \u001b[32m'真'\u001b[0m,      \u001b[2m              \u001b[0m\n",
       "\u001b[2;36m           \u001b[0m         \u001b[32m'的'\u001b[0m, \u001b[32m'很'\u001b[0m, \u001b[32m'丢'\u001b[0m, \u001b[32m'人'\u001b[0m, \u001b[32m'吗'\u001b[0m, \u001b[32m'？'\u001b[0m\u001b[1m]\u001b[0m                        \u001b[2m              \u001b[0m\n"
      ]
     },
     "metadata": {},
     "output_type": "display_data"
    },
    {
     "data": {
      "text/html": [
       "<pre style=\"white-space:pre;overflow-x:auto;line-height:normal;font-family:Menlo,'DejaVu Sans Mono',consolas,'Courier New',monospace\"><span style=\"color: #7fbfbf; text-decoration-color: #7fbfbf\">           </span><span style=\"color: #000080; text-decoration-color: #000080\">INFO    </span> labels: <span style=\"font-weight: bold\">[</span><span style=\"color: #008000; text-decoration-color: #008000\">'O'</span>, <span style=\"color: #008000; text-decoration-color: #008000\">'O'</span>, <span style=\"color: #008000; text-decoration-color: #008000\">'O'</span>, <span style=\"color: #008000; text-decoration-color: #008000\">'O'</span>, <span style=\"color: #008000; text-decoration-color: #008000\">'O'</span>, <span style=\"color: #008000; text-decoration-color: #008000\">'O'</span>, <span style=\"color: #008000; text-decoration-color: #008000\">'O'</span>, <span style=\"color: #008000; text-decoration-color: #008000\">'O'</span>, <span style=\"color: #008000; text-decoration-color: #008000\">'O'</span>,     <a href=\"file:///tmp/ipykernel_2969/236964521.py\"><span style=\"color: #7f7f7f; text-decoration-color: #7f7f7f\">236964521.py</span></a><span style=\"color: #7f7f7f; text-decoration-color: #7f7f7f\">:</span><a href=\"file:///tmp/ipykernel_2969/236964521.py#10\"><span style=\"color: #7f7f7f; text-decoration-color: #7f7f7f\">10</span></a>\n",
       "<span style=\"color: #7fbfbf; text-decoration-color: #7fbfbf\">           </span>         <span style=\"color: #008000; text-decoration-color: #008000\">'O'</span>, <span style=\"color: #008000; text-decoration-color: #008000\">'O'</span>, <span style=\"color: #008000; text-decoration-color: #008000\">'O'</span>, <span style=\"color: #008000; text-decoration-color: #008000\">'O'</span>, <span style=\"color: #008000; text-decoration-color: #008000\">'O'</span>, <span style=\"color: #008000; text-decoration-color: #008000\">'O'</span>, <span style=\"color: #008000; text-decoration-color: #008000\">'O'</span>, <span style=\"color: #008000; text-decoration-color: #008000\">'O'</span>, <span style=\"color: #008000; text-decoration-color: #008000\">'O'</span>, <span style=\"color: #008000; text-decoration-color: #008000\">'O'</span>, <span style=\"color: #008000; text-decoration-color: #008000\">'O'</span>,    <span style=\"color: #7f7f7f; text-decoration-color: #7f7f7f\">               </span>\n",
       "<span style=\"color: #7fbfbf; text-decoration-color: #7fbfbf\">           </span>         <span style=\"color: #008000; text-decoration-color: #008000\">'O'</span>, <span style=\"color: #008000; text-decoration-color: #008000\">'O'</span>, <span style=\"color: #008000; text-decoration-color: #008000\">'O'</span><span style=\"font-weight: bold\">]</span>                                            <span style=\"color: #7f7f7f; text-decoration-color: #7f7f7f\">               </span>\n",
       "</pre>\n"
      ],
      "text/plain": [
       "\u001b[2;36m          \u001b[0m\u001b[2;36m \u001b[0m\u001b[34mINFO    \u001b[0m labels: \u001b[1m[\u001b[0m\u001b[32m'O'\u001b[0m, \u001b[32m'O'\u001b[0m, \u001b[32m'O'\u001b[0m, \u001b[32m'O'\u001b[0m, \u001b[32m'O'\u001b[0m, \u001b[32m'O'\u001b[0m, \u001b[32m'O'\u001b[0m, \u001b[32m'O'\u001b[0m, \u001b[32m'O'\u001b[0m,     \u001b]8;id=112699;file:///tmp/ipykernel_2969/236964521.py\u001b\\\u001b[2m236964521.py\u001b[0m\u001b]8;;\u001b\\\u001b[2m:\u001b[0m\u001b]8;id=499563;file:///tmp/ipykernel_2969/236964521.py#10\u001b\\\u001b[2m10\u001b[0m\u001b]8;;\u001b\\\n",
       "\u001b[2;36m           \u001b[0m         \u001b[32m'O'\u001b[0m, \u001b[32m'O'\u001b[0m, \u001b[32m'O'\u001b[0m, \u001b[32m'O'\u001b[0m, \u001b[32m'O'\u001b[0m, \u001b[32m'O'\u001b[0m, \u001b[32m'O'\u001b[0m, \u001b[32m'O'\u001b[0m, \u001b[32m'O'\u001b[0m, \u001b[32m'O'\u001b[0m, \u001b[32m'O'\u001b[0m,    \u001b[2m               \u001b[0m\n",
       "\u001b[2;36m           \u001b[0m         \u001b[32m'O'\u001b[0m, \u001b[32m'O'\u001b[0m, \u001b[32m'O'\u001b[0m\u001b[1m]\u001b[0m                                            \u001b[2m               \u001b[0m\n"
      ]
     },
     "metadata": {},
     "output_type": "display_data"
    },
    {
     "data": {
      "text/html": [
       "<pre style=\"white-space:pre;overflow-x:auto;line-height:normal;font-family:Menlo,'DejaVu Sans Mono',consolas,'Courier New',monospace\"><span style=\"color: #7fbfbf; text-decoration-color: #7fbfbf\">           </span><span style=\"color: #000080; text-decoration-color: #000080\">INFO    </span> target: <span style=\"font-weight: bold\">[</span><span style=\"color: #008000; text-decoration-color: #008000\">'O'</span>, <span style=\"color: #008000; text-decoration-color: #008000\">'O'</span>, <span style=\"color: #008000; text-decoration-color: #008000\">'O'</span>, <span style=\"color: #008000; text-decoration-color: #008000\">'O'</span>, <span style=\"color: #008000; text-decoration-color: #008000\">'O'</span>, <span style=\"color: #008000; text-decoration-color: #008000\">'O'</span>, <span style=\"color: #008000; text-decoration-color: #008000\">'O'</span>, <span style=\"color: #008000; text-decoration-color: #008000\">'O'</span>, <span style=\"color: #008000; text-decoration-color: #008000\">'O'</span>,     <a href=\"file:///tmp/ipykernel_2969/236964521.py\"><span style=\"color: #7f7f7f; text-decoration-color: #7f7f7f\">236964521.py</span></a><span style=\"color: #7f7f7f; text-decoration-color: #7f7f7f\">:</span><a href=\"file:///tmp/ipykernel_2969/236964521.py#11\"><span style=\"color: #7f7f7f; text-decoration-color: #7f7f7f\">11</span></a>\n",
       "<span style=\"color: #7fbfbf; text-decoration-color: #7fbfbf\">           </span>         <span style=\"color: #008000; text-decoration-color: #008000\">'O'</span>, <span style=\"color: #008000; text-decoration-color: #008000\">'O'</span>, <span style=\"color: #008000; text-decoration-color: #008000\">'O'</span>, <span style=\"color: #008000; text-decoration-color: #008000\">'O'</span>, <span style=\"color: #008000; text-decoration-color: #008000\">'O'</span>, <span style=\"color: #008000; text-decoration-color: #008000\">'O'</span>, <span style=\"color: #008000; text-decoration-color: #008000\">'O'</span>, <span style=\"color: #008000; text-decoration-color: #008000\">'O'</span>, <span style=\"color: #008000; text-decoration-color: #008000\">'O'</span>, <span style=\"color: #008000; text-decoration-color: #008000\">'O'</span>, <span style=\"color: #008000; text-decoration-color: #008000\">'O'</span>,    <span style=\"color: #7f7f7f; text-decoration-color: #7f7f7f\">               </span>\n",
       "<span style=\"color: #7fbfbf; text-decoration-color: #7fbfbf\">           </span>         <span style=\"color: #008000; text-decoration-color: #008000\">'O'</span>, <span style=\"color: #008000; text-decoration-color: #008000\">'O'</span>, <span style=\"color: #008000; text-decoration-color: #008000\">'O'</span><span style=\"font-weight: bold\">]</span>                                            <span style=\"color: #7f7f7f; text-decoration-color: #7f7f7f\">               </span>\n",
       "</pre>\n"
      ],
      "text/plain": [
       "\u001b[2;36m          \u001b[0m\u001b[2;36m \u001b[0m\u001b[34mINFO    \u001b[0m target: \u001b[1m[\u001b[0m\u001b[32m'O'\u001b[0m, \u001b[32m'O'\u001b[0m, \u001b[32m'O'\u001b[0m, \u001b[32m'O'\u001b[0m, \u001b[32m'O'\u001b[0m, \u001b[32m'O'\u001b[0m, \u001b[32m'O'\u001b[0m, \u001b[32m'O'\u001b[0m, \u001b[32m'O'\u001b[0m,     \u001b]8;id=484703;file:///tmp/ipykernel_2969/236964521.py\u001b\\\u001b[2m236964521.py\u001b[0m\u001b]8;;\u001b\\\u001b[2m:\u001b[0m\u001b]8;id=895396;file:///tmp/ipykernel_2969/236964521.py#11\u001b\\\u001b[2m11\u001b[0m\u001b]8;;\u001b\\\n",
       "\u001b[2;36m           \u001b[0m         \u001b[32m'O'\u001b[0m, \u001b[32m'O'\u001b[0m, \u001b[32m'O'\u001b[0m, \u001b[32m'O'\u001b[0m, \u001b[32m'O'\u001b[0m, \u001b[32m'O'\u001b[0m, \u001b[32m'O'\u001b[0m, \u001b[32m'O'\u001b[0m, \u001b[32m'O'\u001b[0m, \u001b[32m'O'\u001b[0m, \u001b[32m'O'\u001b[0m,    \u001b[2m               \u001b[0m\n",
       "\u001b[2;36m           \u001b[0m         \u001b[32m'O'\u001b[0m, \u001b[32m'O'\u001b[0m, \u001b[32m'O'\u001b[0m\u001b[1m]\u001b[0m                                            \u001b[2m               \u001b[0m\n"
      ]
     },
     "metadata": {},
     "output_type": "display_data"
    },
    {
     "data": {
      "text/html": [
       "<pre style=\"white-space:pre;overflow-x:auto;line-height:normal;font-family:Menlo,'DejaVu Sans Mono',consolas,'Courier New',monospace\"><span style=\"color: #7fbfbf; text-decoration-color: #7fbfbf\">           </span><span style=\"color: #000080; text-decoration-color: #000080\">INFO    </span> sentence: <span style=\"font-weight: bold\">[</span><span style=\"color: #008000; text-decoration-color: #008000\">'三'</span>, <span style=\"color: #008000; text-decoration-color: #008000\">'毛'</span>, <span style=\"color: #008000; text-decoration-color: #008000\">'说'</span>, <span style=\"color: #008000; text-decoration-color: #008000\">'我'</span>, <span style=\"color: #008000; text-decoration-color: #008000\">'唯'</span>, <span style=\"color: #008000; text-decoration-color: #008000\">'一'</span>, <span style=\"color: #008000; text-decoration-color: #008000\">'锲'</span>, <span style=\"color: #008000; text-decoration-color: #008000\">'而'</span>, <a href=\"file:///tmp/ipykernel_2969/236964521.py\"><span style=\"color: #7f7f7f; text-decoration-color: #7f7f7f\">236964521.py</span></a><span style=\"color: #7f7f7f; text-decoration-color: #7f7f7f\">:</span><a href=\"file:///tmp/ipykernel_2969/236964521.py#8\"><span style=\"color: #7f7f7f; text-decoration-color: #7f7f7f\">8</span></a>\n",
       "<span style=\"color: #7fbfbf; text-decoration-color: #7fbfbf\">           </span>         <span style=\"color: #008000; text-decoration-color: #008000\">'不'</span>, <span style=\"color: #008000; text-decoration-color: #008000\">'舍'</span>, <span style=\"color: #008000; text-decoration-color: #008000\">'，'</span>, <span style=\"color: #008000; text-decoration-color: #008000\">'愿'</span>, <span style=\"color: #008000; text-decoration-color: #008000\">'意'</span>, <span style=\"color: #008000; text-decoration-color: #008000\">'以'</span>, <span style=\"color: #008000; text-decoration-color: #008000\">'自'</span>, <span style=\"color: #008000; text-decoration-color: #008000\">'己'</span>, <span style=\"color: #008000; text-decoration-color: #008000\">'的'</span>,      <span style=\"color: #7f7f7f; text-decoration-color: #7f7f7f\">              </span>\n",
       "<span style=\"color: #7fbfbf; text-decoration-color: #7fbfbf\">           </span>         <span style=\"color: #008000; text-decoration-color: #008000\">'生'</span>, <span style=\"color: #008000; text-decoration-color: #008000\">'命'</span>, <span style=\"color: #008000; text-decoration-color: #008000\">'去'</span>, <span style=\"color: #008000; text-decoration-color: #008000\">'努'</span>, <span style=\"color: #008000; text-decoration-color: #008000\">'力'</span>, <span style=\"color: #008000; text-decoration-color: #008000\">'的'</span>, <span style=\"color: #008000; text-decoration-color: #008000\">'，'</span>, <span style=\"color: #008000; text-decoration-color: #008000\">'只'</span>, <span style=\"color: #008000; text-decoration-color: #008000\">'不'</span>,      <span style=\"color: #7f7f7f; text-decoration-color: #7f7f7f\">              </span>\n",
       "<span style=\"color: #7fbfbf; text-decoration-color: #7fbfbf\">           </span>         <span style=\"color: #008000; text-decoration-color: #008000\">'过'</span>, <span style=\"color: #008000; text-decoration-color: #008000\">'是'</span>, <span style=\"color: #008000; text-decoration-color: #008000\">'保'</span>, <span style=\"color: #008000; text-decoration-color: #008000\">'守'</span>, <span style=\"color: #008000; text-decoration-color: #008000\">'我'</span>, <span style=\"color: #008000; text-decoration-color: #008000\">'个'</span>, <span style=\"color: #008000; text-decoration-color: #008000\">'人'</span>, <span style=\"color: #008000; text-decoration-color: #008000\">'的'</span>, <span style=\"color: #008000; text-decoration-color: #008000\">'心'</span>,      <span style=\"color: #7f7f7f; text-decoration-color: #7f7f7f\">              </span>\n",
       "<span style=\"color: #7fbfbf; text-decoration-color: #7fbfbf\">           </span>         <span style=\"color: #008000; text-decoration-color: #008000\">'怀'</span>, <span style=\"color: #008000; text-decoration-color: #008000\">'意'</span>, <span style=\"color: #008000; text-decoration-color: #008000\">'念'</span>, <span style=\"color: #008000; text-decoration-color: #008000\">'，'</span>, <span style=\"color: #008000; text-decoration-color: #008000\">'在'</span>, <span style=\"color: #008000; text-decoration-color: #008000\">'我'</span>, <span style=\"color: #008000; text-decoration-color: #008000\">'有'</span>, <span style=\"color: #008000; text-decoration-color: #008000\">'生'</span>, <span style=\"color: #008000; text-decoration-color: #008000\">'之'</span>,      <span style=\"color: #7f7f7f; text-decoration-color: #7f7f7f\">              </span>\n",
       "<span style=\"color: #7fbfbf; text-decoration-color: #7fbfbf\">           </span>         <span style=\"color: #008000; text-decoration-color: #008000\">'日'</span>, <span style=\"color: #008000; text-decoration-color: #008000\">'，'</span>, <span style=\"color: #008000; text-decoration-color: #008000\">'做'</span>, <span style=\"color: #008000; text-decoration-color: #008000\">'一'</span>, <span style=\"color: #008000; text-decoration-color: #008000\">'个'</span>, <span style=\"color: #008000; text-decoration-color: #008000\">'真'</span>, <span style=\"color: #008000; text-decoration-color: #008000\">'诚'</span>, <span style=\"color: #008000; text-decoration-color: #008000\">'的'</span>, <span style=\"color: #008000; text-decoration-color: #008000\">'人'</span>,      <span style=\"color: #7f7f7f; text-decoration-color: #7f7f7f\">              </span>\n",
       "<span style=\"color: #7fbfbf; text-decoration-color: #7fbfbf\">           </span>         <span style=\"color: #008000; text-decoration-color: #008000\">'，'</span>, <span style=\"color: #008000; text-decoration-color: #008000\">'不'</span>, <span style=\"color: #008000; text-decoration-color: #008000\">'放'</span>, <span style=\"color: #008000; text-decoration-color: #008000\">'弃'</span>, <span style=\"color: #008000; text-decoration-color: #008000\">'对'</span>, <span style=\"color: #008000; text-decoration-color: #008000\">'生'</span>, <span style=\"color: #008000; text-decoration-color: #008000\">'活'</span>, <span style=\"color: #008000; text-decoration-color: #008000\">'的'</span>, <span style=\"color: #008000; text-decoration-color: #008000\">'热'</span>,      <span style=\"color: #7f7f7f; text-decoration-color: #7f7f7f\">              </span>\n",
       "<span style=\"color: #7fbfbf; text-decoration-color: #7fbfbf\">           </span>         <span style=\"color: #008000; text-decoration-color: #008000\">'爱'</span>, <span style=\"color: #008000; text-decoration-color: #008000\">'和'</span>, <span style=\"color: #008000; text-decoration-color: #008000\">'执'</span>, <span style=\"color: #008000; text-decoration-color: #008000\">'着'</span>, <span style=\"color: #008000; text-decoration-color: #008000\">'，'</span>, <span style=\"color: #008000; text-decoration-color: #008000\">'在'</span>, <span style=\"color: #008000; text-decoration-color: #008000\">'有'</span>, <span style=\"color: #008000; text-decoration-color: #008000\">'限'</span>, <span style=\"color: #008000; text-decoration-color: #008000\">'的'</span>,      <span style=\"color: #7f7f7f; text-decoration-color: #7f7f7f\">              </span>\n",
       "<span style=\"color: #7fbfbf; text-decoration-color: #7fbfbf\">           </span>         <span style=\"color: #008000; text-decoration-color: #008000\">'时'</span>, <span style=\"color: #008000; text-decoration-color: #008000\">'空'</span>, <span style=\"color: #008000; text-decoration-color: #008000\">'里'</span>, <span style=\"color: #008000; text-decoration-color: #008000\">'，'</span>, <span style=\"color: #008000; text-decoration-color: #008000\">'过'</span>, <span style=\"color: #008000; text-decoration-color: #008000\">'无'</span>, <span style=\"color: #008000; text-decoration-color: #008000\">'限'</span>, <span style=\"color: #008000; text-decoration-color: #008000\">'广'</span><span style=\"font-weight: bold\">]</span>            <span style=\"color: #7f7f7f; text-decoration-color: #7f7f7f\">              </span>\n",
       "</pre>\n"
      ],
      "text/plain": [
       "\u001b[2;36m          \u001b[0m\u001b[2;36m \u001b[0m\u001b[34mINFO    \u001b[0m sentence: \u001b[1m[\u001b[0m\u001b[32m'三'\u001b[0m, \u001b[32m'毛'\u001b[0m, \u001b[32m'说'\u001b[0m, \u001b[32m'我'\u001b[0m, \u001b[32m'唯'\u001b[0m, \u001b[32m'一'\u001b[0m, \u001b[32m'锲'\u001b[0m, \u001b[32m'而'\u001b[0m, \u001b]8;id=717035;file:///tmp/ipykernel_2969/236964521.py\u001b\\\u001b[2m236964521.py\u001b[0m\u001b]8;;\u001b\\\u001b[2m:\u001b[0m\u001b]8;id=393338;file:///tmp/ipykernel_2969/236964521.py#8\u001b\\\u001b[2m8\u001b[0m\u001b]8;;\u001b\\\n",
       "\u001b[2;36m           \u001b[0m         \u001b[32m'不'\u001b[0m, \u001b[32m'舍'\u001b[0m, \u001b[32m'，'\u001b[0m, \u001b[32m'愿'\u001b[0m, \u001b[32m'意'\u001b[0m, \u001b[32m'以'\u001b[0m, \u001b[32m'自'\u001b[0m, \u001b[32m'己'\u001b[0m, \u001b[32m'的'\u001b[0m,      \u001b[2m              \u001b[0m\n",
       "\u001b[2;36m           \u001b[0m         \u001b[32m'生'\u001b[0m, \u001b[32m'命'\u001b[0m, \u001b[32m'去'\u001b[0m, \u001b[32m'努'\u001b[0m, \u001b[32m'力'\u001b[0m, \u001b[32m'的'\u001b[0m, \u001b[32m'，'\u001b[0m, \u001b[32m'只'\u001b[0m, \u001b[32m'不'\u001b[0m,      \u001b[2m              \u001b[0m\n",
       "\u001b[2;36m           \u001b[0m         \u001b[32m'过'\u001b[0m, \u001b[32m'是'\u001b[0m, \u001b[32m'保'\u001b[0m, \u001b[32m'守'\u001b[0m, \u001b[32m'我'\u001b[0m, \u001b[32m'个'\u001b[0m, \u001b[32m'人'\u001b[0m, \u001b[32m'的'\u001b[0m, \u001b[32m'心'\u001b[0m,      \u001b[2m              \u001b[0m\n",
       "\u001b[2;36m           \u001b[0m         \u001b[32m'怀'\u001b[0m, \u001b[32m'意'\u001b[0m, \u001b[32m'念'\u001b[0m, \u001b[32m'，'\u001b[0m, \u001b[32m'在'\u001b[0m, \u001b[32m'我'\u001b[0m, \u001b[32m'有'\u001b[0m, \u001b[32m'生'\u001b[0m, \u001b[32m'之'\u001b[0m,      \u001b[2m              \u001b[0m\n",
       "\u001b[2;36m           \u001b[0m         \u001b[32m'日'\u001b[0m, \u001b[32m'，'\u001b[0m, \u001b[32m'做'\u001b[0m, \u001b[32m'一'\u001b[0m, \u001b[32m'个'\u001b[0m, \u001b[32m'真'\u001b[0m, \u001b[32m'诚'\u001b[0m, \u001b[32m'的'\u001b[0m, \u001b[32m'人'\u001b[0m,      \u001b[2m              \u001b[0m\n",
       "\u001b[2;36m           \u001b[0m         \u001b[32m'，'\u001b[0m, \u001b[32m'不'\u001b[0m, \u001b[32m'放'\u001b[0m, \u001b[32m'弃'\u001b[0m, \u001b[32m'对'\u001b[0m, \u001b[32m'生'\u001b[0m, \u001b[32m'活'\u001b[0m, \u001b[32m'的'\u001b[0m, \u001b[32m'热'\u001b[0m,      \u001b[2m              \u001b[0m\n",
       "\u001b[2;36m           \u001b[0m         \u001b[32m'爱'\u001b[0m, \u001b[32m'和'\u001b[0m, \u001b[32m'执'\u001b[0m, \u001b[32m'着'\u001b[0m, \u001b[32m'，'\u001b[0m, \u001b[32m'在'\u001b[0m, \u001b[32m'有'\u001b[0m, \u001b[32m'限'\u001b[0m, \u001b[32m'的'\u001b[0m,      \u001b[2m              \u001b[0m\n",
       "\u001b[2;36m           \u001b[0m         \u001b[32m'时'\u001b[0m, \u001b[32m'空'\u001b[0m, \u001b[32m'里'\u001b[0m, \u001b[32m'，'\u001b[0m, \u001b[32m'过'\u001b[0m, \u001b[32m'无'\u001b[0m, \u001b[32m'限'\u001b[0m, \u001b[32m'广'\u001b[0m\u001b[1m]\u001b[0m            \u001b[2m              \u001b[0m\n"
      ]
     },
     "metadata": {},
     "output_type": "display_data"
    },
    {
     "data": {
      "text/html": [
       "<pre style=\"white-space:pre;overflow-x:auto;line-height:normal;font-family:Menlo,'DejaVu Sans Mono',consolas,'Courier New',monospace\"><span style=\"color: #7fbfbf; text-decoration-color: #7fbfbf\">           </span><span style=\"color: #000080; text-decoration-color: #000080\">INFO    </span> labels: <span style=\"font-weight: bold\">[</span><span style=\"color: #008000; text-decoration-color: #008000\">'O'</span>, <span style=\"color: #008000; text-decoration-color: #008000\">'O'</span>, <span style=\"color: #008000; text-decoration-color: #008000\">'O'</span>, <span style=\"color: #008000; text-decoration-color: #008000\">'O'</span>, <span style=\"color: #008000; text-decoration-color: #008000\">'O'</span>, <span style=\"color: #008000; text-decoration-color: #008000\">'O'</span>, <span style=\"color: #008000; text-decoration-color: #008000\">'O'</span>, <span style=\"color: #008000; text-decoration-color: #008000\">'O'</span>, <span style=\"color: #008000; text-decoration-color: #008000\">'O'</span>,     <a href=\"file:///tmp/ipykernel_2969/236964521.py\"><span style=\"color: #7f7f7f; text-decoration-color: #7f7f7f\">236964521.py</span></a><span style=\"color: #7f7f7f; text-decoration-color: #7f7f7f\">:</span><a href=\"file:///tmp/ipykernel_2969/236964521.py#10\"><span style=\"color: #7f7f7f; text-decoration-color: #7f7f7f\">10</span></a>\n",
       "<span style=\"color: #7fbfbf; text-decoration-color: #7fbfbf\">           </span>         <span style=\"color: #008000; text-decoration-color: #008000\">'O'</span>, <span style=\"color: #008000; text-decoration-color: #008000\">'O'</span>, <span style=\"color: #008000; text-decoration-color: #008000\">'O'</span>, <span style=\"color: #008000; text-decoration-color: #008000\">'O'</span>, <span style=\"color: #008000; text-decoration-color: #008000\">'O'</span>, <span style=\"color: #008000; text-decoration-color: #008000\">'O'</span>, <span style=\"color: #008000; text-decoration-color: #008000\">'O'</span>, <span style=\"color: #008000; text-decoration-color: #008000\">'O'</span>, <span style=\"color: #008000; text-decoration-color: #008000\">'O'</span>, <span style=\"color: #008000; text-decoration-color: #008000\">'O'</span>, <span style=\"color: #008000; text-decoration-color: #008000\">'O'</span>,    <span style=\"color: #7f7f7f; text-decoration-color: #7f7f7f\">               </span>\n",
       "<span style=\"color: #7fbfbf; text-decoration-color: #7fbfbf\">           </span>         <span style=\"color: #008000; text-decoration-color: #008000\">'O'</span>, <span style=\"color: #008000; text-decoration-color: #008000\">'O'</span>, <span style=\"color: #008000; text-decoration-color: #008000\">'O'</span>, <span style=\"color: #008000; text-decoration-color: #008000\">'O'</span>, <span style=\"color: #008000; text-decoration-color: #008000\">'O'</span>, <span style=\"color: #008000; text-decoration-color: #008000\">'O'</span>, <span style=\"color: #008000; text-decoration-color: #008000\">'O'</span>, <span style=\"color: #008000; text-decoration-color: #008000\">'O'</span>, <span style=\"color: #008000; text-decoration-color: #008000\">'O'</span>, <span style=\"color: #008000; text-decoration-color: #008000\">'O'</span>, <span style=\"color: #008000; text-decoration-color: #008000\">'O'</span>,    <span style=\"color: #7f7f7f; text-decoration-color: #7f7f7f\">               </span>\n",
       "<span style=\"color: #7fbfbf; text-decoration-color: #7fbfbf\">           </span>         <span style=\"color: #008000; text-decoration-color: #008000\">'O'</span>, <span style=\"color: #008000; text-decoration-color: #008000\">'O'</span>, <span style=\"color: #008000; text-decoration-color: #008000\">'O'</span>, <span style=\"color: #008000; text-decoration-color: #008000\">'O'</span>, <span style=\"color: #008000; text-decoration-color: #008000\">'O'</span>, <span style=\"color: #008000; text-decoration-color: #008000\">'O'</span>, <span style=\"color: #008000; text-decoration-color: #008000\">'O'</span>, <span style=\"color: #008000; text-decoration-color: #008000\">'O'</span>, <span style=\"color: #008000; text-decoration-color: #008000\">'O'</span>, <span style=\"color: #008000; text-decoration-color: #008000\">'O'</span>, <span style=\"color: #008000; text-decoration-color: #008000\">'O'</span>,    <span style=\"color: #7f7f7f; text-decoration-color: #7f7f7f\">               </span>\n",
       "<span style=\"color: #7fbfbf; text-decoration-color: #7fbfbf\">           </span>         <span style=\"color: #008000; text-decoration-color: #008000\">'O'</span>, <span style=\"color: #008000; text-decoration-color: #008000\">'O'</span>, <span style=\"color: #008000; text-decoration-color: #008000\">'O'</span>, <span style=\"color: #008000; text-decoration-color: #008000\">'O'</span>, <span style=\"color: #008000; text-decoration-color: #008000\">'O'</span>, <span style=\"color: #008000; text-decoration-color: #008000\">'O'</span>, <span style=\"color: #008000; text-decoration-color: #008000\">'O'</span>, <span style=\"color: #008000; text-decoration-color: #008000\">'O'</span>, <span style=\"color: #008000; text-decoration-color: #008000\">'O'</span>, <span style=\"color: #008000; text-decoration-color: #008000\">'O'</span>, <span style=\"color: #008000; text-decoration-color: #008000\">'O'</span>,    <span style=\"color: #7f7f7f; text-decoration-color: #7f7f7f\">               </span>\n",
       "<span style=\"color: #7fbfbf; text-decoration-color: #7fbfbf\">           </span>         <span style=\"color: #008000; text-decoration-color: #008000\">'O'</span>, <span style=\"color: #008000; text-decoration-color: #008000\">'O'</span>, <span style=\"color: #008000; text-decoration-color: #008000\">'O'</span>, <span style=\"color: #008000; text-decoration-color: #008000\">'O'</span>, <span style=\"color: #008000; text-decoration-color: #008000\">'O'</span>, <span style=\"color: #008000; text-decoration-color: #008000\">'O'</span>, <span style=\"color: #008000; text-decoration-color: #008000\">'O'</span>, <span style=\"color: #008000; text-decoration-color: #008000\">'O'</span>, <span style=\"color: #008000; text-decoration-color: #008000\">'O'</span>, <span style=\"color: #008000; text-decoration-color: #008000\">'O'</span>, <span style=\"color: #008000; text-decoration-color: #008000\">'O'</span>,    <span style=\"color: #7f7f7f; text-decoration-color: #7f7f7f\">               </span>\n",
       "<span style=\"color: #7fbfbf; text-decoration-color: #7fbfbf\">           </span>         <span style=\"color: #008000; text-decoration-color: #008000\">'O'</span>, <span style=\"color: #008000; text-decoration-color: #008000\">'O'</span>, <span style=\"color: #008000; text-decoration-color: #008000\">'O'</span>, <span style=\"color: #008000; text-decoration-color: #008000\">'O'</span>, <span style=\"color: #008000; text-decoration-color: #008000\">'O'</span>, <span style=\"color: #008000; text-decoration-color: #008000\">'O'</span>, <span style=\"color: #008000; text-decoration-color: #008000\">'O'</span>, <span style=\"color: #008000; text-decoration-color: #008000\">'O'</span>, <span style=\"color: #008000; text-decoration-color: #008000\">'O'</span>, <span style=\"color: #008000; text-decoration-color: #008000\">'O'</span>, <span style=\"color: #008000; text-decoration-color: #008000\">'O'</span>,    <span style=\"color: #7f7f7f; text-decoration-color: #7f7f7f\">               </span>\n",
       "<span style=\"color: #7fbfbf; text-decoration-color: #7fbfbf\">           </span>         <span style=\"color: #008000; text-decoration-color: #008000\">'O'</span>, <span style=\"color: #008000; text-decoration-color: #008000\">'O'</span>, <span style=\"color: #008000; text-decoration-color: #008000\">'O'</span>, <span style=\"color: #008000; text-decoration-color: #008000\">'O'</span><span style=\"font-weight: bold\">]</span>                                       <span style=\"color: #7f7f7f; text-decoration-color: #7f7f7f\">               </span>\n",
       "</pre>\n"
      ],
      "text/plain": [
       "\u001b[2;36m          \u001b[0m\u001b[2;36m \u001b[0m\u001b[34mINFO    \u001b[0m labels: \u001b[1m[\u001b[0m\u001b[32m'O'\u001b[0m, \u001b[32m'O'\u001b[0m, \u001b[32m'O'\u001b[0m, \u001b[32m'O'\u001b[0m, \u001b[32m'O'\u001b[0m, \u001b[32m'O'\u001b[0m, \u001b[32m'O'\u001b[0m, \u001b[32m'O'\u001b[0m, \u001b[32m'O'\u001b[0m,     \u001b]8;id=951614;file:///tmp/ipykernel_2969/236964521.py\u001b\\\u001b[2m236964521.py\u001b[0m\u001b]8;;\u001b\\\u001b[2m:\u001b[0m\u001b]8;id=522528;file:///tmp/ipykernel_2969/236964521.py#10\u001b\\\u001b[2m10\u001b[0m\u001b]8;;\u001b\\\n",
       "\u001b[2;36m           \u001b[0m         \u001b[32m'O'\u001b[0m, \u001b[32m'O'\u001b[0m, \u001b[32m'O'\u001b[0m, \u001b[32m'O'\u001b[0m, \u001b[32m'O'\u001b[0m, \u001b[32m'O'\u001b[0m, \u001b[32m'O'\u001b[0m, \u001b[32m'O'\u001b[0m, \u001b[32m'O'\u001b[0m, \u001b[32m'O'\u001b[0m, \u001b[32m'O'\u001b[0m,    \u001b[2m               \u001b[0m\n",
       "\u001b[2;36m           \u001b[0m         \u001b[32m'O'\u001b[0m, \u001b[32m'O'\u001b[0m, \u001b[32m'O'\u001b[0m, \u001b[32m'O'\u001b[0m, \u001b[32m'O'\u001b[0m, \u001b[32m'O'\u001b[0m, \u001b[32m'O'\u001b[0m, \u001b[32m'O'\u001b[0m, \u001b[32m'O'\u001b[0m, \u001b[32m'O'\u001b[0m, \u001b[32m'O'\u001b[0m,    \u001b[2m               \u001b[0m\n",
       "\u001b[2;36m           \u001b[0m         \u001b[32m'O'\u001b[0m, \u001b[32m'O'\u001b[0m, \u001b[32m'O'\u001b[0m, \u001b[32m'O'\u001b[0m, \u001b[32m'O'\u001b[0m, \u001b[32m'O'\u001b[0m, \u001b[32m'O'\u001b[0m, \u001b[32m'O'\u001b[0m, \u001b[32m'O'\u001b[0m, \u001b[32m'O'\u001b[0m, \u001b[32m'O'\u001b[0m,    \u001b[2m               \u001b[0m\n",
       "\u001b[2;36m           \u001b[0m         \u001b[32m'O'\u001b[0m, \u001b[32m'O'\u001b[0m, \u001b[32m'O'\u001b[0m, \u001b[32m'O'\u001b[0m, \u001b[32m'O'\u001b[0m, \u001b[32m'O'\u001b[0m, \u001b[32m'O'\u001b[0m, \u001b[32m'O'\u001b[0m, \u001b[32m'O'\u001b[0m, \u001b[32m'O'\u001b[0m, \u001b[32m'O'\u001b[0m,    \u001b[2m               \u001b[0m\n",
       "\u001b[2;36m           \u001b[0m         \u001b[32m'O'\u001b[0m, \u001b[32m'O'\u001b[0m, \u001b[32m'O'\u001b[0m, \u001b[32m'O'\u001b[0m, \u001b[32m'O'\u001b[0m, \u001b[32m'O'\u001b[0m, \u001b[32m'O'\u001b[0m, \u001b[32m'O'\u001b[0m, \u001b[32m'O'\u001b[0m, \u001b[32m'O'\u001b[0m, \u001b[32m'O'\u001b[0m,    \u001b[2m               \u001b[0m\n",
       "\u001b[2;36m           \u001b[0m         \u001b[32m'O'\u001b[0m, \u001b[32m'O'\u001b[0m, \u001b[32m'O'\u001b[0m, \u001b[32m'O'\u001b[0m, \u001b[32m'O'\u001b[0m, \u001b[32m'O'\u001b[0m, \u001b[32m'O'\u001b[0m, \u001b[32m'O'\u001b[0m, \u001b[32m'O'\u001b[0m, \u001b[32m'O'\u001b[0m, \u001b[32m'O'\u001b[0m,    \u001b[2m               \u001b[0m\n",
       "\u001b[2;36m           \u001b[0m         \u001b[32m'O'\u001b[0m, \u001b[32m'O'\u001b[0m, \u001b[32m'O'\u001b[0m, \u001b[32m'O'\u001b[0m\u001b[1m]\u001b[0m                                       \u001b[2m               \u001b[0m\n"
      ]
     },
     "metadata": {},
     "output_type": "display_data"
    },
    {
     "data": {
      "text/html": [
       "<pre style=\"white-space:pre;overflow-x:auto;line-height:normal;font-family:Menlo,'DejaVu Sans Mono',consolas,'Courier New',monospace\"><span style=\"color: #7fbfbf; text-decoration-color: #7fbfbf\">           </span><span style=\"color: #000080; text-decoration-color: #000080\">INFO    </span> target: <span style=\"font-weight: bold\">[</span><span style=\"color: #008000; text-decoration-color: #008000\">'B-PER.NAM'</span>, <span style=\"color: #008000; text-decoration-color: #008000\">'I-PER.NAM'</span>, <span style=\"color: #008000; text-decoration-color: #008000\">'O'</span>, <span style=\"color: #008000; text-decoration-color: #008000\">'O'</span>, <span style=\"color: #008000; text-decoration-color: #008000\">'O'</span>, <span style=\"color: #008000; text-decoration-color: #008000\">'O'</span>,    <a href=\"file:///tmp/ipykernel_2969/236964521.py\"><span style=\"color: #7f7f7f; text-decoration-color: #7f7f7f\">236964521.py</span></a><span style=\"color: #7f7f7f; text-decoration-color: #7f7f7f\">:</span><a href=\"file:///tmp/ipykernel_2969/236964521.py#11\"><span style=\"color: #7f7f7f; text-decoration-color: #7f7f7f\">11</span></a>\n",
       "<span style=\"color: #7fbfbf; text-decoration-color: #7fbfbf\">           </span>         <span style=\"color: #008000; text-decoration-color: #008000\">'O'</span>, <span style=\"color: #008000; text-decoration-color: #008000\">'O'</span>, <span style=\"color: #008000; text-decoration-color: #008000\">'O'</span>, <span style=\"color: #008000; text-decoration-color: #008000\">'O'</span>, <span style=\"color: #008000; text-decoration-color: #008000\">'O'</span>, <span style=\"color: #008000; text-decoration-color: #008000\">'O'</span>, <span style=\"color: #008000; text-decoration-color: #008000\">'O'</span>, <span style=\"color: #008000; text-decoration-color: #008000\">'O'</span>, <span style=\"color: #008000; text-decoration-color: #008000\">'O'</span>, <span style=\"color: #008000; text-decoration-color: #008000\">'O'</span>, <span style=\"color: #008000; text-decoration-color: #008000\">'O'</span>,    <span style=\"color: #7f7f7f; text-decoration-color: #7f7f7f\">               </span>\n",
       "<span style=\"color: #7fbfbf; text-decoration-color: #7fbfbf\">           </span>         <span style=\"color: #008000; text-decoration-color: #008000\">'O'</span>, <span style=\"color: #008000; text-decoration-color: #008000\">'O'</span>, <span style=\"color: #008000; text-decoration-color: #008000\">'O'</span>, <span style=\"color: #008000; text-decoration-color: #008000\">'O'</span>, <span style=\"color: #008000; text-decoration-color: #008000\">'O'</span>, <span style=\"color: #008000; text-decoration-color: #008000\">'O'</span>, <span style=\"color: #008000; text-decoration-color: #008000\">'O'</span>, <span style=\"color: #008000; text-decoration-color: #008000\">'O'</span>, <span style=\"color: #008000; text-decoration-color: #008000\">'O'</span>, <span style=\"color: #008000; text-decoration-color: #008000\">'O'</span>, <span style=\"color: #008000; text-decoration-color: #008000\">'O'</span>,    <span style=\"color: #7f7f7f; text-decoration-color: #7f7f7f\">               </span>\n",
       "<span style=\"color: #7fbfbf; text-decoration-color: #7fbfbf\">           </span>         <span style=\"color: #008000; text-decoration-color: #008000\">'O'</span>, <span style=\"color: #008000; text-decoration-color: #008000\">'O'</span>, <span style=\"color: #008000; text-decoration-color: #008000\">'O'</span>, <span style=\"color: #008000; text-decoration-color: #008000\">'O'</span>, <span style=\"color: #008000; text-decoration-color: #008000\">'O'</span>, <span style=\"color: #008000; text-decoration-color: #008000\">'O'</span>, <span style=\"color: #008000; text-decoration-color: #008000\">'O'</span>, <span style=\"color: #008000; text-decoration-color: #008000\">'O'</span>, <span style=\"color: #008000; text-decoration-color: #008000\">'O'</span>, <span style=\"color: #008000; text-decoration-color: #008000\">'O'</span>, <span style=\"color: #008000; text-decoration-color: #008000\">'O'</span>,    <span style=\"color: #7f7f7f; text-decoration-color: #7f7f7f\">               </span>\n",
       "<span style=\"color: #7fbfbf; text-decoration-color: #7fbfbf\">           </span>         <span style=\"color: #008000; text-decoration-color: #008000\">'O'</span>, <span style=\"color: #008000; text-decoration-color: #008000\">'O'</span>, <span style=\"color: #008000; text-decoration-color: #008000\">'O'</span>, <span style=\"color: #008000; text-decoration-color: #008000\">'O'</span>, <span style=\"color: #008000; text-decoration-color: #008000\">'O'</span>, <span style=\"color: #008000; text-decoration-color: #008000\">'O'</span>, <span style=\"color: #008000; text-decoration-color: #008000\">'O'</span>, <span style=\"color: #008000; text-decoration-color: #008000\">'O'</span>, <span style=\"color: #008000; text-decoration-color: #008000\">'O'</span>, <span style=\"color: #008000; text-decoration-color: #008000\">'O'</span>, <span style=\"color: #008000; text-decoration-color: #008000\">'O'</span>,    <span style=\"color: #7f7f7f; text-decoration-color: #7f7f7f\">               </span>\n",
       "<span style=\"color: #7fbfbf; text-decoration-color: #7fbfbf\">           </span>         <span style=\"color: #008000; text-decoration-color: #008000\">'O'</span>, <span style=\"color: #008000; text-decoration-color: #008000\">'O'</span>, <span style=\"color: #008000; text-decoration-color: #008000\">'O'</span>, <span style=\"color: #008000; text-decoration-color: #008000\">'O'</span>, <span style=\"color: #008000; text-decoration-color: #008000\">'O'</span>, <span style=\"color: #008000; text-decoration-color: #008000\">'O'</span>, <span style=\"color: #008000; text-decoration-color: #008000\">'O'</span>, <span style=\"color: #008000; text-decoration-color: #008000\">'O'</span>, <span style=\"color: #008000; text-decoration-color: #008000\">'O'</span>, <span style=\"color: #008000; text-decoration-color: #008000\">'O'</span>, <span style=\"color: #008000; text-decoration-color: #008000\">'O'</span>,    <span style=\"color: #7f7f7f; text-decoration-color: #7f7f7f\">               </span>\n",
       "<span style=\"color: #7fbfbf; text-decoration-color: #7fbfbf\">           </span>         <span style=\"color: #008000; text-decoration-color: #008000\">'O'</span>, <span style=\"color: #008000; text-decoration-color: #008000\">'O'</span>, <span style=\"color: #008000; text-decoration-color: #008000\">'O'</span>, <span style=\"color: #008000; text-decoration-color: #008000\">'O'</span>, <span style=\"color: #008000; text-decoration-color: #008000\">'O'</span>, <span style=\"color: #008000; text-decoration-color: #008000\">'O'</span>, <span style=\"color: #008000; text-decoration-color: #008000\">'O'</span>, <span style=\"color: #008000; text-decoration-color: #008000\">'O'</span>, <span style=\"color: #008000; text-decoration-color: #008000\">'O'</span>, <span style=\"color: #008000; text-decoration-color: #008000\">'O'</span>, <span style=\"color: #008000; text-decoration-color: #008000\">'O'</span>,    <span style=\"color: #7f7f7f; text-decoration-color: #7f7f7f\">               </span>\n",
       "<span style=\"color: #7fbfbf; text-decoration-color: #7fbfbf\">           </span>         <span style=\"color: #008000; text-decoration-color: #008000\">'O'</span>, <span style=\"color: #008000; text-decoration-color: #008000\">'O'</span>, <span style=\"color: #008000; text-decoration-color: #008000\">'O'</span>, <span style=\"color: #008000; text-decoration-color: #008000\">'O'</span>, <span style=\"color: #008000; text-decoration-color: #008000\">'O'</span>, <span style=\"color: #008000; text-decoration-color: #008000\">'O'</span>, <span style=\"color: #008000; text-decoration-color: #008000\">'O'</span><span style=\"font-weight: bold\">]</span>                        <span style=\"color: #7f7f7f; text-decoration-color: #7f7f7f\">               </span>\n",
       "</pre>\n"
      ],
      "text/plain": [
       "\u001b[2;36m          \u001b[0m\u001b[2;36m \u001b[0m\u001b[34mINFO    \u001b[0m target: \u001b[1m[\u001b[0m\u001b[32m'B-PER.NAM'\u001b[0m, \u001b[32m'I-PER.NAM'\u001b[0m, \u001b[32m'O'\u001b[0m, \u001b[32m'O'\u001b[0m, \u001b[32m'O'\u001b[0m, \u001b[32m'O'\u001b[0m,    \u001b]8;id=467865;file:///tmp/ipykernel_2969/236964521.py\u001b\\\u001b[2m236964521.py\u001b[0m\u001b]8;;\u001b\\\u001b[2m:\u001b[0m\u001b]8;id=595418;file:///tmp/ipykernel_2969/236964521.py#11\u001b\\\u001b[2m11\u001b[0m\u001b]8;;\u001b\\\n",
       "\u001b[2;36m           \u001b[0m         \u001b[32m'O'\u001b[0m, \u001b[32m'O'\u001b[0m, \u001b[32m'O'\u001b[0m, \u001b[32m'O'\u001b[0m, \u001b[32m'O'\u001b[0m, \u001b[32m'O'\u001b[0m, \u001b[32m'O'\u001b[0m, \u001b[32m'O'\u001b[0m, \u001b[32m'O'\u001b[0m, \u001b[32m'O'\u001b[0m, \u001b[32m'O'\u001b[0m,    \u001b[2m               \u001b[0m\n",
       "\u001b[2;36m           \u001b[0m         \u001b[32m'O'\u001b[0m, \u001b[32m'O'\u001b[0m, \u001b[32m'O'\u001b[0m, \u001b[32m'O'\u001b[0m, \u001b[32m'O'\u001b[0m, \u001b[32m'O'\u001b[0m, \u001b[32m'O'\u001b[0m, \u001b[32m'O'\u001b[0m, \u001b[32m'O'\u001b[0m, \u001b[32m'O'\u001b[0m, \u001b[32m'O'\u001b[0m,    \u001b[2m               \u001b[0m\n",
       "\u001b[2;36m           \u001b[0m         \u001b[32m'O'\u001b[0m, \u001b[32m'O'\u001b[0m, \u001b[32m'O'\u001b[0m, \u001b[32m'O'\u001b[0m, \u001b[32m'O'\u001b[0m, \u001b[32m'O'\u001b[0m, \u001b[32m'O'\u001b[0m, \u001b[32m'O'\u001b[0m, \u001b[32m'O'\u001b[0m, \u001b[32m'O'\u001b[0m, \u001b[32m'O'\u001b[0m,    \u001b[2m               \u001b[0m\n",
       "\u001b[2;36m           \u001b[0m         \u001b[32m'O'\u001b[0m, \u001b[32m'O'\u001b[0m, \u001b[32m'O'\u001b[0m, \u001b[32m'O'\u001b[0m, \u001b[32m'O'\u001b[0m, \u001b[32m'O'\u001b[0m, \u001b[32m'O'\u001b[0m, \u001b[32m'O'\u001b[0m, \u001b[32m'O'\u001b[0m, \u001b[32m'O'\u001b[0m, \u001b[32m'O'\u001b[0m,    \u001b[2m               \u001b[0m\n",
       "\u001b[2;36m           \u001b[0m         \u001b[32m'O'\u001b[0m, \u001b[32m'O'\u001b[0m, \u001b[32m'O'\u001b[0m, \u001b[32m'O'\u001b[0m, \u001b[32m'O'\u001b[0m, \u001b[32m'O'\u001b[0m, \u001b[32m'O'\u001b[0m, \u001b[32m'O'\u001b[0m, \u001b[32m'O'\u001b[0m, \u001b[32m'O'\u001b[0m, \u001b[32m'O'\u001b[0m,    \u001b[2m               \u001b[0m\n",
       "\u001b[2;36m           \u001b[0m         \u001b[32m'O'\u001b[0m, \u001b[32m'O'\u001b[0m, \u001b[32m'O'\u001b[0m, \u001b[32m'O'\u001b[0m, \u001b[32m'O'\u001b[0m, \u001b[32m'O'\u001b[0m, \u001b[32m'O'\u001b[0m, \u001b[32m'O'\u001b[0m, \u001b[32m'O'\u001b[0m, \u001b[32m'O'\u001b[0m, \u001b[32m'O'\u001b[0m,    \u001b[2m               \u001b[0m\n",
       "\u001b[2;36m           \u001b[0m         \u001b[32m'O'\u001b[0m, \u001b[32m'O'\u001b[0m, \u001b[32m'O'\u001b[0m, \u001b[32m'O'\u001b[0m, \u001b[32m'O'\u001b[0m, \u001b[32m'O'\u001b[0m, \u001b[32m'O'\u001b[0m\u001b[1m]\u001b[0m                        \u001b[2m               \u001b[0m\n"
      ]
     },
     "metadata": {},
     "output_type": "display_data"
    },
    {
     "data": {
      "text/html": [
       "<pre style=\"white-space:pre;overflow-x:auto;line-height:normal;font-family:Menlo,'DejaVu Sans Mono',consolas,'Courier New',monospace\"><span style=\"color: #7fbfbf; text-decoration-color: #7fbfbf\">           </span><span style=\"color: #000080; text-decoration-color: #000080\">INFO    </span> sentence: <span style=\"font-weight: bold\">[</span><span style=\"color: #008000; text-decoration-color: #008000\">'星'</span>, <span style=\"color: #008000; text-decoration-color: #008000\">'期'</span>, <span style=\"color: #008000; text-decoration-color: #008000\">'天'</span>, <span style=\"color: #008000; text-decoration-color: #008000\">'的'</span>, <span style=\"color: #008000; text-decoration-color: #008000\">'早'</span>, <span style=\"color: #008000; text-decoration-color: #008000\">'晨'</span>, <span style=\"color: #008000; text-decoration-color: #008000\">'七'</span>, <span style=\"color: #008000; text-decoration-color: #008000\">'点'</span>, <a href=\"file:///tmp/ipykernel_2969/236964521.py\"><span style=\"color: #7f7f7f; text-decoration-color: #7f7f7f\">236964521.py</span></a><span style=\"color: #7f7f7f; text-decoration-color: #7f7f7f\">:</span><a href=\"file:///tmp/ipykernel_2969/236964521.py#8\"><span style=\"color: #7f7f7f; text-decoration-color: #7f7f7f\">8</span></a>\n",
       "<span style=\"color: #7fbfbf; text-decoration-color: #7fbfbf\">           </span>         <span style=\"color: #008000; text-decoration-color: #008000\">'学'</span>, <span style=\"color: #008000; text-decoration-color: #008000\">'车'</span>, <span style=\"color: #008000; text-decoration-color: #008000\">'，'</span>, <span style=\"color: #008000; text-decoration-color: #008000\">'驾'</span>, <span style=\"color: #008000; text-decoration-color: #008000\">'校'</span>, <span style=\"color: #008000; text-decoration-color: #008000\">'太'</span>, <span style=\"color: #008000; text-decoration-color: #008000\">'给'</span>, <span style=\"color: #008000; text-decoration-color: #008000\">'力'</span>, <span style=\"color: #008000; text-decoration-color: #008000\">'。'</span>,      <span style=\"color: #7f7f7f; text-decoration-color: #7f7f7f\">              </span>\n",
       "<span style=\"color: #7fbfbf; text-decoration-color: #7fbfbf\">           </span>         <span style=\"color: #008000; text-decoration-color: #008000\">'我'</span>, <span style=\"color: #008000; text-decoration-color: #008000\">'的'</span>, <span style=\"color: #008000; text-decoration-color: #008000\">'头'</span>, <span style=\"color: #008000; text-decoration-color: #008000\">'发'</span>, <span style=\"color: #008000; text-decoration-color: #008000\">'都'</span>, <span style=\"color: #008000; text-decoration-color: #008000\">'没'</span>, <span style=\"color: #008000; text-decoration-color: #008000\">'有'</span>, <span style=\"color: #008000; text-decoration-color: #008000\">'洗'</span><span style=\"font-weight: bold\">]</span>            <span style=\"color: #7f7f7f; text-decoration-color: #7f7f7f\">              </span>\n",
       "</pre>\n"
      ],
      "text/plain": [
       "\u001b[2;36m          \u001b[0m\u001b[2;36m \u001b[0m\u001b[34mINFO    \u001b[0m sentence: \u001b[1m[\u001b[0m\u001b[32m'星'\u001b[0m, \u001b[32m'期'\u001b[0m, \u001b[32m'天'\u001b[0m, \u001b[32m'的'\u001b[0m, \u001b[32m'早'\u001b[0m, \u001b[32m'晨'\u001b[0m, \u001b[32m'七'\u001b[0m, \u001b[32m'点'\u001b[0m, \u001b]8;id=630983;file:///tmp/ipykernel_2969/236964521.py\u001b\\\u001b[2m236964521.py\u001b[0m\u001b]8;;\u001b\\\u001b[2m:\u001b[0m\u001b]8;id=933664;file:///tmp/ipykernel_2969/236964521.py#8\u001b\\\u001b[2m8\u001b[0m\u001b]8;;\u001b\\\n",
       "\u001b[2;36m           \u001b[0m         \u001b[32m'学'\u001b[0m, \u001b[32m'车'\u001b[0m, \u001b[32m'，'\u001b[0m, \u001b[32m'驾'\u001b[0m, \u001b[32m'校'\u001b[0m, \u001b[32m'太'\u001b[0m, \u001b[32m'给'\u001b[0m, \u001b[32m'力'\u001b[0m, \u001b[32m'。'\u001b[0m,      \u001b[2m              \u001b[0m\n",
       "\u001b[2;36m           \u001b[0m         \u001b[32m'我'\u001b[0m, \u001b[32m'的'\u001b[0m, \u001b[32m'头'\u001b[0m, \u001b[32m'发'\u001b[0m, \u001b[32m'都'\u001b[0m, \u001b[32m'没'\u001b[0m, \u001b[32m'有'\u001b[0m, \u001b[32m'洗'\u001b[0m\u001b[1m]\u001b[0m            \u001b[2m              \u001b[0m\n"
      ]
     },
     "metadata": {},
     "output_type": "display_data"
    },
    {
     "data": {
      "text/html": [
       "<pre style=\"white-space:pre;overflow-x:auto;line-height:normal;font-family:Menlo,'DejaVu Sans Mono',consolas,'Courier New',monospace\"><span style=\"color: #7fbfbf; text-decoration-color: #7fbfbf\">           </span><span style=\"color: #000080; text-decoration-color: #000080\">INFO    </span> labels: <span style=\"font-weight: bold\">[</span><span style=\"color: #008000; text-decoration-color: #008000\">'O'</span>, <span style=\"color: #008000; text-decoration-color: #008000\">'O'</span>, <span style=\"color: #008000; text-decoration-color: #008000\">'O'</span>, <span style=\"color: #008000; text-decoration-color: #008000\">'O'</span>, <span style=\"color: #008000; text-decoration-color: #008000\">'O'</span>, <span style=\"color: #008000; text-decoration-color: #008000\">'O'</span>, <span style=\"color: #008000; text-decoration-color: #008000\">'O'</span>, <span style=\"color: #008000; text-decoration-color: #008000\">'O'</span>, <span style=\"color: #008000; text-decoration-color: #008000\">'O'</span>,     <a href=\"file:///tmp/ipykernel_2969/236964521.py\"><span style=\"color: #7f7f7f; text-decoration-color: #7f7f7f\">236964521.py</span></a><span style=\"color: #7f7f7f; text-decoration-color: #7f7f7f\">:</span><a href=\"file:///tmp/ipykernel_2969/236964521.py#10\"><span style=\"color: #7f7f7f; text-decoration-color: #7f7f7f\">10</span></a>\n",
       "<span style=\"color: #7fbfbf; text-decoration-color: #7fbfbf\">           </span>         <span style=\"color: #008000; text-decoration-color: #008000\">'O'</span>, <span style=\"color: #008000; text-decoration-color: #008000\">'O'</span>, <span style=\"color: #008000; text-decoration-color: #008000\">'O'</span>, <span style=\"color: #008000; text-decoration-color: #008000\">'O'</span>, <span style=\"color: #008000; text-decoration-color: #008000\">'O'</span>, <span style=\"color: #008000; text-decoration-color: #008000\">'O'</span>, <span style=\"color: #008000; text-decoration-color: #008000\">'O'</span>, <span style=\"color: #008000; text-decoration-color: #008000\">'O'</span>, <span style=\"color: #008000; text-decoration-color: #008000\">'O'</span>, <span style=\"color: #008000; text-decoration-color: #008000\">'O'</span>, <span style=\"color: #008000; text-decoration-color: #008000\">'O'</span>,    <span style=\"color: #7f7f7f; text-decoration-color: #7f7f7f\">               </span>\n",
       "<span style=\"color: #7fbfbf; text-decoration-color: #7fbfbf\">           </span>         <span style=\"color: #008000; text-decoration-color: #008000\">'O'</span>, <span style=\"color: #008000; text-decoration-color: #008000\">'O'</span>, <span style=\"color: #008000; text-decoration-color: #008000\">'O'</span>, <span style=\"color: #008000; text-decoration-color: #008000\">'O'</span>, <span style=\"color: #008000; text-decoration-color: #008000\">'O'</span><span style=\"font-weight: bold\">]</span>                                  <span style=\"color: #7f7f7f; text-decoration-color: #7f7f7f\">               </span>\n",
       "</pre>\n"
      ],
      "text/plain": [
       "\u001b[2;36m          \u001b[0m\u001b[2;36m \u001b[0m\u001b[34mINFO    \u001b[0m labels: \u001b[1m[\u001b[0m\u001b[32m'O'\u001b[0m, \u001b[32m'O'\u001b[0m, \u001b[32m'O'\u001b[0m, \u001b[32m'O'\u001b[0m, \u001b[32m'O'\u001b[0m, \u001b[32m'O'\u001b[0m, \u001b[32m'O'\u001b[0m, \u001b[32m'O'\u001b[0m, \u001b[32m'O'\u001b[0m,     \u001b]8;id=6001;file:///tmp/ipykernel_2969/236964521.py\u001b\\\u001b[2m236964521.py\u001b[0m\u001b]8;;\u001b\\\u001b[2m:\u001b[0m\u001b]8;id=79170;file:///tmp/ipykernel_2969/236964521.py#10\u001b\\\u001b[2m10\u001b[0m\u001b]8;;\u001b\\\n",
       "\u001b[2;36m           \u001b[0m         \u001b[32m'O'\u001b[0m, \u001b[32m'O'\u001b[0m, \u001b[32m'O'\u001b[0m, \u001b[32m'O'\u001b[0m, \u001b[32m'O'\u001b[0m, \u001b[32m'O'\u001b[0m, \u001b[32m'O'\u001b[0m, \u001b[32m'O'\u001b[0m, \u001b[32m'O'\u001b[0m, \u001b[32m'O'\u001b[0m, \u001b[32m'O'\u001b[0m,    \u001b[2m               \u001b[0m\n",
       "\u001b[2;36m           \u001b[0m         \u001b[32m'O'\u001b[0m, \u001b[32m'O'\u001b[0m, \u001b[32m'O'\u001b[0m, \u001b[32m'O'\u001b[0m, \u001b[32m'O'\u001b[0m\u001b[1m]\u001b[0m                                  \u001b[2m               \u001b[0m\n"
      ]
     },
     "metadata": {},
     "output_type": "display_data"
    },
    {
     "data": {
      "text/html": [
       "<pre style=\"white-space:pre;overflow-x:auto;line-height:normal;font-family:Menlo,'DejaVu Sans Mono',consolas,'Courier New',monospace\"><span style=\"color: #7fbfbf; text-decoration-color: #7fbfbf\">           </span><span style=\"color: #000080; text-decoration-color: #000080\">INFO    </span> target: <span style=\"font-weight: bold\">[</span><span style=\"color: #008000; text-decoration-color: #008000\">'O'</span>, <span style=\"color: #008000; text-decoration-color: #008000\">'O'</span>, <span style=\"color: #008000; text-decoration-color: #008000\">'O'</span>, <span style=\"color: #008000; text-decoration-color: #008000\">'O'</span>, <span style=\"color: #008000; text-decoration-color: #008000\">'O'</span>, <span style=\"color: #008000; text-decoration-color: #008000\">'O'</span>, <span style=\"color: #008000; text-decoration-color: #008000\">'O'</span>, <span style=\"color: #008000; text-decoration-color: #008000\">'O'</span>, <span style=\"color: #008000; text-decoration-color: #008000\">'O'</span>,     <a href=\"file:///tmp/ipykernel_2969/236964521.py\"><span style=\"color: #7f7f7f; text-decoration-color: #7f7f7f\">236964521.py</span></a><span style=\"color: #7f7f7f; text-decoration-color: #7f7f7f\">:</span><a href=\"file:///tmp/ipykernel_2969/236964521.py#11\"><span style=\"color: #7f7f7f; text-decoration-color: #7f7f7f\">11</span></a>\n",
       "<span style=\"color: #7fbfbf; text-decoration-color: #7fbfbf\">           </span>         <span style=\"color: #008000; text-decoration-color: #008000\">'O'</span>, <span style=\"color: #008000; text-decoration-color: #008000\">'O'</span>, <span style=\"color: #008000; text-decoration-color: #008000\">'B-LOC.NOM'</span>, <span style=\"color: #008000; text-decoration-color: #008000\">'I-LOC.NOM'</span>, <span style=\"color: #008000; text-decoration-color: #008000\">'O'</span>, <span style=\"color: #008000; text-decoration-color: #008000\">'O'</span>, <span style=\"color: #008000; text-decoration-color: #008000\">'O'</span>, <span style=\"color: #008000; text-decoration-color: #008000\">'O'</span>,   <span style=\"color: #7f7f7f; text-decoration-color: #7f7f7f\">               </span>\n",
       "<span style=\"color: #7fbfbf; text-decoration-color: #7fbfbf\">           </span>         <span style=\"color: #008000; text-decoration-color: #008000\">'O'</span>, <span style=\"color: #008000; text-decoration-color: #008000\">'O'</span>, <span style=\"color: #008000; text-decoration-color: #008000\">'O'</span>, <span style=\"color: #008000; text-decoration-color: #008000\">'O'</span>, <span style=\"color: #008000; text-decoration-color: #008000\">'O'</span>, <span style=\"color: #008000; text-decoration-color: #008000\">'O'</span>, <span style=\"color: #008000; text-decoration-color: #008000\">'O'</span>, <span style=\"color: #008000; text-decoration-color: #008000\">'O'</span><span style=\"font-weight: bold\">]</span>                   <span style=\"color: #7f7f7f; text-decoration-color: #7f7f7f\">               </span>\n",
       "</pre>\n"
      ],
      "text/plain": [
       "\u001b[2;36m          \u001b[0m\u001b[2;36m \u001b[0m\u001b[34mINFO    \u001b[0m target: \u001b[1m[\u001b[0m\u001b[32m'O'\u001b[0m, \u001b[32m'O'\u001b[0m, \u001b[32m'O'\u001b[0m, \u001b[32m'O'\u001b[0m, \u001b[32m'O'\u001b[0m, \u001b[32m'O'\u001b[0m, \u001b[32m'O'\u001b[0m, \u001b[32m'O'\u001b[0m, \u001b[32m'O'\u001b[0m,     \u001b]8;id=193084;file:///tmp/ipykernel_2969/236964521.py\u001b\\\u001b[2m236964521.py\u001b[0m\u001b]8;;\u001b\\\u001b[2m:\u001b[0m\u001b]8;id=543002;file:///tmp/ipykernel_2969/236964521.py#11\u001b\\\u001b[2m11\u001b[0m\u001b]8;;\u001b\\\n",
       "\u001b[2;36m           \u001b[0m         \u001b[32m'O'\u001b[0m, \u001b[32m'O'\u001b[0m, \u001b[32m'B-LOC.NOM'\u001b[0m, \u001b[32m'I-LOC.NOM'\u001b[0m, \u001b[32m'O'\u001b[0m, \u001b[32m'O'\u001b[0m, \u001b[32m'O'\u001b[0m, \u001b[32m'O'\u001b[0m,   \u001b[2m               \u001b[0m\n",
       "\u001b[2;36m           \u001b[0m         \u001b[32m'O'\u001b[0m, \u001b[32m'O'\u001b[0m, \u001b[32m'O'\u001b[0m, \u001b[32m'O'\u001b[0m, \u001b[32m'O'\u001b[0m, \u001b[32m'O'\u001b[0m, \u001b[32m'O'\u001b[0m, \u001b[32m'O'\u001b[0m\u001b[1m]\u001b[0m                   \u001b[2m               \u001b[0m\n"
      ]
     },
     "metadata": {},
     "output_type": "display_data"
    },
    {
     "data": {
      "text/html": [
       "<pre style=\"white-space:pre;overflow-x:auto;line-height:normal;font-family:Menlo,'DejaVu Sans Mono',consolas,'Courier New',monospace\"><span style=\"color: #7fbfbf; text-decoration-color: #7fbfbf\">           </span><span style=\"color: #000080; text-decoration-color: #000080\">INFO    </span> sentence: <span style=\"font-weight: bold\">[</span><span style=\"color: #008000; text-decoration-color: #008000\">'发'</span>, <span style=\"color: #008000; text-decoration-color: #008000\">'表'</span>, <span style=\"color: #008000; text-decoration-color: #008000\">'了'</span>, <span style=\"color: #008000; text-decoration-color: #008000\">'博'</span>, <span style=\"color: #008000; text-decoration-color: #008000\">'文'</span>, <span style=\"color: #008000; text-decoration-color: #008000\">'小'</span>, <span style=\"color: #008000; text-decoration-color: #008000\">'学'</span>, <span style=\"color: #008000; text-decoration-color: #008000\">'美'</span>, <a href=\"file:///tmp/ipykernel_2969/236964521.py\"><span style=\"color: #7f7f7f; text-decoration-color: #7f7f7f\">236964521.py</span></a><span style=\"color: #7f7f7f; text-decoration-color: #7f7f7f\">:</span><a href=\"file:///tmp/ipykernel_2969/236964521.py#8\"><span style=\"color: #7f7f7f; text-decoration-color: #7f7f7f\">8</span></a>\n",
       "<span style=\"color: #7fbfbf; text-decoration-color: #7fbfbf\">           </span>         <span style=\"color: #008000; text-decoration-color: #008000\">'术'</span>, <span style=\"color: #008000; text-decoration-color: #008000\">'新'</span>, <span style=\"color: #008000; text-decoration-color: #008000\">'课'</span>, <span style=\"color: #008000; text-decoration-color: #008000\">'标'</span>, <span style=\"color: #008000; text-decoration-color: #008000\">'的'</span>, <span style=\"color: #008000; text-decoration-color: #008000\">'反'</span>, <span style=\"color: #008000; text-decoration-color: #008000\">'思'</span>, <span style=\"color: #008000; text-decoration-color: #008000\">'学'</span>, <span style=\"color: #008000; text-decoration-color: #008000\">'习'</span>,      <span style=\"color: #7f7f7f; text-decoration-color: #7f7f7f\">              </span>\n",
       "<span style=\"color: #7fbfbf; text-decoration-color: #7fbfbf\">           </span>         <span style=\"color: #008000; text-decoration-color: #008000\">'新'</span>, <span style=\"color: #008000; text-decoration-color: #008000\">'学'</span>, <span style=\"color: #008000; text-decoration-color: #008000\">'期'</span>, <span style=\"color: #008000; text-decoration-color: #008000\">'开'</span>, <span style=\"color: #008000; text-decoration-color: #008000\">'学'</span>, <span style=\"color: #008000; text-decoration-color: #008000\">'有'</span>, <span style=\"color: #008000; text-decoration-color: #008000\">'两'</span>, <span style=\"color: #008000; text-decoration-color: #008000\">'个'</span>, <span style=\"color: #008000; text-decoration-color: #008000\">'多'</span>,      <span style=\"color: #7f7f7f; text-decoration-color: #7f7f7f\">              </span>\n",
       "<span style=\"color: #7fbfbf; text-decoration-color: #7fbfbf\">           </span>         <span style=\"color: #008000; text-decoration-color: #008000\">'月'</span>, <span style=\"color: #008000; text-decoration-color: #008000\">'了'</span>, <span style=\"color: #008000; text-decoration-color: #008000\">'，'</span>, <span style=\"color: #008000; text-decoration-color: #008000\">'在'</span>, <span style=\"color: #008000; text-decoration-color: #008000\">'这'</span>, <span style=\"color: #008000; text-decoration-color: #008000\">'段'</span>, <span style=\"color: #008000; text-decoration-color: #008000\">'时'</span>, <span style=\"color: #008000; text-decoration-color: #008000\">'间'</span>, <span style=\"color: #008000; text-decoration-color: #008000\">'的'</span>,      <span style=\"color: #7f7f7f; text-decoration-color: #7f7f7f\">              </span>\n",
       "<span style=\"color: #7fbfbf; text-decoration-color: #7fbfbf\">           </span>         <span style=\"color: #008000; text-decoration-color: #008000\">'教'</span>, <span style=\"color: #008000; text-decoration-color: #008000\">'学'</span>, <span style=\"color: #008000; text-decoration-color: #008000\">'计'</span>, <span style=\"color: #008000; text-decoration-color: #008000\">'划'</span>, <span style=\"color: #008000; text-decoration-color: #008000\">'、'</span>, <span style=\"color: #008000; text-decoration-color: #008000\">'教'</span>, <span style=\"color: #008000; text-decoration-color: #008000\">'案'</span>, <span style=\"color: #008000; text-decoration-color: #008000\">'的'</span>, <span style=\"color: #008000; text-decoration-color: #008000\">'撰'</span>,      <span style=\"color: #7f7f7f; text-decoration-color: #7f7f7f\">              </span>\n",
       "<span style=\"color: #7fbfbf; text-decoration-color: #7fbfbf\">           </span>         <span style=\"color: #008000; text-decoration-color: #008000\">'写'</span>, <span style=\"color: #008000; text-decoration-color: #008000\">'工'</span>, <span style=\"color: #008000; text-decoration-color: #008000\">'作'</span>, <span style=\"color: #008000; text-decoration-color: #008000\">'中'</span>, <span style=\"color: #008000; text-decoration-color: #008000\">'，'</span>, <span style=\"color: #008000; text-decoration-color: #008000\">'让'</span>, <span style=\"color: #008000; text-decoration-color: #008000\">'我'</span>, <span style=\"color: #008000; text-decoration-color: #008000\">'对'</span>, <span style=\"color: #008000; text-decoration-color: #008000\">'小'</span>,      <span style=\"color: #7f7f7f; text-decoration-color: #7f7f7f\">              </span>\n",
       "<span style=\"color: #7fbfbf; text-decoration-color: #7fbfbf\">           </span>         <span style=\"color: #008000; text-decoration-color: #008000\">'学'</span>, <span style=\"color: #008000; text-decoration-color: #008000\">'美'</span>, <span style=\"color: #008000; text-decoration-color: #008000\">'术'</span>, <span style=\"color: #008000; text-decoration-color: #008000\">'新'</span>, <span style=\"color: #008000; text-decoration-color: #008000\">'课'</span>, <span style=\"color: #008000; text-decoration-color: #008000\">'程'</span>, <span style=\"color: #008000; text-decoration-color: #008000\">'标'</span>, <span style=\"color: #008000; text-decoration-color: #008000\">'准'</span>, <span style=\"color: #008000; text-decoration-color: #008000\">'有'</span>,      <span style=\"color: #7f7f7f; text-decoration-color: #7f7f7f\">              </span>\n",
       "<span style=\"color: #7fbfbf; text-decoration-color: #7fbfbf\">           </span>         <span style=\"color: #008000; text-decoration-color: #008000\">'了'</span>, <span style=\"color: #008000; text-decoration-color: #008000\">'进'</span>, <span style=\"color: #008000; text-decoration-color: #008000\">'一'</span>, <span style=\"color: #008000; text-decoration-color: #008000\">'步'</span>, <span style=\"color: #008000; text-decoration-color: #008000\">'的'</span>, <span style=\"color: #008000; text-decoration-color: #008000\">'认'</span>, <span style=\"color: #008000; text-decoration-color: #008000\">'识'</span>, <span style=\"color: #008000; text-decoration-color: #008000\">'。'</span>, <span style=\"color: #008000; text-decoration-color: #008000\">'我'</span>,      <span style=\"color: #7f7f7f; text-decoration-color: #7f7f7f\">              </span>\n",
       "<span style=\"color: #7fbfbf; text-decoration-color: #7fbfbf\">           </span>         <span style=\"color: #008000; text-decoration-color: #008000\">'们'</span>, <span style=\"color: #008000; text-decoration-color: #008000\">'现'</span>, <span style=\"color: #008000; text-decoration-color: #008000\">'在'</span>, <span style=\"color: #008000; text-decoration-color: #008000\">'所'</span>, <span style=\"color: #008000; text-decoration-color: #008000\">'用'</span>, <span style=\"color: #008000; text-decoration-color: #008000\">'的'</span>, <span style=\"color: #008000; text-decoration-color: #008000\">'教'</span>, <span style=\"color: #008000; text-decoration-color: #008000\">'材'</span>, <span style=\"color: #008000; text-decoration-color: #008000\">'，'</span>,      <span style=\"color: #7f7f7f; text-decoration-color: #7f7f7f\">              </span>\n",
       "<span style=\"color: #7fbfbf; text-decoration-color: #7fbfbf\">           </span>         <span style=\"color: #008000; text-decoration-color: #008000\">'根'</span>, <span style=\"color: #008000; text-decoration-color: #008000\">'据'</span>, <span style=\"color: #008000; text-decoration-color: #008000\">'儿'</span>, <span style=\"color: #008000; text-decoration-color: #008000\">'童'</span>, <span style=\"color: #008000; text-decoration-color: #008000\">'心'</span>, <span style=\"color: #008000; text-decoration-color: #008000\">'理'</span>, <span style=\"color: #008000; text-decoration-color: #008000\">'特'</span>, <span style=\"color: #008000; text-decoration-color: #008000\">'点'</span>, <span style=\"color: #008000; text-decoration-color: #008000\">'以'</span>,      <span style=\"color: #7f7f7f; text-decoration-color: #7f7f7f\">              </span>\n",
       "<span style=\"color: #7fbfbf; text-decoration-color: #7fbfbf\">           </span>         <span style=\"color: #008000; text-decoration-color: #008000\">'及'</span><span style=\"font-weight: bold\">]</span>                                                      <span style=\"color: #7f7f7f; text-decoration-color: #7f7f7f\">              </span>\n",
       "</pre>\n"
      ],
      "text/plain": [
       "\u001b[2;36m          \u001b[0m\u001b[2;36m \u001b[0m\u001b[34mINFO    \u001b[0m sentence: \u001b[1m[\u001b[0m\u001b[32m'发'\u001b[0m, \u001b[32m'表'\u001b[0m, \u001b[32m'了'\u001b[0m, \u001b[32m'博'\u001b[0m, \u001b[32m'文'\u001b[0m, \u001b[32m'小'\u001b[0m, \u001b[32m'学'\u001b[0m, \u001b[32m'美'\u001b[0m, \u001b]8;id=211350;file:///tmp/ipykernel_2969/236964521.py\u001b\\\u001b[2m236964521.py\u001b[0m\u001b]8;;\u001b\\\u001b[2m:\u001b[0m\u001b]8;id=568490;file:///tmp/ipykernel_2969/236964521.py#8\u001b\\\u001b[2m8\u001b[0m\u001b]8;;\u001b\\\n",
       "\u001b[2;36m           \u001b[0m         \u001b[32m'术'\u001b[0m, \u001b[32m'新'\u001b[0m, \u001b[32m'课'\u001b[0m, \u001b[32m'标'\u001b[0m, \u001b[32m'的'\u001b[0m, \u001b[32m'反'\u001b[0m, \u001b[32m'思'\u001b[0m, \u001b[32m'学'\u001b[0m, \u001b[32m'习'\u001b[0m,      \u001b[2m              \u001b[0m\n",
       "\u001b[2;36m           \u001b[0m         \u001b[32m'新'\u001b[0m, \u001b[32m'学'\u001b[0m, \u001b[32m'期'\u001b[0m, \u001b[32m'开'\u001b[0m, \u001b[32m'学'\u001b[0m, \u001b[32m'有'\u001b[0m, \u001b[32m'两'\u001b[0m, \u001b[32m'个'\u001b[0m, \u001b[32m'多'\u001b[0m,      \u001b[2m              \u001b[0m\n",
       "\u001b[2;36m           \u001b[0m         \u001b[32m'月'\u001b[0m, \u001b[32m'了'\u001b[0m, \u001b[32m'，'\u001b[0m, \u001b[32m'在'\u001b[0m, \u001b[32m'这'\u001b[0m, \u001b[32m'段'\u001b[0m, \u001b[32m'时'\u001b[0m, \u001b[32m'间'\u001b[0m, \u001b[32m'的'\u001b[0m,      \u001b[2m              \u001b[0m\n",
       "\u001b[2;36m           \u001b[0m         \u001b[32m'教'\u001b[0m, \u001b[32m'学'\u001b[0m, \u001b[32m'计'\u001b[0m, \u001b[32m'划'\u001b[0m, \u001b[32m'、'\u001b[0m, \u001b[32m'教'\u001b[0m, \u001b[32m'案'\u001b[0m, \u001b[32m'的'\u001b[0m, \u001b[32m'撰'\u001b[0m,      \u001b[2m              \u001b[0m\n",
       "\u001b[2;36m           \u001b[0m         \u001b[32m'写'\u001b[0m, \u001b[32m'工'\u001b[0m, \u001b[32m'作'\u001b[0m, \u001b[32m'中'\u001b[0m, \u001b[32m'，'\u001b[0m, \u001b[32m'让'\u001b[0m, \u001b[32m'我'\u001b[0m, \u001b[32m'对'\u001b[0m, \u001b[32m'小'\u001b[0m,      \u001b[2m              \u001b[0m\n",
       "\u001b[2;36m           \u001b[0m         \u001b[32m'学'\u001b[0m, \u001b[32m'美'\u001b[0m, \u001b[32m'术'\u001b[0m, \u001b[32m'新'\u001b[0m, \u001b[32m'课'\u001b[0m, \u001b[32m'程'\u001b[0m, \u001b[32m'标'\u001b[0m, \u001b[32m'准'\u001b[0m, \u001b[32m'有'\u001b[0m,      \u001b[2m              \u001b[0m\n",
       "\u001b[2;36m           \u001b[0m         \u001b[32m'了'\u001b[0m, \u001b[32m'进'\u001b[0m, \u001b[32m'一'\u001b[0m, \u001b[32m'步'\u001b[0m, \u001b[32m'的'\u001b[0m, \u001b[32m'认'\u001b[0m, \u001b[32m'识'\u001b[0m, \u001b[32m'。'\u001b[0m, \u001b[32m'我'\u001b[0m,      \u001b[2m              \u001b[0m\n",
       "\u001b[2;36m           \u001b[0m         \u001b[32m'们'\u001b[0m, \u001b[32m'现'\u001b[0m, \u001b[32m'在'\u001b[0m, \u001b[32m'所'\u001b[0m, \u001b[32m'用'\u001b[0m, \u001b[32m'的'\u001b[0m, \u001b[32m'教'\u001b[0m, \u001b[32m'材'\u001b[0m, \u001b[32m'，'\u001b[0m,      \u001b[2m              \u001b[0m\n",
       "\u001b[2;36m           \u001b[0m         \u001b[32m'根'\u001b[0m, \u001b[32m'据'\u001b[0m, \u001b[32m'儿'\u001b[0m, \u001b[32m'童'\u001b[0m, \u001b[32m'心'\u001b[0m, \u001b[32m'理'\u001b[0m, \u001b[32m'特'\u001b[0m, \u001b[32m'点'\u001b[0m, \u001b[32m'以'\u001b[0m,      \u001b[2m              \u001b[0m\n",
       "\u001b[2;36m           \u001b[0m         \u001b[32m'及'\u001b[0m\u001b[1m]\u001b[0m                                                      \u001b[2m              \u001b[0m\n"
      ]
     },
     "metadata": {},
     "output_type": "display_data"
    },
    {
     "data": {
      "text/html": [
       "<pre style=\"white-space:pre;overflow-x:auto;line-height:normal;font-family:Menlo,'DejaVu Sans Mono',consolas,'Courier New',monospace\"><span style=\"color: #7fbfbf; text-decoration-color: #7fbfbf\">           </span><span style=\"color: #000080; text-decoration-color: #000080\">INFO    </span> labels: <span style=\"font-weight: bold\">[</span><span style=\"color: #008000; text-decoration-color: #008000\">'O'</span>, <span style=\"color: #008000; text-decoration-color: #008000\">'O'</span>, <span style=\"color: #008000; text-decoration-color: #008000\">'O'</span>, <span style=\"color: #008000; text-decoration-color: #008000\">'O'</span>, <span style=\"color: #008000; text-decoration-color: #008000\">'O'</span>, <span style=\"color: #008000; text-decoration-color: #008000\">'O'</span>, <span style=\"color: #008000; text-decoration-color: #008000\">'O'</span>, <span style=\"color: #008000; text-decoration-color: #008000\">'O'</span>, <span style=\"color: #008000; text-decoration-color: #008000\">'O'</span>,     <a href=\"file:///tmp/ipykernel_2969/236964521.py\"><span style=\"color: #7f7f7f; text-decoration-color: #7f7f7f\">236964521.py</span></a><span style=\"color: #7f7f7f; text-decoration-color: #7f7f7f\">:</span><a href=\"file:///tmp/ipykernel_2969/236964521.py#10\"><span style=\"color: #7f7f7f; text-decoration-color: #7f7f7f\">10</span></a>\n",
       "<span style=\"color: #7fbfbf; text-decoration-color: #7fbfbf\">           </span>         <span style=\"color: #008000; text-decoration-color: #008000\">'O'</span>, <span style=\"color: #008000; text-decoration-color: #008000\">'O'</span>, <span style=\"color: #008000; text-decoration-color: #008000\">'O'</span>, <span style=\"color: #008000; text-decoration-color: #008000\">'O'</span>, <span style=\"color: #008000; text-decoration-color: #008000\">'O'</span>, <span style=\"color: #008000; text-decoration-color: #008000\">'O'</span>, <span style=\"color: #008000; text-decoration-color: #008000\">'O'</span>, <span style=\"color: #008000; text-decoration-color: #008000\">'O'</span>, <span style=\"color: #008000; text-decoration-color: #008000\">'O'</span>, <span style=\"color: #008000; text-decoration-color: #008000\">'O'</span>, <span style=\"color: #008000; text-decoration-color: #008000\">'O'</span>,    <span style=\"color: #7f7f7f; text-decoration-color: #7f7f7f\">               </span>\n",
       "<span style=\"color: #7fbfbf; text-decoration-color: #7fbfbf\">           </span>         <span style=\"color: #008000; text-decoration-color: #008000\">'O'</span>, <span style=\"color: #008000; text-decoration-color: #008000\">'O'</span>, <span style=\"color: #008000; text-decoration-color: #008000\">'O'</span>, <span style=\"color: #008000; text-decoration-color: #008000\">'O'</span>, <span style=\"color: #008000; text-decoration-color: #008000\">'O'</span>, <span style=\"color: #008000; text-decoration-color: #008000\">'O'</span>, <span style=\"color: #008000; text-decoration-color: #008000\">'O'</span>, <span style=\"color: #008000; text-decoration-color: #008000\">'O'</span>, <span style=\"color: #008000; text-decoration-color: #008000\">'O'</span>, <span style=\"color: #008000; text-decoration-color: #008000\">'O'</span>, <span style=\"color: #008000; text-decoration-color: #008000\">'O'</span>,    <span style=\"color: #7f7f7f; text-decoration-color: #7f7f7f\">               </span>\n",
       "<span style=\"color: #7fbfbf; text-decoration-color: #7fbfbf\">           </span>         <span style=\"color: #008000; text-decoration-color: #008000\">'O'</span>, <span style=\"color: #008000; text-decoration-color: #008000\">'O'</span>, <span style=\"color: #008000; text-decoration-color: #008000\">'O'</span>, <span style=\"color: #008000; text-decoration-color: #008000\">'O'</span>, <span style=\"color: #008000; text-decoration-color: #008000\">'O'</span>, <span style=\"color: #008000; text-decoration-color: #008000\">'O'</span>, <span style=\"color: #008000; text-decoration-color: #008000\">'O'</span>, <span style=\"color: #008000; text-decoration-color: #008000\">'O'</span>, <span style=\"color: #008000; text-decoration-color: #008000\">'O'</span>, <span style=\"color: #008000; text-decoration-color: #008000\">'O'</span>, <span style=\"color: #008000; text-decoration-color: #008000\">'O'</span>,    <span style=\"color: #7f7f7f; text-decoration-color: #7f7f7f\">               </span>\n",
       "<span style=\"color: #7fbfbf; text-decoration-color: #7fbfbf\">           </span>         <span style=\"color: #008000; text-decoration-color: #008000\">'O'</span>, <span style=\"color: #008000; text-decoration-color: #008000\">'O'</span>, <span style=\"color: #008000; text-decoration-color: #008000\">'O'</span>, <span style=\"color: #008000; text-decoration-color: #008000\">'O'</span>, <span style=\"color: #008000; text-decoration-color: #008000\">'O'</span>, <span style=\"color: #008000; text-decoration-color: #008000\">'O'</span>, <span style=\"color: #008000; text-decoration-color: #008000\">'O'</span>, <span style=\"color: #008000; text-decoration-color: #008000\">'O'</span>, <span style=\"color: #008000; text-decoration-color: #008000\">'O'</span>, <span style=\"color: #008000; text-decoration-color: #008000\">'O'</span>, <span style=\"color: #008000; text-decoration-color: #008000\">'O'</span>,    <span style=\"color: #7f7f7f; text-decoration-color: #7f7f7f\">               </span>\n",
       "<span style=\"color: #7fbfbf; text-decoration-color: #7fbfbf\">           </span>         <span style=\"color: #008000; text-decoration-color: #008000\">'O'</span>, <span style=\"color: #008000; text-decoration-color: #008000\">'O'</span>, <span style=\"color: #008000; text-decoration-color: #008000\">'O'</span>, <span style=\"color: #008000; text-decoration-color: #008000\">'O'</span>, <span style=\"color: #008000; text-decoration-color: #008000\">'O'</span>, <span style=\"color: #008000; text-decoration-color: #008000\">'O'</span>, <span style=\"color: #008000; text-decoration-color: #008000\">'O'</span>, <span style=\"color: #008000; text-decoration-color: #008000\">'O'</span>, <span style=\"color: #008000; text-decoration-color: #008000\">'O'</span>, <span style=\"color: #008000; text-decoration-color: #008000\">'O'</span>, <span style=\"color: #008000; text-decoration-color: #008000\">'O'</span>,    <span style=\"color: #7f7f7f; text-decoration-color: #7f7f7f\">               </span>\n",
       "<span style=\"color: #7fbfbf; text-decoration-color: #7fbfbf\">           </span>         <span style=\"color: #008000; text-decoration-color: #008000\">'O'</span>, <span style=\"color: #008000; text-decoration-color: #008000\">'O'</span>, <span style=\"color: #008000; text-decoration-color: #008000\">'O'</span>, <span style=\"color: #008000; text-decoration-color: #008000\">'O'</span>, <span style=\"color: #008000; text-decoration-color: #008000\">'O'</span>, <span style=\"color: #008000; text-decoration-color: #008000\">'O'</span>, <span style=\"color: #008000; text-decoration-color: #008000\">'O'</span>, <span style=\"color: #008000; text-decoration-color: #008000\">'O'</span>, <span style=\"color: #008000; text-decoration-color: #008000\">'O'</span>, <span style=\"color: #008000; text-decoration-color: #008000\">'O'</span>, <span style=\"color: #008000; text-decoration-color: #008000\">'O'</span>,    <span style=\"color: #7f7f7f; text-decoration-color: #7f7f7f\">               </span>\n",
       "<span style=\"color: #7fbfbf; text-decoration-color: #7fbfbf\">           </span>         <span style=\"color: #008000; text-decoration-color: #008000\">'O'</span>, <span style=\"color: #008000; text-decoration-color: #008000\">'O'</span>, <span style=\"color: #008000; text-decoration-color: #008000\">'O'</span>, <span style=\"color: #008000; text-decoration-color: #008000\">'O'</span>, <span style=\"color: #008000; text-decoration-color: #008000\">'O'</span>, <span style=\"color: #008000; text-decoration-color: #008000\">'O'</span>, <span style=\"color: #008000; text-decoration-color: #008000\">'O'</span>, <span style=\"color: #008000; text-decoration-color: #008000\">'O'</span>, <span style=\"color: #008000; text-decoration-color: #008000\">'O'</span>, <span style=\"color: #008000; text-decoration-color: #008000\">'O'</span>, <span style=\"color: #008000; text-decoration-color: #008000\">'O'</span>,    <span style=\"color: #7f7f7f; text-decoration-color: #7f7f7f\">               </span>\n",
       "<span style=\"color: #7fbfbf; text-decoration-color: #7fbfbf\">           </span>         <span style=\"color: #008000; text-decoration-color: #008000\">'O'</span>, <span style=\"color: #008000; text-decoration-color: #008000\">'O'</span>, <span style=\"color: #008000; text-decoration-color: #008000\">'O'</span>, <span style=\"color: #008000; text-decoration-color: #008000\">'O'</span><span style=\"font-weight: bold\">]</span>                                       <span style=\"color: #7f7f7f; text-decoration-color: #7f7f7f\">               </span>\n",
       "</pre>\n"
      ],
      "text/plain": [
       "\u001b[2;36m          \u001b[0m\u001b[2;36m \u001b[0m\u001b[34mINFO    \u001b[0m labels: \u001b[1m[\u001b[0m\u001b[32m'O'\u001b[0m, \u001b[32m'O'\u001b[0m, \u001b[32m'O'\u001b[0m, \u001b[32m'O'\u001b[0m, \u001b[32m'O'\u001b[0m, \u001b[32m'O'\u001b[0m, \u001b[32m'O'\u001b[0m, \u001b[32m'O'\u001b[0m, \u001b[32m'O'\u001b[0m,     \u001b]8;id=386572;file:///tmp/ipykernel_2969/236964521.py\u001b\\\u001b[2m236964521.py\u001b[0m\u001b]8;;\u001b\\\u001b[2m:\u001b[0m\u001b]8;id=616061;file:///tmp/ipykernel_2969/236964521.py#10\u001b\\\u001b[2m10\u001b[0m\u001b]8;;\u001b\\\n",
       "\u001b[2;36m           \u001b[0m         \u001b[32m'O'\u001b[0m, \u001b[32m'O'\u001b[0m, \u001b[32m'O'\u001b[0m, \u001b[32m'O'\u001b[0m, \u001b[32m'O'\u001b[0m, \u001b[32m'O'\u001b[0m, \u001b[32m'O'\u001b[0m, \u001b[32m'O'\u001b[0m, \u001b[32m'O'\u001b[0m, \u001b[32m'O'\u001b[0m, \u001b[32m'O'\u001b[0m,    \u001b[2m               \u001b[0m\n",
       "\u001b[2;36m           \u001b[0m         \u001b[32m'O'\u001b[0m, \u001b[32m'O'\u001b[0m, \u001b[32m'O'\u001b[0m, \u001b[32m'O'\u001b[0m, \u001b[32m'O'\u001b[0m, \u001b[32m'O'\u001b[0m, \u001b[32m'O'\u001b[0m, \u001b[32m'O'\u001b[0m, \u001b[32m'O'\u001b[0m, \u001b[32m'O'\u001b[0m, \u001b[32m'O'\u001b[0m,    \u001b[2m               \u001b[0m\n",
       "\u001b[2;36m           \u001b[0m         \u001b[32m'O'\u001b[0m, \u001b[32m'O'\u001b[0m, \u001b[32m'O'\u001b[0m, \u001b[32m'O'\u001b[0m, \u001b[32m'O'\u001b[0m, \u001b[32m'O'\u001b[0m, \u001b[32m'O'\u001b[0m, \u001b[32m'O'\u001b[0m, \u001b[32m'O'\u001b[0m, \u001b[32m'O'\u001b[0m, \u001b[32m'O'\u001b[0m,    \u001b[2m               \u001b[0m\n",
       "\u001b[2;36m           \u001b[0m         \u001b[32m'O'\u001b[0m, \u001b[32m'O'\u001b[0m, \u001b[32m'O'\u001b[0m, \u001b[32m'O'\u001b[0m, \u001b[32m'O'\u001b[0m, \u001b[32m'O'\u001b[0m, \u001b[32m'O'\u001b[0m, \u001b[32m'O'\u001b[0m, \u001b[32m'O'\u001b[0m, \u001b[32m'O'\u001b[0m, \u001b[32m'O'\u001b[0m,    \u001b[2m               \u001b[0m\n",
       "\u001b[2;36m           \u001b[0m         \u001b[32m'O'\u001b[0m, \u001b[32m'O'\u001b[0m, \u001b[32m'O'\u001b[0m, \u001b[32m'O'\u001b[0m, \u001b[32m'O'\u001b[0m, \u001b[32m'O'\u001b[0m, \u001b[32m'O'\u001b[0m, \u001b[32m'O'\u001b[0m, \u001b[32m'O'\u001b[0m, \u001b[32m'O'\u001b[0m, \u001b[32m'O'\u001b[0m,    \u001b[2m               \u001b[0m\n",
       "\u001b[2;36m           \u001b[0m         \u001b[32m'O'\u001b[0m, \u001b[32m'O'\u001b[0m, \u001b[32m'O'\u001b[0m, \u001b[32m'O'\u001b[0m, \u001b[32m'O'\u001b[0m, \u001b[32m'O'\u001b[0m, \u001b[32m'O'\u001b[0m, \u001b[32m'O'\u001b[0m, \u001b[32m'O'\u001b[0m, \u001b[32m'O'\u001b[0m, \u001b[32m'O'\u001b[0m,    \u001b[2m               \u001b[0m\n",
       "\u001b[2;36m           \u001b[0m         \u001b[32m'O'\u001b[0m, \u001b[32m'O'\u001b[0m, \u001b[32m'O'\u001b[0m, \u001b[32m'O'\u001b[0m, \u001b[32m'O'\u001b[0m, \u001b[32m'O'\u001b[0m, \u001b[32m'O'\u001b[0m, \u001b[32m'O'\u001b[0m, \u001b[32m'O'\u001b[0m, \u001b[32m'O'\u001b[0m, \u001b[32m'O'\u001b[0m,    \u001b[2m               \u001b[0m\n",
       "\u001b[2;36m           \u001b[0m         \u001b[32m'O'\u001b[0m, \u001b[32m'O'\u001b[0m, \u001b[32m'O'\u001b[0m, \u001b[32m'O'\u001b[0m\u001b[1m]\u001b[0m                                       \u001b[2m               \u001b[0m\n"
      ]
     },
     "metadata": {},
     "output_type": "display_data"
    },
    {
     "data": {
      "text/html": [
       "<pre style=\"white-space:pre;overflow-x:auto;line-height:normal;font-family:Menlo,'DejaVu Sans Mono',consolas,'Courier New',monospace\"><span style=\"color: #7fbfbf; text-decoration-color: #7fbfbf\">           </span><span style=\"color: #000080; text-decoration-color: #000080\">INFO    </span> target: <span style=\"font-weight: bold\">[</span><span style=\"color: #008000; text-decoration-color: #008000\">'O'</span>, <span style=\"color: #008000; text-decoration-color: #008000\">'O'</span>, <span style=\"color: #008000; text-decoration-color: #008000\">'O'</span>, <span style=\"color: #008000; text-decoration-color: #008000\">'O'</span>, <span style=\"color: #008000; text-decoration-color: #008000\">'O'</span>, <span style=\"color: #008000; text-decoration-color: #008000\">'O'</span>, <span style=\"color: #008000; text-decoration-color: #008000\">'O'</span>, <span style=\"color: #008000; text-decoration-color: #008000\">'O'</span>, <span style=\"color: #008000; text-decoration-color: #008000\">'O'</span>,     <a href=\"file:///tmp/ipykernel_2969/236964521.py\"><span style=\"color: #7f7f7f; text-decoration-color: #7f7f7f\">236964521.py</span></a><span style=\"color: #7f7f7f; text-decoration-color: #7f7f7f\">:</span><a href=\"file:///tmp/ipykernel_2969/236964521.py#11\"><span style=\"color: #7f7f7f; text-decoration-color: #7f7f7f\">11</span></a>\n",
       "<span style=\"color: #7fbfbf; text-decoration-color: #7fbfbf\">           </span>         <span style=\"color: #008000; text-decoration-color: #008000\">'O'</span>, <span style=\"color: #008000; text-decoration-color: #008000\">'O'</span>, <span style=\"color: #008000; text-decoration-color: #008000\">'O'</span>, <span style=\"color: #008000; text-decoration-color: #008000\">'O'</span>, <span style=\"color: #008000; text-decoration-color: #008000\">'O'</span>, <span style=\"color: #008000; text-decoration-color: #008000\">'O'</span>, <span style=\"color: #008000; text-decoration-color: #008000\">'O'</span>, <span style=\"color: #008000; text-decoration-color: #008000\">'O'</span>, <span style=\"color: #008000; text-decoration-color: #008000\">'O'</span>, <span style=\"color: #008000; text-decoration-color: #008000\">'O'</span>, <span style=\"color: #008000; text-decoration-color: #008000\">'O'</span>,    <span style=\"color: #7f7f7f; text-decoration-color: #7f7f7f\">               </span>\n",
       "<span style=\"color: #7fbfbf; text-decoration-color: #7fbfbf\">           </span>         <span style=\"color: #008000; text-decoration-color: #008000\">'O'</span>, <span style=\"color: #008000; text-decoration-color: #008000\">'O'</span>, <span style=\"color: #008000; text-decoration-color: #008000\">'O'</span>, <span style=\"color: #008000; text-decoration-color: #008000\">'O'</span>, <span style=\"color: #008000; text-decoration-color: #008000\">'O'</span>, <span style=\"color: #008000; text-decoration-color: #008000\">'O'</span>, <span style=\"color: #008000; text-decoration-color: #008000\">'O'</span>, <span style=\"color: #008000; text-decoration-color: #008000\">'O'</span>, <span style=\"color: #008000; text-decoration-color: #008000\">'O'</span>, <span style=\"color: #008000; text-decoration-color: #008000\">'O'</span>, <span style=\"color: #008000; text-decoration-color: #008000\">'O'</span>,    <span style=\"color: #7f7f7f; text-decoration-color: #7f7f7f\">               </span>\n",
       "<span style=\"color: #7fbfbf; text-decoration-color: #7fbfbf\">           </span>         <span style=\"color: #008000; text-decoration-color: #008000\">'O'</span>, <span style=\"color: #008000; text-decoration-color: #008000\">'O'</span>, <span style=\"color: #008000; text-decoration-color: #008000\">'O'</span>, <span style=\"color: #008000; text-decoration-color: #008000\">'O'</span>, <span style=\"color: #008000; text-decoration-color: #008000\">'O'</span>, <span style=\"color: #008000; text-decoration-color: #008000\">'O'</span>, <span style=\"color: #008000; text-decoration-color: #008000\">'O'</span>, <span style=\"color: #008000; text-decoration-color: #008000\">'O'</span>, <span style=\"color: #008000; text-decoration-color: #008000\">'O'</span>, <span style=\"color: #008000; text-decoration-color: #008000\">'O'</span>, <span style=\"color: #008000; text-decoration-color: #008000\">'O'</span>,    <span style=\"color: #7f7f7f; text-decoration-color: #7f7f7f\">               </span>\n",
       "<span style=\"color: #7fbfbf; text-decoration-color: #7fbfbf\">           </span>         <span style=\"color: #008000; text-decoration-color: #008000\">'O'</span>, <span style=\"color: #008000; text-decoration-color: #008000\">'O'</span>, <span style=\"color: #008000; text-decoration-color: #008000\">'O'</span>, <span style=\"color: #008000; text-decoration-color: #008000\">'O'</span>, <span style=\"color: #008000; text-decoration-color: #008000\">'O'</span>, <span style=\"color: #008000; text-decoration-color: #008000\">'O'</span>, <span style=\"color: #008000; text-decoration-color: #008000\">'O'</span>, <span style=\"color: #008000; text-decoration-color: #008000\">'O'</span>, <span style=\"color: #008000; text-decoration-color: #008000\">'O'</span>, <span style=\"color: #008000; text-decoration-color: #008000\">'O'</span>, <span style=\"color: #008000; text-decoration-color: #008000\">'O'</span>,    <span style=\"color: #7f7f7f; text-decoration-color: #7f7f7f\">               </span>\n",
       "<span style=\"color: #7fbfbf; text-decoration-color: #7fbfbf\">           </span>         <span style=\"color: #008000; text-decoration-color: #008000\">'O'</span>, <span style=\"color: #008000; text-decoration-color: #008000\">'O'</span>, <span style=\"color: #008000; text-decoration-color: #008000\">'O'</span>, <span style=\"color: #008000; text-decoration-color: #008000\">'O'</span>, <span style=\"color: #008000; text-decoration-color: #008000\">'O'</span>, <span style=\"color: #008000; text-decoration-color: #008000\">'O'</span>, <span style=\"color: #008000; text-decoration-color: #008000\">'O'</span>, <span style=\"color: #008000; text-decoration-color: #008000\">'O'</span>, <span style=\"color: #008000; text-decoration-color: #008000\">'O'</span>, <span style=\"color: #008000; text-decoration-color: #008000\">'O'</span>, <span style=\"color: #008000; text-decoration-color: #008000\">'O'</span>,    <span style=\"color: #7f7f7f; text-decoration-color: #7f7f7f\">               </span>\n",
       "<span style=\"color: #7fbfbf; text-decoration-color: #7fbfbf\">           </span>         <span style=\"color: #008000; text-decoration-color: #008000\">'O'</span>, <span style=\"color: #008000; text-decoration-color: #008000\">'O'</span>, <span style=\"color: #008000; text-decoration-color: #008000\">'O'</span>, <span style=\"color: #008000; text-decoration-color: #008000\">'O'</span>, <span style=\"color: #008000; text-decoration-color: #008000\">'O'</span>, <span style=\"color: #008000; text-decoration-color: #008000\">'O'</span>, <span style=\"color: #008000; text-decoration-color: #008000\">'O'</span>, <span style=\"color: #008000; text-decoration-color: #008000\">'O'</span>, <span style=\"color: #008000; text-decoration-color: #008000\">'O'</span>, <span style=\"color: #008000; text-decoration-color: #008000\">'O'</span>, <span style=\"color: #008000; text-decoration-color: #008000\">'O'</span>,    <span style=\"color: #7f7f7f; text-decoration-color: #7f7f7f\">               </span>\n",
       "<span style=\"color: #7fbfbf; text-decoration-color: #7fbfbf\">           </span>         <span style=\"color: #008000; text-decoration-color: #008000\">'O'</span>, <span style=\"color: #008000; text-decoration-color: #008000\">'O'</span>, <span style=\"color: #008000; text-decoration-color: #008000\">'O'</span>, <span style=\"color: #008000; text-decoration-color: #008000\">'O'</span>, <span style=\"color: #008000; text-decoration-color: #008000\">'O'</span>, <span style=\"color: #008000; text-decoration-color: #008000\">'O'</span>, <span style=\"color: #008000; text-decoration-color: #008000\">'O'</span>, <span style=\"color: #008000; text-decoration-color: #008000\">'O'</span>, <span style=\"color: #008000; text-decoration-color: #008000\">'O'</span>, <span style=\"color: #008000; text-decoration-color: #008000\">'O'</span>, <span style=\"color: #008000; text-decoration-color: #008000\">'O'</span>,    <span style=\"color: #7f7f7f; text-decoration-color: #7f7f7f\">               </span>\n",
       "<span style=\"color: #7fbfbf; text-decoration-color: #7fbfbf\">           </span>         <span style=\"color: #008000; text-decoration-color: #008000\">'O'</span>, <span style=\"color: #008000; text-decoration-color: #008000\">'O'</span>, <span style=\"color: #008000; text-decoration-color: #008000\">'O'</span>, <span style=\"color: #008000; text-decoration-color: #008000\">'O'</span><span style=\"font-weight: bold\">]</span>                                       <span style=\"color: #7f7f7f; text-decoration-color: #7f7f7f\">               </span>\n",
       "</pre>\n"
      ],
      "text/plain": [
       "\u001b[2;36m          \u001b[0m\u001b[2;36m \u001b[0m\u001b[34mINFO    \u001b[0m target: \u001b[1m[\u001b[0m\u001b[32m'O'\u001b[0m, \u001b[32m'O'\u001b[0m, \u001b[32m'O'\u001b[0m, \u001b[32m'O'\u001b[0m, \u001b[32m'O'\u001b[0m, \u001b[32m'O'\u001b[0m, \u001b[32m'O'\u001b[0m, \u001b[32m'O'\u001b[0m, \u001b[32m'O'\u001b[0m,     \u001b]8;id=247647;file:///tmp/ipykernel_2969/236964521.py\u001b\\\u001b[2m236964521.py\u001b[0m\u001b]8;;\u001b\\\u001b[2m:\u001b[0m\u001b]8;id=591245;file:///tmp/ipykernel_2969/236964521.py#11\u001b\\\u001b[2m11\u001b[0m\u001b]8;;\u001b\\\n",
       "\u001b[2;36m           \u001b[0m         \u001b[32m'O'\u001b[0m, \u001b[32m'O'\u001b[0m, \u001b[32m'O'\u001b[0m, \u001b[32m'O'\u001b[0m, \u001b[32m'O'\u001b[0m, \u001b[32m'O'\u001b[0m, \u001b[32m'O'\u001b[0m, \u001b[32m'O'\u001b[0m, \u001b[32m'O'\u001b[0m, \u001b[32m'O'\u001b[0m, \u001b[32m'O'\u001b[0m,    \u001b[2m               \u001b[0m\n",
       "\u001b[2;36m           \u001b[0m         \u001b[32m'O'\u001b[0m, \u001b[32m'O'\u001b[0m, \u001b[32m'O'\u001b[0m, \u001b[32m'O'\u001b[0m, \u001b[32m'O'\u001b[0m, \u001b[32m'O'\u001b[0m, \u001b[32m'O'\u001b[0m, \u001b[32m'O'\u001b[0m, \u001b[32m'O'\u001b[0m, \u001b[32m'O'\u001b[0m, \u001b[32m'O'\u001b[0m,    \u001b[2m               \u001b[0m\n",
       "\u001b[2;36m           \u001b[0m         \u001b[32m'O'\u001b[0m, \u001b[32m'O'\u001b[0m, \u001b[32m'O'\u001b[0m, \u001b[32m'O'\u001b[0m, \u001b[32m'O'\u001b[0m, \u001b[32m'O'\u001b[0m, \u001b[32m'O'\u001b[0m, \u001b[32m'O'\u001b[0m, \u001b[32m'O'\u001b[0m, \u001b[32m'O'\u001b[0m, \u001b[32m'O'\u001b[0m,    \u001b[2m               \u001b[0m\n",
       "\u001b[2;36m           \u001b[0m         \u001b[32m'O'\u001b[0m, \u001b[32m'O'\u001b[0m, \u001b[32m'O'\u001b[0m, \u001b[32m'O'\u001b[0m, \u001b[32m'O'\u001b[0m, \u001b[32m'O'\u001b[0m, \u001b[32m'O'\u001b[0m, \u001b[32m'O'\u001b[0m, \u001b[32m'O'\u001b[0m, \u001b[32m'O'\u001b[0m, \u001b[32m'O'\u001b[0m,    \u001b[2m               \u001b[0m\n",
       "\u001b[2;36m           \u001b[0m         \u001b[32m'O'\u001b[0m, \u001b[32m'O'\u001b[0m, \u001b[32m'O'\u001b[0m, \u001b[32m'O'\u001b[0m, \u001b[32m'O'\u001b[0m, \u001b[32m'O'\u001b[0m, \u001b[32m'O'\u001b[0m, \u001b[32m'O'\u001b[0m, \u001b[32m'O'\u001b[0m, \u001b[32m'O'\u001b[0m, \u001b[32m'O'\u001b[0m,    \u001b[2m               \u001b[0m\n",
       "\u001b[2;36m           \u001b[0m         \u001b[32m'O'\u001b[0m, \u001b[32m'O'\u001b[0m, \u001b[32m'O'\u001b[0m, \u001b[32m'O'\u001b[0m, \u001b[32m'O'\u001b[0m, \u001b[32m'O'\u001b[0m, \u001b[32m'O'\u001b[0m, \u001b[32m'O'\u001b[0m, \u001b[32m'O'\u001b[0m, \u001b[32m'O'\u001b[0m, \u001b[32m'O'\u001b[0m,    \u001b[2m               \u001b[0m\n",
       "\u001b[2;36m           \u001b[0m         \u001b[32m'O'\u001b[0m, \u001b[32m'O'\u001b[0m, \u001b[32m'O'\u001b[0m, \u001b[32m'O'\u001b[0m, \u001b[32m'O'\u001b[0m, \u001b[32m'O'\u001b[0m, \u001b[32m'O'\u001b[0m, \u001b[32m'O'\u001b[0m, \u001b[32m'O'\u001b[0m, \u001b[32m'O'\u001b[0m, \u001b[32m'O'\u001b[0m,    \u001b[2m               \u001b[0m\n",
       "\u001b[2;36m           \u001b[0m         \u001b[32m'O'\u001b[0m, \u001b[32m'O'\u001b[0m, \u001b[32m'O'\u001b[0m, \u001b[32m'O'\u001b[0m\u001b[1m]\u001b[0m                                       \u001b[2m               \u001b[0m\n"
      ]
     },
     "metadata": {},
     "output_type": "display_data"
    },
    {
     "data": {
      "text/html": [
       "<pre style=\"white-space:pre;overflow-x:auto;line-height:normal;font-family:Menlo,'DejaVu Sans Mono',consolas,'Courier New',monospace\"><span style=\"color: #7fbfbf; text-decoration-color: #7fbfbf\">           </span><span style=\"color: #000080; text-decoration-color: #000080\">INFO    </span> sentence: <span style=\"font-weight: bold\">[</span><span style=\"color: #008000; text-decoration-color: #008000\">'哈'</span>, <span style=\"color: #008000; text-decoration-color: #008000\">'哈'</span>, <span style=\"color: #008000; text-decoration-color: #008000\">'哈'</span>, <span style=\"color: #008000; text-decoration-color: #008000\">'哈'</span>, <span style=\"color: #008000; text-decoration-color: #008000\">'哈'</span>, <span style=\"color: #008000; text-decoration-color: #008000\">'哈'</span>, <span style=\"color: #008000; text-decoration-color: #008000\">'镰'</span>, <span style=\"color: #008000; text-decoration-color: #008000\">'刀'</span>, <a href=\"file:///tmp/ipykernel_2969/236964521.py\"><span style=\"color: #7f7f7f; text-decoration-color: #7f7f7f\">236964521.py</span></a><span style=\"color: #7f7f7f; text-decoration-color: #7f7f7f\">:</span><a href=\"file:///tmp/ipykernel_2969/236964521.py#8\"><span style=\"color: #7f7f7f; text-decoration-color: #7f7f7f\">8</span></a>\n",
       "<span style=\"color: #7fbfbf; text-decoration-color: #7fbfbf\">           </span>         <span style=\"color: #008000; text-decoration-color: #008000\">'刮'</span>, <span style=\"color: #008000; text-decoration-color: #008000\">'腋'</span>, <span style=\"color: #008000; text-decoration-color: #008000\">'毛'</span>, <span style=\"color: #008000; text-decoration-color: #008000\">'哈'</span>, <span style=\"color: #008000; text-decoration-color: #008000\">'哈'</span>, <span style=\"color: #008000; text-decoration-color: #008000\">'哈'</span>, <span style=\"color: #008000; text-decoration-color: #008000\">'哈'</span>, <span style=\"color: #008000; text-decoration-color: #008000\">'哈'</span>, <span style=\"color: #008000; text-decoration-color: #008000\">'哈'</span>,      <span style=\"color: #7f7f7f; text-decoration-color: #7f7f7f\">              </span>\n",
       "<span style=\"color: #7fbfbf; text-decoration-color: #7fbfbf\">           </span>         <span style=\"color: #008000; text-decoration-color: #008000\">'我'</span>, <span style=\"color: #008000; text-decoration-color: #008000\">'的'</span>, <span style=\"color: #008000; text-decoration-color: #008000\">'朋'</span>, <span style=\"color: #008000; text-decoration-color: #008000\">'友'</span>, <span style=\"color: #008000; text-decoration-color: #008000\">'是'</span>, <span style=\"color: #008000; text-decoration-color: #008000\">'个'</span>, <span style=\"color: #008000; text-decoration-color: #008000\">'呆'</span>, <span style=\"color: #008000; text-decoration-color: #008000\">'哈'</span>, <span style=\"color: #008000; text-decoration-color: #008000\">'哈'</span>,      <span style=\"color: #7f7f7f; text-decoration-color: #7f7f7f\">              </span>\n",
       "<span style=\"color: #7fbfbf; text-decoration-color: #7fbfbf\">           </span>         <span style=\"color: #008000; text-decoration-color: #008000\">'哈'</span>, <span style=\"color: #008000; text-decoration-color: #008000\">'哈'</span>, <span style=\"color: #008000; text-decoration-color: #008000\">'哈'</span>, <span style=\"color: #008000; text-decoration-color: #008000\">'哈'</span>, <span style=\"color: #008000; text-decoration-color: #008000\">'哈'</span>, <span style=\"color: #008000; text-decoration-color: #008000\">'哈'</span>, <span style=\"color: #008000; text-decoration-color: #008000\">'哈'</span>, <span style=\"color: #008000; text-decoration-color: #008000\">'哈'</span>, <span style=\"color: #008000; text-decoration-color: #008000\">'哈'</span>,      <span style=\"color: #7f7f7f; text-decoration-color: #7f7f7f\">              </span>\n",
       "<span style=\"color: #7fbfbf; text-decoration-color: #7fbfbf\">           </span>         <span style=\"color: #008000; text-decoration-color: #008000\">'哈'</span>, <span style=\"color: #008000; text-decoration-color: #008000\">'哈'</span>, <span style=\"color: #008000; text-decoration-color: #008000\">'十'</span>, <span style=\"color: #008000; text-decoration-color: #008000\">'万'</span>, <span style=\"color: #008000; text-decoration-color: #008000\">'个'</span>, <span style=\"color: #008000; text-decoration-color: #008000\">'冷'</span>, <span style=\"color: #008000; text-decoration-color: #008000\">'笑'</span>, <span style=\"color: #008000; text-decoration-color: #008000\">'话'</span>, <span style=\"color: #008000; text-decoration-color: #008000\">'官'</span>,      <span style=\"color: #7f7f7f; text-decoration-color: #7f7f7f\">              </span>\n",
       "<span style=\"color: #7fbfbf; text-decoration-color: #7fbfbf\">           </span>         <span style=\"color: #008000; text-decoration-color: #008000\">'网'</span>, <span style=\"color: #008000; text-decoration-color: #008000\">'你'</span>, <span style=\"color: #008000; text-decoration-color: #008000\">'这'</span>, <span style=\"color: #008000; text-decoration-color: #008000\">'个'</span>, <span style=\"color: #008000; text-decoration-color: #008000\">'不'</span>, <span style=\"color: #008000; text-decoration-color: #008000\">'孝'</span>, <span style=\"color: #008000; text-decoration-color: #008000\">'子'</span>, <span style=\"color: #008000; text-decoration-color: #008000\">'哈'</span>, <span style=\"color: #008000; text-decoration-color: #008000\">'哈'</span>,      <span style=\"color: #7f7f7f; text-decoration-color: #7f7f7f\">              </span>\n",
       "<span style=\"color: #7fbfbf; text-decoration-color: #7fbfbf\">           </span>         <span style=\"color: #008000; text-decoration-color: #008000\">'哈'</span>, <span style=\"color: #008000; text-decoration-color: #008000\">'哈'</span>, <span style=\"color: #008000; text-decoration-color: #008000\">'哈'</span>, <span style=\"color: #008000; text-decoration-color: #008000\">'萬'</span>, <span style=\"color: #008000; text-decoration-color: #008000\">'萬'</span>, <span style=\"color: #008000; text-decoration-color: #008000\">'哈'</span>, <span style=\"color: #008000; text-decoration-color: #008000\">'哈'</span>, <span style=\"color: #008000; text-decoration-color: #008000\">'哈'</span>, <span style=\"color: #008000; text-decoration-color: #008000\">'哈'</span>,      <span style=\"color: #7f7f7f; text-decoration-color: #7f7f7f\">              </span>\n",
       "<span style=\"color: #7fbfbf; text-decoration-color: #7fbfbf\">           </span>         <span style=\"color: #008000; text-decoration-color: #008000\">'哈'</span>, <span style=\"color: #008000; text-decoration-color: #008000\">'哈'</span>, <span style=\"color: #008000; text-decoration-color: #008000\">'哈'</span>, <span style=\"color: #008000; text-decoration-color: #008000\">'杰'</span>, <span style=\"color: #008000; text-decoration-color: #008000\">'克'</span>, <span style=\"color: #008000; text-decoration-color: #008000\">'波'</span>, <span style=\"color: #008000; text-decoration-color: #008000\">'比'</span>, <span style=\"color: #008000; text-decoration-color: #008000\">'哈'</span>, <span style=\"color: #008000; text-decoration-color: #008000\">'哈'</span>,      <span style=\"color: #7f7f7f; text-decoration-color: #7f7f7f\">              </span>\n",
       "<span style=\"color: #7fbfbf; text-decoration-color: #7fbfbf\">           </span>         <span style=\"color: #008000; text-decoration-color: #008000\">'哈'</span>, <span style=\"color: #008000; text-decoration-color: #008000\">'哈'</span>, <span style=\"color: #008000; text-decoration-color: #008000\">'哈'</span>, <span style=\"color: #008000; text-decoration-color: #008000\">'狼'</span>, <span style=\"color: #008000; text-decoration-color: #008000\">'心'</span>, <span style=\"color: #008000; text-decoration-color: #008000\">'狗'</span>, <span style=\"color: #008000; text-decoration-color: #008000\">'肺'</span>, <span style=\"color: #008000; text-decoration-color: #008000\">'猪'</span>, <span style=\"color: #008000; text-decoration-color: #008000\">'肾'</span>,      <span style=\"color: #7f7f7f; text-decoration-color: #7f7f7f\">              </span>\n",
       "<span style=\"color: #7fbfbf; text-decoration-color: #7fbfbf\">           </span>         <span style=\"color: #008000; text-decoration-color: #008000\">'哈'</span>, <span style=\"color: #008000; text-decoration-color: #008000\">'哈'</span>, <span style=\"color: #008000; text-decoration-color: #008000\">'哈'</span>, <span style=\"color: #008000; text-decoration-color: #008000\">'哈'</span>, <span style=\"color: #008000; text-decoration-color: #008000\">'哈'</span>, <span style=\"color: #008000; text-decoration-color: #008000\">'哈'</span>, <span style=\"color: #008000; text-decoration-color: #008000\">'哈'</span>, <span style=\"color: #008000; text-decoration-color: #008000\">'胡'</span>, <span style=\"color: #008000; text-decoration-color: #008000\">'唠'</span>,      <span style=\"color: #7f7f7f; text-decoration-color: #7f7f7f\">              </span>\n",
       "<span style=\"color: #7fbfbf; text-decoration-color: #7fbfbf\">           </span>         <span style=\"color: #008000; text-decoration-color: #008000\">'哈'</span>, <span style=\"color: #008000; text-decoration-color: #008000\">'哈'</span>, <span style=\"color: #008000; text-decoration-color: #008000\">'哈'</span>, <span style=\"color: #008000; text-decoration-color: #008000\">'哈'</span>, <span style=\"color: #008000; text-decoration-color: #008000\">'哈'</span>, <span style=\"color: #008000; text-decoration-color: #008000\">'哈'</span>, <span style=\"color: #008000; text-decoration-color: #008000\">'哈'</span>, <span style=\"color: #008000; text-decoration-color: #008000\">'哈'</span>, <span style=\"color: #008000; text-decoration-color: #008000\">'哈'</span>,      <span style=\"color: #7f7f7f; text-decoration-color: #7f7f7f\">              </span>\n",
       "<span style=\"color: #7fbfbf; text-decoration-color: #7fbfbf\">           </span>         <span style=\"color: #008000; text-decoration-color: #008000\">'柯'</span>, <span style=\"color: #008000; text-decoration-color: #008000\">'震'</span>, <span style=\"color: #008000; text-decoration-color: #008000\">'倲'</span>, <span style=\"color: #008000; text-decoration-color: #008000\">'哈'</span>, <span style=\"color: #008000; text-decoration-color: #008000\">'哈'</span>, <span style=\"color: #008000; text-decoration-color: #008000\">'哈'</span>, <span style=\"color: #008000; text-decoration-color: #008000\">'哈'</span>, <span style=\"color: #008000; text-decoration-color: #008000\">'哈'</span>, <span style=\"color: #008000; text-decoration-color: #008000\">'哈'</span>,      <span style=\"color: #7f7f7f; text-decoration-color: #7f7f7f\">              </span>\n",
       "<span style=\"color: #7fbfbf; text-decoration-color: #7fbfbf\">           </span>         <span style=\"color: #008000; text-decoration-color: #008000\">'哈'</span><span style=\"font-weight: bold\">]</span>                                                      <span style=\"color: #7f7f7f; text-decoration-color: #7f7f7f\">              </span>\n",
       "</pre>\n"
      ],
      "text/plain": [
       "\u001b[2;36m          \u001b[0m\u001b[2;36m \u001b[0m\u001b[34mINFO    \u001b[0m sentence: \u001b[1m[\u001b[0m\u001b[32m'哈'\u001b[0m, \u001b[32m'哈'\u001b[0m, \u001b[32m'哈'\u001b[0m, \u001b[32m'哈'\u001b[0m, \u001b[32m'哈'\u001b[0m, \u001b[32m'哈'\u001b[0m, \u001b[32m'镰'\u001b[0m, \u001b[32m'刀'\u001b[0m, \u001b]8;id=975346;file:///tmp/ipykernel_2969/236964521.py\u001b\\\u001b[2m236964521.py\u001b[0m\u001b]8;;\u001b\\\u001b[2m:\u001b[0m\u001b]8;id=232602;file:///tmp/ipykernel_2969/236964521.py#8\u001b\\\u001b[2m8\u001b[0m\u001b]8;;\u001b\\\n",
       "\u001b[2;36m           \u001b[0m         \u001b[32m'刮'\u001b[0m, \u001b[32m'腋'\u001b[0m, \u001b[32m'毛'\u001b[0m, \u001b[32m'哈'\u001b[0m, \u001b[32m'哈'\u001b[0m, \u001b[32m'哈'\u001b[0m, \u001b[32m'哈'\u001b[0m, \u001b[32m'哈'\u001b[0m, \u001b[32m'哈'\u001b[0m,      \u001b[2m              \u001b[0m\n",
       "\u001b[2;36m           \u001b[0m         \u001b[32m'我'\u001b[0m, \u001b[32m'的'\u001b[0m, \u001b[32m'朋'\u001b[0m, \u001b[32m'友'\u001b[0m, \u001b[32m'是'\u001b[0m, \u001b[32m'个'\u001b[0m, \u001b[32m'呆'\u001b[0m, \u001b[32m'哈'\u001b[0m, \u001b[32m'哈'\u001b[0m,      \u001b[2m              \u001b[0m\n",
       "\u001b[2;36m           \u001b[0m         \u001b[32m'哈'\u001b[0m, \u001b[32m'哈'\u001b[0m, \u001b[32m'哈'\u001b[0m, \u001b[32m'哈'\u001b[0m, \u001b[32m'哈'\u001b[0m, \u001b[32m'哈'\u001b[0m, \u001b[32m'哈'\u001b[0m, \u001b[32m'哈'\u001b[0m, \u001b[32m'哈'\u001b[0m,      \u001b[2m              \u001b[0m\n",
       "\u001b[2;36m           \u001b[0m         \u001b[32m'哈'\u001b[0m, \u001b[32m'哈'\u001b[0m, \u001b[32m'十'\u001b[0m, \u001b[32m'万'\u001b[0m, \u001b[32m'个'\u001b[0m, \u001b[32m'冷'\u001b[0m, \u001b[32m'笑'\u001b[0m, \u001b[32m'话'\u001b[0m, \u001b[32m'官'\u001b[0m,      \u001b[2m              \u001b[0m\n",
       "\u001b[2;36m           \u001b[0m         \u001b[32m'网'\u001b[0m, \u001b[32m'你'\u001b[0m, \u001b[32m'这'\u001b[0m, \u001b[32m'个'\u001b[0m, \u001b[32m'不'\u001b[0m, \u001b[32m'孝'\u001b[0m, \u001b[32m'子'\u001b[0m, \u001b[32m'哈'\u001b[0m, \u001b[32m'哈'\u001b[0m,      \u001b[2m              \u001b[0m\n",
       "\u001b[2;36m           \u001b[0m         \u001b[32m'哈'\u001b[0m, \u001b[32m'哈'\u001b[0m, \u001b[32m'哈'\u001b[0m, \u001b[32m'萬'\u001b[0m, \u001b[32m'萬'\u001b[0m, \u001b[32m'哈'\u001b[0m, \u001b[32m'哈'\u001b[0m, \u001b[32m'哈'\u001b[0m, \u001b[32m'哈'\u001b[0m,      \u001b[2m              \u001b[0m\n",
       "\u001b[2;36m           \u001b[0m         \u001b[32m'哈'\u001b[0m, \u001b[32m'哈'\u001b[0m, \u001b[32m'哈'\u001b[0m, \u001b[32m'杰'\u001b[0m, \u001b[32m'克'\u001b[0m, \u001b[32m'波'\u001b[0m, \u001b[32m'比'\u001b[0m, \u001b[32m'哈'\u001b[0m, \u001b[32m'哈'\u001b[0m,      \u001b[2m              \u001b[0m\n",
       "\u001b[2;36m           \u001b[0m         \u001b[32m'哈'\u001b[0m, \u001b[32m'哈'\u001b[0m, \u001b[32m'哈'\u001b[0m, \u001b[32m'狼'\u001b[0m, \u001b[32m'心'\u001b[0m, \u001b[32m'狗'\u001b[0m, \u001b[32m'肺'\u001b[0m, \u001b[32m'猪'\u001b[0m, \u001b[32m'肾'\u001b[0m,      \u001b[2m              \u001b[0m\n",
       "\u001b[2;36m           \u001b[0m         \u001b[32m'哈'\u001b[0m, \u001b[32m'哈'\u001b[0m, \u001b[32m'哈'\u001b[0m, \u001b[32m'哈'\u001b[0m, \u001b[32m'哈'\u001b[0m, \u001b[32m'哈'\u001b[0m, \u001b[32m'哈'\u001b[0m, \u001b[32m'胡'\u001b[0m, \u001b[32m'唠'\u001b[0m,      \u001b[2m              \u001b[0m\n",
       "\u001b[2;36m           \u001b[0m         \u001b[32m'哈'\u001b[0m, \u001b[32m'哈'\u001b[0m, \u001b[32m'哈'\u001b[0m, \u001b[32m'哈'\u001b[0m, \u001b[32m'哈'\u001b[0m, \u001b[32m'哈'\u001b[0m, \u001b[32m'哈'\u001b[0m, \u001b[32m'哈'\u001b[0m, \u001b[32m'哈'\u001b[0m,      \u001b[2m              \u001b[0m\n",
       "\u001b[2;36m           \u001b[0m         \u001b[32m'柯'\u001b[0m, \u001b[32m'震'\u001b[0m, \u001b[32m'倲'\u001b[0m, \u001b[32m'哈'\u001b[0m, \u001b[32m'哈'\u001b[0m, \u001b[32m'哈'\u001b[0m, \u001b[32m'哈'\u001b[0m, \u001b[32m'哈'\u001b[0m, \u001b[32m'哈'\u001b[0m,      \u001b[2m              \u001b[0m\n",
       "\u001b[2;36m           \u001b[0m         \u001b[32m'哈'\u001b[0m\u001b[1m]\u001b[0m                                                      \u001b[2m              \u001b[0m\n"
      ]
     },
     "metadata": {},
     "output_type": "display_data"
    },
    {
     "data": {
      "text/html": [
       "<pre style=\"white-space:pre;overflow-x:auto;line-height:normal;font-family:Menlo,'DejaVu Sans Mono',consolas,'Courier New',monospace\"><span style=\"color: #7fbfbf; text-decoration-color: #7fbfbf\">           </span><span style=\"color: #000080; text-decoration-color: #000080\">INFO    </span> labels: <span style=\"font-weight: bold\">[</span><span style=\"color: #008000; text-decoration-color: #008000\">'O'</span>, <span style=\"color: #008000; text-decoration-color: #008000\">'O'</span>, <span style=\"color: #008000; text-decoration-color: #008000\">'O'</span>, <span style=\"color: #008000; text-decoration-color: #008000\">'O'</span>, <span style=\"color: #008000; text-decoration-color: #008000\">'O'</span>, <span style=\"color: #008000; text-decoration-color: #008000\">'O'</span>, <span style=\"color: #008000; text-decoration-color: #008000\">'O'</span>, <span style=\"color: #008000; text-decoration-color: #008000\">'O'</span>, <span style=\"color: #008000; text-decoration-color: #008000\">'O'</span>,     <a href=\"file:///tmp/ipykernel_2969/236964521.py\"><span style=\"color: #7f7f7f; text-decoration-color: #7f7f7f\">236964521.py</span></a><span style=\"color: #7f7f7f; text-decoration-color: #7f7f7f\">:</span><a href=\"file:///tmp/ipykernel_2969/236964521.py#10\"><span style=\"color: #7f7f7f; text-decoration-color: #7f7f7f\">10</span></a>\n",
       "<span style=\"color: #7fbfbf; text-decoration-color: #7fbfbf\">           </span>         <span style=\"color: #008000; text-decoration-color: #008000\">'O'</span>, <span style=\"color: #008000; text-decoration-color: #008000\">'O'</span>, <span style=\"color: #008000; text-decoration-color: #008000\">'O'</span>, <span style=\"color: #008000; text-decoration-color: #008000\">'O'</span>, <span style=\"color: #008000; text-decoration-color: #008000\">'O'</span>, <span style=\"color: #008000; text-decoration-color: #008000\">'O'</span>, <span style=\"color: #008000; text-decoration-color: #008000\">'O'</span>, <span style=\"color: #008000; text-decoration-color: #008000\">'O'</span>, <span style=\"color: #008000; text-decoration-color: #008000\">'O'</span>, <span style=\"color: #008000; text-decoration-color: #008000\">'O'</span>,         <span style=\"color: #7f7f7f; text-decoration-color: #7f7f7f\">               </span>\n",
       "<span style=\"color: #7fbfbf; text-decoration-color: #7fbfbf\">           </span>         <span style=\"color: #008000; text-decoration-color: #008000\">'B-PER.NOM'</span>, <span style=\"color: #008000; text-decoration-color: #008000\">'I-PER.NOM'</span>, <span style=\"color: #008000; text-decoration-color: #008000\">'O'</span>, <span style=\"color: #008000; text-decoration-color: #008000\">'O'</span>, <span style=\"color: #008000; text-decoration-color: #008000\">'O'</span>, <span style=\"color: #008000; text-decoration-color: #008000\">'O'</span>, <span style=\"color: #008000; text-decoration-color: #008000\">'O'</span>, <span style=\"color: #008000; text-decoration-color: #008000\">'O'</span>,   <span style=\"color: #7f7f7f; text-decoration-color: #7f7f7f\">               </span>\n",
       "<span style=\"color: #7fbfbf; text-decoration-color: #7fbfbf\">           </span>         <span style=\"color: #008000; text-decoration-color: #008000\">'O'</span>, <span style=\"color: #008000; text-decoration-color: #008000\">'O'</span>, <span style=\"color: #008000; text-decoration-color: #008000\">'O'</span>, <span style=\"color: #008000; text-decoration-color: #008000\">'O'</span>, <span style=\"color: #008000; text-decoration-color: #008000\">'O'</span>, <span style=\"color: #008000; text-decoration-color: #008000\">'O'</span>, <span style=\"color: #008000; text-decoration-color: #008000\">'O'</span>, <span style=\"color: #008000; text-decoration-color: #008000\">'O'</span>, <span style=\"color: #008000; text-decoration-color: #008000\">'O'</span>, <span style=\"color: #008000; text-decoration-color: #008000\">'O'</span>, <span style=\"color: #008000; text-decoration-color: #008000\">'O'</span>,    <span style=\"color: #7f7f7f; text-decoration-color: #7f7f7f\">               </span>\n",
       "<span style=\"color: #7fbfbf; text-decoration-color: #7fbfbf\">           </span>         <span style=\"color: #008000; text-decoration-color: #008000\">'O'</span>, <span style=\"color: #008000; text-decoration-color: #008000\">'O'</span>, <span style=\"color: #008000; text-decoration-color: #008000\">'O'</span>, <span style=\"color: #008000; text-decoration-color: #008000\">'O'</span>, <span style=\"color: #008000; text-decoration-color: #008000\">'O'</span>, <span style=\"color: #008000; text-decoration-color: #008000\">'O'</span>, <span style=\"color: #008000; text-decoration-color: #008000\">'O'</span>, <span style=\"color: #008000; text-decoration-color: #008000\">'O'</span>, <span style=\"color: #008000; text-decoration-color: #008000\">'O'</span>, <span style=\"color: #008000; text-decoration-color: #008000\">'O'</span>, <span style=\"color: #008000; text-decoration-color: #008000\">'O'</span>,    <span style=\"color: #7f7f7f; text-decoration-color: #7f7f7f\">               </span>\n",
       "<span style=\"color: #7fbfbf; text-decoration-color: #7fbfbf\">           </span>         <span style=\"color: #008000; text-decoration-color: #008000\">'O'</span>, <span style=\"color: #008000; text-decoration-color: #008000\">'I-PER.NOM'</span>, <span style=\"color: #008000; text-decoration-color: #008000\">'O'</span>, <span style=\"color: #008000; text-decoration-color: #008000\">'O'</span>, <span style=\"color: #008000; text-decoration-color: #008000\">'O'</span>, <span style=\"color: #008000; text-decoration-color: #008000\">'O'</span>, <span style=\"color: #008000; text-decoration-color: #008000\">'O'</span>, <span style=\"color: #008000; text-decoration-color: #008000\">'O'</span>, <span style=\"color: #008000; text-decoration-color: #008000\">'O'</span>, <span style=\"color: #008000; text-decoration-color: #008000\">'O'</span>, <span style=\"color: #7f7f7f; text-decoration-color: #7f7f7f\">               </span>\n",
       "<span style=\"color: #7fbfbf; text-decoration-color: #7fbfbf\">           </span>         <span style=\"color: #008000; text-decoration-color: #008000\">'O'</span>, <span style=\"color: #008000; text-decoration-color: #008000\">'O'</span>, <span style=\"color: #008000; text-decoration-color: #008000\">'O'</span>, <span style=\"color: #008000; text-decoration-color: #008000\">'O'</span>, <span style=\"color: #008000; text-decoration-color: #008000\">'O'</span>, <span style=\"color: #008000; text-decoration-color: #008000\">'O'</span>, <span style=\"color: #008000; text-decoration-color: #008000\">'O'</span>, <span style=\"color: #008000; text-decoration-color: #008000\">'O'</span>, <span style=\"color: #008000; text-decoration-color: #008000\">'O'</span>, <span style=\"color: #008000; text-decoration-color: #008000\">'O'</span>, <span style=\"color: #008000; text-decoration-color: #008000\">'O'</span>,    <span style=\"color: #7f7f7f; text-decoration-color: #7f7f7f\">               </span>\n",
       "<span style=\"color: #7fbfbf; text-decoration-color: #7fbfbf\">           </span>         <span style=\"color: #008000; text-decoration-color: #008000\">'O'</span>, <span style=\"color: #008000; text-decoration-color: #008000\">'O'</span>, <span style=\"color: #008000; text-decoration-color: #008000\">'O'</span>, <span style=\"color: #008000; text-decoration-color: #008000\">'O'</span>, <span style=\"color: #008000; text-decoration-color: #008000\">'O'</span>, <span style=\"color: #008000; text-decoration-color: #008000\">'O'</span>, <span style=\"color: #008000; text-decoration-color: #008000\">'O'</span>, <span style=\"color: #008000; text-decoration-color: #008000\">'O'</span>, <span style=\"color: #008000; text-decoration-color: #008000\">'O'</span>, <span style=\"color: #008000; text-decoration-color: #008000\">'O'</span>, <span style=\"color: #008000; text-decoration-color: #008000\">'O'</span>,    <span style=\"color: #7f7f7f; text-decoration-color: #7f7f7f\">               </span>\n",
       "<span style=\"color: #7fbfbf; text-decoration-color: #7fbfbf\">           </span>         <span style=\"color: #008000; text-decoration-color: #008000\">'O'</span>, <span style=\"color: #008000; text-decoration-color: #008000\">'O'</span>, <span style=\"color: #008000; text-decoration-color: #008000\">'O'</span>, <span style=\"color: #008000; text-decoration-color: #008000\">'O'</span>, <span style=\"color: #008000; text-decoration-color: #008000\">'O'</span>, <span style=\"color: #008000; text-decoration-color: #008000\">'O'</span>, <span style=\"color: #008000; text-decoration-color: #008000\">'O'</span>, <span style=\"color: #008000; text-decoration-color: #008000\">'O'</span>, <span style=\"color: #008000; text-decoration-color: #008000\">'O'</span>, <span style=\"color: #008000; text-decoration-color: #008000\">'O'</span>, <span style=\"color: #008000; text-decoration-color: #008000\">'O'</span>,    <span style=\"color: #7f7f7f; text-decoration-color: #7f7f7f\">               </span>\n",
       "<span style=\"color: #7fbfbf; text-decoration-color: #7fbfbf\">           </span>         <span style=\"color: #008000; text-decoration-color: #008000\">'O'</span>, <span style=\"color: #008000; text-decoration-color: #008000\">'O'</span>, <span style=\"color: #008000; text-decoration-color: #008000\">'O'</span>, <span style=\"color: #008000; text-decoration-color: #008000\">'O'</span>, <span style=\"color: #008000; text-decoration-color: #008000\">'O'</span>, <span style=\"color: #008000; text-decoration-color: #008000\">'O'</span>, <span style=\"color: #008000; text-decoration-color: #008000\">'B-PER.NAM'</span>, <span style=\"color: #008000; text-decoration-color: #008000\">'I-PER.NAM'</span>,   <span style=\"color: #7f7f7f; text-decoration-color: #7f7f7f\">               </span>\n",
       "<span style=\"color: #7fbfbf; text-decoration-color: #7fbfbf\">           </span>         <span style=\"color: #008000; text-decoration-color: #008000\">'I-PER.NAM'</span>, <span style=\"color: #008000; text-decoration-color: #008000\">'O'</span>, <span style=\"color: #008000; text-decoration-color: #008000\">'O'</span>, <span style=\"color: #008000; text-decoration-color: #008000\">'O'</span>, <span style=\"color: #008000; text-decoration-color: #008000\">'O'</span>, <span style=\"color: #008000; text-decoration-color: #008000\">'O'</span>, <span style=\"color: #008000; text-decoration-color: #008000\">'O'</span>, <span style=\"color: #008000; text-decoration-color: #008000\">'O'</span><span style=\"font-weight: bold\">]</span>           <span style=\"color: #7f7f7f; text-decoration-color: #7f7f7f\">               </span>\n",
       "</pre>\n"
      ],
      "text/plain": [
       "\u001b[2;36m          \u001b[0m\u001b[2;36m \u001b[0m\u001b[34mINFO    \u001b[0m labels: \u001b[1m[\u001b[0m\u001b[32m'O'\u001b[0m, \u001b[32m'O'\u001b[0m, \u001b[32m'O'\u001b[0m, \u001b[32m'O'\u001b[0m, \u001b[32m'O'\u001b[0m, \u001b[32m'O'\u001b[0m, \u001b[32m'O'\u001b[0m, \u001b[32m'O'\u001b[0m, \u001b[32m'O'\u001b[0m,     \u001b]8;id=939624;file:///tmp/ipykernel_2969/236964521.py\u001b\\\u001b[2m236964521.py\u001b[0m\u001b]8;;\u001b\\\u001b[2m:\u001b[0m\u001b]8;id=276977;file:///tmp/ipykernel_2969/236964521.py#10\u001b\\\u001b[2m10\u001b[0m\u001b]8;;\u001b\\\n",
       "\u001b[2;36m           \u001b[0m         \u001b[32m'O'\u001b[0m, \u001b[32m'O'\u001b[0m, \u001b[32m'O'\u001b[0m, \u001b[32m'O'\u001b[0m, \u001b[32m'O'\u001b[0m, \u001b[32m'O'\u001b[0m, \u001b[32m'O'\u001b[0m, \u001b[32m'O'\u001b[0m, \u001b[32m'O'\u001b[0m, \u001b[32m'O'\u001b[0m,         \u001b[2m               \u001b[0m\n",
       "\u001b[2;36m           \u001b[0m         \u001b[32m'B-PER.NOM'\u001b[0m, \u001b[32m'I-PER.NOM'\u001b[0m, \u001b[32m'O'\u001b[0m, \u001b[32m'O'\u001b[0m, \u001b[32m'O'\u001b[0m, \u001b[32m'O'\u001b[0m, \u001b[32m'O'\u001b[0m, \u001b[32m'O'\u001b[0m,   \u001b[2m               \u001b[0m\n",
       "\u001b[2;36m           \u001b[0m         \u001b[32m'O'\u001b[0m, \u001b[32m'O'\u001b[0m, \u001b[32m'O'\u001b[0m, \u001b[32m'O'\u001b[0m, \u001b[32m'O'\u001b[0m, \u001b[32m'O'\u001b[0m, \u001b[32m'O'\u001b[0m, \u001b[32m'O'\u001b[0m, \u001b[32m'O'\u001b[0m, \u001b[32m'O'\u001b[0m, \u001b[32m'O'\u001b[0m,    \u001b[2m               \u001b[0m\n",
       "\u001b[2;36m           \u001b[0m         \u001b[32m'O'\u001b[0m, \u001b[32m'O'\u001b[0m, \u001b[32m'O'\u001b[0m, \u001b[32m'O'\u001b[0m, \u001b[32m'O'\u001b[0m, \u001b[32m'O'\u001b[0m, \u001b[32m'O'\u001b[0m, \u001b[32m'O'\u001b[0m, \u001b[32m'O'\u001b[0m, \u001b[32m'O'\u001b[0m, \u001b[32m'O'\u001b[0m,    \u001b[2m               \u001b[0m\n",
       "\u001b[2;36m           \u001b[0m         \u001b[32m'O'\u001b[0m, \u001b[32m'I-PER.NOM'\u001b[0m, \u001b[32m'O'\u001b[0m, \u001b[32m'O'\u001b[0m, \u001b[32m'O'\u001b[0m, \u001b[32m'O'\u001b[0m, \u001b[32m'O'\u001b[0m, \u001b[32m'O'\u001b[0m, \u001b[32m'O'\u001b[0m, \u001b[32m'O'\u001b[0m, \u001b[2m               \u001b[0m\n",
       "\u001b[2;36m           \u001b[0m         \u001b[32m'O'\u001b[0m, \u001b[32m'O'\u001b[0m, \u001b[32m'O'\u001b[0m, \u001b[32m'O'\u001b[0m, \u001b[32m'O'\u001b[0m, \u001b[32m'O'\u001b[0m, \u001b[32m'O'\u001b[0m, \u001b[32m'O'\u001b[0m, \u001b[32m'O'\u001b[0m, \u001b[32m'O'\u001b[0m, \u001b[32m'O'\u001b[0m,    \u001b[2m               \u001b[0m\n",
       "\u001b[2;36m           \u001b[0m         \u001b[32m'O'\u001b[0m, \u001b[32m'O'\u001b[0m, \u001b[32m'O'\u001b[0m, \u001b[32m'O'\u001b[0m, \u001b[32m'O'\u001b[0m, \u001b[32m'O'\u001b[0m, \u001b[32m'O'\u001b[0m, \u001b[32m'O'\u001b[0m, \u001b[32m'O'\u001b[0m, \u001b[32m'O'\u001b[0m, \u001b[32m'O'\u001b[0m,    \u001b[2m               \u001b[0m\n",
       "\u001b[2;36m           \u001b[0m         \u001b[32m'O'\u001b[0m, \u001b[32m'O'\u001b[0m, \u001b[32m'O'\u001b[0m, \u001b[32m'O'\u001b[0m, \u001b[32m'O'\u001b[0m, \u001b[32m'O'\u001b[0m, \u001b[32m'O'\u001b[0m, \u001b[32m'O'\u001b[0m, \u001b[32m'O'\u001b[0m, \u001b[32m'O'\u001b[0m, \u001b[32m'O'\u001b[0m,    \u001b[2m               \u001b[0m\n",
       "\u001b[2;36m           \u001b[0m         \u001b[32m'O'\u001b[0m, \u001b[32m'O'\u001b[0m, \u001b[32m'O'\u001b[0m, \u001b[32m'O'\u001b[0m, \u001b[32m'O'\u001b[0m, \u001b[32m'O'\u001b[0m, \u001b[32m'B-PER.NAM'\u001b[0m, \u001b[32m'I-PER.NAM'\u001b[0m,   \u001b[2m               \u001b[0m\n",
       "\u001b[2;36m           \u001b[0m         \u001b[32m'I-PER.NAM'\u001b[0m, \u001b[32m'O'\u001b[0m, \u001b[32m'O'\u001b[0m, \u001b[32m'O'\u001b[0m, \u001b[32m'O'\u001b[0m, \u001b[32m'O'\u001b[0m, \u001b[32m'O'\u001b[0m, \u001b[32m'O'\u001b[0m\u001b[1m]\u001b[0m           \u001b[2m               \u001b[0m\n"
      ]
     },
     "metadata": {},
     "output_type": "display_data"
    },
    {
     "data": {
      "text/html": [
       "<pre style=\"white-space:pre;overflow-x:auto;line-height:normal;font-family:Menlo,'DejaVu Sans Mono',consolas,'Courier New',monospace\"><span style=\"color: #7fbfbf; text-decoration-color: #7fbfbf\">           </span><span style=\"color: #000080; text-decoration-color: #000080\">INFO    </span> target: <span style=\"font-weight: bold\">[</span><span style=\"color: #008000; text-decoration-color: #008000\">'O'</span>, <span style=\"color: #008000; text-decoration-color: #008000\">'O'</span>, <span style=\"color: #008000; text-decoration-color: #008000\">'O'</span>, <span style=\"color: #008000; text-decoration-color: #008000\">'O'</span>, <span style=\"color: #008000; text-decoration-color: #008000\">'O'</span>, <span style=\"color: #008000; text-decoration-color: #008000\">'O'</span>, <span style=\"color: #008000; text-decoration-color: #008000\">'O'</span>, <span style=\"color: #008000; text-decoration-color: #008000\">'O'</span>, <span style=\"color: #008000; text-decoration-color: #008000\">'O'</span>,     <a href=\"file:///tmp/ipykernel_2969/236964521.py\"><span style=\"color: #7f7f7f; text-decoration-color: #7f7f7f\">236964521.py</span></a><span style=\"color: #7f7f7f; text-decoration-color: #7f7f7f\">:</span><a href=\"file:///tmp/ipykernel_2969/236964521.py#11\"><span style=\"color: #7f7f7f; text-decoration-color: #7f7f7f\">11</span></a>\n",
       "<span style=\"color: #7fbfbf; text-decoration-color: #7fbfbf\">           </span>         <span style=\"color: #008000; text-decoration-color: #008000\">'O'</span>, <span style=\"color: #008000; text-decoration-color: #008000\">'O'</span>, <span style=\"color: #008000; text-decoration-color: #008000\">'O'</span>, <span style=\"color: #008000; text-decoration-color: #008000\">'O'</span>, <span style=\"color: #008000; text-decoration-color: #008000\">'O'</span>, <span style=\"color: #008000; text-decoration-color: #008000\">'O'</span>, <span style=\"color: #008000; text-decoration-color: #008000\">'O'</span>, <span style=\"color: #008000; text-decoration-color: #008000\">'O'</span>, <span style=\"color: #008000; text-decoration-color: #008000\">'O'</span>, <span style=\"color: #008000; text-decoration-color: #008000\">'O'</span>, <span style=\"color: #008000; text-decoration-color: #008000\">'O'</span>,    <span style=\"color: #7f7f7f; text-decoration-color: #7f7f7f\">               </span>\n",
       "<span style=\"color: #7fbfbf; text-decoration-color: #7fbfbf\">           </span>         <span style=\"color: #008000; text-decoration-color: #008000\">'O'</span>, <span style=\"color: #008000; text-decoration-color: #008000\">'O'</span>, <span style=\"color: #008000; text-decoration-color: #008000\">'O'</span>, <span style=\"color: #008000; text-decoration-color: #008000\">'O'</span>, <span style=\"color: #008000; text-decoration-color: #008000\">'O'</span>, <span style=\"color: #008000; text-decoration-color: #008000\">'O'</span>, <span style=\"color: #008000; text-decoration-color: #008000\">'O'</span>, <span style=\"color: #008000; text-decoration-color: #008000\">'O'</span>, <span style=\"color: #008000; text-decoration-color: #008000\">'O'</span>, <span style=\"color: #008000; text-decoration-color: #008000\">'O'</span>, <span style=\"color: #008000; text-decoration-color: #008000\">'O'</span>,    <span style=\"color: #7f7f7f; text-decoration-color: #7f7f7f\">               </span>\n",
       "<span style=\"color: #7fbfbf; text-decoration-color: #7fbfbf\">           </span>         <span style=\"color: #008000; text-decoration-color: #008000\">'O'</span>, <span style=\"color: #008000; text-decoration-color: #008000\">'O'</span>, <span style=\"color: #008000; text-decoration-color: #008000\">'O'</span>, <span style=\"color: #008000; text-decoration-color: #008000\">'O'</span>, <span style=\"color: #008000; text-decoration-color: #008000\">'O'</span>, <span style=\"color: #008000; text-decoration-color: #008000\">'O'</span>, <span style=\"color: #008000; text-decoration-color: #008000\">'O'</span>, <span style=\"color: #008000; text-decoration-color: #008000\">'O'</span>, <span style=\"color: #008000; text-decoration-color: #008000\">'O'</span>, <span style=\"color: #008000; text-decoration-color: #008000\">'O'</span>, <span style=\"color: #008000; text-decoration-color: #008000\">'O'</span>,    <span style=\"color: #7f7f7f; text-decoration-color: #7f7f7f\">               </span>\n",
       "<span style=\"color: #7fbfbf; text-decoration-color: #7fbfbf\">           </span>         <span style=\"color: #008000; text-decoration-color: #008000\">'O'</span>, <span style=\"color: #008000; text-decoration-color: #008000\">'O'</span>, <span style=\"color: #008000; text-decoration-color: #008000\">'O'</span>, <span style=\"color: #008000; text-decoration-color: #008000\">'O'</span>, <span style=\"color: #008000; text-decoration-color: #008000\">'O'</span>, <span style=\"color: #008000; text-decoration-color: #008000\">'O'</span>, <span style=\"color: #008000; text-decoration-color: #008000\">'O'</span>, <span style=\"color: #008000; text-decoration-color: #008000\">'O'</span>, <span style=\"color: #008000; text-decoration-color: #008000\">'O'</span>, <span style=\"color: #008000; text-decoration-color: #008000\">'O'</span>, <span style=\"color: #008000; text-decoration-color: #008000\">'O'</span>,    <span style=\"color: #7f7f7f; text-decoration-color: #7f7f7f\">               </span>\n",
       "<span style=\"color: #7fbfbf; text-decoration-color: #7fbfbf\">           </span>         <span style=\"color: #008000; text-decoration-color: #008000\">'O'</span>, <span style=\"color: #008000; text-decoration-color: #008000\">'O'</span>, <span style=\"color: #008000; text-decoration-color: #008000\">'O'</span>, <span style=\"color: #008000; text-decoration-color: #008000\">'O'</span>, <span style=\"color: #008000; text-decoration-color: #008000\">'O'</span>, <span style=\"color: #008000; text-decoration-color: #008000\">'O'</span>, <span style=\"color: #008000; text-decoration-color: #008000\">'O'</span>, <span style=\"color: #008000; text-decoration-color: #008000\">'O'</span>, <span style=\"color: #008000; text-decoration-color: #008000\">'O'</span>, <span style=\"color: #008000; text-decoration-color: #008000\">'O'</span>, <span style=\"color: #008000; text-decoration-color: #008000\">'O'</span>,    <span style=\"color: #7f7f7f; text-decoration-color: #7f7f7f\">               </span>\n",
       "<span style=\"color: #7fbfbf; text-decoration-color: #7fbfbf\">           </span>         <span style=\"color: #008000; text-decoration-color: #008000\">'O'</span>, <span style=\"color: #008000; text-decoration-color: #008000\">'O'</span>, <span style=\"color: #008000; text-decoration-color: #008000\">'O'</span>, <span style=\"color: #008000; text-decoration-color: #008000\">'O'</span>, <span style=\"color: #008000; text-decoration-color: #008000\">'O'</span>, <span style=\"color: #008000; text-decoration-color: #008000\">'O'</span>, <span style=\"color: #008000; text-decoration-color: #008000\">'O'</span>, <span style=\"color: #008000; text-decoration-color: #008000\">'O'</span>, <span style=\"color: #008000; text-decoration-color: #008000\">'O'</span>, <span style=\"color: #008000; text-decoration-color: #008000\">'O'</span>, <span style=\"color: #008000; text-decoration-color: #008000\">'O'</span>,    <span style=\"color: #7f7f7f; text-decoration-color: #7f7f7f\">               </span>\n",
       "<span style=\"color: #7fbfbf; text-decoration-color: #7fbfbf\">           </span>         <span style=\"color: #008000; text-decoration-color: #008000\">'O'</span>, <span style=\"color: #008000; text-decoration-color: #008000\">'O'</span>, <span style=\"color: #008000; text-decoration-color: #008000\">'O'</span>, <span style=\"color: #008000; text-decoration-color: #008000\">'O'</span>, <span style=\"color: #008000; text-decoration-color: #008000\">'O'</span>, <span style=\"color: #008000; text-decoration-color: #008000\">'O'</span>, <span style=\"color: #008000; text-decoration-color: #008000\">'O'</span>, <span style=\"color: #008000; text-decoration-color: #008000\">'O'</span>, <span style=\"color: #008000; text-decoration-color: #008000\">'O'</span>, <span style=\"color: #008000; text-decoration-color: #008000\">'O'</span>, <span style=\"color: #008000; text-decoration-color: #008000\">'O'</span>,    <span style=\"color: #7f7f7f; text-decoration-color: #7f7f7f\">               </span>\n",
       "<span style=\"color: #7fbfbf; text-decoration-color: #7fbfbf\">           </span>         <span style=\"color: #008000; text-decoration-color: #008000\">'O'</span>, <span style=\"color: #008000; text-decoration-color: #008000\">'O'</span>, <span style=\"color: #008000; text-decoration-color: #008000\">'O'</span>, <span style=\"color: #008000; text-decoration-color: #008000\">'O'</span>, <span style=\"color: #008000; text-decoration-color: #008000\">'O'</span>, <span style=\"color: #008000; text-decoration-color: #008000\">'O'</span>, <span style=\"color: #008000; text-decoration-color: #008000\">'O'</span>, <span style=\"color: #008000; text-decoration-color: #008000\">'O'</span>, <span style=\"color: #008000; text-decoration-color: #008000\">'O'</span>, <span style=\"color: #008000; text-decoration-color: #008000\">'O'</span>, <span style=\"color: #008000; text-decoration-color: #008000\">'O'</span>,    <span style=\"color: #7f7f7f; text-decoration-color: #7f7f7f\">               </span>\n",
       "<span style=\"color: #7fbfbf; text-decoration-color: #7fbfbf\">           </span>         <span style=\"color: #008000; text-decoration-color: #008000\">'O'</span>, <span style=\"color: #008000; text-decoration-color: #008000\">'B-PER.NAM'</span>, <span style=\"color: #008000; text-decoration-color: #008000\">'I-PER.NAM'</span>, <span style=\"color: #008000; text-decoration-color: #008000\">'I-PER.NAM'</span>, <span style=\"color: #008000; text-decoration-color: #008000\">'O'</span>, <span style=\"color: #008000; text-decoration-color: #008000\">'O'</span>,     <span style=\"color: #7f7f7f; text-decoration-color: #7f7f7f\">               </span>\n",
       "<span style=\"color: #7fbfbf; text-decoration-color: #7fbfbf\">           </span>         <span style=\"color: #008000; text-decoration-color: #008000\">'O'</span>, <span style=\"color: #008000; text-decoration-color: #008000\">'O'</span>, <span style=\"color: #008000; text-decoration-color: #008000\">'O'</span>, <span style=\"color: #008000; text-decoration-color: #008000\">'O'</span>, <span style=\"color: #008000; text-decoration-color: #008000\">'O'</span><span style=\"font-weight: bold\">]</span>                                  <span style=\"color: #7f7f7f; text-decoration-color: #7f7f7f\">               </span>\n",
       "</pre>\n"
      ],
      "text/plain": [
       "\u001b[2;36m          \u001b[0m\u001b[2;36m \u001b[0m\u001b[34mINFO    \u001b[0m target: \u001b[1m[\u001b[0m\u001b[32m'O'\u001b[0m, \u001b[32m'O'\u001b[0m, \u001b[32m'O'\u001b[0m, \u001b[32m'O'\u001b[0m, \u001b[32m'O'\u001b[0m, \u001b[32m'O'\u001b[0m, \u001b[32m'O'\u001b[0m, \u001b[32m'O'\u001b[0m, \u001b[32m'O'\u001b[0m,     \u001b]8;id=642113;file:///tmp/ipykernel_2969/236964521.py\u001b\\\u001b[2m236964521.py\u001b[0m\u001b]8;;\u001b\\\u001b[2m:\u001b[0m\u001b]8;id=65424;file:///tmp/ipykernel_2969/236964521.py#11\u001b\\\u001b[2m11\u001b[0m\u001b]8;;\u001b\\\n",
       "\u001b[2;36m           \u001b[0m         \u001b[32m'O'\u001b[0m, \u001b[32m'O'\u001b[0m, \u001b[32m'O'\u001b[0m, \u001b[32m'O'\u001b[0m, \u001b[32m'O'\u001b[0m, \u001b[32m'O'\u001b[0m, \u001b[32m'O'\u001b[0m, \u001b[32m'O'\u001b[0m, \u001b[32m'O'\u001b[0m, \u001b[32m'O'\u001b[0m, \u001b[32m'O'\u001b[0m,    \u001b[2m               \u001b[0m\n",
       "\u001b[2;36m           \u001b[0m         \u001b[32m'O'\u001b[0m, \u001b[32m'O'\u001b[0m, \u001b[32m'O'\u001b[0m, \u001b[32m'O'\u001b[0m, \u001b[32m'O'\u001b[0m, \u001b[32m'O'\u001b[0m, \u001b[32m'O'\u001b[0m, \u001b[32m'O'\u001b[0m, \u001b[32m'O'\u001b[0m, \u001b[32m'O'\u001b[0m, \u001b[32m'O'\u001b[0m,    \u001b[2m               \u001b[0m\n",
       "\u001b[2;36m           \u001b[0m         \u001b[32m'O'\u001b[0m, \u001b[32m'O'\u001b[0m, \u001b[32m'O'\u001b[0m, \u001b[32m'O'\u001b[0m, \u001b[32m'O'\u001b[0m, \u001b[32m'O'\u001b[0m, \u001b[32m'O'\u001b[0m, \u001b[32m'O'\u001b[0m, \u001b[32m'O'\u001b[0m, \u001b[32m'O'\u001b[0m, \u001b[32m'O'\u001b[0m,    \u001b[2m               \u001b[0m\n",
       "\u001b[2;36m           \u001b[0m         \u001b[32m'O'\u001b[0m, \u001b[32m'O'\u001b[0m, \u001b[32m'O'\u001b[0m, \u001b[32m'O'\u001b[0m, \u001b[32m'O'\u001b[0m, \u001b[32m'O'\u001b[0m, \u001b[32m'O'\u001b[0m, \u001b[32m'O'\u001b[0m, \u001b[32m'O'\u001b[0m, \u001b[32m'O'\u001b[0m, \u001b[32m'O'\u001b[0m,    \u001b[2m               \u001b[0m\n",
       "\u001b[2;36m           \u001b[0m         \u001b[32m'O'\u001b[0m, \u001b[32m'O'\u001b[0m, \u001b[32m'O'\u001b[0m, \u001b[32m'O'\u001b[0m, \u001b[32m'O'\u001b[0m, \u001b[32m'O'\u001b[0m, \u001b[32m'O'\u001b[0m, \u001b[32m'O'\u001b[0m, \u001b[32m'O'\u001b[0m, \u001b[32m'O'\u001b[0m, \u001b[32m'O'\u001b[0m,    \u001b[2m               \u001b[0m\n",
       "\u001b[2;36m           \u001b[0m         \u001b[32m'O'\u001b[0m, \u001b[32m'O'\u001b[0m, \u001b[32m'O'\u001b[0m, \u001b[32m'O'\u001b[0m, \u001b[32m'O'\u001b[0m, \u001b[32m'O'\u001b[0m, \u001b[32m'O'\u001b[0m, \u001b[32m'O'\u001b[0m, \u001b[32m'O'\u001b[0m, \u001b[32m'O'\u001b[0m, \u001b[32m'O'\u001b[0m,    \u001b[2m               \u001b[0m\n",
       "\u001b[2;36m           \u001b[0m         \u001b[32m'O'\u001b[0m, \u001b[32m'O'\u001b[0m, \u001b[32m'O'\u001b[0m, \u001b[32m'O'\u001b[0m, \u001b[32m'O'\u001b[0m, \u001b[32m'O'\u001b[0m, \u001b[32m'O'\u001b[0m, \u001b[32m'O'\u001b[0m, \u001b[32m'O'\u001b[0m, \u001b[32m'O'\u001b[0m, \u001b[32m'O'\u001b[0m,    \u001b[2m               \u001b[0m\n",
       "\u001b[2;36m           \u001b[0m         \u001b[32m'O'\u001b[0m, \u001b[32m'O'\u001b[0m, \u001b[32m'O'\u001b[0m, \u001b[32m'O'\u001b[0m, \u001b[32m'O'\u001b[0m, \u001b[32m'O'\u001b[0m, \u001b[32m'O'\u001b[0m, \u001b[32m'O'\u001b[0m, \u001b[32m'O'\u001b[0m, \u001b[32m'O'\u001b[0m, \u001b[32m'O'\u001b[0m,    \u001b[2m               \u001b[0m\n",
       "\u001b[2;36m           \u001b[0m         \u001b[32m'O'\u001b[0m, \u001b[32m'B-PER.NAM'\u001b[0m, \u001b[32m'I-PER.NAM'\u001b[0m, \u001b[32m'I-PER.NAM'\u001b[0m, \u001b[32m'O'\u001b[0m, \u001b[32m'O'\u001b[0m,     \u001b[2m               \u001b[0m\n",
       "\u001b[2;36m           \u001b[0m         \u001b[32m'O'\u001b[0m, \u001b[32m'O'\u001b[0m, \u001b[32m'O'\u001b[0m, \u001b[32m'O'\u001b[0m, \u001b[32m'O'\u001b[0m\u001b[1m]\u001b[0m                                  \u001b[2m               \u001b[0m\n"
      ]
     },
     "metadata": {},
     "output_type": "display_data"
    },
    {
     "data": {
      "text/html": [
       "<pre style=\"white-space:pre;overflow-x:auto;line-height:normal;font-family:Menlo,'DejaVu Sans Mono',consolas,'Courier New',monospace\"><span style=\"color: #7fbfbf; text-decoration-color: #7fbfbf\">           </span><span style=\"color: #000080; text-decoration-color: #000080\">INFO    </span> sentence: <span style=\"font-weight: bold\">[</span><span style=\"color: #008000; text-decoration-color: #008000\">'�'</span>, <span style=\"color: #008000; text-decoration-color: #008000\">'�'</span>, <span style=\"color: #008000; text-decoration-color: #008000\">'就'</span>, <span style=\"color: #008000; text-decoration-color: #008000\">'爱'</span>, <span style=\"color: #008000; text-decoration-color: #008000\">'这'</span>, <span style=\"color: #008000; text-decoration-color: #008000\">'个'</span>, <span style=\"color: #008000; text-decoration-color: #008000\">'牌'</span>, <span style=\"color: #008000; text-decoration-color: #008000\">'子'</span>,   <a href=\"file:///tmp/ipykernel_2969/236964521.py\"><span style=\"color: #7f7f7f; text-decoration-color: #7f7f7f\">236964521.py</span></a><span style=\"color: #7f7f7f; text-decoration-color: #7f7f7f\">:</span><a href=\"file:///tmp/ipykernel_2969/236964521.py#8\"><span style=\"color: #7f7f7f; text-decoration-color: #7f7f7f\">8</span></a>\n",
       "<span style=\"color: #7fbfbf; text-decoration-color: #7fbfbf\">           </span>         <span style=\"color: #008000; text-decoration-color: #008000\">'的'</span>, <span style=\"color: #008000; text-decoration-color: #008000\">'糖'</span>, <span style=\"color: #008000; text-decoration-color: #008000\">'果'</span><span style=\"font-weight: bold\">]</span>                                          <span style=\"color: #7f7f7f; text-decoration-color: #7f7f7f\">              </span>\n",
       "</pre>\n"
      ],
      "text/plain": [
       "\u001b[2;36m          \u001b[0m\u001b[2;36m \u001b[0m\u001b[34mINFO    \u001b[0m sentence: \u001b[1m[\u001b[0m\u001b[32m'�'\u001b[0m, \u001b[32m'�'\u001b[0m, \u001b[32m'就'\u001b[0m, \u001b[32m'爱'\u001b[0m, \u001b[32m'这'\u001b[0m, \u001b[32m'个'\u001b[0m, \u001b[32m'牌'\u001b[0m, \u001b[32m'子'\u001b[0m,   \u001b]8;id=357248;file:///tmp/ipykernel_2969/236964521.py\u001b\\\u001b[2m236964521.py\u001b[0m\u001b]8;;\u001b\\\u001b[2m:\u001b[0m\u001b]8;id=222289;file:///tmp/ipykernel_2969/236964521.py#8\u001b\\\u001b[2m8\u001b[0m\u001b]8;;\u001b\\\n",
       "\u001b[2;36m           \u001b[0m         \u001b[32m'的'\u001b[0m, \u001b[32m'糖'\u001b[0m, \u001b[32m'果'\u001b[0m\u001b[1m]\u001b[0m                                          \u001b[2m              \u001b[0m\n"
      ]
     },
     "metadata": {},
     "output_type": "display_data"
    },
    {
     "data": {
      "text/html": [
       "<pre style=\"white-space:pre;overflow-x:auto;line-height:normal;font-family:Menlo,'DejaVu Sans Mono',consolas,'Courier New',monospace\"><span style=\"color: #7fbfbf; text-decoration-color: #7fbfbf\">           </span><span style=\"color: #000080; text-decoration-color: #000080\">INFO    </span> labels: <span style=\"font-weight: bold\">[</span><span style=\"color: #008000; text-decoration-color: #008000\">'O'</span>, <span style=\"color: #008000; text-decoration-color: #008000\">'O'</span>, <span style=\"color: #008000; text-decoration-color: #008000\">'O'</span>, <span style=\"color: #008000; text-decoration-color: #008000\">'O'</span>, <span style=\"color: #008000; text-decoration-color: #008000\">'O'</span>, <span style=\"color: #008000; text-decoration-color: #008000\">'O'</span>, <span style=\"color: #008000; text-decoration-color: #008000\">'O'</span>, <span style=\"color: #008000; text-decoration-color: #008000\">'O'</span>, <span style=\"color: #008000; text-decoration-color: #008000\">'O'</span>,     <a href=\"file:///tmp/ipykernel_2969/236964521.py\"><span style=\"color: #7f7f7f; text-decoration-color: #7f7f7f\">236964521.py</span></a><span style=\"color: #7f7f7f; text-decoration-color: #7f7f7f\">:</span><a href=\"file:///tmp/ipykernel_2969/236964521.py#10\"><span style=\"color: #7f7f7f; text-decoration-color: #7f7f7f\">10</span></a>\n",
       "<span style=\"color: #7fbfbf; text-decoration-color: #7fbfbf\">           </span>         <span style=\"color: #008000; text-decoration-color: #008000\">'O'</span>, <span style=\"color: #008000; text-decoration-color: #008000\">'O'</span><span style=\"font-weight: bold\">]</span>                                                 <span style=\"color: #7f7f7f; text-decoration-color: #7f7f7f\">               </span>\n",
       "</pre>\n"
      ],
      "text/plain": [
       "\u001b[2;36m          \u001b[0m\u001b[2;36m \u001b[0m\u001b[34mINFO    \u001b[0m labels: \u001b[1m[\u001b[0m\u001b[32m'O'\u001b[0m, \u001b[32m'O'\u001b[0m, \u001b[32m'O'\u001b[0m, \u001b[32m'O'\u001b[0m, \u001b[32m'O'\u001b[0m, \u001b[32m'O'\u001b[0m, \u001b[32m'O'\u001b[0m, \u001b[32m'O'\u001b[0m, \u001b[32m'O'\u001b[0m,     \u001b]8;id=693486;file:///tmp/ipykernel_2969/236964521.py\u001b\\\u001b[2m236964521.py\u001b[0m\u001b]8;;\u001b\\\u001b[2m:\u001b[0m\u001b]8;id=663406;file:///tmp/ipykernel_2969/236964521.py#10\u001b\\\u001b[2m10\u001b[0m\u001b]8;;\u001b\\\n",
       "\u001b[2;36m           \u001b[0m         \u001b[32m'O'\u001b[0m, \u001b[32m'O'\u001b[0m\u001b[1m]\u001b[0m                                                 \u001b[2m               \u001b[0m\n"
      ]
     },
     "metadata": {},
     "output_type": "display_data"
    },
    {
     "data": {
      "text/html": [
       "<pre style=\"white-space:pre;overflow-x:auto;line-height:normal;font-family:Menlo,'DejaVu Sans Mono',consolas,'Courier New',monospace\"><span style=\"color: #7fbfbf; text-decoration-color: #7fbfbf\">           </span><span style=\"color: #000080; text-decoration-color: #000080\">INFO    </span> target: <span style=\"font-weight: bold\">[</span><span style=\"color: #008000; text-decoration-color: #008000\">'O'</span>, <span style=\"color: #008000; text-decoration-color: #008000\">'O'</span>, <span style=\"color: #008000; text-decoration-color: #008000\">'O'</span>, <span style=\"color: #008000; text-decoration-color: #008000\">'O'</span>, <span style=\"color: #008000; text-decoration-color: #008000\">'O'</span>, <span style=\"color: #008000; text-decoration-color: #008000\">'O'</span>, <span style=\"color: #008000; text-decoration-color: #008000\">'O'</span>, <span style=\"color: #008000; text-decoration-color: #008000\">'O'</span>, <span style=\"color: #008000; text-decoration-color: #008000\">'O'</span>,     <a href=\"file:///tmp/ipykernel_2969/236964521.py\"><span style=\"color: #7f7f7f; text-decoration-color: #7f7f7f\">236964521.py</span></a><span style=\"color: #7f7f7f; text-decoration-color: #7f7f7f\">:</span><a href=\"file:///tmp/ipykernel_2969/236964521.py#11\"><span style=\"color: #7f7f7f; text-decoration-color: #7f7f7f\">11</span></a>\n",
       "<span style=\"color: #7fbfbf; text-decoration-color: #7fbfbf\">           </span>         <span style=\"color: #008000; text-decoration-color: #008000\">'O'</span>, <span style=\"color: #008000; text-decoration-color: #008000\">'O'</span><span style=\"font-weight: bold\">]</span>                                                 <span style=\"color: #7f7f7f; text-decoration-color: #7f7f7f\">               </span>\n",
       "</pre>\n"
      ],
      "text/plain": [
       "\u001b[2;36m          \u001b[0m\u001b[2;36m \u001b[0m\u001b[34mINFO    \u001b[0m target: \u001b[1m[\u001b[0m\u001b[32m'O'\u001b[0m, \u001b[32m'O'\u001b[0m, \u001b[32m'O'\u001b[0m, \u001b[32m'O'\u001b[0m, \u001b[32m'O'\u001b[0m, \u001b[32m'O'\u001b[0m, \u001b[32m'O'\u001b[0m, \u001b[32m'O'\u001b[0m, \u001b[32m'O'\u001b[0m,     \u001b]8;id=798776;file:///tmp/ipykernel_2969/236964521.py\u001b\\\u001b[2m236964521.py\u001b[0m\u001b]8;;\u001b\\\u001b[2m:\u001b[0m\u001b]8;id=258839;file:///tmp/ipykernel_2969/236964521.py#11\u001b\\\u001b[2m11\u001b[0m\u001b]8;;\u001b\\\n",
       "\u001b[2;36m           \u001b[0m         \u001b[32m'O'\u001b[0m, \u001b[32m'O'\u001b[0m\u001b[1m]\u001b[0m                                                 \u001b[2m               \u001b[0m\n"
      ]
     },
     "metadata": {},
     "output_type": "display_data"
    },
    {
     "data": {
      "text/html": [
       "<pre style=\"white-space:pre;overflow-x:auto;line-height:normal;font-family:Menlo,'DejaVu Sans Mono',consolas,'Courier New',monospace\"><span style=\"color: #7fbfbf; text-decoration-color: #7fbfbf\">           </span><span style=\"color: #000080; text-decoration-color: #000080\">INFO    </span> sentence: <span style=\"font-weight: bold\">[</span><span style=\"color: #008000; text-decoration-color: #008000\">'延'</span>, <span style=\"color: #008000; text-decoration-color: #008000\">'参'</span>, <span style=\"color: #008000; text-decoration-color: #008000\">'法'</span>, <span style=\"color: #008000; text-decoration-color: #008000\">'师'</span>, <span style=\"color: #008000; text-decoration-color: #008000\">'品'</span>, <span style=\"color: #008000; text-decoration-color: #008000\">'味'</span>, <span style=\"color: #008000; text-decoration-color: #008000\">'人'</span>, <span style=\"color: #008000; text-decoration-color: #008000\">'生'</span>, <a href=\"file:///tmp/ipykernel_2969/236964521.py\"><span style=\"color: #7f7f7f; text-decoration-color: #7f7f7f\">236964521.py</span></a><span style=\"color: #7f7f7f; text-decoration-color: #7f7f7f\">:</span><a href=\"file:///tmp/ipykernel_2969/236964521.py#8\"><span style=\"color: #7f7f7f; text-decoration-color: #7f7f7f\">8</span></a>\n",
       "<span style=\"color: #7fbfbf; text-decoration-color: #7fbfbf\">           </span>         <span style=\"color: #008000; text-decoration-color: #008000\">'如'</span>, <span style=\"color: #008000; text-decoration-color: #008000\">'同'</span>, <span style=\"color: #008000; text-decoration-color: #008000\">'走'</span>, <span style=\"color: #008000; text-decoration-color: #008000\">'进'</span>, <span style=\"color: #008000; text-decoration-color: #008000\">'一'</span>, <span style=\"color: #008000; text-decoration-color: #008000\">'片'</span>, <span style=\"color: #008000; text-decoration-color: #008000\">'山'</span>, <span style=\"color: #008000; text-decoration-color: #008000\">'水'</span>, <span style=\"color: #008000; text-decoration-color: #008000\">'，'</span>,      <span style=\"color: #7f7f7f; text-decoration-color: #7f7f7f\">              </span>\n",
       "<span style=\"color: #7fbfbf; text-decoration-color: #7fbfbf\">           </span>         <span style=\"color: #008000; text-decoration-color: #008000\">'静'</span>, <span style=\"color: #008000; text-decoration-color: #008000\">'静'</span>, <span style=\"color: #008000; text-decoration-color: #008000\">'的'</span>, <span style=\"color: #008000; text-decoration-color: #008000\">'呼'</span>, <span style=\"color: #008000; text-decoration-color: #008000\">'吸'</span>, <span style=\"color: #008000; text-decoration-color: #008000\">'，'</span>, <span style=\"color: #008000; text-decoration-color: #008000\">'安'</span>, <span style=\"color: #008000; text-decoration-color: #008000\">'静'</span>, <span style=\"color: #008000; text-decoration-color: #008000\">'的'</span>,      <span style=\"color: #7f7f7f; text-decoration-color: #7f7f7f\">              </span>\n",
       "<span style=\"color: #7fbfbf; text-decoration-color: #7fbfbf\">           </span>         <span style=\"color: #008000; text-decoration-color: #008000\">'欣'</span>, <span style=\"color: #008000; text-decoration-color: #008000\">'赏'</span>, <span style=\"color: #008000; text-decoration-color: #008000\">'，'</span>, <span style=\"color: #008000; text-decoration-color: #008000\">'这'</span>, <span style=\"color: #008000; text-decoration-color: #008000\">'就'</span>, <span style=\"color: #008000; text-decoration-color: #008000\">'是'</span>, <span style=\"color: #008000; text-decoration-color: #008000\">'生'</span>, <span style=\"color: #008000; text-decoration-color: #008000\">'活'</span>, <span style=\"color: #008000; text-decoration-color: #008000\">'。'</span><span style=\"font-weight: bold\">]</span>      <span style=\"color: #7f7f7f; text-decoration-color: #7f7f7f\">              </span>\n",
       "</pre>\n"
      ],
      "text/plain": [
       "\u001b[2;36m          \u001b[0m\u001b[2;36m \u001b[0m\u001b[34mINFO    \u001b[0m sentence: \u001b[1m[\u001b[0m\u001b[32m'延'\u001b[0m, \u001b[32m'参'\u001b[0m, \u001b[32m'法'\u001b[0m, \u001b[32m'师'\u001b[0m, \u001b[32m'品'\u001b[0m, \u001b[32m'味'\u001b[0m, \u001b[32m'人'\u001b[0m, \u001b[32m'生'\u001b[0m, \u001b]8;id=770110;file:///tmp/ipykernel_2969/236964521.py\u001b\\\u001b[2m236964521.py\u001b[0m\u001b]8;;\u001b\\\u001b[2m:\u001b[0m\u001b]8;id=408902;file:///tmp/ipykernel_2969/236964521.py#8\u001b\\\u001b[2m8\u001b[0m\u001b]8;;\u001b\\\n",
       "\u001b[2;36m           \u001b[0m         \u001b[32m'如'\u001b[0m, \u001b[32m'同'\u001b[0m, \u001b[32m'走'\u001b[0m, \u001b[32m'进'\u001b[0m, \u001b[32m'一'\u001b[0m, \u001b[32m'片'\u001b[0m, \u001b[32m'山'\u001b[0m, \u001b[32m'水'\u001b[0m, \u001b[32m'，'\u001b[0m,      \u001b[2m              \u001b[0m\n",
       "\u001b[2;36m           \u001b[0m         \u001b[32m'静'\u001b[0m, \u001b[32m'静'\u001b[0m, \u001b[32m'的'\u001b[0m, \u001b[32m'呼'\u001b[0m, \u001b[32m'吸'\u001b[0m, \u001b[32m'，'\u001b[0m, \u001b[32m'安'\u001b[0m, \u001b[32m'静'\u001b[0m, \u001b[32m'的'\u001b[0m,      \u001b[2m              \u001b[0m\n",
       "\u001b[2;36m           \u001b[0m         \u001b[32m'欣'\u001b[0m, \u001b[32m'赏'\u001b[0m, \u001b[32m'，'\u001b[0m, \u001b[32m'这'\u001b[0m, \u001b[32m'就'\u001b[0m, \u001b[32m'是'\u001b[0m, \u001b[32m'生'\u001b[0m, \u001b[32m'活'\u001b[0m, \u001b[32m'。'\u001b[0m\u001b[1m]\u001b[0m      \u001b[2m              \u001b[0m\n"
      ]
     },
     "metadata": {},
     "output_type": "display_data"
    },
    {
     "data": {
      "text/html": [
       "<pre style=\"white-space:pre;overflow-x:auto;line-height:normal;font-family:Menlo,'DejaVu Sans Mono',consolas,'Courier New',monospace\"><span style=\"color: #7fbfbf; text-decoration-color: #7fbfbf\">           </span><span style=\"color: #000080; text-decoration-color: #000080\">INFO    </span> labels: <span style=\"font-weight: bold\">[</span><span style=\"color: #008000; text-decoration-color: #008000\">'B-PER.NAM'</span>, <span style=\"color: #008000; text-decoration-color: #008000\">'I-PER.NAM'</span>, <span style=\"color: #008000; text-decoration-color: #008000\">'I-PER.NAM'</span>,           <a href=\"file:///tmp/ipykernel_2969/236964521.py\"><span style=\"color: #7f7f7f; text-decoration-color: #7f7f7f\">236964521.py</span></a><span style=\"color: #7f7f7f; text-decoration-color: #7f7f7f\">:</span><a href=\"file:///tmp/ipykernel_2969/236964521.py#10\"><span style=\"color: #7f7f7f; text-decoration-color: #7f7f7f\">10</span></a>\n",
       "<span style=\"color: #7fbfbf; text-decoration-color: #7fbfbf\">           </span>         <span style=\"color: #008000; text-decoration-color: #008000\">'I-PER.NAM'</span>, <span style=\"color: #008000; text-decoration-color: #008000\">'O'</span>, <span style=\"color: #008000; text-decoration-color: #008000\">'O'</span>, <span style=\"color: #008000; text-decoration-color: #008000\">'O'</span>, <span style=\"color: #008000; text-decoration-color: #008000\">'O'</span>, <span style=\"color: #008000; text-decoration-color: #008000\">'O'</span>, <span style=\"color: #008000; text-decoration-color: #008000\">'O'</span>, <span style=\"color: #008000; text-decoration-color: #008000\">'O'</span>, <span style=\"color: #008000; text-decoration-color: #008000\">'O'</span>, <span style=\"color: #008000; text-decoration-color: #008000\">'O'</span>, <span style=\"color: #7f7f7f; text-decoration-color: #7f7f7f\">               </span>\n",
       "<span style=\"color: #7fbfbf; text-decoration-color: #7fbfbf\">           </span>         <span style=\"color: #008000; text-decoration-color: #008000\">'O'</span>, <span style=\"color: #008000; text-decoration-color: #008000\">'O'</span>, <span style=\"color: #008000; text-decoration-color: #008000\">'O'</span>, <span style=\"color: #008000; text-decoration-color: #008000\">'O'</span>, <span style=\"color: #008000; text-decoration-color: #008000\">'O'</span>, <span style=\"color: #008000; text-decoration-color: #008000\">'O'</span>, <span style=\"color: #008000; text-decoration-color: #008000\">'O'</span>, <span style=\"color: #008000; text-decoration-color: #008000\">'O'</span>, <span style=\"color: #008000; text-decoration-color: #008000\">'O'</span>, <span style=\"color: #008000; text-decoration-color: #008000\">'O'</span>, <span style=\"color: #008000; text-decoration-color: #008000\">'O'</span>,    <span style=\"color: #7f7f7f; text-decoration-color: #7f7f7f\">               </span>\n",
       "<span style=\"color: #7fbfbf; text-decoration-color: #7fbfbf\">           </span>         <span style=\"color: #008000; text-decoration-color: #008000\">'O'</span>, <span style=\"color: #008000; text-decoration-color: #008000\">'O'</span>, <span style=\"color: #008000; text-decoration-color: #008000\">'O'</span>, <span style=\"color: #008000; text-decoration-color: #008000\">'O'</span>, <span style=\"color: #008000; text-decoration-color: #008000\">'O'</span>, <span style=\"color: #008000; text-decoration-color: #008000\">'O'</span>, <span style=\"color: #008000; text-decoration-color: #008000\">'O'</span>, <span style=\"color: #008000; text-decoration-color: #008000\">'O'</span>, <span style=\"color: #008000; text-decoration-color: #008000\">'O'</span>, <span style=\"color: #008000; text-decoration-color: #008000\">'O'</span>, <span style=\"color: #008000; text-decoration-color: #008000\">'O'</span><span style=\"font-weight: bold\">]</span>    <span style=\"color: #7f7f7f; text-decoration-color: #7f7f7f\">               </span>\n",
       "</pre>\n"
      ],
      "text/plain": [
       "\u001b[2;36m          \u001b[0m\u001b[2;36m \u001b[0m\u001b[34mINFO    \u001b[0m labels: \u001b[1m[\u001b[0m\u001b[32m'B-PER.NAM'\u001b[0m, \u001b[32m'I-PER.NAM'\u001b[0m, \u001b[32m'I-PER.NAM'\u001b[0m,           \u001b]8;id=221733;file:///tmp/ipykernel_2969/236964521.py\u001b\\\u001b[2m236964521.py\u001b[0m\u001b]8;;\u001b\\\u001b[2m:\u001b[0m\u001b]8;id=741805;file:///tmp/ipykernel_2969/236964521.py#10\u001b\\\u001b[2m10\u001b[0m\u001b]8;;\u001b\\\n",
       "\u001b[2;36m           \u001b[0m         \u001b[32m'I-PER.NAM'\u001b[0m, \u001b[32m'O'\u001b[0m, \u001b[32m'O'\u001b[0m, \u001b[32m'O'\u001b[0m, \u001b[32m'O'\u001b[0m, \u001b[32m'O'\u001b[0m, \u001b[32m'O'\u001b[0m, \u001b[32m'O'\u001b[0m, \u001b[32m'O'\u001b[0m, \u001b[32m'O'\u001b[0m, \u001b[2m               \u001b[0m\n",
       "\u001b[2;36m           \u001b[0m         \u001b[32m'O'\u001b[0m, \u001b[32m'O'\u001b[0m, \u001b[32m'O'\u001b[0m, \u001b[32m'O'\u001b[0m, \u001b[32m'O'\u001b[0m, \u001b[32m'O'\u001b[0m, \u001b[32m'O'\u001b[0m, \u001b[32m'O'\u001b[0m, \u001b[32m'O'\u001b[0m, \u001b[32m'O'\u001b[0m, \u001b[32m'O'\u001b[0m,    \u001b[2m               \u001b[0m\n",
       "\u001b[2;36m           \u001b[0m         \u001b[32m'O'\u001b[0m, \u001b[32m'O'\u001b[0m, \u001b[32m'O'\u001b[0m, \u001b[32m'O'\u001b[0m, \u001b[32m'O'\u001b[0m, \u001b[32m'O'\u001b[0m, \u001b[32m'O'\u001b[0m, \u001b[32m'O'\u001b[0m, \u001b[32m'O'\u001b[0m, \u001b[32m'O'\u001b[0m, \u001b[32m'O'\u001b[0m\u001b[1m]\u001b[0m    \u001b[2m               \u001b[0m\n"
      ]
     },
     "metadata": {},
     "output_type": "display_data"
    },
    {
     "data": {
      "text/html": [
       "<pre style=\"white-space:pre;overflow-x:auto;line-height:normal;font-family:Menlo,'DejaVu Sans Mono',consolas,'Courier New',monospace\"><span style=\"color: #7fbfbf; text-decoration-color: #7fbfbf\">           </span><span style=\"color: #000080; text-decoration-color: #000080\">INFO    </span> target: <span style=\"font-weight: bold\">[</span><span style=\"color: #008000; text-decoration-color: #008000\">'B-PER.NAM'</span>, <span style=\"color: #008000; text-decoration-color: #008000\">'I-PER.NAM'</span>, <span style=\"color: #008000; text-decoration-color: #008000\">'O'</span>, <span style=\"color: #008000; text-decoration-color: #008000\">'O'</span>, <span style=\"color: #008000; text-decoration-color: #008000\">'O'</span>, <span style=\"color: #008000; text-decoration-color: #008000\">'O'</span>,    <a href=\"file:///tmp/ipykernel_2969/236964521.py\"><span style=\"color: #7f7f7f; text-decoration-color: #7f7f7f\">236964521.py</span></a><span style=\"color: #7f7f7f; text-decoration-color: #7f7f7f\">:</span><a href=\"file:///tmp/ipykernel_2969/236964521.py#11\"><span style=\"color: #7f7f7f; text-decoration-color: #7f7f7f\">11</span></a>\n",
       "<span style=\"color: #7fbfbf; text-decoration-color: #7fbfbf\">           </span>         <span style=\"color: #008000; text-decoration-color: #008000\">'O'</span>, <span style=\"color: #008000; text-decoration-color: #008000\">'O'</span>, <span style=\"color: #008000; text-decoration-color: #008000\">'O'</span>, <span style=\"color: #008000; text-decoration-color: #008000\">'O'</span>, <span style=\"color: #008000; text-decoration-color: #008000\">'O'</span>, <span style=\"color: #008000; text-decoration-color: #008000\">'O'</span>, <span style=\"color: #008000; text-decoration-color: #008000\">'O'</span>, <span style=\"color: #008000; text-decoration-color: #008000\">'O'</span>, <span style=\"color: #008000; text-decoration-color: #008000\">'O'</span>, <span style=\"color: #008000; text-decoration-color: #008000\">'O'</span>, <span style=\"color: #008000; text-decoration-color: #008000\">'O'</span>,    <span style=\"color: #7f7f7f; text-decoration-color: #7f7f7f\">               </span>\n",
       "<span style=\"color: #7fbfbf; text-decoration-color: #7fbfbf\">           </span>         <span style=\"color: #008000; text-decoration-color: #008000\">'O'</span>, <span style=\"color: #008000; text-decoration-color: #008000\">'O'</span>, <span style=\"color: #008000; text-decoration-color: #008000\">'O'</span>, <span style=\"color: #008000; text-decoration-color: #008000\">'O'</span>, <span style=\"color: #008000; text-decoration-color: #008000\">'O'</span>, <span style=\"color: #008000; text-decoration-color: #008000\">'O'</span>, <span style=\"color: #008000; text-decoration-color: #008000\">'O'</span>, <span style=\"color: #008000; text-decoration-color: #008000\">'O'</span>, <span style=\"color: #008000; text-decoration-color: #008000\">'O'</span>, <span style=\"color: #008000; text-decoration-color: #008000\">'O'</span>, <span style=\"color: #008000; text-decoration-color: #008000\">'O'</span>,    <span style=\"color: #7f7f7f; text-decoration-color: #7f7f7f\">               </span>\n",
       "<span style=\"color: #7fbfbf; text-decoration-color: #7fbfbf\">           </span>         <span style=\"color: #008000; text-decoration-color: #008000\">'O'</span>, <span style=\"color: #008000; text-decoration-color: #008000\">'O'</span>, <span style=\"color: #008000; text-decoration-color: #008000\">'O'</span>, <span style=\"color: #008000; text-decoration-color: #008000\">'O'</span>, <span style=\"color: #008000; text-decoration-color: #008000\">'O'</span>, <span style=\"color: #008000; text-decoration-color: #008000\">'O'</span>, <span style=\"color: #008000; text-decoration-color: #008000\">'O'</span><span style=\"font-weight: bold\">]</span>                        <span style=\"color: #7f7f7f; text-decoration-color: #7f7f7f\">               </span>\n",
       "</pre>\n"
      ],
      "text/plain": [
       "\u001b[2;36m          \u001b[0m\u001b[2;36m \u001b[0m\u001b[34mINFO    \u001b[0m target: \u001b[1m[\u001b[0m\u001b[32m'B-PER.NAM'\u001b[0m, \u001b[32m'I-PER.NAM'\u001b[0m, \u001b[32m'O'\u001b[0m, \u001b[32m'O'\u001b[0m, \u001b[32m'O'\u001b[0m, \u001b[32m'O'\u001b[0m,    \u001b]8;id=339729;file:///tmp/ipykernel_2969/236964521.py\u001b\\\u001b[2m236964521.py\u001b[0m\u001b]8;;\u001b\\\u001b[2m:\u001b[0m\u001b]8;id=441230;file:///tmp/ipykernel_2969/236964521.py#11\u001b\\\u001b[2m11\u001b[0m\u001b]8;;\u001b\\\n",
       "\u001b[2;36m           \u001b[0m         \u001b[32m'O'\u001b[0m, \u001b[32m'O'\u001b[0m, \u001b[32m'O'\u001b[0m, \u001b[32m'O'\u001b[0m, \u001b[32m'O'\u001b[0m, \u001b[32m'O'\u001b[0m, \u001b[32m'O'\u001b[0m, \u001b[32m'O'\u001b[0m, \u001b[32m'O'\u001b[0m, \u001b[32m'O'\u001b[0m, \u001b[32m'O'\u001b[0m,    \u001b[2m               \u001b[0m\n",
       "\u001b[2;36m           \u001b[0m         \u001b[32m'O'\u001b[0m, \u001b[32m'O'\u001b[0m, \u001b[32m'O'\u001b[0m, \u001b[32m'O'\u001b[0m, \u001b[32m'O'\u001b[0m, \u001b[32m'O'\u001b[0m, \u001b[32m'O'\u001b[0m, \u001b[32m'O'\u001b[0m, \u001b[32m'O'\u001b[0m, \u001b[32m'O'\u001b[0m, \u001b[32m'O'\u001b[0m,    \u001b[2m               \u001b[0m\n",
       "\u001b[2;36m           \u001b[0m         \u001b[32m'O'\u001b[0m, \u001b[32m'O'\u001b[0m, \u001b[32m'O'\u001b[0m, \u001b[32m'O'\u001b[0m, \u001b[32m'O'\u001b[0m, \u001b[32m'O'\u001b[0m, \u001b[32m'O'\u001b[0m\u001b[1m]\u001b[0m                        \u001b[2m               \u001b[0m\n"
      ]
     },
     "metadata": {},
     "output_type": "display_data"
    },
    {
     "data": {
      "text/html": [
       "<pre style=\"white-space:pre;overflow-x:auto;line-height:normal;font-family:Menlo,'DejaVu Sans Mono',consolas,'Courier New',monospace\"><span style=\"color: #7fbfbf; text-decoration-color: #7fbfbf\">           </span><span style=\"color: #000080; text-decoration-color: #000080\">INFO    </span> sentence: <span style=\"font-weight: bold\">[</span><span style=\"color: #008000; text-decoration-color: #008000\">'就'</span>, <span style=\"color: #008000; text-decoration-color: #008000\">'感'</span>, <span style=\"color: #008000; text-decoration-color: #008000\">'恩'</span>, <span style=\"color: #008000; text-decoration-color: #008000\">'吧'</span>, <span style=\"color: #008000; text-decoration-color: #008000\">'越'</span>, <span style=\"color: #008000; text-decoration-color: #008000\">'来'</span>, <span style=\"color: #008000; text-decoration-color: #008000\">'越'</span>, <span style=\"color: #008000; text-decoration-color: #008000\">'没'</span>, <a href=\"file:///tmp/ipykernel_2969/236964521.py\"><span style=\"color: #7f7f7f; text-decoration-color: #7f7f7f\">236964521.py</span></a><span style=\"color: #7f7f7f; text-decoration-color: #7f7f7f\">:</span><a href=\"file:///tmp/ipykernel_2969/236964521.py#8\"><span style=\"color: #7f7f7f; text-decoration-color: #7f7f7f\">8</span></a>\n",
       "<span style=\"color: #7fbfbf; text-decoration-color: #7fbfbf\">           </span>         <span style=\"color: #008000; text-decoration-color: #008000\">'战'</span>, <span style=\"color: #008000; text-decoration-color: #008000\">'斗'</span>, <span style=\"color: #008000; text-decoration-color: #008000\">'力'</span>, <span style=\"color: #008000; text-decoration-color: #008000\">'了'</span>, <span style=\"color: #008000; text-decoration-color: #008000\">'。'</span><span style=\"font-weight: bold\">]</span>                              <span style=\"color: #7f7f7f; text-decoration-color: #7f7f7f\">              </span>\n",
       "</pre>\n"
      ],
      "text/plain": [
       "\u001b[2;36m          \u001b[0m\u001b[2;36m \u001b[0m\u001b[34mINFO    \u001b[0m sentence: \u001b[1m[\u001b[0m\u001b[32m'就'\u001b[0m, \u001b[32m'感'\u001b[0m, \u001b[32m'恩'\u001b[0m, \u001b[32m'吧'\u001b[0m, \u001b[32m'越'\u001b[0m, \u001b[32m'来'\u001b[0m, \u001b[32m'越'\u001b[0m, \u001b[32m'没'\u001b[0m, \u001b]8;id=361948;file:///tmp/ipykernel_2969/236964521.py\u001b\\\u001b[2m236964521.py\u001b[0m\u001b]8;;\u001b\\\u001b[2m:\u001b[0m\u001b]8;id=767278;file:///tmp/ipykernel_2969/236964521.py#8\u001b\\\u001b[2m8\u001b[0m\u001b]8;;\u001b\\\n",
       "\u001b[2;36m           \u001b[0m         \u001b[32m'战'\u001b[0m, \u001b[32m'斗'\u001b[0m, \u001b[32m'力'\u001b[0m, \u001b[32m'了'\u001b[0m, \u001b[32m'。'\u001b[0m\u001b[1m]\u001b[0m                              \u001b[2m              \u001b[0m\n"
      ]
     },
     "metadata": {},
     "output_type": "display_data"
    },
    {
     "data": {
      "text/html": [
       "<pre style=\"white-space:pre;overflow-x:auto;line-height:normal;font-family:Menlo,'DejaVu Sans Mono',consolas,'Courier New',monospace\"><span style=\"color: #7fbfbf; text-decoration-color: #7fbfbf\">           </span><span style=\"color: #000080; text-decoration-color: #000080\">INFO    </span> labels: <span style=\"font-weight: bold\">[</span><span style=\"color: #008000; text-decoration-color: #008000\">'O'</span>, <span style=\"color: #008000; text-decoration-color: #008000\">'O'</span>, <span style=\"color: #008000; text-decoration-color: #008000\">'O'</span>, <span style=\"color: #008000; text-decoration-color: #008000\">'O'</span>, <span style=\"color: #008000; text-decoration-color: #008000\">'O'</span>, <span style=\"color: #008000; text-decoration-color: #008000\">'O'</span>, <span style=\"color: #008000; text-decoration-color: #008000\">'O'</span>, <span style=\"color: #008000; text-decoration-color: #008000\">'O'</span>, <span style=\"color: #008000; text-decoration-color: #008000\">'O'</span>,     <a href=\"file:///tmp/ipykernel_2969/236964521.py\"><span style=\"color: #7f7f7f; text-decoration-color: #7f7f7f\">236964521.py</span></a><span style=\"color: #7f7f7f; text-decoration-color: #7f7f7f\">:</span><a href=\"file:///tmp/ipykernel_2969/236964521.py#10\"><span style=\"color: #7f7f7f; text-decoration-color: #7f7f7f\">10</span></a>\n",
       "<span style=\"color: #7fbfbf; text-decoration-color: #7fbfbf\">           </span>         <span style=\"color: #008000; text-decoration-color: #008000\">'O'</span>, <span style=\"color: #008000; text-decoration-color: #008000\">'O'</span>, <span style=\"color: #008000; text-decoration-color: #008000\">'O'</span>, <span style=\"color: #008000; text-decoration-color: #008000\">'O'</span><span style=\"font-weight: bold\">]</span>                                       <span style=\"color: #7f7f7f; text-decoration-color: #7f7f7f\">               </span>\n",
       "</pre>\n"
      ],
      "text/plain": [
       "\u001b[2;36m          \u001b[0m\u001b[2;36m \u001b[0m\u001b[34mINFO    \u001b[0m labels: \u001b[1m[\u001b[0m\u001b[32m'O'\u001b[0m, \u001b[32m'O'\u001b[0m, \u001b[32m'O'\u001b[0m, \u001b[32m'O'\u001b[0m, \u001b[32m'O'\u001b[0m, \u001b[32m'O'\u001b[0m, \u001b[32m'O'\u001b[0m, \u001b[32m'O'\u001b[0m, \u001b[32m'O'\u001b[0m,     \u001b]8;id=947334;file:///tmp/ipykernel_2969/236964521.py\u001b\\\u001b[2m236964521.py\u001b[0m\u001b]8;;\u001b\\\u001b[2m:\u001b[0m\u001b]8;id=28667;file:///tmp/ipykernel_2969/236964521.py#10\u001b\\\u001b[2m10\u001b[0m\u001b]8;;\u001b\\\n",
       "\u001b[2;36m           \u001b[0m         \u001b[32m'O'\u001b[0m, \u001b[32m'O'\u001b[0m, \u001b[32m'O'\u001b[0m, \u001b[32m'O'\u001b[0m\u001b[1m]\u001b[0m                                       \u001b[2m               \u001b[0m\n"
      ]
     },
     "metadata": {},
     "output_type": "display_data"
    },
    {
     "data": {
      "text/html": [
       "<pre style=\"white-space:pre;overflow-x:auto;line-height:normal;font-family:Menlo,'DejaVu Sans Mono',consolas,'Courier New',monospace\"><span style=\"color: #7fbfbf; text-decoration-color: #7fbfbf\">           </span><span style=\"color: #000080; text-decoration-color: #000080\">INFO    </span> target: <span style=\"font-weight: bold\">[</span><span style=\"color: #008000; text-decoration-color: #008000\">'O'</span>, <span style=\"color: #008000; text-decoration-color: #008000\">'O'</span>, <span style=\"color: #008000; text-decoration-color: #008000\">'O'</span>, <span style=\"color: #008000; text-decoration-color: #008000\">'O'</span>, <span style=\"color: #008000; text-decoration-color: #008000\">'O'</span>, <span style=\"color: #008000; text-decoration-color: #008000\">'O'</span>, <span style=\"color: #008000; text-decoration-color: #008000\">'O'</span>, <span style=\"color: #008000; text-decoration-color: #008000\">'O'</span>, <span style=\"color: #008000; text-decoration-color: #008000\">'O'</span>,     <a href=\"file:///tmp/ipykernel_2969/236964521.py\"><span style=\"color: #7f7f7f; text-decoration-color: #7f7f7f\">236964521.py</span></a><span style=\"color: #7f7f7f; text-decoration-color: #7f7f7f\">:</span><a href=\"file:///tmp/ipykernel_2969/236964521.py#11\"><span style=\"color: #7f7f7f; text-decoration-color: #7f7f7f\">11</span></a>\n",
       "<span style=\"color: #7fbfbf; text-decoration-color: #7fbfbf\">           </span>         <span style=\"color: #008000; text-decoration-color: #008000\">'O'</span>, <span style=\"color: #008000; text-decoration-color: #008000\">'O'</span>, <span style=\"color: #008000; text-decoration-color: #008000\">'O'</span>, <span style=\"color: #008000; text-decoration-color: #008000\">'O'</span><span style=\"font-weight: bold\">]</span>                                       <span style=\"color: #7f7f7f; text-decoration-color: #7f7f7f\">               </span>\n",
       "</pre>\n"
      ],
      "text/plain": [
       "\u001b[2;36m          \u001b[0m\u001b[2;36m \u001b[0m\u001b[34mINFO    \u001b[0m target: \u001b[1m[\u001b[0m\u001b[32m'O'\u001b[0m, \u001b[32m'O'\u001b[0m, \u001b[32m'O'\u001b[0m, \u001b[32m'O'\u001b[0m, \u001b[32m'O'\u001b[0m, \u001b[32m'O'\u001b[0m, \u001b[32m'O'\u001b[0m, \u001b[32m'O'\u001b[0m, \u001b[32m'O'\u001b[0m,     \u001b]8;id=717776;file:///tmp/ipykernel_2969/236964521.py\u001b\\\u001b[2m236964521.py\u001b[0m\u001b]8;;\u001b\\\u001b[2m:\u001b[0m\u001b]8;id=190442;file:///tmp/ipykernel_2969/236964521.py#11\u001b\\\u001b[2m11\u001b[0m\u001b]8;;\u001b\\\n",
       "\u001b[2;36m           \u001b[0m         \u001b[32m'O'\u001b[0m, \u001b[32m'O'\u001b[0m, \u001b[32m'O'\u001b[0m, \u001b[32m'O'\u001b[0m\u001b[1m]\u001b[0m                                       \u001b[2m               \u001b[0m\n"
      ]
     },
     "metadata": {},
     "output_type": "display_data"
    },
    {
     "data": {
      "text/html": [
       "<pre style=\"white-space:pre;overflow-x:auto;line-height:normal;font-family:Menlo,'DejaVu Sans Mono',consolas,'Courier New',monospace\"><span style=\"color: #7fbfbf; text-decoration-color: #7fbfbf\">           </span><span style=\"color: #000080; text-decoration-color: #000080\">INFO    </span> sentence: <span style=\"font-weight: bold\">[</span><span style=\"color: #008000; text-decoration-color: #008000\">'叶'</span>, <span style=\"color: #008000; text-decoration-color: #008000\">'赟'</span>, <span style=\"color: #008000; text-decoration-color: #008000\">'葆'</span>, <span style=\"color: #008000; text-decoration-color: #008000\">'：'</span>, <span style=\"color: #008000; text-decoration-color: #008000\">'全'</span>, <span style=\"color: #008000; text-decoration-color: #008000\">'球'</span>, <span style=\"color: #008000; text-decoration-color: #008000\">'时'</span>, <span style=\"color: #008000; text-decoration-color: #008000\">'尚'</span>, <a href=\"file:///tmp/ipykernel_2969/236964521.py\"><span style=\"color: #7f7f7f; text-decoration-color: #7f7f7f\">236964521.py</span></a><span style=\"color: #7f7f7f; text-decoration-color: #7f7f7f\">:</span><a href=\"file:///tmp/ipykernel_2969/236964521.py#8\"><span style=\"color: #7f7f7f; text-decoration-color: #7f7f7f\">8</span></a>\n",
       "<span style=\"color: #7fbfbf; text-decoration-color: #7fbfbf\">           </span>         <span style=\"color: #008000; text-decoration-color: #008000\">'财'</span>, <span style=\"color: #008000; text-decoration-color: #008000\">'运'</span>, <span style=\"color: #008000; text-decoration-color: #008000\">'滚'</span>, <span style=\"color: #008000; text-decoration-color: #008000\">'滚'</span>, <span style=\"color: #008000; text-decoration-color: #008000\">'而'</span>, <span style=\"color: #008000; text-decoration-color: #008000\">'来'</span>, <span style=\"color: #008000; text-decoration-color: #008000\">'钱'</span><span style=\"font-weight: bold\">]</span>                  <span style=\"color: #7f7f7f; text-decoration-color: #7f7f7f\">              </span>\n",
       "</pre>\n"
      ],
      "text/plain": [
       "\u001b[2;36m          \u001b[0m\u001b[2;36m \u001b[0m\u001b[34mINFO    \u001b[0m sentence: \u001b[1m[\u001b[0m\u001b[32m'叶'\u001b[0m, \u001b[32m'赟'\u001b[0m, \u001b[32m'葆'\u001b[0m, \u001b[32m'：'\u001b[0m, \u001b[32m'全'\u001b[0m, \u001b[32m'球'\u001b[0m, \u001b[32m'时'\u001b[0m, \u001b[32m'尚'\u001b[0m, \u001b]8;id=119877;file:///tmp/ipykernel_2969/236964521.py\u001b\\\u001b[2m236964521.py\u001b[0m\u001b]8;;\u001b\\\u001b[2m:\u001b[0m\u001b]8;id=455054;file:///tmp/ipykernel_2969/236964521.py#8\u001b\\\u001b[2m8\u001b[0m\u001b]8;;\u001b\\\n",
       "\u001b[2;36m           \u001b[0m         \u001b[32m'财'\u001b[0m, \u001b[32m'运'\u001b[0m, \u001b[32m'滚'\u001b[0m, \u001b[32m'滚'\u001b[0m, \u001b[32m'而'\u001b[0m, \u001b[32m'来'\u001b[0m, \u001b[32m'钱'\u001b[0m\u001b[1m]\u001b[0m                  \u001b[2m              \u001b[0m\n"
      ]
     },
     "metadata": {},
     "output_type": "display_data"
    },
    {
     "data": {
      "text/html": [
       "<pre style=\"white-space:pre;overflow-x:auto;line-height:normal;font-family:Menlo,'DejaVu Sans Mono',consolas,'Courier New',monospace\"><span style=\"color: #7fbfbf; text-decoration-color: #7fbfbf\">           </span><span style=\"color: #000080; text-decoration-color: #000080\">INFO    </span> labels: <span style=\"font-weight: bold\">[</span><span style=\"color: #008000; text-decoration-color: #008000\">'B-PER.NAM'</span>, <span style=\"color: #008000; text-decoration-color: #008000\">'I-PER.NAM'</span>, <span style=\"color: #008000; text-decoration-color: #008000\">'I-PER.NAM'</span>, <span style=\"color: #008000; text-decoration-color: #008000\">'O'</span>, <span style=\"color: #008000; text-decoration-color: #008000\">'O'</span>, <a href=\"file:///tmp/ipykernel_2969/236964521.py\"><span style=\"color: #7f7f7f; text-decoration-color: #7f7f7f\">236964521.py</span></a><span style=\"color: #7f7f7f; text-decoration-color: #7f7f7f\">:</span><a href=\"file:///tmp/ipykernel_2969/236964521.py#10\"><span style=\"color: #7f7f7f; text-decoration-color: #7f7f7f\">10</span></a>\n",
       "<span style=\"color: #7fbfbf; text-decoration-color: #7fbfbf\">           </span>         <span style=\"color: #008000; text-decoration-color: #008000\">'O'</span>, <span style=\"color: #008000; text-decoration-color: #008000\">'O'</span>, <span style=\"color: #008000; text-decoration-color: #008000\">'O'</span>, <span style=\"color: #008000; text-decoration-color: #008000\">'O'</span>, <span style=\"color: #008000; text-decoration-color: #008000\">'O'</span>, <span style=\"color: #008000; text-decoration-color: #008000\">'O'</span>, <span style=\"color: #008000; text-decoration-color: #008000\">'O'</span>, <span style=\"color: #008000; text-decoration-color: #008000\">'O'</span>, <span style=\"color: #008000; text-decoration-color: #008000\">'O'</span>, <span style=\"color: #008000; text-decoration-color: #008000\">'O'</span><span style=\"font-weight: bold\">]</span>         <span style=\"color: #7f7f7f; text-decoration-color: #7f7f7f\">               </span>\n",
       "</pre>\n"
      ],
      "text/plain": [
       "\u001b[2;36m          \u001b[0m\u001b[2;36m \u001b[0m\u001b[34mINFO    \u001b[0m labels: \u001b[1m[\u001b[0m\u001b[32m'B-PER.NAM'\u001b[0m, \u001b[32m'I-PER.NAM'\u001b[0m, \u001b[32m'I-PER.NAM'\u001b[0m, \u001b[32m'O'\u001b[0m, \u001b[32m'O'\u001b[0m, \u001b]8;id=684954;file:///tmp/ipykernel_2969/236964521.py\u001b\\\u001b[2m236964521.py\u001b[0m\u001b]8;;\u001b\\\u001b[2m:\u001b[0m\u001b]8;id=857535;file:///tmp/ipykernel_2969/236964521.py#10\u001b\\\u001b[2m10\u001b[0m\u001b]8;;\u001b\\\n",
       "\u001b[2;36m           \u001b[0m         \u001b[32m'O'\u001b[0m, \u001b[32m'O'\u001b[0m, \u001b[32m'O'\u001b[0m, \u001b[32m'O'\u001b[0m, \u001b[32m'O'\u001b[0m, \u001b[32m'O'\u001b[0m, \u001b[32m'O'\u001b[0m, \u001b[32m'O'\u001b[0m, \u001b[32m'O'\u001b[0m, \u001b[32m'O'\u001b[0m\u001b[1m]\u001b[0m         \u001b[2m               \u001b[0m\n"
      ]
     },
     "metadata": {},
     "output_type": "display_data"
    },
    {
     "data": {
      "text/html": [
       "<pre style=\"white-space:pre;overflow-x:auto;line-height:normal;font-family:Menlo,'DejaVu Sans Mono',consolas,'Courier New',monospace\"><span style=\"color: #7fbfbf; text-decoration-color: #7fbfbf\">           </span><span style=\"color: #000080; text-decoration-color: #000080\">INFO    </span> target: <span style=\"font-weight: bold\">[</span><span style=\"color: #008000; text-decoration-color: #008000\">'B-PER.NAM'</span>, <span style=\"color: #008000; text-decoration-color: #008000\">'I-PER.NAM'</span>, <span style=\"color: #008000; text-decoration-color: #008000\">'I-PER.NAM'</span>, <span style=\"color: #008000; text-decoration-color: #008000\">'O'</span>, <span style=\"color: #008000; text-decoration-color: #008000\">'O'</span>, <a href=\"file:///tmp/ipykernel_2969/236964521.py\"><span style=\"color: #7f7f7f; text-decoration-color: #7f7f7f\">236964521.py</span></a><span style=\"color: #7f7f7f; text-decoration-color: #7f7f7f\">:</span><a href=\"file:///tmp/ipykernel_2969/236964521.py#11\"><span style=\"color: #7f7f7f; text-decoration-color: #7f7f7f\">11</span></a>\n",
       "<span style=\"color: #7fbfbf; text-decoration-color: #7fbfbf\">           </span>         <span style=\"color: #008000; text-decoration-color: #008000\">'O'</span>, <span style=\"color: #008000; text-decoration-color: #008000\">'O'</span>, <span style=\"color: #008000; text-decoration-color: #008000\">'O'</span>, <span style=\"color: #008000; text-decoration-color: #008000\">'O'</span>, <span style=\"color: #008000; text-decoration-color: #008000\">'O'</span>, <span style=\"color: #008000; text-decoration-color: #008000\">'O'</span>, <span style=\"color: #008000; text-decoration-color: #008000\">'O'</span>, <span style=\"color: #008000; text-decoration-color: #008000\">'O'</span>, <span style=\"color: #008000; text-decoration-color: #008000\">'O'</span>, <span style=\"color: #008000; text-decoration-color: #008000\">'O'</span><span style=\"font-weight: bold\">]</span>         <span style=\"color: #7f7f7f; text-decoration-color: #7f7f7f\">               </span>\n",
       "</pre>\n"
      ],
      "text/plain": [
       "\u001b[2;36m          \u001b[0m\u001b[2;36m \u001b[0m\u001b[34mINFO    \u001b[0m target: \u001b[1m[\u001b[0m\u001b[32m'B-PER.NAM'\u001b[0m, \u001b[32m'I-PER.NAM'\u001b[0m, \u001b[32m'I-PER.NAM'\u001b[0m, \u001b[32m'O'\u001b[0m, \u001b[32m'O'\u001b[0m, \u001b]8;id=44835;file:///tmp/ipykernel_2969/236964521.py\u001b\\\u001b[2m236964521.py\u001b[0m\u001b]8;;\u001b\\\u001b[2m:\u001b[0m\u001b]8;id=58403;file:///tmp/ipykernel_2969/236964521.py#11\u001b\\\u001b[2m11\u001b[0m\u001b]8;;\u001b\\\n",
       "\u001b[2;36m           \u001b[0m         \u001b[32m'O'\u001b[0m, \u001b[32m'O'\u001b[0m, \u001b[32m'O'\u001b[0m, \u001b[32m'O'\u001b[0m, \u001b[32m'O'\u001b[0m, \u001b[32m'O'\u001b[0m, \u001b[32m'O'\u001b[0m, \u001b[32m'O'\u001b[0m, \u001b[32m'O'\u001b[0m, \u001b[32m'O'\u001b[0m\u001b[1m]\u001b[0m         \u001b[2m               \u001b[0m\n"
      ]
     },
     "metadata": {},
     "output_type": "display_data"
    },
    {
     "data": {
      "text/html": [
       "<pre style=\"white-space:pre;overflow-x:auto;line-height:normal;font-family:Menlo,'DejaVu Sans Mono',consolas,'Courier New',monospace\"></pre>\n"
      ],
      "text/plain": []
     },
     "metadata": {},
     "output_type": "display_data"
    },
    {
     "data": {
      "text/plain": [
       "{}"
      ]
     },
     "execution_count": 11,
     "metadata": {},
     "output_type": "execute_result"
    }
   ],
   "source": [
    "from fastNLP import Evaluator, print\n",
    "\n",
    "def output_labeling(evaluator, batch):\n",
    "    outputs = evaluator.evaluate_step(batch)[\"pred\"]\n",
    "    raw_words, raw_targets = batch[\"raw_words\"], batch[\"raw_target\"]\n",
    "    for words, raw_target, output in zip(raw_words, raw_targets, outputs):\n",
    "\n",
    "        print(\"sentence:\", words)\n",
    "        labels = [data_bundle.get_vocab(\"target\").idx2word[idx] for idx in output[:len(words)].tolist() ]\n",
    "        print(\"labels:\", labels)\n",
    "        print(\"target:\", raw_target)\n",
    "\n",
    "evaluator = Evaluator(model=model, dataloaders=dataloaders[\"test\"], \n",
    "                      device=0, evaluate_batch_step_fn=output_labeling)\n",
    "evaluator.run(1)"
   ]
  },
  {
   "cell_type": "markdown",
   "metadata": {},
   "source": [
    "除了使用 `evaluate_batch_step_fn` 参数之外，您也可以使用 `evaluate_fn` 参数来处理单个 batch 的数据。该参数您可以查阅 [Evaluator的文档](../../fastNLP.core.controllers.evaluator.html) 来了解。简言之，在使用该参数的时候您需要在模型中定义一个函数，然后将该函数的名字作为 `evaluate_fn` 参数的值，不设置的情况下相当于 `evaluate_fn='evaluate_step'` 。\n",
    "\n",
    "如果您想要批量地处理输出或进行保存，也可以使用 **Metric** 。自定义 Metric `OutputSaver` 在每个 batch 得到结果后会执行 `update` 函数，将原文、原标签和预测的标签放入成员中，然后在 `get_metric` 函数中将其一股脑写入文件中。`update` 函数的三个参数中，pred 参数来自 `evaluate_step` 函数的返回值，而剩下两个则源于我们的输入。如您所见 **Metric** 也具有很高的灵活性，与 Callback 配合起来它们几乎可以满足所有常见的定制需求。"
   ]
  },
  {
   "cell_type": "code",
   "execution_count": 12,
   "metadata": {},
   "outputs": [
    {
     "data": {
      "application/vnd.jupyter.widget-view+json": {
       "model_id": "f54f0557d5f348c8ba865a1079cc5bc4",
       "version_major": 2,
       "version_minor": 0
      },
      "text/plain": [
       "Output()"
      ]
     },
     "metadata": {},
     "output_type": "display_data"
    },
    {
     "data": {
      "text/html": [
       "<pre style=\"white-space:pre;overflow-x:auto;line-height:normal;font-family:Menlo,'DejaVu Sans Mono',consolas,'Courier New',monospace\"><span style=\"color: #7fbfbf; text-decoration-color: #7fbfbf\">[08:58:08] </span><span style=\"color: #800000; text-decoration-color: #800000\">WARNING </span> Metric:output returns <span style=\"color: #800080; text-decoration-color: #800080; font-style: italic\">None</span> when getting metric results.  <a href=\"file:///remote-home/shxing/anaconda3/envs/fastnlp/lib/python3.7/site-packages/fastNLP/core/controllers/evaluator.py\"><span style=\"color: #7f7f7f; text-decoration-color: #7f7f7f\">evaluator.py</span></a><span style=\"color: #7f7f7f; text-decoration-color: #7f7f7f\">:</span><a href=\"file:///remote-home/shxing/anaconda3/envs/fastnlp/lib/python3.7/site-packages/fastNLP/core/controllers/evaluator.py#529\"><span style=\"color: #7f7f7f; text-decoration-color: #7f7f7f\">529</span></a>\n",
       "</pre>\n"
      ],
      "text/plain": [
       "\u001b[2;36m[08:58:08]\u001b[0m\u001b[2;36m \u001b[0m\u001b[31mWARNING \u001b[0m Metric:output returns \u001b[3;35mNone\u001b[0m when getting metric results.  \u001b]8;id=519634;file:///remote-home/shxing/anaconda3/envs/fastnlp/lib/python3.7/site-packages/fastNLP/core/controllers/evaluator.py\u001b\\\u001b[2mevaluator.py\u001b[0m\u001b]8;;\u001b\\\u001b[2m:\u001b[0m\u001b]8;id=118548;file:///remote-home/shxing/anaconda3/envs/fastnlp/lib/python3.7/site-packages/fastNLP/core/controllers/evaluator.py#529\u001b\\\u001b[2m529\u001b[0m\u001b]8;;\u001b\\\n"
      ]
     },
     "metadata": {},
     "output_type": "display_data"
    },
    {
     "data": {
      "text/html": [
       "<pre style=\"white-space:pre;overflow-x:auto;line-height:normal;font-family:Menlo,'DejaVu Sans Mono',consolas,'Courier New',monospace\"></pre>\n"
      ],
      "text/plain": []
     },
     "metadata": {},
     "output_type": "display_data"
    },
    {
     "data": {
      "text/plain": [
       "{}"
      ]
     },
     "execution_count": 12,
     "metadata": {},
     "output_type": "execute_result"
    }
   ],
   "source": [
    "from fastNLP import Metric\n",
    "\n",
    "class OutputSaver(Metric):\n",
    "    def __init__(self, tag_vocab, filename):\n",
    "        super(OutputSaver, self).__init__()\n",
    "        self.tag_vocab = tag_vocab\n",
    "        self.filename = filename\n",
    "        self.words_list = []\n",
    "        self.targets_list = []\n",
    "        self.labels_list = []\n",
    "\n",
    "    def reset(self):\n",
    "        self.words_list = []\n",
    "        self.targets_list = []\n",
    "        self.labels_list = []\n",
    "\n",
    "    def update(self, pred, raw_words, raw_target):\n",
    "        for words, single_raw_target, output in zip(raw_words, raw_target, pred):\n",
    "            labels = [data_bundle.get_vocab(\"target\").idx2word[idx] for idx in output[:len(words)].tolist() ]\n",
    "            self.words_list.append(words)\n",
    "            self.targets_list.append(single_raw_target)\n",
    "            self.labels_list.append(labels)\n",
    "\n",
    "    def get_metric(self):\n",
    "        with open(self.filename, \"w\") as f:\n",
    "            # 逐行写入文件\n",
    "            for words, targets, labels in zip(self.words_list, self.targets_list, self.labels_list):\n",
    "                f.write(\" \".join(words) + \"\\n\")\n",
    "                f.write(\" \".join(labels) + \"\\n\")\n",
    "                f.write(\" \".join(targets) + \"\\n\")\n",
    "                f.write(\"\\n\")\n",
    "\n",
    "\n",
    "evaluator = Evaluator(model=model, dataloaders=dataloaders[\"test\"], \n",
    "                      device=0, n_epochs=1,\n",
    "                      metrics={\"output\": OutputSaver(data_bundle.get_vocab(\"target\"), \"output.txt\")})\n",
    "evaluator.run()"
   ]
  }
 ],
 "metadata": {
  "kernelspec": {
   "display_name": "Python 3.7.13 ('fnlp-torch-1.11')",
   "language": "python",
   "name": "python3"
  },
  "language_info": {
   "codemirror_mode": {
    "name": "ipython",
    "version": 3
   },
   "file_extension": ".py",
   "mimetype": "text/x-python",
   "name": "python",
   "nbconvert_exporter": "python",
   "pygments_lexer": "ipython3",
   "version": "3.7.13"
  },
  "orig_nbformat": 4,
  "vscode": {
   "interpreter": {
    "hash": "8c0ca2bf6db0e7c6e3389aab82556c6aa6e71021cc09850836374d19b3cd5b41"
   }
  }
 },
 "nbformat": 4,
 "nbformat_minor": 2
}
