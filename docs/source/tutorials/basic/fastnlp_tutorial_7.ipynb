{
 "cells": [
  {
   "attachments": {},
   "cell_type": "markdown",
   "metadata": {},
   "source": [
    "# T7. 使用 Callback 和 Trainer.on 实现个性化的训练过程"
   ]
  },
  {
   "attachments": {},
   "cell_type": "markdown",
   "metadata": {},
   "source": [
    "## 1. fastNLP 中的回调模块 Callback\n",
    "\n",
    "&emsp;&emsp;`Callback n. 回拨的电话；回叫；召回，`在程序中一般被称作被称作**回调函数**。如果把函数的指针（地址）作为参数传递给另一个函数，当这个指针被用来调用它所指向的函数时，我们就说这是回调函数。回调函数并不会由该函数的实现方直接调用，而是在特定的事件或条件发生时由另外的一方调用的，用于对该事件或条件进行响应。众所周知，机器学习的过程中往往会包含 `初始化`、`训练开始`、`前向传播开始`、`前向传播结束`、`反向传播开始`、`反向传播结束`、`训练结束` 等等数个阶段。`fastNLP` 为了给予用户更广泛的定制空间，为训练增加灵活性也包含了回调机制，并实现成了一个单独的类 `fastNLP.core.Callback`。接下来我们为向您介绍如何使用 `Callback` 来自由地定制您的训练过程。\n",
    "\n",
    "### 1.1 TrainerState 和 State\n",
    "\n",
    "&emsp;&emsp;首先需要了解的是我们可以从 `Trainer` 中获取哪些状态。`Trainer` 中实例化了一个类 `TrainerState` 专门用来记录训练中的特定状态，它包括：\n",
    "\n",
    "名称|简要介绍|\n",
    "----|----|\n",
    " `n_epochs` | 训练 `epoch` 的总数 |\n",
    " `cur_epoch_idx` | 当前正处在第几个 `epoch` 中，从 0 开始 |\n",
    " `global_forward_batches` | 从训练开始到目前共 `forward` 了几个 `batch` |\n",
    " `batch_idx_in_epoch` | 当前正处在该次 `epoch` 的第几个 `batch` 中 |\n",
    " `num_batches_per_epoch` | 每次迭代总共包含多少个 `batch` |\n",
    " `n_batches` | 整个训练过程中的 `batch` 数目，满足 `n_batches = num_batches_per_epoch * n_epochs` |\n",
    "\n",
    "&emsp;&emsp;我们可以在训练过程中通过 `Trainer` 直接访问这些状态来获取训练的信息，如 `trainer.cur_epoch_idx`、`trainer.batch_idx_in_epoch` 等。\n",
    "\n",
    "&emsp;&emsp;除此之外，`fastNLP` 还在 `Trainer` 中内置了一个类 `State`，您可以通过 `trainer.state` 来访问该类。`TrainerState` 只能在训练中被 `Trainer` 自动更新，而 `State` 则可以让用户随时记录自己需要的信息。其具体的使用方式将会在下一部分为您介绍。"
   ]
  },
  {
   "attachments": {},
   "cell_type": "markdown",
   "metadata": {},
   "source": [
    "### 1.2 Callback 的使用\n",
    "\n",
    "&emsp;&emsp;回调模块 `Callback` 可以从 `fastNLP.core` 导入，任何具体的 `Callback` 都应当继承该类。`Callback` 包含许多函数，分别会在训练的不同时机调用。并且 `fastNLP` 会传入 `trainer`、`driver` 等参数来帮助处理信息。它们包括：\n",
    "\n",
    "函数 | 传入参数 | 调用时机\n",
    "----|----|----|\n",
    "`on_after_trainer_initialized` | trainer, driver | `Trainer` 初始化完成后 |\n",
    "`on_sanity_check_begin` | trainer | **预跑** 阶段开始前 |\n",
    "`on_sanity_check_end` | trainer, sanity_check_res | **预跑** 阶段结束后 |\n",
    "`on_train_begin` | trainer | 训练开始前 |\n",
    "`on_train_epoch_begin` | trainer | 一次 `epoch` 开始前 |\n",
    "`on_fetch_data_begin` | trainer | 从 `dataloader` 中取数据前 |\n",
    "`on_fetch_data_end` | trainer | 从 `dataloader` 中取数据后 |\n",
    "`on_train_batch_begin` | trainer, batch, indices | 前向传播一个 `batch` 前 |\n",
    "`on_before_backward` | trainer, outputs | 反向传播前 |\n",
    "`on_after_backward` | trainer | 反向传播后 |\n",
    "`on_before_zero_grad` | trainer, optimizers | 梯度清零前 |\n",
    "`on_after_zero_grad` | trainer, optimizers | 梯度清零后 |\n",
    "`on_before_optimizers_step` | trainer, optimizers | 执行 `optimizer.step()` 前 |\n",
    "`on_after_optimizers_step` | trainer, optimizers | 执行 `optimizer.step()` 后 |\n",
    "`on_train_batch_end` | trainer | 前向传播一个 `batch` 完成，`batch_idx_in_epoch` 更新后 |\n",
    "`on_train_epoch_end` | trainer | 一次 `epoch` 结束，`cur_epoch_idx` 更新后 |\n",
    "`on_evaluate_begin` | trainer | 执行验证 `evaluate` 前 |\n",
    "`on_evaluate_end` | trainer, results | 执行验证 `evaluate` 后 |\n",
    "`on_train_end` | trainer | 整个训练结束后 |\n",
    "`on_exception` | trainer, exception | 发生异常时 |\n",
    "`on_save_model` | trainer | 模型保存前 |\n",
    "`on_load_model` | trainer | 模型加载后 |\n",
    "`on_save_checkpoint` | trainer | 断点保存前 |\n",
    "`on_load_checkpoint` | trainer | 断点保存后 |\n",
    "\n",
    "其调用时机顺序大致如下：\n",
    "\n",
    "```python\n",
    "Trainer.__init__():\n",
    "    on_after_trainer_initialized(trainer, driver)\n",
    "Trainer.run():\n",
    "    if num_eval_sanity_batch>0:\n",
    "        on_sanity_check_begin(trainer)  # 如果设置了num_eval_sanity_batch\n",
    "        on_sanity_check_end(trainer, sanity_check_res)\n",
    "    try:\n",
    "        on_train_begin(trainer)\n",
    "        while cur_epoch_idx < n_epochs:\n",
    "            on_train_epoch_begin(trainer)\n",
    "            while batch_idx_in_epoch<=num_batches_per_epoch:\n",
    "                on_fetch_data_begin(trainer)\n",
    "                batch = next(dataloader)\n",
    "                on_fetch_data_end(trainer)\n",
    "                on_train_batch_begin(trainer, batch, indices)\n",
    "                on_before_backward(trainer, outputs)  # 其中 outputs 是经过 output_mapping（如果设置了） 后的，否则即为 model 的输出。\n",
    "                driver.backward()\n",
    "                on_after_backward(trainer)\n",
    "                on_before_optimizers_step(trainer, optimizers)  # 实际调用受到 accumulation_steps 影响\n",
    "                driver.step()\n",
    "                on_after_optimizers_step(trainer, optimizers)  # 实际调用受到 accumulation_steps 影响\n",
    "                on_before_zero_grad(trainer, optimizers)  # 实际调用受到 accumulation_steps 影响\n",
    "                driver.zero_grad()\n",
    "                on_after_zero_grad(trainer, optimizers)  # 实际调用受到 accumulation_steps 影响\n",
    "                batch_idx_in_epoch += 1\n",
    "                on_train_batch_end(trainer)\n",
    "            cur_epoch_idx += 1\n",
    "            on_train_epoch_end(trainer)\n",
    "    except BaseException:\n",
    "        self.on_exception(trainer, exception)\n",
    "    finally:\n",
    "        on_train_end(trainer)\n",
    "```\n",
    "\n",
    "&emsp;&emsp;其它的函数例如 `on_evaluate_begin(trainer)`、`on_evaluate_end(trainer, results)`、`on_save_model(trainer)`、`on_load_model(trainer)`、`on_save_checkpoint(trainer)`、`on_load_checkpoint(trainer)` 将根据需要在 `Trainer.run` 的不同时机被调用。\n",
    "\n",
    "&emsp;&emsp;接下来我们将通过实例程序来演示 `Callback` 的用法。首先加载演示用的 `sst-2` 数据集和模型："
   ]
  },
  {
   "cell_type": "code",
   "execution_count": 1,
   "metadata": {},
   "outputs": [
    {
     "name": "stderr",
     "output_type": "stream",
     "text": [
      "Reusing dataset glue (/remote-home/shxing/.cache/huggingface/datasets/glue/sst2/1.0.0/dacbe3125aa31d7f70367a07a8a9e72a5a0bfeb5fc42e75c9db75b96da6053ad)\n"
     ]
    },
    {
     "data": {
      "application/vnd.jupyter.widget-view+json": {
       "model_id": "fc15f25cfce64dac81489ba4d32752d3",
       "version_major": 2,
       "version_minor": 0
      },
      "text/plain": [
       "  0%|          | 0/3 [00:00<?, ?it/s]"
      ]
     },
     "metadata": {},
     "output_type": "display_data"
    }
   ],
   "source": [
    "from datasets import load_dataset\n",
    "\n",
    "# sst-2 数据集\n",
    "sst2data = load_dataset('glue', 'sst2')"
   ]
  },
  {
   "cell_type": "code",
   "execution_count": 2,
   "metadata": {},
   "outputs": [
    {
     "data": {
      "text/html": [
       "<pre style=\"white-space:pre;overflow-x:auto;line-height:normal;font-family:Menlo,'DejaVu Sans Mono',consolas,'Courier New',monospace\">\n",
       "</pre>\n"
      ],
      "text/plain": [
       "\n"
      ]
     },
     "metadata": {},
     "output_type": "display_data"
    },
    {
     "data": {
      "application/vnd.jupyter.widget-view+json": {
       "model_id": "b36804339bf3457fa39763d7e666c4ea",
       "version_major": 2,
       "version_minor": 0
      },
      "text/plain": [
       "Processing:   0%|          | 0/100 [00:00<?, ?it/s]"
      ]
     },
     "metadata": {},
     "output_type": "display_data"
    },
    {
     "data": {
      "application/vnd.jupyter.widget-view+json": {
       "model_id": "94d0601c2e2e4b108370ab74127ebeb7",
       "version_major": 2,
       "version_minor": 0
      },
      "text/plain": [
       "Output()"
      ]
     },
     "metadata": {},
     "output_type": "display_data"
    },
    {
     "data": {
      "text/html": [
       "<pre style=\"white-space:pre;overflow-x:auto;line-height:normal;font-family:Menlo,'DejaVu Sans Mono',consolas,'Courier New',monospace\"></pre>\n"
      ],
      "text/plain": []
     },
     "metadata": {},
     "output_type": "display_data"
    },
    {
     "name": "stdout",
     "output_type": "stream",
     "text": [
      "+------------------------------+--------+---------+\n",
      "| words                        | target | seq_len |\n",
      "+------------------------------+--------+---------+\n",
      "| [466, 18, 467, 468, 39]      | 1      | 5       |\n",
      "| [454, 455, 3, 16, 456, 45... | 1      | 22      |\n",
      "| [2, 304]                     | 0      | 2       |\n",
      "| [68, 7, 161, 162]            | 0      | 4       |\n",
      "| [293, 294, 295, 296, 25, ... | 1      | 21      |\n",
      "| [38, 104, 337, 4]            | 0      | 4       |\n",
      "| [237, 66, 3]                 | 0      | 3       |\n",
      "| [30, 163, 164, 69, 165, 9... | 0      | 17      |\n",
      "| [47, 218, 6, 219, 11, 220... | 0      | 21      |\n",
      "| [5, 283, 284, 285, 286, 6... | 0      | 8       |\n",
      "| [3, 31, 111, 3, 11, 22, 1... | 1      | 13      |\n",
      "| [335, 16, 5, 336]            | 1      | 4       |\n",
      "| ...                          | ...    | ...     |\n",
      "+------------------------------+--------+---------+\n"
     ]
    }
   ],
   "source": [
    "from fastNLP import DataSet, Vocabulary, prepare_dataloader\n",
    "\n",
    "# 仅取 20 条数据\n",
    "dataset = DataSet.from_datasets(sst2data['train'])[:100]\n",
    "dataset.apply_more(lambda ins:{'words': ins['sentence'].lower().split(), 'target': ins['label']}, \n",
    "                   progress_bar=\"tqdm\")\n",
    "dataset.add_seq_len('words')\n",
    "dataset.delete_field('sentence')\n",
    "dataset.delete_field('label')\n",
    "dataset.delete_field('idx')\n",
    "\n",
    "vocab = Vocabulary()\n",
    "vocab.from_dataset(dataset, field_name='words')\n",
    "vocab.index_dataset(dataset, field_name='words')\n",
    "\n",
    "# 训练集和验证集 0.8:0.2\n",
    "train_dataset, evaluate_dataset = dataset.split(ratio=0.8)\n",
    "\n",
    "print(train_dataset)\n",
    "\n",
    "train_dataloader = prepare_dataloader(\n",
    "    train_dataset, batch_size=16, shuffle=True\n",
    ")\n",
    "val_dataloader = prepare_dataloader(\n",
    "    evaluate_dataset, batch_size=4, shuffle=False\n",
    ")"
   ]
  },
  {
   "cell_type": "code",
   "execution_count": 3,
   "metadata": {},
   "outputs": [],
   "source": [
    "from fastNLP.models.torch import CNNText\n",
    "model = CNNText(embed=(len(vocab), 224), num_classes=2, dropout=0.2)"
   ]
  },
  {
   "attachments": {},
   "cell_type": "markdown",
   "metadata": {},
   "source": [
    "&emsp;&emsp;接着我们导入 `Callback` 模块，创建一个自定义的 `MyCallback` 类，并且在每个 `epoch`、每个 `batch` 前后输出训练的进度和当前使用的数据。通过 `trainer.cur_epoch_idx` 可以获取当前的 `epoch`，`trainer.batch_idx_in_epoch` 可以获取已经处理到第几个 `batch`；而 `on_train_batch_begin` 函数中的 `batch` 和 `indices` 则分别代表**当前批次的数据**和**所用数据的索引**；`on_before_backward` 函数中的 `outputs` 则是从模型中返回的数据。\n",
    "\n",
    "&emsp;&emsp;同时，我们还用到了上文提到的 `state` 属性，在这里我们用它来记录训练中的平均 `loss`。大体上它可以被看作一个字典，您可以使用 `state.loss` 或者 `state['loss']` 来打印其中 `'loss'` 对应的内容，但是赋值操作只能通过 `state['loss'] = 1` 这样的语句进行。\n",
    "\n",
    "&emsp;&emsp;有一点需要注意：如果您需要进行断点重训，那么请确保您记录在 `state` 中的内容是**可序列化的**。"
   ]
  },
  {
   "cell_type": "code",
   "execution_count": 4,
   "metadata": {},
   "outputs": [],
   "source": [
    "from fastNLP import Callback\n",
    "\n",
    "class MyCallback(Callback):\n",
    "    def __init__(self):\n",
    "        pass\n",
    "\n",
    "    def on_train_begin(self, trainer):\n",
    "        print(\"Now start training...\")\n",
    "\n",
    "    def on_train_epoch_begin(self, trainer):\n",
    "        print(f\"Epoch {trainer.cur_epoch_idx + 1}/{trainer.n_epochs}\")\n",
    "        trainer.state['loss'] = 0\n",
    "\n",
    "    def on_train_batch_begin(self, trainer, batch, indices):\n",
    "        print(f\"Training Batch {trainer.batch_idx_in_epoch + 1}/{trainer.num_batches_per_epoch}...\")\n",
    "        print(\"Batch Words:\", batch['words'].tolist(), \"Target:\", batch['target'].tolist(), \"Indices:\", indices)\n",
    "        \n",
    "\n",
    "    def on_before_backward(self, trainer, outputs):\n",
    "        print(\"Loss:\", outputs[\"loss\"].tolist())\n",
    "        trainer.state['loss'] += outputs['loss'].item()\n",
    "\n",
    "    def on_train_epoch_end(self, trainer):\n",
    "        ave_loss = trainer.state['loss'] / trainer.num_batches_per_epoch\n",
    "        print(f\"End Epoch {trainer.cur_epoch_idx}, Average Loss {ave_loss}\")\n",
    "\n",
    "    def on_train_end(self, trainer):\n",
    "        print(\"Quit training process.\")"
   ]
  },
  {
   "attachments": {},
   "cell_type": "markdown",
   "metadata": {},
   "source": [
    "&emsp;&emsp;最后开始训练，观察控制台的输出。`Trainer` 的 `callbacks` 参数要求传入一个列表，然后在其内部通过 `CallbackManager` 统一进行调用，因此您可以多种 `Callback` 同时应用在 `Trainer` 上，这也是 `fastNLP` 灵活性的体现。"
   ]
  },
  {
   "cell_type": "code",
   "execution_count": 5,
   "metadata": {},
   "outputs": [
    {
     "data": {
      "application/vnd.jupyter.widget-view+json": {
       "model_id": "444f96098599468b94d50f681fcda396",
       "version_major": 2,
       "version_minor": 0
      },
      "text/plain": [
       "Output()"
      ]
     },
     "metadata": {},
     "output_type": "display_data"
    },
    {
     "data": {
      "text/html": [
       "<pre style=\"white-space:pre;overflow-x:auto;line-height:normal;font-family:Menlo,'DejaVu Sans Mono',consolas,'Courier New',monospace\">Now start training...\n",
       "</pre>\n"
      ],
      "text/plain": [
       "Now start training...\n"
      ]
     },
     "metadata": {},
     "output_type": "display_data"
    },
    {
     "data": {
      "text/html": [
       "<pre style=\"white-space:pre;overflow-x:auto;line-height:normal;font-family:Menlo,'DejaVu Sans Mono',consolas,'Courier New',monospace\">Epoch 1/1\n",
       "</pre>\n"
      ],
      "text/plain": [
       "Epoch 1/1\n"
      ]
     },
     "metadata": {},
     "output_type": "display_data"
    },
    {
     "data": {
      "text/html": [
       "<pre style=\"white-space:pre;overflow-x:auto;line-height:normal;font-family:Menlo,'DejaVu Sans Mono',consolas,'Courier New',monospace\">Training Batch 1/5...\n",
       "</pre>\n"
      ],
      "text/plain": [
       "Training Batch 1/5...\n"
      ]
     },
     "metadata": {},
     "output_type": "display_data"
    },
    {
     "data": {
      "text/html": [
       "<pre style=\"white-space:pre;overflow-x:auto;line-height:normal;font-family:Menlo,'DejaVu Sans Mono',consolas,'Courier New',monospace\">Batch Words: [[52, 53, 54, 3, 119, 120, 121, 0, 0, 0, 0, 0, 0, 0, 0, 0, 0, 0, 0, 0, 0], [38, \n",
       "104, 337, 4, 0, 0, 0, 0, 0, 0, 0, 0, 0, 0, 0, 0, 0, 0, 0, 0, 0], [253, 0, 0, 0, 0, 0, 0, 0, \n",
       "0, 0, 0, 0, 0, 0, 0, 0, 0, 0, 0, 0, 0], [26, 18, 427, 106, 0, 0, 0, 0, 0, 0, 0, 0, 0, 0, 0, \n",
       "0, 0, 0, 0, 0, 0], [105, 338, 6, 34, 339, 12, 13, 19, 0, 0, 0, 0, 0, 0, 0, 0, 0, 0, 0, 0, 0],\n",
       "[5, 283, 284, 285, 286, 6, 5, 100, 0, 0, 0, 0, 0, 0, 0, 0, 0, 0, 0, 0, 0], [86, 223, 224, \n",
       "225, 0, 0, 0, 0, 0, 0, 0, 0, 0, 0, 0, 0, 0, 0, 0, 0, 0], [267, 268, 0, 0, 0, 0, 0, 0, 0, 0, \n",
       "0, 0, 0, 0, 0, 0, 0, 0, 0, 0, 0], [412, 4, 0, 0, 0, 0, 0, 0, 0, 0, 0, 0, 0, 0, 0, 0, 0, 0, 0,\n",
       "0, 0], [335, 16, 5, 336, 0, 0, 0, 0, 0, 0, 0, 0, 0, 0, 0, 0, 0, 0, 0, 0, 0], [72, 19, 0, 0, \n",
       "0, 0, 0, 0, 0, 0, 0, 0, 0, 0, 0, 0, 0, 0, 0, 0, 0], [213, 24, 18, 214, 215, 83, 6, 216, 217, \n",
       "0, 0, 0, 0, 0, 0, 0, 0, 0, 0, 0, 0], [47, 218, 6, 219, 11, 220, 221, 2, 40, 41, 42, 8, 43, 3,\n",
       "84, 2, 40, 41, 56, 8, 43], [341, 21, 342, 343, 344, 0, 0, 0, 0, 0, 0, 0, 0, 0, 0, 0, 0, 0, 0,\n",
       "0, 0], [2, 370, 371, 9, 11, 2, 372, 373, 12, 2, 374, 375, 6, 376, 4, 377, 0, 0, 0, 0, 0], \n",
       "[27, 28, 238, 93, 94, 239, 95, 240, 24, 241, 5, 242, 58, 13, 34, 17, 0, 0, 0, 0, 0]] Target: \n",
       "[0, 0, 1, 1, 1, 0, 1, 0, 0, 1, 0, 1, 0, 0, 0, 1] Indices: [50, 5, 19, 66, 53, 9, 64, 36, 20, \n",
       "11, 13, 52, 8, 65, 16, 74]\n",
       "</pre>\n"
      ],
      "text/plain": [
       "Batch Words: [[52, 53, 54, 3, 119, 120, 121, 0, 0, 0, 0, 0, 0, 0, 0, 0, 0, 0, 0, 0, 0], [38, \n",
       "104, 337, 4, 0, 0, 0, 0, 0, 0, 0, 0, 0, 0, 0, 0, 0, 0, 0, 0, 0], [253, 0, 0, 0, 0, 0, 0, 0, \n",
       "0, 0, 0, 0, 0, 0, 0, 0, 0, 0, 0, 0, 0], [26, 18, 427, 106, 0, 0, 0, 0, 0, 0, 0, 0, 0, 0, 0, \n",
       "0, 0, 0, 0, 0, 0], [105, 338, 6, 34, 339, 12, 13, 19, 0, 0, 0, 0, 0, 0, 0, 0, 0, 0, 0, 0, 0],\n",
       "[5, 283, 284, 285, 286, 6, 5, 100, 0, 0, 0, 0, 0, 0, 0, 0, 0, 0, 0, 0, 0], [86, 223, 224, \n",
       "225, 0, 0, 0, 0, 0, 0, 0, 0, 0, 0, 0, 0, 0, 0, 0, 0, 0], [267, 268, 0, 0, 0, 0, 0, 0, 0, 0, \n",
       "0, 0, 0, 0, 0, 0, 0, 0, 0, 0, 0], [412, 4, 0, 0, 0, 0, 0, 0, 0, 0, 0, 0, 0, 0, 0, 0, 0, 0, 0,\n",
       "0, 0], [335, 16, 5, 336, 0, 0, 0, 0, 0, 0, 0, 0, 0, 0, 0, 0, 0, 0, 0, 0, 0], [72, 19, 0, 0, \n",
       "0, 0, 0, 0, 0, 0, 0, 0, 0, 0, 0, 0, 0, 0, 0, 0, 0], [213, 24, 18, 214, 215, 83, 6, 216, 217, \n",
       "0, 0, 0, 0, 0, 0, 0, 0, 0, 0, 0, 0], [47, 218, 6, 219, 11, 220, 221, 2, 40, 41, 42, 8, 43, 3,\n",
       "84, 2, 40, 41, 56, 8, 43], [341, 21, 342, 343, 344, 0, 0, 0, 0, 0, 0, 0, 0, 0, 0, 0, 0, 0, 0,\n",
       "0, 0], [2, 370, 371, 9, 11, 2, 372, 373, 12, 2, 374, 375, 6, 376, 4, 377, 0, 0, 0, 0, 0], \n",
       "[27, 28, 238, 93, 94, 239, 95, 240, 24, 241, 5, 242, 58, 13, 34, 17, 0, 0, 0, 0, 0]] Target: \n",
       "[0, 0, 1, 1, 1, 0, 1, 0, 0, 1, 0, 1, 0, 0, 0, 1] Indices: [50, 5, 19, 66, 53, 9, 64, 36, 20, \n",
       "11, 13, 52, 8, 65, 16, 74]\n"
      ]
     },
     "metadata": {},
     "output_type": "display_data"
    },
    {
     "data": {
      "text/html": [
       "<pre style=\"white-space:pre;overflow-x:auto;line-height:normal;font-family:Menlo,'DejaVu Sans Mono',consolas,'Courier New',monospace\">Loss: 0.6938456892967224\n",
       "</pre>\n"
      ],
      "text/plain": [
       "Loss: 0.6938456892967224\n"
      ]
     },
     "metadata": {},
     "output_type": "display_data"
    },
    {
     "data": {
      "text/html": [
       "<pre style=\"white-space:pre;overflow-x:auto;line-height:normal;font-family:Menlo,'DejaVu Sans Mono',consolas,'Courier New',monospace\">Training Batch 2/5...\n",
       "</pre>\n"
      ],
      "text/plain": [
       "Training Batch 2/5...\n"
      ]
     },
     "metadata": {},
     "output_type": "display_data"
    },
    {
     "data": {
      "text/html": [
       "<pre style=\"white-space:pre;overflow-x:auto;line-height:normal;font-family:Menlo,'DejaVu Sans Mono',consolas,'Courier New',monospace\">Batch Words: [[510, 4, 511, 0, 0, 0, 0, 0, 0, 0, 0, 0, 0, 0, 0, 0, 0, 0, 0, 0, 0, 0, 0, 0], \n",
       "[293, 294, 295, 296, 25, 22, 297, 32, 298, 3, 299, 49, 5, 300, 301, 12, 18, 302, 303, 17, 10,\n",
       "0, 0, 0], [12, 85, 222, 0, 0, 0, 0, 0, 0, 0, 0, 0, 0, 0, 0, 0, 0, 0, 0, 0, 0, 0, 0, 0], [15, \n",
       "23, 269, 3, 270, 271, 272, 273, 27, 274, 28, 35, 275, 276, 7, 277, 0, 0, 0, 0, 0, 0, 0, 0], \n",
       "[2, 226, 11, 42, 87, 227, 60, 36, 88, 7, 228, 3, 0, 0, 0, 0, 0, 0, 0, 0, 0, 0, 0, 0], [17, 7,\n",
       "418, 419, 8, 420, 7, 421, 422, 423, 424, 425, 426, 0, 0, 0, 0, 0, 0, 0, 0, 0, 0, 0], [5, 203,\n",
       "21, 204, 33, 0, 0, 0, 0, 0, 0, 0, 0, 0, 0, 0, 0, 0, 0, 0, 0, 0, 0, 0], [15, 5, 79, 80, 81, \n",
       "82, 0, 0, 0, 0, 0, 0, 0, 0, 0, 0, 0, 0, 0, 0, 0, 0, 0, 0], [77, 78, 3, 195, 14, 30, 196, 197,\n",
       "3, 69, 198, 62, 5, 199, 15, 5, 79, 80, 81, 82, 200, 201, 202, 10], [469, 470, 99, 0, 0, 0, 0,\n",
       "0, 0, 0, 0, 0, 0, 0, 0, 0, 0, 0, 0, 0, 0, 0, 0, 0], [3, 31, 111, 3, 11, 22, 112, 429, 430, 2,\n",
       "431, 4, 432, 0, 0, 0, 0, 0, 0, 0, 0, 0, 0, 0], [21, 46, 231, 0, 0, 0, 0, 0, 0, 0, 0, 0, 0, 0,\n",
       "0, 0, 0, 0, 0, 0, 0, 0, 0, 0], [180, 181, 0, 0, 0, 0, 0, 0, 0, 0, 0, 0, 0, 0, 0, 0, 0, 0, 0, \n",
       "0, 0, 0, 0, 0], [2, 304, 0, 0, 0, 0, 0, 0, 0, 0, 0, 0, 0, 0, 0, 0, 0, 0, 0, 0, 0, 0, 0, 0], \n",
       "[428, 0, 0, 0, 0, 0, 0, 0, 0, 0, 0, 0, 0, 0, 0, 0, 0, 0, 0, 0, 0, 0, 0, 0], [15, 5, 64, 3, \n",
       "407, 11, 49, 32, 100, 0, 0, 0, 0, 0, 0, 0, 0, 0, 0, 0, 0, 0, 0, 0]] Target: [0, 1, 1, 0, 0, \n",
       "1, 1, 0, 1, 1, 1, 1, 0, 0, 1, 0] Indices: [75, 4, 44, 23, 47, 78, 27, 43, 30, 67, 10, 57, 35,\n",
       "2, 61, 39]\n",
       "</pre>\n"
      ],
      "text/plain": [
       "Batch Words: [[510, 4, 511, 0, 0, 0, 0, 0, 0, 0, 0, 0, 0, 0, 0, 0, 0, 0, 0, 0, 0, 0, 0, 0], \n",
       "[293, 294, 295, 296, 25, 22, 297, 32, 298, 3, 299, 49, 5, 300, 301, 12, 18, 302, 303, 17, 10,\n",
       "0, 0, 0], [12, 85, 222, 0, 0, 0, 0, 0, 0, 0, 0, 0, 0, 0, 0, 0, 0, 0, 0, 0, 0, 0, 0, 0], [15, \n",
       "23, 269, 3, 270, 271, 272, 273, 27, 274, 28, 35, 275, 276, 7, 277, 0, 0, 0, 0, 0, 0, 0, 0], \n",
       "[2, 226, 11, 42, 87, 227, 60, 36, 88, 7, 228, 3, 0, 0, 0, 0, 0, 0, 0, 0, 0, 0, 0, 0], [17, 7,\n",
       "418, 419, 8, 420, 7, 421, 422, 423, 424, 425, 426, 0, 0, 0, 0, 0, 0, 0, 0, 0, 0, 0], [5, 203,\n",
       "21, 204, 33, 0, 0, 0, 0, 0, 0, 0, 0, 0, 0, 0, 0, 0, 0, 0, 0, 0, 0, 0], [15, 5, 79, 80, 81, \n",
       "82, 0, 0, 0, 0, 0, 0, 0, 0, 0, 0, 0, 0, 0, 0, 0, 0, 0, 0], [77, 78, 3, 195, 14, 30, 196, 197,\n",
       "3, 69, 198, 62, 5, 199, 15, 5, 79, 80, 81, 82, 200, 201, 202, 10], [469, 470, 99, 0, 0, 0, 0,\n",
       "0, 0, 0, 0, 0, 0, 0, 0, 0, 0, 0, 0, 0, 0, 0, 0, 0], [3, 31, 111, 3, 11, 22, 112, 429, 430, 2,\n",
       "431, 4, 432, 0, 0, 0, 0, 0, 0, 0, 0, 0, 0, 0], [21, 46, 231, 0, 0, 0, 0, 0, 0, 0, 0, 0, 0, 0,\n",
       "0, 0, 0, 0, 0, 0, 0, 0, 0, 0], [180, 181, 0, 0, 0, 0, 0, 0, 0, 0, 0, 0, 0, 0, 0, 0, 0, 0, 0, \n",
       "0, 0, 0, 0, 0], [2, 304, 0, 0, 0, 0, 0, 0, 0, 0, 0, 0, 0, 0, 0, 0, 0, 0, 0, 0, 0, 0, 0, 0], \n",
       "[428, 0, 0, 0, 0, 0, 0, 0, 0, 0, 0, 0, 0, 0, 0, 0, 0, 0, 0, 0, 0, 0, 0, 0], [15, 5, 64, 3, \n",
       "407, 11, 49, 32, 100, 0, 0, 0, 0, 0, 0, 0, 0, 0, 0, 0, 0, 0, 0, 0]] Target: [0, 1, 1, 0, 0, \n",
       "1, 1, 0, 1, 1, 1, 1, 0, 0, 1, 0] Indices: [75, 4, 44, 23, 47, 78, 27, 43, 30, 67, 10, 57, 35,\n",
       "2, 61, 39]\n"
      ]
     },
     "metadata": {},
     "output_type": "display_data"
    },
    {
     "data": {
      "text/html": [
       "<pre style=\"white-space:pre;overflow-x:auto;line-height:normal;font-family:Menlo,'DejaVu Sans Mono',consolas,'Courier New',monospace\">Loss: 0.6903923749923706\n",
       "</pre>\n"
      ],
      "text/plain": [
       "Loss: 0.6903923749923706\n"
      ]
     },
     "metadata": {},
     "output_type": "display_data"
    },
    {
     "data": {
      "text/html": [
       "<pre style=\"white-space:pre;overflow-x:auto;line-height:normal;font-family:Menlo,'DejaVu Sans Mono',consolas,'Courier New',monospace\">Training Batch 3/5...\n",
       "</pre>\n"
      ],
      "text/plain": [
       "Training Batch 3/5...\n"
      ]
     },
     "metadata": {},
     "output_type": "display_data"
    },
    {
     "data": {
      "text/html": [
       "<pre style=\"white-space:pre;overflow-x:auto;line-height:normal;font-family:Menlo,'DejaVu Sans Mono',consolas,'Courier New',monospace\">Batch Words: [[290, 291, 16, 2, 94, 6, 292, 4, 0, 0, 0, 0, 0, 0, 0, 0, 0, 0, 0, 0, 0, 0, 0, \n",
       "0, 0, 0, 0, 0, 0, 0, 0, 0, 0, 0, 0], [9, 8, 38, 135, 136, 7, 137, 63, 138, 139, 0, 0, 0, 0, \n",
       "0, 0, 0, 0, 0, 0, 0, 0, 0, 0, 0, 0, 0, 0, 0, 0, 0, 0, 0, 0, 0], [391, 31, 5, 392, 393, 394, \n",
       "39, 24, 395, 6, 396, 73, 3, 16, 397, 398, 20, 399, 4, 5, 400, 401, 6, 402, 10, 0, 0, 0, 0, 0,\n",
       "0, 0, 0, 0, 0], [278, 13, 279, 16, 54, 4, 280, 3, 281, 9, 16, 32, 282, 99, 0, 0, 0, 0, 0, 0, \n",
       "0, 0, 0, 0, 0, 0, 0, 0, 0, 0, 0, 0, 0, 0, 0], [3, 108, 102, 6, 2, 439, 440, 49, 5, 441, 84, \n",
       "442, 443, 23, 444, 445, 3, 23, 446, 22, 447, 448, 449, 12, 13, 72, 450, 6, 5, 451, 7, 88, 5, \n",
       "452, 10], [101, 0, 0, 0, 0, 0, 0, 0, 0, 0, 0, 0, 0, 0, 0, 0, 0, 0, 0, 0, 0, 0, 0, 0, 0, 0, 0,\n",
       "0, 0, 0, 0, 0, 0, 0, 0], [317, 3, 318, 319, 0, 0, 0, 0, 0, 0, 0, 0, 0, 0, 0, 0, 0, 0, 0, 0, \n",
       "0, 0, 0, 0, 0, 0, 0, 0, 0, 0, 0, 0, 0, 0, 0], [68, 7, 161, 162, 0, 0, 0, 0, 0, 0, 0, 0, 0, 0,\n",
       "0, 0, 0, 0, 0, 0, 0, 0, 0, 0, 0, 0, 0, 0, 0, 0, 0, 0, 0, 0, 0], [454, 455, 3, 16, 456, 457, \n",
       "3, 7, 458, 2, 459, 6, 460, 461, 4, 462, 463, 464, 21, 110, 465, 10, 0, 0, 0, 0, 0, 0, 0, 0, \n",
       "0, 0, 0, 0, 0], [7, 330, 15, 331, 4, 332, 15, 2, 333, 8, 334, 0, 0, 0, 0, 0, 0, 0, 0, 0, 0, \n",
       "0, 0, 0, 0, 0, 0, 0, 0, 0, 0, 0, 0, 0, 0], [2, 176, 177, 0, 0, 0, 0, 0, 0, 0, 0, 0, 0, 0, 0, \n",
       "0, 0, 0, 0, 0, 0, 0, 0, 0, 0, 0, 0, 0, 0, 0, 0, 0, 0, 0, 0], [365, 366, 367, 78, 30, 368, 55,\n",
       "0, 0, 0, 0, 0, 0, 0, 0, 0, 0, 0, 0, 0, 0, 0, 0, 0, 0, 0, 0, 0, 0, 0, 0, 0, 0, 0, 0], [466, \n",
       "18, 467, 468, 39, 0, 0, 0, 0, 0, 0, 0, 0, 0, 0, 0, 0, 0, 0, 0, 0, 0, 0, 0, 0, 0, 0, 0, 0, 0, \n",
       "0, 0, 0, 0, 0], [237, 66, 3, 0, 0, 0, 0, 0, 0, 0, 0, 0, 0, 0, 0, 0, 0, 0, 0, 0, 0, 0, 0, 0, \n",
       "0, 0, 0, 0, 0, 0, 0, 0, 0, 0, 0], [7, 2, 405, 6, 406, 0, 0, 0, 0, 0, 0, 0, 0, 0, 0, 0, 0, 0, \n",
       "0, 0, 0, 0, 0, 0, 0, 0, 0, 0, 0, 0, 0, 0, 0, 0, 0], [254, 7, 2, 255, 6, 13, 17, 0, 0, 0, 0, \n",
       "0, 0, 0, 0, 0, 0, 0, 0, 0, 0, 0, 0, 0, 0, 0, 0, 0, 0, 0, 0, 0, 0, 0, 0]] Target: [1, 0, 0, 1,\n",
       "0, 0, 0, 0, 1, 1, 1, 0, 1, 0, 0, 0] Indices: [34, 17, 60, 28, 51, 18, 62, 3, 1, 42, 24, 21, \n",
       "0, 6, 45, 22]\n",
       "</pre>\n"
      ],
      "text/plain": [
       "Batch Words: [[290, 291, 16, 2, 94, 6, 292, 4, 0, 0, 0, 0, 0, 0, 0, 0, 0, 0, 0, 0, 0, 0, 0, \n",
       "0, 0, 0, 0, 0, 0, 0, 0, 0, 0, 0, 0], [9, 8, 38, 135, 136, 7, 137, 63, 138, 139, 0, 0, 0, 0, \n",
       "0, 0, 0, 0, 0, 0, 0, 0, 0, 0, 0, 0, 0, 0, 0, 0, 0, 0, 0, 0, 0], [391, 31, 5, 392, 393, 394, \n",
       "39, 24, 395, 6, 396, 73, 3, 16, 397, 398, 20, 399, 4, 5, 400, 401, 6, 402, 10, 0, 0, 0, 0, 0,\n",
       "0, 0, 0, 0, 0], [278, 13, 279, 16, 54, 4, 280, 3, 281, 9, 16, 32, 282, 99, 0, 0, 0, 0, 0, 0, \n",
       "0, 0, 0, 0, 0, 0, 0, 0, 0, 0, 0, 0, 0, 0, 0], [3, 108, 102, 6, 2, 439, 440, 49, 5, 441, 84, \n",
       "442, 443, 23, 444, 445, 3, 23, 446, 22, 447, 448, 449, 12, 13, 72, 450, 6, 5, 451, 7, 88, 5, \n",
       "452, 10], [101, 0, 0, 0, 0, 0, 0, 0, 0, 0, 0, 0, 0, 0, 0, 0, 0, 0, 0, 0, 0, 0, 0, 0, 0, 0, 0,\n",
       "0, 0, 0, 0, 0, 0, 0, 0], [317, 3, 318, 319, 0, 0, 0, 0, 0, 0, 0, 0, 0, 0, 0, 0, 0, 0, 0, 0, \n",
       "0, 0, 0, 0, 0, 0, 0, 0, 0, 0, 0, 0, 0, 0, 0], [68, 7, 161, 162, 0, 0, 0, 0, 0, 0, 0, 0, 0, 0,\n",
       "0, 0, 0, 0, 0, 0, 0, 0, 0, 0, 0, 0, 0, 0, 0, 0, 0, 0, 0, 0, 0], [454, 455, 3, 16, 456, 457, \n",
       "3, 7, 458, 2, 459, 6, 460, 461, 4, 462, 463, 464, 21, 110, 465, 10, 0, 0, 0, 0, 0, 0, 0, 0, \n",
       "0, 0, 0, 0, 0], [7, 330, 15, 331, 4, 332, 15, 2, 333, 8, 334, 0, 0, 0, 0, 0, 0, 0, 0, 0, 0, \n",
       "0, 0, 0, 0, 0, 0, 0, 0, 0, 0, 0, 0, 0, 0], [2, 176, 177, 0, 0, 0, 0, 0, 0, 0, 0, 0, 0, 0, 0, \n",
       "0, 0, 0, 0, 0, 0, 0, 0, 0, 0, 0, 0, 0, 0, 0, 0, 0, 0, 0, 0], [365, 366, 367, 78, 30, 368, 55,\n",
       "0, 0, 0, 0, 0, 0, 0, 0, 0, 0, 0, 0, 0, 0, 0, 0, 0, 0, 0, 0, 0, 0, 0, 0, 0, 0, 0, 0], [466, \n",
       "18, 467, 468, 39, 0, 0, 0, 0, 0, 0, 0, 0, 0, 0, 0, 0, 0, 0, 0, 0, 0, 0, 0, 0, 0, 0, 0, 0, 0, \n",
       "0, 0, 0, 0, 0], [237, 66, 3, 0, 0, 0, 0, 0, 0, 0, 0, 0, 0, 0, 0, 0, 0, 0, 0, 0, 0, 0, 0, 0, \n",
       "0, 0, 0, 0, 0, 0, 0, 0, 0, 0, 0], [7, 2, 405, 6, 406, 0, 0, 0, 0, 0, 0, 0, 0, 0, 0, 0, 0, 0, \n",
       "0, 0, 0, 0, 0, 0, 0, 0, 0, 0, 0, 0, 0, 0, 0, 0, 0], [254, 7, 2, 255, 6, 13, 17, 0, 0, 0, 0, \n",
       "0, 0, 0, 0, 0, 0, 0, 0, 0, 0, 0, 0, 0, 0, 0, 0, 0, 0, 0, 0, 0, 0, 0, 0]] Target: [1, 0, 0, 1,\n",
       "0, 0, 0, 0, 1, 1, 1, 0, 1, 0, 0, 0] Indices: [34, 17, 60, 28, 51, 18, 62, 3, 1, 42, 24, 21, \n",
       "0, 6, 45, 22]\n"
      ]
     },
     "metadata": {},
     "output_type": "display_data"
    },
    {
     "data": {
      "text/html": [
       "<pre style=\"white-space:pre;overflow-x:auto;line-height:normal;font-family:Menlo,'DejaVu Sans Mono',consolas,'Courier New',monospace\">Loss: 0.7048772573471069\n",
       "</pre>\n"
      ],
      "text/plain": [
       "Loss: 0.7048772573471069\n"
      ]
     },
     "metadata": {},
     "output_type": "display_data"
    },
    {
     "data": {
      "text/html": [
       "<pre style=\"white-space:pre;overflow-x:auto;line-height:normal;font-family:Menlo,'DejaVu Sans Mono',consolas,'Courier New',monospace\">Training Batch 4/5...\n",
       "</pre>\n"
      ],
      "text/plain": [
       "Training Batch 4/5...\n"
      ]
     },
     "metadata": {},
     "output_type": "display_data"
    },
    {
     "data": {
      "text/html": [
       "<pre style=\"white-space:pre;overflow-x:auto;line-height:normal;font-family:Menlo,'DejaVu Sans Mono',consolas,'Courier New',monospace\">Batch Words: [[9, 8, 113, 471, 472, 4, 83, 9, 473, 65, 109, 474, 475, 27, 476, 7, 2, 477, 6, \n",
       "478, 28, 2, 479, 0, 0, 0], [5, 320, 0, 0, 0, 0, 0, 0, 0, 0, 0, 0, 0, 0, 0, 0, 0, 0, 0, 0, 0, \n",
       "0, 0, 0, 0, 0], [52, 86, 415, 416, 4, 76, 104, 417, 0, 0, 0, 0, 0, 0, 0, 0, 0, 0, 0, 0, 0, 0,\n",
       "0, 0, 0, 0], [433, 21, 5, 434, 4, 435, 436, 45, 0, 0, 0, 0, 0, 0, 0, 0, 0, 0, 0, 0, 0, 0, 0, \n",
       "0, 0, 0], [127, 128, 129, 7, 130, 2, 131, 58, 0, 0, 0, 0, 0, 0, 0, 0, 0, 0, 0, 0, 0, 0, 0, 0,\n",
       "0, 0], [105, 4, 514, 515, 0, 0, 0, 0, 0, 0, 0, 0, 0, 0, 0, 0, 0, 0, 0, 0, 0, 0, 0, 0, 0, 0], \n",
       "[205, 36, 2, 206, 3, 207, 208, 0, 0, 0, 0, 0, 0, 0, 0, 0, 0, 0, 0, 0, 0, 0, 0, 0, 0, 0], \n",
       "[209, 210, 4, 211, 212, 0, 0, 0, 0, 0, 0, 0, 0, 0, 0, 0, 0, 0, 0, 0, 0, 0, 0, 0, 0, 0], [191,\n",
       "2, 192, 4, 12, 44, 193, 76, 194, 14, 0, 0, 0, 0, 0, 0, 0, 0, 0, 0, 0, 0, 0, 0, 0, 0], [14, 8,\n",
       "114, 512, 513, 0, 0, 0, 0, 0, 0, 0, 0, 0, 0, 0, 0, 0, 0, 0, 0, 0, 0, 0, 0, 0], [14, 498, 22, \n",
       "499, 2, 500, 3, 501, 3, 502, 98, 47, 25, 503, 504, 12, 70, 9, 505, 2, 506, 507, 6, 2, 508, \n",
       "85], [3, 495, 4, 496, 497, 0, 0, 0, 0, 0, 0, 0, 0, 0, 0, 0, 0, 0, 0, 0, 0, 0, 0, 0, 0, 0], \n",
       "[170, 171, 172, 13, 19, 71, 0, 0, 0, 0, 0, 0, 0, 0, 0, 0, 0, 0, 0, 0, 0, 0, 0, 0, 0, 0], \n",
       "[321, 322, 323, 61, 22, 89, 324, 77, 325, 326, 103, 327, 328, 329, 10, 0, 0, 0, 0, 0, 0, 0, \n",
       "0, 0, 0, 0], [113, 112, 31, 5, 74, 114, 453, 0, 0, 0, 0, 0, 0, 0, 0, 0, 0, 0, 0, 0, 0, 0, 0, \n",
       "0, 0, 0], [140, 9, 2, 64, 6, 63, 141, 142, 15, 143, 144, 65, 145, 146, 39, 5, 147, 3, 148, \n",
       "17, 16, 18, 149, 150, 10, 0]] Target: [0, 0, 0, 1, 0, 1, 1, 0, 1, 1, 1, 1, 0, 0, 1, 1] \n",
       "Indices: [26, 37, 72, 68, 76, 55, 73, 40, 12, 15, 49, 32, 77, 25, 46, 58]\n",
       "</pre>\n"
      ],
      "text/plain": [
       "Batch Words: [[9, 8, 113, 471, 472, 4, 83, 9, 473, 65, 109, 474, 475, 27, 476, 7, 2, 477, 6, \n",
       "478, 28, 2, 479, 0, 0, 0], [5, 320, 0, 0, 0, 0, 0, 0, 0, 0, 0, 0, 0, 0, 0, 0, 0, 0, 0, 0, 0, \n",
       "0, 0, 0, 0, 0], [52, 86, 415, 416, 4, 76, 104, 417, 0, 0, 0, 0, 0, 0, 0, 0, 0, 0, 0, 0, 0, 0,\n",
       "0, 0, 0, 0], [433, 21, 5, 434, 4, 435, 436, 45, 0, 0, 0, 0, 0, 0, 0, 0, 0, 0, 0, 0, 0, 0, 0, \n",
       "0, 0, 0], [127, 128, 129, 7, 130, 2, 131, 58, 0, 0, 0, 0, 0, 0, 0, 0, 0, 0, 0, 0, 0, 0, 0, 0,\n",
       "0, 0], [105, 4, 514, 515, 0, 0, 0, 0, 0, 0, 0, 0, 0, 0, 0, 0, 0, 0, 0, 0, 0, 0, 0, 0, 0, 0], \n",
       "[205, 36, 2, 206, 3, 207, 208, 0, 0, 0, 0, 0, 0, 0, 0, 0, 0, 0, 0, 0, 0, 0, 0, 0, 0, 0], \n",
       "[209, 210, 4, 211, 212, 0, 0, 0, 0, 0, 0, 0, 0, 0, 0, 0, 0, 0, 0, 0, 0, 0, 0, 0, 0, 0], [191,\n",
       "2, 192, 4, 12, 44, 193, 76, 194, 14, 0, 0, 0, 0, 0, 0, 0, 0, 0, 0, 0, 0, 0, 0, 0, 0], [14, 8,\n",
       "114, 512, 513, 0, 0, 0, 0, 0, 0, 0, 0, 0, 0, 0, 0, 0, 0, 0, 0, 0, 0, 0, 0, 0], [14, 498, 22, \n",
       "499, 2, 500, 3, 501, 3, 502, 98, 47, 25, 503, 504, 12, 70, 9, 505, 2, 506, 507, 6, 2, 508, \n",
       "85], [3, 495, 4, 496, 497, 0, 0, 0, 0, 0, 0, 0, 0, 0, 0, 0, 0, 0, 0, 0, 0, 0, 0, 0, 0, 0], \n",
       "[170, 171, 172, 13, 19, 71, 0, 0, 0, 0, 0, 0, 0, 0, 0, 0, 0, 0, 0, 0, 0, 0, 0, 0, 0, 0], \n",
       "[321, 322, 323, 61, 22, 89, 324, 77, 325, 326, 103, 327, 328, 329, 10, 0, 0, 0, 0, 0, 0, 0, \n",
       "0, 0, 0, 0], [113, 112, 31, 5, 74, 114, 453, 0, 0, 0, 0, 0, 0, 0, 0, 0, 0, 0, 0, 0, 0, 0, 0, \n",
       "0, 0, 0], [140, 9, 2, 64, 6, 63, 141, 142, 15, 143, 144, 65, 145, 146, 39, 5, 147, 3, 148, \n",
       "17, 16, 18, 149, 150, 10, 0]] Target: [0, 0, 0, 1, 0, 1, 1, 0, 1, 1, 1, 1, 0, 0, 1, 1] \n",
       "Indices: [26, 37, 72, 68, 76, 55, 73, 40, 12, 15, 49, 32, 77, 25, 46, 58]\n"
      ]
     },
     "metadata": {},
     "output_type": "display_data"
    },
    {
     "data": {
      "text/html": [
       "<pre style=\"white-space:pre;overflow-x:auto;line-height:normal;font-family:Menlo,'DejaVu Sans Mono',consolas,'Courier New',monospace\">Loss: 0.6957015991210938\n",
       "</pre>\n"
      ],
      "text/plain": [
       "Loss: 0.6957015991210938\n"
      ]
     },
     "metadata": {},
     "output_type": "display_data"
    },
    {
     "data": {
      "text/html": [
       "<pre style=\"white-space:pre;overflow-x:auto;line-height:normal;font-family:Menlo,'DejaVu Sans Mono',consolas,'Courier New',monospace\">Training Batch 5/5...\n",
       "</pre>\n"
      ],
      "text/plain": [
       "Training Batch 5/5...\n"
      ]
     },
     "metadata": {},
     "output_type": "display_data"
    },
    {
     "data": {
      "text/html": [
       "<pre style=\"white-space:pre;overflow-x:auto;line-height:normal;font-family:Menlo,'DejaVu Sans Mono',consolas,'Courier New',monospace\">Batch Words: [[16, 32, 178, 73, 4, 179, 0, 0, 0, 0, 0, 0, 0, 0, 0, 0, 0, 0, 0, 0, 0, 0, 0, 0,\n",
       "0, 0, 0, 0, 0], [5, 305, 306, 16, 307, 308, 15, 309, 15, 310, 311, 25, 312, 313, 314, 10, 0, \n",
       "0, 0, 0, 0, 0, 0, 0, 0, 0, 0, 0, 0], [173, 44, 174, 7, 5, 175, 45, 0, 0, 0, 0, 0, 0, 0, 0, 0,\n",
       "0, 0, 0, 0, 0, 0, 0, 0, 0, 0, 0, 0, 0], [182, 11, 183, 46, 20, 5, 74, 75, 8, 33, 3, 4, 24, \n",
       "184, 18, 185, 186, 33, 187, 9, 75, 8, 188, 4, 189, 3, 14, 190, 10], [24, 38, 2, 59, 19, 6, 2,\n",
       "236, 0, 0, 0, 0, 0, 0, 0, 0, 0, 0, 0, 0, 0, 0, 0, 0, 0, 0, 0, 0, 0], [408, 409, 410, 7, 411, \n",
       "0, 0, 0, 0, 0, 0, 0, 0, 0, 0, 0, 0, 0, 0, 0, 0, 0, 0, 0, 0, 0, 0, 0, 0], [30, 163, 164, 69, \n",
       "165, 9, 67, 23, 166, 22, 167, 70, 31, 23, 168, 7, 169, 0, 0, 0, 0, 0, 0, 0, 0, 0, 0, 0, 0], \n",
       "[6, 2, 29, 390, 101, 35, 0, 0, 0, 0, 0, 0, 0, 0, 0, 0, 0, 0, 0, 0, 0, 0, 0, 0, 0, 0, 0, 0, \n",
       "0], [2, 229, 11, 230, 0, 0, 0, 0, 0, 0, 0, 0, 0, 0, 0, 0, 0, 0, 0, 0, 0, 0, 0, 0, 0, 0, 0, 0,\n",
       "0], [21, 2, 59, 132, 60, 2, 133, 61, 134, 62, 0, 0, 0, 0, 0, 0, 0, 0, 0, 0, 0, 0, 0, 0, 0, 0,\n",
       "0, 0, 0], [115, 51, 116, 36, 2, 117, 118, 0, 0, 0, 0, 0, 0, 0, 0, 0, 0, 0, 0, 0, 0, 0, 0, 0, \n",
       "0, 0, 0, 0, 0], [2, 40, 41, 42, 8, 43, 3, 0, 0, 0, 0, 0, 0, 0, 0, 0, 0, 0, 0, 0, 0, 0, 0, 0, \n",
       "0, 0, 0, 0, 0], [11, 363, 364, 34, 10, 0, 0, 0, 0, 0, 0, 0, 0, 0, 0, 0, 0, 0, 0, 0, 0, 0, 0, \n",
       "0, 0, 0, 0, 0, 0], [53, 340, 106, 0, 0, 0, 0, 0, 0, 0, 0, 0, 0, 0, 0, 0, 0, 0, 0, 0, 0, 0, 0,\n",
       "0, 0, 0, 0, 0, 0], [5, 152, 153, 8, 154, 155, 0, 0, 0, 0, 0, 0, 0, 0, 0, 0, 0, 0, 0, 0, 0, 0,\n",
       "0, 0, 0, 0, 0, 0, 0], [403, 404, 0, 0, 0, 0, 0, 0, 0, 0, 0, 0, 0, 0, 0, 0, 0, 0, 0, 0, 0, 0, \n",
       "0, 0, 0, 0, 0, 0, 0]] Target: [1, 1, 0, 1, 0, 1, 0, 0, 0, 0, 0, 0, 1, 0, 0, 1] Indices: [14, \n",
       "38, 70, 31, 71, 48, 7, 63, 69, 59, 54, 29, 41, 56, 33, 79]\n",
       "</pre>\n"
      ],
      "text/plain": [
       "Batch Words: [[16, 32, 178, 73, 4, 179, 0, 0, 0, 0, 0, 0, 0, 0, 0, 0, 0, 0, 0, 0, 0, 0, 0, 0,\n",
       "0, 0, 0, 0, 0], [5, 305, 306, 16, 307, 308, 15, 309, 15, 310, 311, 25, 312, 313, 314, 10, 0, \n",
       "0, 0, 0, 0, 0, 0, 0, 0, 0, 0, 0, 0], [173, 44, 174, 7, 5, 175, 45, 0, 0, 0, 0, 0, 0, 0, 0, 0,\n",
       "0, 0, 0, 0, 0, 0, 0, 0, 0, 0, 0, 0, 0], [182, 11, 183, 46, 20, 5, 74, 75, 8, 33, 3, 4, 24, \n",
       "184, 18, 185, 186, 33, 187, 9, 75, 8, 188, 4, 189, 3, 14, 190, 10], [24, 38, 2, 59, 19, 6, 2,\n",
       "236, 0, 0, 0, 0, 0, 0, 0, 0, 0, 0, 0, 0, 0, 0, 0, 0, 0, 0, 0, 0, 0], [408, 409, 410, 7, 411, \n",
       "0, 0, 0, 0, 0, 0, 0, 0, 0, 0, 0, 0, 0, 0, 0, 0, 0, 0, 0, 0, 0, 0, 0, 0], [30, 163, 164, 69, \n",
       "165, 9, 67, 23, 166, 22, 167, 70, 31, 23, 168, 7, 169, 0, 0, 0, 0, 0, 0, 0, 0, 0, 0, 0, 0], \n",
       "[6, 2, 29, 390, 101, 35, 0, 0, 0, 0, 0, 0, 0, 0, 0, 0, 0, 0, 0, 0, 0, 0, 0, 0, 0, 0, 0, 0, \n",
       "0], [2, 229, 11, 230, 0, 0, 0, 0, 0, 0, 0, 0, 0, 0, 0, 0, 0, 0, 0, 0, 0, 0, 0, 0, 0, 0, 0, 0,\n",
       "0], [21, 2, 59, 132, 60, 2, 133, 61, 134, 62, 0, 0, 0, 0, 0, 0, 0, 0, 0, 0, 0, 0, 0, 0, 0, 0,\n",
       "0, 0, 0], [115, 51, 116, 36, 2, 117, 118, 0, 0, 0, 0, 0, 0, 0, 0, 0, 0, 0, 0, 0, 0, 0, 0, 0, \n",
       "0, 0, 0, 0, 0], [2, 40, 41, 42, 8, 43, 3, 0, 0, 0, 0, 0, 0, 0, 0, 0, 0, 0, 0, 0, 0, 0, 0, 0, \n",
       "0, 0, 0, 0, 0], [11, 363, 364, 34, 10, 0, 0, 0, 0, 0, 0, 0, 0, 0, 0, 0, 0, 0, 0, 0, 0, 0, 0, \n",
       "0, 0, 0, 0, 0, 0], [53, 340, 106, 0, 0, 0, 0, 0, 0, 0, 0, 0, 0, 0, 0, 0, 0, 0, 0, 0, 0, 0, 0,\n",
       "0, 0, 0, 0, 0, 0], [5, 152, 153, 8, 154, 155, 0, 0, 0, 0, 0, 0, 0, 0, 0, 0, 0, 0, 0, 0, 0, 0,\n",
       "0, 0, 0, 0, 0, 0, 0], [403, 404, 0, 0, 0, 0, 0, 0, 0, 0, 0, 0, 0, 0, 0, 0, 0, 0, 0, 0, 0, 0, \n",
       "0, 0, 0, 0, 0, 0, 0]] Target: [1, 1, 0, 1, 0, 1, 0, 0, 0, 0, 0, 0, 1, 0, 0, 1] Indices: [14, \n",
       "38, 70, 31, 71, 48, 7, 63, 69, 59, 54, 29, 41, 56, 33, 79]\n"
      ]
     },
     "metadata": {},
     "output_type": "display_data"
    },
    {
     "data": {
      "text/html": [
       "<pre style=\"white-space:pre;overflow-x:auto;line-height:normal;font-family:Menlo,'DejaVu Sans Mono',consolas,'Courier New',monospace\">Loss: 0.6876357793807983\n",
       "</pre>\n"
      ],
      "text/plain": [
       "Loss: 0.6876357793807983\n"
      ]
     },
     "metadata": {},
     "output_type": "display_data"
    },
    {
     "data": {
      "text/html": [
       "<pre style=\"white-space:pre;overflow-x:auto;line-height:normal;font-family:Menlo,'DejaVu Sans Mono',consolas,'Courier New',monospace\">End Epoch 1, Average Loss 0.6944905400276185\n",
       "</pre>\n"
      ],
      "text/plain": [
       "End Epoch 1, Average Loss 0.6944905400276185\n"
      ]
     },
     "metadata": {},
     "output_type": "display_data"
    },
    {
     "data": {
      "text/html": [
       "<pre style=\"white-space:pre;overflow-x:auto;line-height:normal;font-family:Menlo,'DejaVu Sans Mono',consolas,'Courier New',monospace\"></pre>\n"
      ],
      "text/plain": []
     },
     "metadata": {},
     "output_type": "display_data"
    },
    {
     "data": {
      "text/html": [
       "<pre style=\"white-space:pre;overflow-x:auto;line-height:normal;font-family:Menlo,'DejaVu Sans Mono',consolas,'Courier New',monospace\">\n",
       "</pre>\n"
      ],
      "text/plain": [
       "\n"
      ]
     },
     "metadata": {},
     "output_type": "display_data"
    },
    {
     "name": "stdout",
     "output_type": "stream",
     "text": [
      "Quit training process.\n"
     ]
    }
   ],
   "source": [
    "from torch.optim import Adam\n",
    "\n",
    "from fastNLP import Trainer\n",
    "\n",
    "adam = Adam(model.parameters(), 1e-3)\n",
    "trainer = Trainer(\n",
    "    model=model, train_dataloader=train_dataloader, optimizers=adam,\n",
    "    device='cpu', n_epochs=1, callbacks=[MyCallback()],\n",
    ")\n",
    "trainer.run()"
   ]
  },
  {
   "attachments": {},
   "cell_type": "markdown",
   "metadata": {},
   "source": [
    "&emsp;&emsp;删除变量并释放内存，为下一次训练做准备："
   ]
  },
  {
   "cell_type": "code",
   "execution_count": 6,
   "metadata": {},
   "outputs": [
    {
     "data": {
      "text/plain": [
       "46"
      ]
     },
     "execution_count": 6,
     "metadata": {},
     "output_type": "execute_result"
    }
   ],
   "source": [
    "import gc\n",
    "\n",
    "del trainer\n",
    "del model\n",
    "del adam\n",
    "\n",
    "gc.collect()"
   ]
  },
  {
   "attachments": {},
   "cell_type": "markdown",
   "metadata": {},
   "source": [
    "### 1.3 使用 monitor 监控训练结果\n",
    "\n",
    "&emsp;&emsp;之前我们在教程中提到了 `Trainer` 的 `monitor` 参数，在这里我们将介绍如何将它和 `Callback` 结合起来。`fastNLP` 定义了一种特殊的 `HasMonitorCallback`，如果您想在训练中对 `Metric` 输出的结果进行监控，那么该 `Callback` 将是一个很好的工具。它包含三个参数：\n",
    "\n",
    "- `monitor`：需要监视的参数，可以为 `None`、`str` 或一个函数。\n",
    "    - 如果为 `None`，则将在 `Trainer` 初始化后在 `Trainer` 中寻找 `monitor`\n",
    "    - 如果为 `str`，那么会在 `evaluation` 的结果中查找；如果没有找到，则会按照最长字符串匹配算法查找最匹配的哪个\n",
    "    - 如果为函数，那么这个函数的参数为 `evaluation` 的结果（字典），并且返回一个 `float` 作为结果\n",
    "- `larger_better`：如何判定一个参数正在变好；如果为 `True` 则认为越大越好。\n",
    "- `must_have_monitor`：是否要求该 `Callback` 一定要指定 `monitor`。\n",
    "\n",
    "&emsp;&emsp;`HasMonitorCallback` 也包含数个工具函数，其中较为常用的有：\n",
    "\n",
    "- `is_better_results`：它可以判定传入的结果是否变得更好，并且在结果变好之后会记住最新的结果作为下一次的评判标准。\n",
    "- `get_monitor_value`：它可以从结果中获取 `monitor` 对应的值（返回应用了 `.item()` 函数后的标量）\n",
    "\n",
    "如果您想详细地查看 `HasMonitorCallback` 使用的函数，请查看 [HasMonitorCallback 的文档](../../fastNLP.core.callbacks.has_monitor_callback.rst)。\n",
    "\n",
    "&emsp;&emsp;那么如果我们想要在上述程序的训练过程中查看正确率的变化，可以按照下面的代码定义一个 `WatchAccCallback`："
   ]
  },
  {
   "cell_type": "code",
   "execution_count": 7,
   "metadata": {},
   "outputs": [],
   "source": [
    "from fastNLP import HasMonitorCallback\n",
    "\n",
    "class WatchAccCallback(HasMonitorCallback):\n",
    "    def __init__(self):\n",
    "        super(WatchAccCallback, self).__init__(\n",
    "            monitor='acc#acc',\n",
    "            larger_better=True\n",
    "        )\n",
    "\n",
    "    def on_evaluate_end(self, trainer, results):\n",
    "        if self.is_better_results(results):\n",
    "            print(f\"Epoch: {trainer.cur_epoch_idx + 1}/{trainer.n_epochs}, \"\n",
    "                  f\"'acc' is better: {self.get_monitor_value(results)}\")\n",
    "        else:\n",
    "            print(f\"Epoch: {trainer.cur_epoch_idx + 1}/{trainer.n_epochs}, \"\n",
    "                  f\"'acc' is not better: {self.get_monitor_value(results)}\")"
   ]
  },
  {
   "attachments": {},
   "cell_type": "markdown",
   "metadata": {},
   "source": [
    "&emsp;&emsp;在每次评测结束后，`WatchAccCallback` 会根据 `acc#acc` 变大与否输出响应的信息。接着让我们定义好评测方法 `Accuracy` 再运行一次代码（因为选取的数据量过少，因此正确率低是正常的）："
   ]
  },
  {
   "cell_type": "code",
   "execution_count": 8,
   "metadata": {},
   "outputs": [
    {
     "data": {
      "text/html": [
       "<pre style=\"white-space:pre;overflow-x:auto;line-height:normal;font-family:Menlo,'DejaVu Sans Mono',consolas,'Courier New',monospace\"><span style=\"color: #7fbfbf; text-decoration-color: #7fbfbf\">[00:58:59] </span><span style=\"color: #000080; text-decoration-color: #000080\">INFO    </span> Running evaluator sanity check for <span style=\"color: #008080; text-decoration-color: #008080; font-weight: bold\">2</span> batches.              <a href=\"file://../../../../fastNLP/core/controllers/trainer.py\"><span style=\"color: #7f7f7f; text-decoration-color: #7f7f7f\">trainer.py</span></a><span style=\"color: #7f7f7f; text-decoration-color: #7f7f7f\">:</span><a href=\"file://../../../../fastNLP/core/controllers/trainer.py#881\"><span style=\"color: #7f7f7f; text-decoration-color: #7f7f7f\">881</span></a>\n",
       "</pre>\n"
      ],
      "text/plain": [
       "\u001b[2;36m[00:58:59]\u001b[0m\u001b[2;36m \u001b[0m\u001b[34mINFO    \u001b[0m Running evaluator sanity check for \u001b[1;36m2\u001b[0m batches.              \u001b]8;id=713581;file://../../../../fastNLP/core/controllers/trainer.py\u001b\\\u001b[2mtrainer.py\u001b[0m\u001b]8;;\u001b\\\u001b[2m:\u001b[0m\u001b]8;id=451744;file://../../../../fastNLP/core/controllers/trainer.py#881\u001b\\\u001b[2m881\u001b[0m\u001b]8;;\u001b\\\n"
      ]
     },
     "metadata": {},
     "output_type": "display_data"
    },
    {
     "data": {
      "application/vnd.jupyter.widget-view+json": {
       "model_id": "579c02372d7742fb838ac8221f54f70b",
       "version_major": 2,
       "version_minor": 0
      },
      "text/plain": [
       "Output()"
      ]
     },
     "metadata": {},
     "output_type": "display_data"
    },
    {
     "data": {
      "text/html": [
       "<pre style=\"white-space:pre;overflow-x:auto;line-height:normal;font-family:Menlo,'DejaVu Sans Mono',consolas,'Courier New',monospace\"></pre>\n"
      ],
      "text/plain": []
     },
     "metadata": {},
     "output_type": "display_data"
    },
    {
     "data": {
      "application/vnd.jupyter.widget-view+json": {
       "model_id": "8330dbd15dc8463c96b0fc53bef00fec",
       "version_major": 2,
       "version_minor": 0
      },
      "text/plain": [
       "Output()"
      ]
     },
     "metadata": {},
     "output_type": "display_data"
    },
    {
     "data": {
      "text/html": [
       "<pre style=\"white-space:pre;overflow-x:auto;line-height:normal;font-family:Menlo,'DejaVu Sans Mono',consolas,'Courier New',monospace\">\n",
       "</pre>\n"
      ],
      "text/plain": [
       "\n"
      ]
     },
     "metadata": {},
     "output_type": "display_data"
    },
    {
     "data": {
      "text/html": [
       "<pre style=\"white-space:pre;overflow-x:auto;line-height:normal;font-family:Menlo,'DejaVu Sans Mono',consolas,'Courier New',monospace\">----------------------------- Eval. results on Epoch:<span style=\"color: #008080; text-decoration-color: #008080; font-weight: bold\">9</span>, Batch:<span style=\"color: #008080; text-decoration-color: #008080; font-weight: bold\">5</span> -----------------------------\n",
       "</pre>\n"
      ],
      "text/plain": [
       "----------------------------- Eval. results on Epoch:\u001b[1;36m9\u001b[0m, Batch:\u001b[1;36m5\u001b[0m -----------------------------\n"
      ]
     },
     "metadata": {},
     "output_type": "display_data"
    },
    {
     "data": {
      "text/html": [
       "<pre style=\"white-space:pre;overflow-x:auto;line-height:normal;font-family:Menlo,'DejaVu Sans Mono',consolas,'Courier New',monospace\"><span style=\"color: #7fbfbf; text-decoration-color: #7fbfbf\">[00:59:00] </span><span style=\"color: #000080; text-decoration-color: #000080\">INFO    </span> ----------Eval. results on Epoch:<span style=\"color: #008080; text-decoration-color: #008080; font-weight: bold\">9</span>,              <a href=\"file://../../../../fastNLP/core/callbacks/progress_callback.py\"><span style=\"color: #7f7f7f; text-decoration-color: #7f7f7f\">progress_callback.py</span></a><span style=\"color: #7f7f7f; text-decoration-color: #7f7f7f\">:</span><a href=\"file://../../../../fastNLP/core/callbacks/progress_callback.py#338\"><span style=\"color: #7f7f7f; text-decoration-color: #7f7f7f\">338</span></a>\n",
       "<span style=\"color: #7fbfbf; text-decoration-color: #7fbfbf\">           </span>         Batch:<span style=\"color: #008080; text-decoration-color: #008080; font-weight: bold\">5</span>----------                                <span style=\"color: #7f7f7f; text-decoration-color: #7f7f7f\">                        </span>\n",
       "</pre>\n"
      ],
      "text/plain": [
       "\u001b[2;36m[00:59:00]\u001b[0m\u001b[2;36m \u001b[0m\u001b[34mINFO    \u001b[0m ----------Eval. results on Epoch:\u001b[1;36m9\u001b[0m,              \u001b]8;id=651158;file://../../../../fastNLP/core/callbacks/progress_callback.py\u001b\\\u001b[2mprogress_callback.py\u001b[0m\u001b]8;;\u001b\\\u001b[2m:\u001b[0m\u001b]8;id=684934;file://../../../../fastNLP/core/callbacks/progress_callback.py#338\u001b\\\u001b[2m338\u001b[0m\u001b]8;;\u001b\\\n",
       "\u001b[2;36m           \u001b[0m         Batch:\u001b[1;36m5\u001b[0m----------                                \u001b[2m                        \u001b[0m\n"
      ]
     },
     "metadata": {},
     "output_type": "display_data"
    },
    {
     "data": {
      "text/html": [
       "<pre style=\"white-space:pre;overflow-x:auto;line-height:normal;font-family:Menlo,'DejaVu Sans Mono',consolas,'Courier New',monospace\"><span style=\"color: #7fbfbf; text-decoration-color: #7fbfbf\">           </span><span style=\"color: #000080; text-decoration-color: #000080\">INFO    </span> <span style=\"font-weight: bold\">{</span>                                                <a href=\"file://../../../../fastNLP/core/callbacks/progress_callback.py\"><span style=\"color: #7f7f7f; text-decoration-color: #7f7f7f\">progress_callback.py</span></a><span style=\"color: #7f7f7f; text-decoration-color: #7f7f7f\">:</span><a href=\"file://../../../../fastNLP/core/callbacks/progress_callback.py#348\"><span style=\"color: #7f7f7f; text-decoration-color: #7f7f7f\">348</span></a>\n",
       "<span style=\"color: #7fbfbf; text-decoration-color: #7fbfbf\">           </span>           <span style=\"color: #008000; text-decoration-color: #008000\">\"acc#acc\"</span>: <span style=\"color: #008080; text-decoration-color: #008080; font-weight: bold\">0.4</span>                                 <span style=\"color: #7f7f7f; text-decoration-color: #7f7f7f\">                        </span>\n",
       "<span style=\"color: #7fbfbf; text-decoration-color: #7fbfbf\">           </span>         <span style=\"font-weight: bold\">}</span>                                                <span style=\"color: #7f7f7f; text-decoration-color: #7f7f7f\">                        </span>\n",
       "</pre>\n"
      ],
      "text/plain": [
       "\u001b[2;36m          \u001b[0m\u001b[2;36m \u001b[0m\u001b[34mINFO    \u001b[0m \u001b[1m{\u001b[0m                                                \u001b]8;id=688160;file://../../../../fastNLP/core/callbacks/progress_callback.py\u001b\\\u001b[2mprogress_callback.py\u001b[0m\u001b]8;;\u001b\\\u001b[2m:\u001b[0m\u001b]8;id=976266;file://../../../../fastNLP/core/callbacks/progress_callback.py#348\u001b\\\u001b[2m348\u001b[0m\u001b]8;;\u001b\\\n",
       "\u001b[2;36m           \u001b[0m           \u001b[32m\"acc#acc\"\u001b[0m: \u001b[1;36m0.4\u001b[0m                                 \u001b[2m                        \u001b[0m\n",
       "\u001b[2;36m           \u001b[0m         \u001b[1m}\u001b[0m                                                \u001b[2m                        \u001b[0m\n"
      ]
     },
     "metadata": {},
     "output_type": "display_data"
    },
    {
     "data": {
      "text/html": [
       "<pre style=\"white-space:pre;overflow-x:auto;line-height:normal;font-family:Menlo,'DejaVu Sans Mono',consolas,'Courier New',monospace\">Epoch: 10/40, 'acc' is better: 0.4\n",
       "</pre>\n"
      ],
      "text/plain": [
       "Epoch: 10/40, 'acc' is better: 0.4\n"
      ]
     },
     "metadata": {},
     "output_type": "display_data"
    },
    {
     "data": {
      "text/html": [
       "<pre style=\"white-space:pre;overflow-x:auto;line-height:normal;font-family:Menlo,'DejaVu Sans Mono',consolas,'Courier New',monospace\">\n",
       "</pre>\n"
      ],
      "text/plain": [
       "\n"
      ]
     },
     "metadata": {},
     "output_type": "display_data"
    },
    {
     "data": {
      "text/html": [
       "<pre style=\"white-space:pre;overflow-x:auto;line-height:normal;font-family:Menlo,'DejaVu Sans Mono',consolas,'Courier New',monospace\">---------------------------- Eval. results on Epoch:<span style=\"color: #008080; text-decoration-color: #008080; font-weight: bold\">19</span>, Batch:<span style=\"color: #008080; text-decoration-color: #008080; font-weight: bold\">5</span> -----------------------------\n",
       "</pre>\n"
      ],
      "text/plain": [
       "---------------------------- Eval. results on Epoch:\u001b[1;36m19\u001b[0m, Batch:\u001b[1;36m5\u001b[0m -----------------------------\n"
      ]
     },
     "metadata": {},
     "output_type": "display_data"
    },
    {
     "data": {
      "text/html": [
       "<pre style=\"white-space:pre;overflow-x:auto;line-height:normal;font-family:Menlo,'DejaVu Sans Mono',consolas,'Courier New',monospace\"><span style=\"color: #7fbfbf; text-decoration-color: #7fbfbf\">[00:59:02] </span><span style=\"color: #000080; text-decoration-color: #000080\">INFO    </span> ----------Eval. results on Epoch:<span style=\"color: #008080; text-decoration-color: #008080; font-weight: bold\">19</span>,             <a href=\"file://../../../../fastNLP/core/callbacks/progress_callback.py\"><span style=\"color: #7f7f7f; text-decoration-color: #7f7f7f\">progress_callback.py</span></a><span style=\"color: #7f7f7f; text-decoration-color: #7f7f7f\">:</span><a href=\"file://../../../../fastNLP/core/callbacks/progress_callback.py#338\"><span style=\"color: #7f7f7f; text-decoration-color: #7f7f7f\">338</span></a>\n",
       "<span style=\"color: #7fbfbf; text-decoration-color: #7fbfbf\">           </span>         Batch:<span style=\"color: #008080; text-decoration-color: #008080; font-weight: bold\">5</span>----------                                <span style=\"color: #7f7f7f; text-decoration-color: #7f7f7f\">                        </span>\n",
       "</pre>\n"
      ],
      "text/plain": [
       "\u001b[2;36m[00:59:02]\u001b[0m\u001b[2;36m \u001b[0m\u001b[34mINFO    \u001b[0m ----------Eval. results on Epoch:\u001b[1;36m19\u001b[0m,             \u001b]8;id=697992;file://../../../../fastNLP/core/callbacks/progress_callback.py\u001b\\\u001b[2mprogress_callback.py\u001b[0m\u001b]8;;\u001b\\\u001b[2m:\u001b[0m\u001b]8;id=477635;file://../../../../fastNLP/core/callbacks/progress_callback.py#338\u001b\\\u001b[2m338\u001b[0m\u001b]8;;\u001b\\\n",
       "\u001b[2;36m           \u001b[0m         Batch:\u001b[1;36m5\u001b[0m----------                                \u001b[2m                        \u001b[0m\n"
      ]
     },
     "metadata": {},
     "output_type": "display_data"
    },
    {
     "data": {
      "text/html": [
       "<pre style=\"white-space:pre;overflow-x:auto;line-height:normal;font-family:Menlo,'DejaVu Sans Mono',consolas,'Courier New',monospace\"><span style=\"color: #7fbfbf; text-decoration-color: #7fbfbf\">           </span><span style=\"color: #000080; text-decoration-color: #000080\">INFO    </span> <span style=\"font-weight: bold\">{</span>                                                <a href=\"file://../../../../fastNLP/core/callbacks/progress_callback.py\"><span style=\"color: #7f7f7f; text-decoration-color: #7f7f7f\">progress_callback.py</span></a><span style=\"color: #7f7f7f; text-decoration-color: #7f7f7f\">:</span><a href=\"file://../../../../fastNLP/core/callbacks/progress_callback.py#348\"><span style=\"color: #7f7f7f; text-decoration-color: #7f7f7f\">348</span></a>\n",
       "<span style=\"color: #7fbfbf; text-decoration-color: #7fbfbf\">           </span>           <span style=\"color: #008000; text-decoration-color: #008000\">\"acc#acc\"</span>: <span style=\"color: #008080; text-decoration-color: #008080; font-weight: bold\">0.5</span>                                 <span style=\"color: #7f7f7f; text-decoration-color: #7f7f7f\">                        </span>\n",
       "<span style=\"color: #7fbfbf; text-decoration-color: #7fbfbf\">           </span>         <span style=\"font-weight: bold\">}</span>                                                <span style=\"color: #7f7f7f; text-decoration-color: #7f7f7f\">                        </span>\n",
       "</pre>\n"
      ],
      "text/plain": [
       "\u001b[2;36m          \u001b[0m\u001b[2;36m \u001b[0m\u001b[34mINFO    \u001b[0m \u001b[1m{\u001b[0m                                                \u001b]8;id=538843;file://../../../../fastNLP/core/callbacks/progress_callback.py\u001b\\\u001b[2mprogress_callback.py\u001b[0m\u001b]8;;\u001b\\\u001b[2m:\u001b[0m\u001b]8;id=504858;file://../../../../fastNLP/core/callbacks/progress_callback.py#348\u001b\\\u001b[2m348\u001b[0m\u001b]8;;\u001b\\\n",
       "\u001b[2;36m           \u001b[0m           \u001b[32m\"acc#acc\"\u001b[0m: \u001b[1;36m0.5\u001b[0m                                 \u001b[2m                        \u001b[0m\n",
       "\u001b[2;36m           \u001b[0m         \u001b[1m}\u001b[0m                                                \u001b[2m                        \u001b[0m\n"
      ]
     },
     "metadata": {},
     "output_type": "display_data"
    },
    {
     "data": {
      "text/html": [
       "<pre style=\"white-space:pre;overflow-x:auto;line-height:normal;font-family:Menlo,'DejaVu Sans Mono',consolas,'Courier New',monospace\">Epoch: 20/40, 'acc' is better: 0.5\n",
       "</pre>\n"
      ],
      "text/plain": [
       "Epoch: 20/40, 'acc' is better: 0.5\n"
      ]
     },
     "metadata": {},
     "output_type": "display_data"
    },
    {
     "data": {
      "text/html": [
       "<pre style=\"white-space:pre;overflow-x:auto;line-height:normal;font-family:Menlo,'DejaVu Sans Mono',consolas,'Courier New',monospace\">\n",
       "</pre>\n"
      ],
      "text/plain": [
       "\n"
      ]
     },
     "metadata": {},
     "output_type": "display_data"
    },
    {
     "data": {
      "text/html": [
       "<pre style=\"white-space:pre;overflow-x:auto;line-height:normal;font-family:Menlo,'DejaVu Sans Mono',consolas,'Courier New',monospace\">---------------------------- Eval. results on Epoch:<span style=\"color: #008080; text-decoration-color: #008080; font-weight: bold\">29</span>, Batch:<span style=\"color: #008080; text-decoration-color: #008080; font-weight: bold\">5</span> -----------------------------\n",
       "</pre>\n"
      ],
      "text/plain": [
       "---------------------------- Eval. results on Epoch:\u001b[1;36m29\u001b[0m, Batch:\u001b[1;36m5\u001b[0m -----------------------------\n"
      ]
     },
     "metadata": {},
     "output_type": "display_data"
    },
    {
     "data": {
      "text/html": [
       "<pre style=\"white-space:pre;overflow-x:auto;line-height:normal;font-family:Menlo,'DejaVu Sans Mono',consolas,'Courier New',monospace\"><span style=\"color: #7fbfbf; text-decoration-color: #7fbfbf\">[00:59:03] </span><span style=\"color: #000080; text-decoration-color: #000080\">INFO    </span> ----------Eval. results on Epoch:<span style=\"color: #008080; text-decoration-color: #008080; font-weight: bold\">29</span>,             <a href=\"file://../../../../fastNLP/core/callbacks/progress_callback.py\"><span style=\"color: #7f7f7f; text-decoration-color: #7f7f7f\">progress_callback.py</span></a><span style=\"color: #7f7f7f; text-decoration-color: #7f7f7f\">:</span><a href=\"file://../../../../fastNLP/core/callbacks/progress_callback.py#338\"><span style=\"color: #7f7f7f; text-decoration-color: #7f7f7f\">338</span></a>\n",
       "<span style=\"color: #7fbfbf; text-decoration-color: #7fbfbf\">           </span>         Batch:<span style=\"color: #008080; text-decoration-color: #008080; font-weight: bold\">5</span>----------                                <span style=\"color: #7f7f7f; text-decoration-color: #7f7f7f\">                        </span>\n",
       "</pre>\n"
      ],
      "text/plain": [
       "\u001b[2;36m[00:59:03]\u001b[0m\u001b[2;36m \u001b[0m\u001b[34mINFO    \u001b[0m ----------Eval. results on Epoch:\u001b[1;36m29\u001b[0m,             \u001b]8;id=665289;file://../../../../fastNLP/core/callbacks/progress_callback.py\u001b\\\u001b[2mprogress_callback.py\u001b[0m\u001b]8;;\u001b\\\u001b[2m:\u001b[0m\u001b]8;id=564907;file://../../../../fastNLP/core/callbacks/progress_callback.py#338\u001b\\\u001b[2m338\u001b[0m\u001b]8;;\u001b\\\n",
       "\u001b[2;36m           \u001b[0m         Batch:\u001b[1;36m5\u001b[0m----------                                \u001b[2m                        \u001b[0m\n"
      ]
     },
     "metadata": {},
     "output_type": "display_data"
    },
    {
     "data": {
      "text/html": [
       "<pre style=\"white-space:pre;overflow-x:auto;line-height:normal;font-family:Menlo,'DejaVu Sans Mono',consolas,'Courier New',monospace\"><span style=\"color: #7fbfbf; text-decoration-color: #7fbfbf\">           </span><span style=\"color: #000080; text-decoration-color: #000080\">INFO    </span> <span style=\"font-weight: bold\">{</span>                                                <a href=\"file://../../../../fastNLP/core/callbacks/progress_callback.py\"><span style=\"color: #7f7f7f; text-decoration-color: #7f7f7f\">progress_callback.py</span></a><span style=\"color: #7f7f7f; text-decoration-color: #7f7f7f\">:</span><a href=\"file://../../../../fastNLP/core/callbacks/progress_callback.py#348\"><span style=\"color: #7f7f7f; text-decoration-color: #7f7f7f\">348</span></a>\n",
       "<span style=\"color: #7fbfbf; text-decoration-color: #7fbfbf\">           </span>           <span style=\"color: #008000; text-decoration-color: #008000\">\"acc#acc\"</span>: <span style=\"color: #008080; text-decoration-color: #008080; font-weight: bold\">0.5</span>                                 <span style=\"color: #7f7f7f; text-decoration-color: #7f7f7f\">                        </span>\n",
       "<span style=\"color: #7fbfbf; text-decoration-color: #7fbfbf\">           </span>         <span style=\"font-weight: bold\">}</span>                                                <span style=\"color: #7f7f7f; text-decoration-color: #7f7f7f\">                        </span>\n",
       "</pre>\n"
      ],
      "text/plain": [
       "\u001b[2;36m          \u001b[0m\u001b[2;36m \u001b[0m\u001b[34mINFO    \u001b[0m \u001b[1m{\u001b[0m                                                \u001b]8;id=67056;file://../../../../fastNLP/core/callbacks/progress_callback.py\u001b\\\u001b[2mprogress_callback.py\u001b[0m\u001b]8;;\u001b\\\u001b[2m:\u001b[0m\u001b]8;id=20399;file://../../../../fastNLP/core/callbacks/progress_callback.py#348\u001b\\\u001b[2m348\u001b[0m\u001b]8;;\u001b\\\n",
       "\u001b[2;36m           \u001b[0m           \u001b[32m\"acc#acc\"\u001b[0m: \u001b[1;36m0.5\u001b[0m                                 \u001b[2m                        \u001b[0m\n",
       "\u001b[2;36m           \u001b[0m         \u001b[1m}\u001b[0m                                                \u001b[2m                        \u001b[0m\n"
      ]
     },
     "metadata": {},
     "output_type": "display_data"
    },
    {
     "data": {
      "text/html": [
       "<pre style=\"white-space:pre;overflow-x:auto;line-height:normal;font-family:Menlo,'DejaVu Sans Mono',consolas,'Courier New',monospace\">Epoch: 30/40, 'acc' is not better: 0.5\n",
       "</pre>\n"
      ],
      "text/plain": [
       "Epoch: 30/40, 'acc' is not better: 0.5\n"
      ]
     },
     "metadata": {},
     "output_type": "display_data"
    },
    {
     "data": {
      "text/html": [
       "<pre style=\"white-space:pre;overflow-x:auto;line-height:normal;font-family:Menlo,'DejaVu Sans Mono',consolas,'Courier New',monospace\">\n",
       "</pre>\n"
      ],
      "text/plain": [
       "\n"
      ]
     },
     "metadata": {},
     "output_type": "display_data"
    },
    {
     "data": {
      "text/html": [
       "<pre style=\"white-space:pre;overflow-x:auto;line-height:normal;font-family:Menlo,'DejaVu Sans Mono',consolas,'Courier New',monospace\">---------------------------- Eval. results on Epoch:<span style=\"color: #008080; text-decoration-color: #008080; font-weight: bold\">39</span>, Batch:<span style=\"color: #008080; text-decoration-color: #008080; font-weight: bold\">5</span> -----------------------------\n",
       "</pre>\n"
      ],
      "text/plain": [
       "---------------------------- Eval. results on Epoch:\u001b[1;36m39\u001b[0m, Batch:\u001b[1;36m5\u001b[0m -----------------------------\n"
      ]
     },
     "metadata": {},
     "output_type": "display_data"
    },
    {
     "data": {
      "text/html": [
       "<pre style=\"white-space:pre;overflow-x:auto;line-height:normal;font-family:Menlo,'DejaVu Sans Mono',consolas,'Courier New',monospace\"><span style=\"color: #7fbfbf; text-decoration-color: #7fbfbf\">[00:59:05] </span><span style=\"color: #000080; text-decoration-color: #000080\">INFO    </span> ----------Eval. results on Epoch:<span style=\"color: #008080; text-decoration-color: #008080; font-weight: bold\">39</span>,             <a href=\"file://../../../../fastNLP/core/callbacks/progress_callback.py\"><span style=\"color: #7f7f7f; text-decoration-color: #7f7f7f\">progress_callback.py</span></a><span style=\"color: #7f7f7f; text-decoration-color: #7f7f7f\">:</span><a href=\"file://../../../../fastNLP/core/callbacks/progress_callback.py#338\"><span style=\"color: #7f7f7f; text-decoration-color: #7f7f7f\">338</span></a>\n",
       "<span style=\"color: #7fbfbf; text-decoration-color: #7fbfbf\">           </span>         Batch:<span style=\"color: #008080; text-decoration-color: #008080; font-weight: bold\">5</span>----------                                <span style=\"color: #7f7f7f; text-decoration-color: #7f7f7f\">                        </span>\n",
       "</pre>\n"
      ],
      "text/plain": [
       "\u001b[2;36m[00:59:05]\u001b[0m\u001b[2;36m \u001b[0m\u001b[34mINFO    \u001b[0m ----------Eval. results on Epoch:\u001b[1;36m39\u001b[0m,             \u001b]8;id=382884;file://../../../../fastNLP/core/callbacks/progress_callback.py\u001b\\\u001b[2mprogress_callback.py\u001b[0m\u001b]8;;\u001b\\\u001b[2m:\u001b[0m\u001b]8;id=532200;file://../../../../fastNLP/core/callbacks/progress_callback.py#338\u001b\\\u001b[2m338\u001b[0m\u001b]8;;\u001b\\\n",
       "\u001b[2;36m           \u001b[0m         Batch:\u001b[1;36m5\u001b[0m----------                                \u001b[2m                        \u001b[0m\n"
      ]
     },
     "metadata": {},
     "output_type": "display_data"
    },
    {
     "data": {
      "text/html": [
       "<pre style=\"white-space:pre;overflow-x:auto;line-height:normal;font-family:Menlo,'DejaVu Sans Mono',consolas,'Courier New',monospace\"><span style=\"color: #7fbfbf; text-decoration-color: #7fbfbf\">           </span><span style=\"color: #000080; text-decoration-color: #000080\">INFO    </span> <span style=\"font-weight: bold\">{</span>                                                <a href=\"file://../../../../fastNLP/core/callbacks/progress_callback.py\"><span style=\"color: #7f7f7f; text-decoration-color: #7f7f7f\">progress_callback.py</span></a><span style=\"color: #7f7f7f; text-decoration-color: #7f7f7f\">:</span><a href=\"file://../../../../fastNLP/core/callbacks/progress_callback.py#348\"><span style=\"color: #7f7f7f; text-decoration-color: #7f7f7f\">348</span></a>\n",
       "<span style=\"color: #7fbfbf; text-decoration-color: #7fbfbf\">           </span>           <span style=\"color: #008000; text-decoration-color: #008000\">\"acc#acc\"</span>: <span style=\"color: #008080; text-decoration-color: #008080; font-weight: bold\">0.5</span>                                 <span style=\"color: #7f7f7f; text-decoration-color: #7f7f7f\">                        </span>\n",
       "<span style=\"color: #7fbfbf; text-decoration-color: #7fbfbf\">           </span>         <span style=\"font-weight: bold\">}</span>                                                <span style=\"color: #7f7f7f; text-decoration-color: #7f7f7f\">                        </span>\n",
       "</pre>\n"
      ],
      "text/plain": [
       "\u001b[2;36m          \u001b[0m\u001b[2;36m \u001b[0m\u001b[34mINFO    \u001b[0m \u001b[1m{\u001b[0m                                                \u001b]8;id=168101;file://../../../../fastNLP/core/callbacks/progress_callback.py\u001b\\\u001b[2mprogress_callback.py\u001b[0m\u001b]8;;\u001b\\\u001b[2m:\u001b[0m\u001b]8;id=805043;file://../../../../fastNLP/core/callbacks/progress_callback.py#348\u001b\\\u001b[2m348\u001b[0m\u001b]8;;\u001b\\\n",
       "\u001b[2;36m           \u001b[0m           \u001b[32m\"acc#acc\"\u001b[0m: \u001b[1;36m0.5\u001b[0m                                 \u001b[2m                        \u001b[0m\n",
       "\u001b[2;36m           \u001b[0m         \u001b[1m}\u001b[0m                                                \u001b[2m                        \u001b[0m\n"
      ]
     },
     "metadata": {},
     "output_type": "display_data"
    },
    {
     "data": {
      "text/html": [
       "<pre style=\"white-space:pre;overflow-x:auto;line-height:normal;font-family:Menlo,'DejaVu Sans Mono',consolas,'Courier New',monospace\">Epoch: 40/40, 'acc' is not better: 0.5\n",
       "</pre>\n"
      ],
      "text/plain": [
       "Epoch: 40/40, 'acc' is not better: 0.5\n"
      ]
     },
     "metadata": {},
     "output_type": "display_data"
    },
    {
     "data": {
      "text/html": [
       "<pre style=\"white-space:pre;overflow-x:auto;line-height:normal;font-family:Menlo,'DejaVu Sans Mono',consolas,'Courier New',monospace\"></pre>\n"
      ],
      "text/plain": []
     },
     "metadata": {},
     "output_type": "display_data"
    },
    {
     "data": {
      "text/html": [
       "<pre style=\"white-space:pre;overflow-x:auto;line-height:normal;font-family:Menlo,'DejaVu Sans Mono',consolas,'Courier New',monospace\">\n",
       "</pre>\n"
      ],
      "text/plain": [
       "\n"
      ]
     },
     "metadata": {},
     "output_type": "display_data"
    }
   ],
   "source": [
    "from fastNLP import Accuracy\n",
    "\n",
    "model = CNNText(embed=(len(vocab), 224), num_classes=2, dropout=0)\n",
    "metrics = {'acc': Accuracy()}\n",
    "sgd = Adam(model.parameters(), 1e-3)\n",
    "trainer = Trainer(\n",
    "    model=model, train_dataloader=train_dataloader, optimizers=sgd,\n",
    "    device='cpu', n_epochs=40, evaluate_dataloaders=val_dataloader,\n",
    "    metrics=metrics, callbacks=[WatchAccCallback()], evaluate_every=-10\n",
    ")\n",
    "trainer.run()"
   ]
  },
  {
   "attachments": {},
   "cell_type": "markdown",
   "metadata": {},
   "source": [
    "&emsp;&emsp;可以看到在结果中如实输出了 `acc#acc` 的变化情况。利用这一点，`fastNLP` 可以实现许多根据训练结果动态执行的 `Callback`：[LoadBestModelCallback](../../fastNLP.core.callbacks.load_best_model_callback.rst)、[EarlyStopCallback](../../fastNLP.core.callbacks.early_stop_callback.rst)、[FitlogCallback](../../fastNLP.core.callbacks.fitlog_callback.rst)、[MoreEvaluateCallback](../../fastNLP.core.callbacks.more_evaluate_callback.rst)。"
   ]
  },
  {
   "attachments": {},
   "cell_type": "markdown",
   "metadata": {},
   "source": [
    "### 1.4 fastNLP 预定义的 Callback\n",
    "\n",
    "&emsp;&emsp;`fastNLP` 已经内置了许多 `Callback` 来帮助用户实现训练中的一些额外功能，它们包括：\n",
    "\n",
    "名称|简要介绍|备注|\n",
    "----|----|----|\n",
    " [CheckpointCallback](../../fastNLP.core.callbacks.checkpoint_callback.rst) | 在训练过程中根据不同的条件保存模型或者断点 | |\n",
    " [RichCallback](../../fastNLP.core.callbacks.progress_callback.rst#fastNLP.core.callbacks.progress_callback.RichCallback) | 使用 `rich` 包显示进度条 | 详见 `Trainer` 的 `progress_bar` 参数 |\n",
    " [TqdmCallback](../../fastNLP.core.callbacks.progress_callback.rst#fastNLP.core.callbacks.progress_callback.TqdmCallback) | 使用 `tqdm` 包显示进度条 | 详见 `Trainer` 的 `progress_bar` 参数 |\n",
    " [RawTextCallback](../../fastNLP.core.callbacks.progress_callback.rst#fastNLP.core.callbacks.progress_callback.RawTextCallback) | 在控制台输出训练进度 | 详见 `Trainer` 的 `progress_bar` 参数 |\n",
    " [LRSchedCallback](../../fastNLP.core.callbacks.lr_scheduler_callback.rst) | 在训练中调用 `Scheduler` 优化训练 | |\n",
    " [LoadBestModelCallback](../../fastNLP.core.callbacks.load_best_model_callback.rst) | 自动保存并在最后加载效果最好的模型 | |\n",
    " [EarlyStopCallback](../../fastNLP.core.callbacks.early_stop_callback.rst) | 多次 `evaluate` 后结果没有提升时提前中止训练 | |\n",
    " [MoreEvaluateCallback](../../fastNLP.core.callbacks.more_evaluate_callback.rst) | 在训练中使用不同的 `evaluate_fn` | |\n",
    " [FitlogCallback](../../fastNLP.core.callbacks.fitlog_callback.rst) | 将训练中的信息记录到 `fitlog` 中 | 需要安装 `fitlog` |\n",
    " [TimerCallback](../../fastNLP.core.callbacks.timer_callback.rst) | 为训练的各个阶段计时 | |\n",
    " [TorchWarmupCallback](../../fastNLP.core.callbacks.torch_callbacks.torch_lr_sched_callback.rst) | 在 `pytorch` 中预热学习率 | 仅限 `pytorch` 框架 |\n",
    " [TorchGradClipCallback](../../fastNLP.core.callbacks.torch_callbacks.torch_grad_clip_callback.rst) | 在 `pytorch` 中进行梯度截断 | 仅限 `pytorch` 框架 |"
   ]
  },
  {
   "attachments": {},
   "cell_type": "markdown",
   "metadata": {},
   "source": [
    "&emsp;&emsp;删除变量并释放内存，为下一次训练做准备："
   ]
  },
  {
   "cell_type": "code",
   "execution_count": 9,
   "metadata": {},
   "outputs": [
    {
     "data": {
      "text/plain": [
       "394"
      ]
     },
     "execution_count": 9,
     "metadata": {},
     "output_type": "execute_result"
    }
   ],
   "source": [
    "import gc\n",
    "\n",
    "del trainer\n",
    "del metrics\n",
    "del sgd\n",
    "del model\n",
    "\n",
    "gc.collect()"
   ]
  },
  {
   "attachments": {},
   "cell_type": "markdown",
   "metadata": {},
   "source": [
    "## 2. fastNLP 中的 on 函数\n",
    "\n",
    "&emsp;&emsp;"
   ]
  },
  {
   "attachments": {},
   "cell_type": "markdown",
   "metadata": {},
   "source": [
    "### 2.1 Trainer.on 与事件 Event\n",
    "\n",
    "&emsp;&emsp;很多时候我们可能只想在训练的一个或两个阶段进行定制，比如只想在每个 `epoch` 结束时查看一下 `loss` 或评测的结果，此时如果再单独实现一个 `Callback` 未免有些繁琐。为了优化这方面的体验，`fastNLP` 提供了另一种回调机制，即 `Trainer` 的 `on` 函数和事件 `Event`。比如在一次迭代后要输出 `loss`，可以按以下方式编写代码："
   ]
  },
  {
   "cell_type": "code",
   "execution_count": 10,
   "metadata": {},
   "outputs": [
    {
     "data": {
      "application/vnd.jupyter.widget-view+json": {
       "model_id": "e31ca185e5314139ba2c313aba1d566b",
       "version_major": 2,
       "version_minor": 0
      },
      "text/plain": [
       "Output()"
      ]
     },
     "metadata": {},
     "output_type": "display_data"
    },
    {
     "data": {
      "text/html": [
       "<pre style=\"white-space:pre;overflow-x:auto;line-height:normal;font-family:Menlo,'DejaVu Sans Mono',consolas,'Courier New',monospace\">Total Batches 1/10 Loss 0.6936366558074951\n",
       "</pre>\n"
      ],
      "text/plain": [
       "Total Batches 1/10 Loss 0.6936366558074951\n"
      ]
     },
     "metadata": {},
     "output_type": "display_data"
    },
    {
     "data": {
      "text/html": [
       "<pre style=\"white-space:pre;overflow-x:auto;line-height:normal;font-family:Menlo,'DejaVu Sans Mono',consolas,'Courier New',monospace\">Total Batches 2/10 Loss 0.6907033920288086\n",
       "</pre>\n"
      ],
      "text/plain": [
       "Total Batches 2/10 Loss 0.6907033920288086\n"
      ]
     },
     "metadata": {},
     "output_type": "display_data"
    },
    {
     "data": {
      "text/html": [
       "<pre style=\"white-space:pre;overflow-x:auto;line-height:normal;font-family:Menlo,'DejaVu Sans Mono',consolas,'Courier New',monospace\">Total Batches 3/10 Loss 0.6836439967155457\n",
       "</pre>\n"
      ],
      "text/plain": [
       "Total Batches 3/10 Loss 0.6836439967155457\n"
      ]
     },
     "metadata": {},
     "output_type": "display_data"
    },
    {
     "data": {
      "text/html": [
       "<pre style=\"white-space:pre;overflow-x:auto;line-height:normal;font-family:Menlo,'DejaVu Sans Mono',consolas,'Courier New',monospace\">Total Batches 4/10 Loss 0.6999143958091736\n",
       "</pre>\n"
      ],
      "text/plain": [
       "Total Batches 4/10 Loss 0.6999143958091736\n"
      ]
     },
     "metadata": {},
     "output_type": "display_data"
    },
    {
     "data": {
      "text/html": [
       "<pre style=\"white-space:pre;overflow-x:auto;line-height:normal;font-family:Menlo,'DejaVu Sans Mono',consolas,'Courier New',monospace\">Total Batches 5/10 Loss 0.6920098066329956\n",
       "</pre>\n"
      ],
      "text/plain": [
       "Total Batches 5/10 Loss 0.6920098066329956\n"
      ]
     },
     "metadata": {},
     "output_type": "display_data"
    },
    {
     "data": {
      "text/html": [
       "<pre style=\"white-space:pre;overflow-x:auto;line-height:normal;font-family:Menlo,'DejaVu Sans Mono',consolas,'Courier New',monospace\">Total Batches 6/10 Loss 0.6638947129249573\n",
       "</pre>\n"
      ],
      "text/plain": [
       "Total Batches 6/10 Loss 0.6638947129249573\n"
      ]
     },
     "metadata": {},
     "output_type": "display_data"
    },
    {
     "data": {
      "text/html": [
       "<pre style=\"white-space:pre;overflow-x:auto;line-height:normal;font-family:Menlo,'DejaVu Sans Mono',consolas,'Courier New',monospace\">Total Batches 7/10 Loss 0.6613236665725708\n",
       "</pre>\n"
      ],
      "text/plain": [
       "Total Batches 7/10 Loss 0.6613236665725708\n"
      ]
     },
     "metadata": {},
     "output_type": "display_data"
    },
    {
     "data": {
      "text/html": [
       "<pre style=\"white-space:pre;overflow-x:auto;line-height:normal;font-family:Menlo,'DejaVu Sans Mono',consolas,'Courier New',monospace\">Total Batches 8/10 Loss 0.6710280179977417\n",
       "</pre>\n"
      ],
      "text/plain": [
       "Total Batches 8/10 Loss 0.6710280179977417\n"
      ]
     },
     "metadata": {},
     "output_type": "display_data"
    },
    {
     "data": {
      "text/html": [
       "<pre style=\"white-space:pre;overflow-x:auto;line-height:normal;font-family:Menlo,'DejaVu Sans Mono',consolas,'Courier New',monospace\">Total Batches 9/10 Loss 0.6521406769752502\n",
       "</pre>\n"
      ],
      "text/plain": [
       "Total Batches 9/10 Loss 0.6521406769752502\n"
      ]
     },
     "metadata": {},
     "output_type": "display_data"
    },
    {
     "data": {
      "text/html": [
       "<pre style=\"white-space:pre;overflow-x:auto;line-height:normal;font-family:Menlo,'DejaVu Sans Mono',consolas,'Courier New',monospace\">Total Batches 10/10 Loss 0.6487704515457153\n",
       "</pre>\n"
      ],
      "text/plain": [
       "Total Batches 10/10 Loss 0.6487704515457153\n"
      ]
     },
     "metadata": {},
     "output_type": "display_data"
    },
    {
     "data": {
      "text/html": [
       "<pre style=\"white-space:pre;overflow-x:auto;line-height:normal;font-family:Menlo,'DejaVu Sans Mono',consolas,'Courier New',monospace\"></pre>\n"
      ],
      "text/plain": []
     },
     "metadata": {},
     "output_type": "display_data"
    },
    {
     "data": {
      "text/html": [
       "<pre style=\"white-space:pre;overflow-x:auto;line-height:normal;font-family:Menlo,'DejaVu Sans Mono',consolas,'Courier New',monospace\">\n",
       "</pre>\n"
      ],
      "text/plain": [
       "\n"
      ]
     },
     "metadata": {},
     "output_type": "display_data"
    }
   ],
   "source": [
    "from fastNLP.core import Event\n",
    "\n",
    "@Trainer.on(Event.on_before_backward())\n",
    "def print_loss(trainer, outputs):\n",
    "    print(\"Total Batches {}/{} Loss {}\".format(\n",
    "        trainer.global_forward_batches + 1, trainer.n_batches,\n",
    "        outputs['loss'].item()))\n",
    "\n",
    "model = CNNText(embed=(len(vocab), 100), num_classes=2, dropout=0.1)\n",
    "adam = Adam(model.parameters(), 1e-3)\n",
    "trainer = Trainer(\n",
    "    model=model, train_dataloader=train_dataloader, optimizers=adam,\n",
    "    device='cpu', n_epochs=2\n",
    ")\n",
    "trainer.run()"
   ]
  },
  {
   "attachments": {},
   "cell_type": "markdown",
   "metadata": {},
   "source": [
    "&emsp;&emsp;这样，我们便可以通过一个十分简便的方式实现回调机制了。`Event` 所包含的调用时机和 `Callback` 相同，也具有相当高的自由度。除此之外，`Event` 的每个 `on_xxx` 系列函数都有三个参数：`every`、`once` 和 `filter_fn`。\n",
    "\n",
    "&emsp;&emsp;`every`，顾名思义，就是每触发多少次就真正执行一次："
   ]
  },
  {
   "cell_type": "code",
   "execution_count": 11,
   "metadata": {},
   "outputs": [
    {
     "data": {
      "application/vnd.jupyter.widget-view+json": {
       "model_id": "b4e94e9c2aac43fca6b075e19a278256",
       "version_major": 2,
       "version_minor": 0
      },
      "text/plain": [
       "Output()"
      ]
     },
     "metadata": {},
     "output_type": "display_data"
    },
    {
     "data": {
      "text/html": [
       "<pre style=\"white-space:pre;overflow-x:auto;line-height:normal;font-family:Menlo,'DejaVu Sans Mono',consolas,'Courier New',monospace\">Total Batches 2/10 Loss 0.628567636013031\n",
       "</pre>\n"
      ],
      "text/plain": [
       "Total Batches 2/10 Loss 0.628567636013031\n"
      ]
     },
     "metadata": {},
     "output_type": "display_data"
    },
    {
     "data": {
      "text/html": [
       "<pre style=\"white-space:pre;overflow-x:auto;line-height:normal;font-family:Menlo,'DejaVu Sans Mono',consolas,'Courier New',monospace\">Total Batches 4/10 Loss 0.6413156390190125\n",
       "</pre>\n"
      ],
      "text/plain": [
       "Total Batches 4/10 Loss 0.6413156390190125\n"
      ]
     },
     "metadata": {},
     "output_type": "display_data"
    },
    {
     "data": {
      "text/html": [
       "<pre style=\"white-space:pre;overflow-x:auto;line-height:normal;font-family:Menlo,'DejaVu Sans Mono',consolas,'Courier New',monospace\">Total Batches 6/10 Loss 0.59624844789505\n",
       "</pre>\n"
      ],
      "text/plain": [
       "Total Batches 6/10 Loss 0.59624844789505\n"
      ]
     },
     "metadata": {},
     "output_type": "display_data"
    },
    {
     "data": {
      "text/html": [
       "<pre style=\"white-space:pre;overflow-x:auto;line-height:normal;font-family:Menlo,'DejaVu Sans Mono',consolas,'Courier New',monospace\">Total Batches 8/10 Loss 0.6249840259552002\n",
       "</pre>\n"
      ],
      "text/plain": [
       "Total Batches 8/10 Loss 0.6249840259552002\n"
      ]
     },
     "metadata": {},
     "output_type": "display_data"
    },
    {
     "data": {
      "text/html": [
       "<pre style=\"white-space:pre;overflow-x:auto;line-height:normal;font-family:Menlo,'DejaVu Sans Mono',consolas,'Courier New',monospace\">Total Batches 10/10 Loss 0.5864196419715881\n",
       "</pre>\n"
      ],
      "text/plain": [
       "Total Batches 10/10 Loss 0.5864196419715881\n"
      ]
     },
     "metadata": {},
     "output_type": "display_data"
    },
    {
     "data": {
      "text/html": [
       "<pre style=\"white-space:pre;overflow-x:auto;line-height:normal;font-family:Menlo,'DejaVu Sans Mono',consolas,'Courier New',monospace\"></pre>\n"
      ],
      "text/plain": []
     },
     "metadata": {},
     "output_type": "display_data"
    },
    {
     "data": {
      "text/html": [
       "<pre style=\"white-space:pre;overflow-x:auto;line-height:normal;font-family:Menlo,'DejaVu Sans Mono',consolas,'Courier New',monospace\">\n",
       "</pre>\n"
      ],
      "text/plain": [
       "\n"
      ]
     },
     "metadata": {},
     "output_type": "display_data"
    }
   ],
   "source": [
    "@Trainer.on(Event.on_before_backward(every=2))\n",
    "def print_loss_every(trainer, outputs):\n",
    "    print(\"Total Batches {}/{} Loss {}\".format(\n",
    "        trainer.global_forward_batches + 1, trainer.n_batches,\n",
    "        outputs['loss'].item()))\n",
    "\n",
    "trainer_on_every = Trainer(\n",
    "    model=model, train_dataloader=train_dataloader, optimizers=adam,\n",
    "    device='cpu', n_epochs=2\n",
    ")\n",
    "trainer_on_every.run()"
   ]
  },
  {
   "attachments": {},
   "cell_type": "markdown",
   "metadata": {},
   "source": [
    "&emsp;&emsp;`once` 参数则是在触发到第 `once` 次才执行一次，且仅执行这一次。比如我们令 `once=2`，可以发现只有在第二次迭代时才会进行输出。"
   ]
  },
  {
   "cell_type": "code",
   "execution_count": 12,
   "metadata": {},
   "outputs": [
    {
     "data": {
      "application/vnd.jupyter.widget-view+json": {
       "model_id": "31cfef3b716040b88f8e1c3f60220aa0",
       "version_major": 2,
       "version_minor": 0
      },
      "text/plain": [
       "Output()"
      ]
     },
     "metadata": {},
     "output_type": "display_data"
    },
    {
     "data": {
      "text/html": [
       "<pre style=\"white-space:pre;overflow-x:auto;line-height:normal;font-family:Menlo,'DejaVu Sans Mono',consolas,'Courier New',monospace\">Total Batches 2/10 Loss 0.5722526907920837\n",
       "</pre>\n"
      ],
      "text/plain": [
       "Total Batches 2/10 Loss 0.5722526907920837\n"
      ]
     },
     "metadata": {},
     "output_type": "display_data"
    },
    {
     "data": {
      "text/html": [
       "<pre style=\"white-space:pre;overflow-x:auto;line-height:normal;font-family:Menlo,'DejaVu Sans Mono',consolas,'Courier New',monospace\"></pre>\n"
      ],
      "text/plain": []
     },
     "metadata": {},
     "output_type": "display_data"
    },
    {
     "data": {
      "text/html": [
       "<pre style=\"white-space:pre;overflow-x:auto;line-height:normal;font-family:Menlo,'DejaVu Sans Mono',consolas,'Courier New',monospace\">\n",
       "</pre>\n"
      ],
      "text/plain": [
       "\n"
      ]
     },
     "metadata": {},
     "output_type": "display_data"
    }
   ],
   "source": [
    "@Trainer.on(Event.on_before_backward(once=2))\n",
    "def print_loss_once(trainer, outputs):\n",
    "    print(\"Total Batches {}/{} Loss {}\".format(\n",
    "        trainer.global_forward_batches + 1, trainer.n_batches,\n",
    "        outputs['loss'].item()))\n",
    "\n",
    "trainer_on_once = Trainer(\n",
    "    model=model, train_dataloader=train_dataloader, optimizers=adam,\n",
    "    device='cpu', n_epochs=2\n",
    ")\n",
    "trainer_on_once.run()"
   ]
  },
  {
   "attachments": {},
   "cell_type": "markdown",
   "metadata": {},
   "source": [
    "&emsp;&emsp;`filter_fn` 参数则更加复杂。它接受两个参数 `filter` 和 `trainer`，前者是一个 `Filter` 对象，包含了 `num_called` 和 `num_executed` 两个成员，分别代表 **触发次数** 和 **实际执行次数**，这也是 `fastNLP` 实现这种回调机制的方法。使用 `filter_fn` 函数您可以更加自由地控制回调机制发生的时机。下面代码等效于 `every=2`："
   ]
  },
  {
   "cell_type": "code",
   "execution_count": 13,
   "metadata": {},
   "outputs": [
    {
     "data": {
      "application/vnd.jupyter.widget-view+json": {
       "model_id": "eacded9612de47df851c36d8d612c05b",
       "version_major": 2,
       "version_minor": 0
      },
      "text/plain": [
       "Output()"
      ]
     },
     "metadata": {},
     "output_type": "display_data"
    },
    {
     "data": {
      "text/html": [
       "<pre style=\"white-space:pre;overflow-x:auto;line-height:normal;font-family:Menlo,'DejaVu Sans Mono',consolas,'Courier New',monospace\">Total Batches 2/10 Loss 0.4987013339996338\n",
       "</pre>\n"
      ],
      "text/plain": [
       "Total Batches 2/10 Loss 0.4987013339996338\n"
      ]
     },
     "metadata": {},
     "output_type": "display_data"
    },
    {
     "data": {
      "text/html": [
       "<pre style=\"white-space:pre;overflow-x:auto;line-height:normal;font-family:Menlo,'DejaVu Sans Mono',consolas,'Courier New',monospace\">Total Batches 4/10 Loss 0.4853397607803345\n",
       "</pre>\n"
      ],
      "text/plain": [
       "Total Batches 4/10 Loss 0.4853397607803345\n"
      ]
     },
     "metadata": {},
     "output_type": "display_data"
    },
    {
     "data": {
      "text/html": [
       "<pre style=\"white-space:pre;overflow-x:auto;line-height:normal;font-family:Menlo,'DejaVu Sans Mono',consolas,'Courier New',monospace\">Total Batches 6/10 Loss 0.4262987971305847\n",
       "</pre>\n"
      ],
      "text/plain": [
       "Total Batches 6/10 Loss 0.4262987971305847\n"
      ]
     },
     "metadata": {},
     "output_type": "display_data"
    },
    {
     "data": {
      "text/html": [
       "<pre style=\"white-space:pre;overflow-x:auto;line-height:normal;font-family:Menlo,'DejaVu Sans Mono',consolas,'Courier New',monospace\">Total Batches 8/10 Loss 0.4664831757545471\n",
       "</pre>\n"
      ],
      "text/plain": [
       "Total Batches 8/10 Loss 0.4664831757545471\n"
      ]
     },
     "metadata": {},
     "output_type": "display_data"
    },
    {
     "data": {
      "text/html": [
       "<pre style=\"white-space:pre;overflow-x:auto;line-height:normal;font-family:Menlo,'DejaVu Sans Mono',consolas,'Courier New',monospace\">Total Batches 10/10 Loss 0.398039311170578\n",
       "</pre>\n"
      ],
      "text/plain": [
       "Total Batches 10/10 Loss 0.398039311170578\n"
      ]
     },
     "metadata": {},
     "output_type": "display_data"
    },
    {
     "data": {
      "text/html": [
       "<pre style=\"white-space:pre;overflow-x:auto;line-height:normal;font-family:Menlo,'DejaVu Sans Mono',consolas,'Courier New',monospace\"></pre>\n"
      ],
      "text/plain": []
     },
     "metadata": {},
     "output_type": "display_data"
    },
    {
     "data": {
      "text/html": [
       "<pre style=\"white-space:pre;overflow-x:auto;line-height:normal;font-family:Menlo,'DejaVu Sans Mono',consolas,'Courier New',monospace\">\n",
       "</pre>\n"
      ],
      "text/plain": [
       "\n"
      ]
     },
     "metadata": {},
     "output_type": "display_data"
    }
   ],
   "source": [
    "def filter_fn(filter, trainer):\n",
    "    return filter.num_called % 2 == 0\n",
    "\n",
    "@Trainer.on(Event.on_before_backward(filter_fn=filter_fn))\n",
    "def print_loss_filter(trainer, outputs):\n",
    "    print(\"Total Batches {}/{} Loss {}\".format(\n",
    "        trainer.global_forward_batches + 1, trainer.n_batches,\n",
    "        outputs['loss'].item()))\n",
    "\n",
    "trainer_on_filter = Trainer(\n",
    "    model=model, train_dataloader=train_dataloader, optimizers=adam,\n",
    "    device='cpu', n_epochs=2\n",
    ")\n",
    "trainer_on_filter.run()"
   ]
  },
  {
   "attachments": {},
   "cell_type": "markdown",
   "metadata": {},
   "source": [
    "&emsp;&emsp;需要提醒您的是，以上三个参数是互斥的，如果同时设置了多个参数，那么 `fastNLP` 会按照 `every`、`once`、`_filter_fn` 的优先顺序进行设置。\n",
    "\n",
    "&emsp;&emsp;还有一点需要注意，当代码内有多个 `Trainer` 存在时，`Trainer.on` 修饰的函数会绑定到下方距离它最近的 `Trainer` 实例上。如果您想要调整绑定的对象可以通过设置 `Trainer.on` 的 `marker` 参数来实现，这里就不赘述了，详情可以查看文档。\n",
    "\n",
    "&emsp;&emsp;删除变量并释放内存。"
   ]
  },
  {
   "cell_type": "code",
   "execution_count": 14,
   "metadata": {},
   "outputs": [
    {
     "data": {
      "text/plain": [
       "55"
      ]
     },
     "execution_count": 14,
     "metadata": {},
     "output_type": "execute_result"
    }
   ],
   "source": [
    "import gc\n",
    "\n",
    "del trainer\n",
    "del trainer_on_every\n",
    "del trainer_on_once\n",
    "del trainer_on_filter\n",
    "del model\n",
    "del adam\n",
    "\n",
    "gc.collect()"
   ]
  }
 ],
 "metadata": {
  "kernelspec": {
   "display_name": "fnlp-torch1.12",
   "language": "python",
   "name": "python3"
  },
  "language_info": {
   "codemirror_mode": {
    "name": "ipython",
    "version": 3
   },
   "file_extension": ".py",
   "mimetype": "text/x-python",
   "name": "python",
   "nbconvert_exporter": "python",
   "pygments_lexer": "ipython3",
   "version": "3.7.16"
  },
  "orig_nbformat": 4,
  "vscode": {
   "interpreter": {
    "hash": "3010f5d37653a48e7fd3d9f4db0553bca7835630a7540029411fe0ac0cd406f7"
   }
  }
 },
 "nbformat": 4,
 "nbformat_minor": 2
}
