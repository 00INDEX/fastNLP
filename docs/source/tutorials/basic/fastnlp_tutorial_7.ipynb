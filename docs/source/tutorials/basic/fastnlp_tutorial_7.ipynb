{
 "cells": [
  {
   "attachments": {},
   "cell_type": "markdown",
   "metadata": {},
   "source": [
    "# T7. 利用 Callback 和 on 实现个性化的训练过程\n",
    "\n",
    "on callbacks callback_manager monitor marker trainer_state state"
   ]
  }
 ],
 "metadata": {
  "language_info": {
   "name": "python"
  },
  "orig_nbformat": 4
 },
 "nbformat": 4,
 "nbformat_minor": 2
}
